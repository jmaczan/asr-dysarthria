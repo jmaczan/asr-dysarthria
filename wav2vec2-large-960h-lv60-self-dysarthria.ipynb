{
  "cells": [
    {
      "cell_type": "code",
      "execution_count": 1,
      "metadata": {
        "colab": {
          "base_uri": "https://localhost:8080/"
        },
        "id": "YELVqGxMxnbG",
        "outputId": "a33d8e08-da64-4279-d059-6c252e7323d9"
      },
      "outputs": [
        {
          "name": "stdout",
          "output_type": "stream",
          "text": [
            "Wed Jul 31 16:53:45 2024       \n",
            "+---------------------------------------------------------------------------------------+\n",
            "| NVIDIA-SMI 535.183.06             Driver Version: 535.183.06   CUDA Version: 12.2     |\n",
            "|-----------------------------------------+----------------------+----------------------+\n",
            "| GPU  Name                 Persistence-M | Bus-Id        Disp.A | Volatile Uncorr. ECC |\n",
            "| Fan  Temp   Perf          Pwr:Usage/Cap |         Memory-Usage | GPU-Util  Compute M. |\n",
            "|                                         |                      |               MIG M. |\n",
            "|=========================================+======================+======================|\n",
            "|   0  NVIDIA L4                      Off | 00000000:35:00.0 Off |                    0 |\n",
            "| N/A   41C    P8              16W /  72W |      0MiB / 23034MiB |      0%      Default |\n",
            "|                                         |                      |                  N/A |\n",
            "+-----------------------------------------+----------------------+----------------------+\n",
            "                                                                                         \n",
            "+---------------------------------------------------------------------------------------+\n",
            "| Processes:                                                                            |\n",
            "|  GPU   GI   CI        PID   Type   Process name                            GPU Memory |\n",
            "|        ID   ID                                                             Usage      |\n",
            "|=======================================================================================|\n",
            "|  No running processes found                                                           |\n",
            "+---------------------------------------------------------------------------------------+\n"
          ]
        }
      ],
      "source": [
        "gpu_info = !nvidia-smi\n",
        "gpu_info = '\\n'.join(gpu_info)\n",
        "if gpu_info.find('failed') >= 0:\n",
        "  print('Not connected to a GPU')\n",
        "else:\n",
        "  print(gpu_info)"
      ]
    },
    {
      "cell_type": "code",
      "execution_count": 2,
      "metadata": {
        "id": "c8eh87Hoee5d"
      },
      "outputs": [],
      "source": [
        "%%capture\n",
        "%pip install datasets>=1.18.3\n",
        "%pip install transformers==4.11.3\n",
        "%pip install torch\n",
        "%pip install torchaudio==0.10.0+cu113 -f https://download.pytorch.org/whl/cu113/torch_stable.html\n",
        "%pip install jiwer\n",
        "%pip install accelerate -U\n",
        "%pip install python-dotenv\n",
        "%pip install librosa datasets"
      ]
    },
    {
      "cell_type": "code",
      "execution_count": 3,
      "metadata": {},
      "outputs": [
        {
          "data": {
            "text/plain": [
              "True"
            ]
          },
          "execution_count": 3,
          "metadata": {},
          "output_type": "execute_result"
        }
      ],
      "source": [
        "from dotenv import load_dotenv, find_dotenv\n",
        "load_dotenv(find_dotenv()) "
      ]
    },
    {
      "cell_type": "code",
      "execution_count": 4,
      "metadata": {
        "colab": {
          "base_uri": "https://localhost:8080/",
          "height": 145,
          "referenced_widgets": [
            "73c69bca7c034a77b241416cd6bf257a",
            "00b54c04c9ae4ddd988d7d4780e9d3f8",
            "8f24541b08c549da813568295b4d04e9",
            "1e72ed34b3d941f38f33a9b9fde56bad",
            "4b1f403e37b94bc1b2ccf6f584f13de8",
            "f506104beb254ce5b922a226d88e75fc",
            "da9301d22cdf4886a62cbbd6057837c2",
            "4f0e157ba8b545f9a263a36c535dfd83",
            "55061d6fe26947b0b9dde21f6b19ea41",
            "4c5c1a4797f14523952e78ecb8f06e2f",
            "2abf66a6f8f24388b4ac277bf5d23cbe",
            "f66dabec6f5c4661a5e83a5196dffc9a",
            "31b2e1a523ac4aa98b44bcbcc819f4f1",
            "527b6a09c9444dbc8c5d4253a5894fbf",
            "376f3edd64d84bb4b3d88225ac61edf0",
            "34405f3568314dcb9285b6c32d22f5f6",
            "a7c9df194e6b40b3a6a4983ad5531193",
            "905239e4b8354d7f93f6749074e81af1",
            "5e64dc8b030b424695b24af53a91a7ef",
            "a66e994b67844d3da838fa6aa23186d5",
            "31da2b54530248a8933cc14fd8b94622",
            "54b6d80ec4594d79861a9fbe31097e28",
            "a36a14c37d2a44e4bac5244621287a23",
            "2471a70472a84eb08e983d71e4bc6d2a",
            "f4d4c6e875954c36aa3e10f0e97ee2c1",
            "d854c6e9ed044ec8a8f4c1ff5e658232",
            "ea637042deb34051b73a5ae1cb13d1c5",
            "882828978bc944aa885e13871185c32d",
            "c7129a5cae674295851885997ff7d967",
            "9c5b9c4b976c470f8e3fa4250effb819",
            "079781265c444cbfa959c5fba622503a",
            "e8e0f18cd26c4adf89402935a620e65f"
          ]
        },
        "id": "mlMSH3T3EazV",
        "outputId": "716d4570-801c-4c15-f9db-8b1460f7518e"
      },
      "outputs": [],
      "source": [
        "from huggingface_hub import notebook_login\n",
        "import os\n",
        "import huggingface_hub\n",
        "\n",
        "from huggingface_hub import HfApi, HfFolder\n",
        "\n",
        "import os\n",
        "import huggingface_hub\n",
        "\n",
        "from huggingface_hub import HfApi, HfFolder\n",
        "token=os.environ.get(\"HF_TOKEN\")\n",
        "#huggingface_hub.login(token=token,add_to_git_credential=True, new_session=False, write_permission=True)\n",
        "\n",
        "api=HfApi(token=token)\n",
        "folder = HfFolder()\n",
        "folder.save_token(token)\n",
        "\n",
        "\n",
        "\n",
        "# huggingface_hub.login(token=os.environ.get(\"HF_TOKEN\"),add_to_git_credential=True, new_session=False, write_permission=True)"
      ]
    },
    {
      "cell_type": "code",
      "execution_count": 5,
      "metadata": {
        "id": "WcR-d83OEkqb"
      },
      "outputs": [],
      "source": [
        "%%capture\n",
        "%apt install git-lfs"
      ]
    },
    {
      "cell_type": "markdown",
      "metadata": {
        "id": "kcEMQDGHm38m"
      },
      "source": [
        "TORGO"
      ]
    },
    {
      "cell_type": "code",
      "execution_count": 6,
      "metadata": {
        "id": "LVk9f7ZgDjcw"
      },
      "outputs": [],
      "source": [
        "# import pandas as pd\n",
        "# import os\n",
        "# import librosa\n",
        "\n",
        "# def data_generator(data_dir):\n",
        "#     metadata_path = os.path.join(data_dir, 'metadata.csv')\n",
        "#     metadata = pd.read_csv(metadata_path)\n",
        "\n",
        "#     for _, row in metadata.iterrows():\n",
        "#         file_path = os.path.join(data_dir, row['file_name'])\n",
        "#         transcription = row['transcription']\n",
        "#          # Load the audio file with librosa\n",
        "#         audio_data, sampling_rate = librosa.load(file_path, sr=16_000)  # Ensure the sampling rate is 16 kHz\n",
        "\n",
        "#         # Structure the audio data and sampling rate in a dictionary\n",
        "#         audio_dict = {\"array\": audio_data, \"sampling_rate\": sampling_rate}\n",
        "\n",
        "#         yield {\"audio\": audio_dict, \"path\": file_path, \"transcription\": transcription}\n",
        "\n",
        "\n",
        "# from datasets import Dataset, Features, Audio, Value\n",
        "\n",
        "# data_dir = '/content/drive/MyDrive/TORGO-big'  # Adjust this path as needed\n",
        "\n",
        "# features = Features({\n",
        "#     \"path\": Value(\"string\"),\n",
        "#     \"audio\": Audio(sampling_rate=16_000),\n",
        "#     \"transcription\": Value(\"string\")\n",
        "# })\n",
        "\n",
        "# dataset = Dataset.from_generator(\n",
        "#     generator=data_generator,\n",
        "#     features=features,\n",
        "#     gen_kwargs={\"data_dir\": data_dir}\n",
        "# )\n",
        "\n",
        "\n",
        "# # def load_audio(batch):\n",
        "# #     audio_data, _ = librosa.load(batch['path'], sr=16000)\n",
        "# #     batch[\"audio\"] = audio_data\n",
        "# #     return batch\n",
        "\n",
        "\n",
        "# # dataset = dataset.map(load_audio)\n",
        "\n",
        "# dataset = dataset.train_test_split(test_size=0.2)\n"
      ]
    },
    {
      "cell_type": "markdown",
      "metadata": {
        "id": "5Q9R6kwBm4--"
      },
      "source": [
        "UASPEECH"
      ]
    },
    {
      "cell_type": "code",
      "execution_count": 7,
      "metadata": {},
      "outputs": [
        {
          "name": "stdout",
          "output_type": "stream",
          "text": [
            "Requirement already satisfied: pyarrow in /system/conda/miniconda3/envs/cloudspace/lib/python3.10/site-packages (17.0.0)\n",
            "Requirement already satisfied: numpy>=1.16.6 in /system/conda/miniconda3/envs/cloudspace/lib/python3.10/site-packages (from pyarrow) (1.26.4)\n",
            "Note: you may need to restart the kernel to use updated packages.\n"
          ]
        }
      ],
      "source": [
        "%pip install pyarrow"
      ]
    },
    {
      "cell_type": "code",
      "execution_count": 8,
      "metadata": {},
      "outputs": [
        {
          "name": "stdout",
          "output_type": "stream",
          "text": [
            "<cyfunction concat_tables at 0x7f8b14575970>\n"
          ]
        }
      ],
      "source": [
        "# test if pyarrow works\n",
        "import pyarrow\n",
        "print(pyarrow.concat_tables)"
      ]
    },
    {
      "cell_type": "code",
      "execution_count": 9,
      "metadata": {},
      "outputs": [
        {
          "data": {
            "text/plain": [
              "'/home/zeus/miniconda3/envs/cloudspace/bin/python'"
            ]
          },
          "execution_count": 9,
          "metadata": {},
          "output_type": "execute_result"
        }
      ],
      "source": [
        "import sys\n",
        "sys.executable"
      ]
    },
    {
      "cell_type": "code",
      "execution_count": 10,
      "metadata": {
        "id": "0EN7Gcnsm6kT"
      },
      "outputs": [
        {
          "name": "stdout",
          "output_type": "stream",
          "text": [
            "Processing file: /teamspace/uploads/uaspeechall/data/test-00000-of-00007.parquet\n",
            "Processing file: /teamspace/uploads/uaspeechall/data/test-00001-of-00007.parquet\n",
            "Processing file: /teamspace/uploads/uaspeechall/data/test-00002-of-00007.parquet\n",
            "Processing file: /teamspace/uploads/uaspeechall/data/test-00003-of-00007.parquet\n",
            "Processing file: /teamspace/uploads/uaspeechall/data/test-00004-of-00007.parquet\n",
            "Processing file: /teamspace/uploads/uaspeechall/data/test-00005-of-00007.parquet\n",
            "Processing file: /teamspace/uploads/uaspeechall/data/test-00006-of-00007.parquet\n",
            "Processing file: /teamspace/uploads/uaspeechall/data/train-00000-of-00018.parquet\n",
            "Processing file: /teamspace/uploads/uaspeechall/data/train-00001-of-00018.parquet\n",
            "Processing file: /teamspace/uploads/uaspeechall/data/train-00002-of-00018.parquet\n",
            "Processing file: /teamspace/uploads/uaspeechall/data/train-00003-of-00018.parquet\n",
            "Processing file: /teamspace/uploads/uaspeechall/data/train-00004-of-00018.parquet\n",
            "Processing file: /teamspace/uploads/uaspeechall/data/train-00005-of-00018.parquet\n",
            "Processing file: /teamspace/uploads/uaspeechall/data/train-00006-of-00018.parquet\n",
            "Processing file: /teamspace/uploads/uaspeechall/data/train-00007-of-00018.parquet\n",
            "Processing file: /teamspace/uploads/uaspeechall/data/train-00008-of-00018.parquet\n",
            "Processing file: /teamspace/uploads/uaspeechall/data/train-00009-of-00018.parquet\n",
            "Processing file: /teamspace/uploads/uaspeechall/data/train-00010-of-00018.parquet\n",
            "Processing file: /teamspace/uploads/uaspeechall/data/train-00011-of-00018.parquet\n",
            "Processing file: /teamspace/uploads/uaspeechall/data/train-00012-of-00018.parquet\n",
            "Processing file: /teamspace/uploads/uaspeechall/data/train-00013-of-00018.parquet\n",
            "Processing file: /teamspace/uploads/uaspeechall/data/train-00014-of-00018.parquet\n",
            "Processing file: /teamspace/uploads/uaspeechall/data/train-00015-of-00018.parquet\n",
            "Processing file: /teamspace/uploads/uaspeechall/data/train-00016-of-00018.parquet\n",
            "Processing file: /teamspace/uploads/uaspeechall/data/train-00017-of-00018.parquet\n"
          ]
        }
      ],
      "source": [
        "# import pandas as pd\n",
        "# import os\n",
        "# import librosa\n",
        "# from datasets import Dataset\n",
        "\n",
        "# def load_parquet_directory(directory_path, use_narrow_data=False):\n",
        "#     all_dfs = []\n",
        "#     for file_name in os.listdir(directory_path):\n",
        "#         if file_name.endswith('.parquet'):\n",
        "#             file_path = os.path.join(directory_path, file_name)\n",
        "#             df = pd.read_parquet(file_path)\n",
        "#             print(\"parquet read\")\n",
        "#             all_dfs.append(df)\n",
        "#             if use_narrow_data:\n",
        "#               break\n",
        "\n",
        "#     return pd.concat(all_dfs, ignore_index=True)\n",
        "\n",
        "# def convert_dataframe_to_dataset(dataframe):\n",
        "#     return Dataset.from_pandas(dataframe)\n",
        "\n",
        "\n",
        "# # def load_audio(batch):\n",
        "# #     audio_data, _ = librosa.load(batch['path'], sr=16000)\n",
        "# #     batch[\"audio\"] = audio_data\n",
        "# #     return batch\n",
        "\n",
        "\n",
        "# # dataset = dataset.map(load_audio)\n",
        "# directory_path = '/teamspace/uploads/uaspeechall/data' # Update this path\n",
        "# df = load_parquet_directory(directory_path, use_narrow_data=False)\n",
        "\n",
        "# print(\"parquet loaded\")\n",
        "# dataset = convert_dataframe_to_dataset(df)\n",
        "\n",
        "###### OTHER WAY\n",
        "\n",
        "\n",
        "# import pyarrow.parquet as pq\n",
        "# from datasets import Dataset\n",
        "# import glob\n",
        "\n",
        "# def load_memory_mapped_dataset(directory_path):\n",
        "#     # Get all parquet files in the directory\n",
        "#     parquet_files = glob.glob(f'{directory_path}/*.parquet')\n",
        "    \n",
        "#     # Read the parquet files using memory mapping\n",
        "#     tables = [pq.read_table(file, memory_map=True) for file in parquet_files]\n",
        "    \n",
        "#     # Concatenate all tables\n",
        "#     combined_table = pyarrow.concat_tables(tables)\n",
        "    \n",
        "#     # Convert to a Dataset object\n",
        "#     return Dataset(pyarrow.Table.from_batches(combined_table.to_batches()))\n",
        "\n",
        "# # Load the dataset\n",
        "# dataset = load_memory_mapped_dataset('/teamspace/uploads/uaspeechall/data')\n",
        "\n",
        "####### YET ANOTHER WAY\n",
        "import pyarrow.parquet as pq\n",
        "from datasets import Dataset, concatenate_datasets\n",
        "import glob\n",
        "import pyarrow as pa\n",
        "\n",
        "def chunk_generator(table, chunk_size=10000):\n",
        "    num_rows = table.num_rows\n",
        "    for i in range(0, num_rows, chunk_size):\n",
        "        yield table.slice(i, min(chunk_size, num_rows - i)).to_batches()[0]\n",
        "\n",
        "def process_parquet_files(directory_path, chunk_size=10000):\n",
        "    parquet_files = glob.glob(f'{directory_path}/*.parquet')\n",
        "    for file in parquet_files:\n",
        "        print(f\"Processing file: {file}\")\n",
        "        table = pq.read_table(file, memory_map=True)\n",
        "        for chunk in chunk_generator(table, chunk_size):\n",
        "            yield Dataset(pa.Table.from_batches([chunk]))\n",
        "\n",
        "# Usage\n",
        "directory_path = '/teamspace/uploads/uaspeechall/data'\n",
        "all_datasets = []\n",
        "\n",
        "for chunk_dataset in process_parquet_files(directory_path):\n",
        "    # Process each chunk here\n",
        "    # For example, you can apply your transformations:\n",
        "    # transformed_chunk = chunk_dataset.map(your_transform_function)\n",
        "    all_datasets.append(chunk_dataset)\n",
        "# Combine all chunks into a single dataset\n",
        "dataset = concatenate_datasets(all_datasets)\n"
      ]
    },
    {
      "cell_type": "code",
      "execution_count": 11,
      "metadata": {
        "colab": {
          "base_uri": "https://localhost:8080/"
        },
        "id": "RB7FFcevLuFW",
        "outputId": "074df75d-99f2-4254-896c-93eeb6db8825"
      },
      "outputs": [
        {
          "data": {
            "text/plain": [
              "Dataset({\n",
              "    features: ['audio', 'speaker_id', 'transcription'],\n",
              "    num_rows: 2500\n",
              "})"
            ]
          },
          "execution_count": 11,
          "metadata": {},
          "output_type": "execute_result"
        }
      ],
      "source": [
        "dataset"
      ]
    },
    {
      "cell_type": "code",
      "execution_count": 12,
      "metadata": {
        "colab": {
          "base_uri": "https://localhost:8080/"
        },
        "id": "rkMZdMhnw3ai",
        "outputId": "a5849e76-c725-4481-860d-c1e534558ca9"
      },
      "outputs": [
        {
          "name": "stdout",
          "output_type": "stream",
          "text": [
            "Requirement already satisfied: torchvision in /system/conda/miniconda3/envs/cloudspace/lib/python3.10/site-packages (0.17.1+cu121)\n",
            "Requirement already satisfied: torchaudio in /system/conda/miniconda3/envs/cloudspace/lib/python3.10/site-packages (2.2.1)\n",
            "Requirement already satisfied: pydub in /system/conda/miniconda3/envs/cloudspace/lib/python3.10/site-packages (0.25.1)\n",
            "Requirement already satisfied: numpy in /system/conda/miniconda3/envs/cloudspace/lib/python3.10/site-packages (from torchvision) (1.26.4)\n",
            "Requirement already satisfied: torch==2.2.1 in /system/conda/miniconda3/envs/cloudspace/lib/python3.10/site-packages (from torchvision) (2.2.1)\n",
            "Requirement already satisfied: pillow!=8.3.*,>=5.3.0 in /system/conda/miniconda3/envs/cloudspace/lib/python3.10/site-packages (from torchvision) (10.4.0)\n",
            "Requirement already satisfied: filelock in /system/conda/miniconda3/envs/cloudspace/lib/python3.10/site-packages (from torch==2.2.1->torchvision) (3.15.4)\n",
            "Requirement already satisfied: typing-extensions>=4.8.0 in /system/conda/miniconda3/envs/cloudspace/lib/python3.10/site-packages (from torch==2.2.1->torchvision) (4.12.2)\n",
            "Requirement already satisfied: sympy in /system/conda/miniconda3/envs/cloudspace/lib/python3.10/site-packages (from torch==2.2.1->torchvision) (1.13.0)\n",
            "Requirement already satisfied: networkx in /system/conda/miniconda3/envs/cloudspace/lib/python3.10/site-packages (from torch==2.2.1->torchvision) (3.3)\n",
            "Requirement already satisfied: jinja2 in /system/conda/miniconda3/envs/cloudspace/lib/python3.10/site-packages (from torch==2.2.1->torchvision) (3.1.4)\n",
            "Requirement already satisfied: fsspec in /system/conda/miniconda3/envs/cloudspace/lib/python3.10/site-packages (from torch==2.2.1->torchvision) (2024.5.0)\n",
            "Requirement already satisfied: nvidia-cuda-nvrtc-cu12==12.1.105 in /system/conda/miniconda3/envs/cloudspace/lib/python3.10/site-packages (from torch==2.2.1->torchvision) (12.1.105)\n",
            "Requirement already satisfied: nvidia-cuda-runtime-cu12==12.1.105 in /system/conda/miniconda3/envs/cloudspace/lib/python3.10/site-packages (from torch==2.2.1->torchvision) (12.1.105)\n",
            "Requirement already satisfied: nvidia-cuda-cupti-cu12==12.1.105 in /system/conda/miniconda3/envs/cloudspace/lib/python3.10/site-packages (from torch==2.2.1->torchvision) (12.1.105)\n",
            "Requirement already satisfied: nvidia-cudnn-cu12==8.9.2.26 in /system/conda/miniconda3/envs/cloudspace/lib/python3.10/site-packages (from torch==2.2.1->torchvision) (8.9.2.26)\n",
            "Requirement already satisfied: nvidia-cublas-cu12==12.1.3.1 in /system/conda/miniconda3/envs/cloudspace/lib/python3.10/site-packages (from torch==2.2.1->torchvision) (12.1.3.1)\n",
            "Requirement already satisfied: nvidia-cufft-cu12==11.0.2.54 in /system/conda/miniconda3/envs/cloudspace/lib/python3.10/site-packages (from torch==2.2.1->torchvision) (11.0.2.54)\n",
            "Requirement already satisfied: nvidia-curand-cu12==10.3.2.106 in /system/conda/miniconda3/envs/cloudspace/lib/python3.10/site-packages (from torch==2.2.1->torchvision) (10.3.2.106)\n",
            "Requirement already satisfied: nvidia-cusolver-cu12==11.4.5.107 in /system/conda/miniconda3/envs/cloudspace/lib/python3.10/site-packages (from torch==2.2.1->torchvision) (11.4.5.107)\n",
            "Requirement already satisfied: nvidia-cusparse-cu12==12.1.0.106 in /system/conda/miniconda3/envs/cloudspace/lib/python3.10/site-packages (from torch==2.2.1->torchvision) (12.1.0.106)\n",
            "Requirement already satisfied: nvidia-nccl-cu12==2.19.3 in /system/conda/miniconda3/envs/cloudspace/lib/python3.10/site-packages (from torch==2.2.1->torchvision) (2.19.3)\n",
            "Requirement already satisfied: nvidia-nvtx-cu12==12.1.105 in /system/conda/miniconda3/envs/cloudspace/lib/python3.10/site-packages (from torch==2.2.1->torchvision) (12.1.105)\n",
            "Requirement already satisfied: triton==2.2.0 in /system/conda/miniconda3/envs/cloudspace/lib/python3.10/site-packages (from torch==2.2.1->torchvision) (2.2.0)\n",
            "Requirement already satisfied: nvidia-nvjitlink-cu12 in /system/conda/miniconda3/envs/cloudspace/lib/python3.10/site-packages (from nvidia-cusolver-cu12==11.4.5.107->torch==2.2.1->torchvision) (12.5.82)\n",
            "Requirement already satisfied: MarkupSafe>=2.0 in /system/conda/miniconda3/envs/cloudspace/lib/python3.10/site-packages (from jinja2->torch==2.2.1->torchvision) (2.1.5)\n",
            "Requirement already satisfied: mpmath<1.4,>=1.1.0 in /system/conda/miniconda3/envs/cloudspace/lib/python3.10/site-packages (from sympy->torch==2.2.1->torchvision) (1.3.0)\n"
          ]
        }
      ],
      "source": [
        "!pip install torchvision torchaudio pydub"
      ]
    },
    {
      "cell_type": "code",
      "execution_count": 16,
      "metadata": {
        "colab": {
          "base_uri": "https://localhost:8080/"
        },
        "id": "rULPlw6Qy8O2",
        "outputId": "dd32972a-5585-4bcd-be42-ef245ca1c92a"
      },
      "outputs": [
        {
          "name": "stdout",
          "output_type": "stream",
          "text": [
            "dict_keys(['path', 'array', 'sampling_rate'])\n"
          ]
        }
      ],
      "source": [
        "print(dataset[0][\"audio\"].keys())"
      ]
    },
    {
      "cell_type": "code",
      "execution_count": null,
      "metadata": {},
      "outputs": [],
      "source": [
        "# # Perhaps not needed at all\n",
        "\n",
        "# import numpy as np\n",
        "\n",
        "# def convert_audio_format(batch):\n",
        "#     audio_data = batch[\"audio\"]\n",
        "    \n",
        "#     # The audio data is already in the correct format\n",
        "#     audio_array = np.array(audio_data[\"array\"]).astype(np.float32)\n",
        "#     sampling_rate = audio_data[\"sampling_rate\"]\n",
        "\n",
        "#     # Update the audio dictionary (this step might be unnecessary if the data is already in the correct format)\n",
        "#     batch[\"audio\"] = {\"array\": audio_array, \"sampling_rate\": sampling_rate}\n",
        "#     return batch\n",
        "\n",
        "# # Apply the conversion function to the dataset\n",
        "# dataset = dataset.map(convert_audio_format)"
      ]
    },
    {
      "cell_type": "code",
      "execution_count": 17,
      "metadata": {
        "id": "x2Tnx-_CqTzh"
      },
      "outputs": [],
      "source": [
        "dataset = dataset.train_test_split(test_size=0.2)"
      ]
    },
    {
      "cell_type": "code",
      "execution_count": 18,
      "metadata": {
        "id": "2MMXcWFFgCXU"
      },
      "outputs": [],
      "source": [
        "from datasets import load_dataset, load_metric, Audio\n",
        "\n",
        "train_dataset = dataset[\"train\"]\n",
        "test_dataset = dataset[\"test\"]"
      ]
    },
    {
      "cell_type": "code",
      "execution_count": 19,
      "metadata": {
        "colab": {
          "base_uri": "https://localhost:8080/"
        },
        "id": "xE3rKtghu_zE",
        "outputId": "28b24740-6a9e-4703-e635-4af4b9b4acc1"
      },
      "outputs": [
        {
          "data": {
            "text/plain": [
              "{'audio': {'path': 'M11_B3_CW59_M8.wav',\n",
              "  'array': array([ 3.96728516e-04,  7.01904297e-04,  3.66210938e-04, ...,\n",
              "          6.10351562e-05, -3.05175781e-05,  0.00000000e+00]),\n",
              "  'sampling_rate': 16000},\n",
              " 'speaker_id': 'M11_B3_CW59_M8',\n",
              " 'transcription': 'so'}"
            ]
          },
          "execution_count": 19,
          "metadata": {},
          "output_type": "execute_result"
        }
      ],
      "source": [
        "train_dataset[0]"
      ]
    },
    {
      "cell_type": "markdown",
      "metadata": {
        "id": "Go9Hq4e4NDT9"
      },
      "source": [
        "Let's write a short function to display some random samples of the dataset and run it a couple of times to get a feeling for the transcriptions."
      ]
    },
    {
      "cell_type": "code",
      "execution_count": 20,
      "metadata": {},
      "outputs": [
        {
          "name": "stdout",
          "output_type": "stream",
          "text": [
            "Requirement already satisfied: ipywidgets in /system/conda/miniconda3/envs/cloudspace/lib/python3.10/site-packages (8.1.1)\n",
            "Requirement already satisfied: comm>=0.1.3 in /system/conda/miniconda3/envs/cloudspace/lib/python3.10/site-packages (from ipywidgets) (0.2.2)\n",
            "Requirement already satisfied: ipython>=6.1.0 in /system/conda/miniconda3/envs/cloudspace/lib/python3.10/site-packages (from ipywidgets) (8.17.2)\n",
            "Requirement already satisfied: traitlets>=4.3.1 in /system/conda/miniconda3/envs/cloudspace/lib/python3.10/site-packages (from ipywidgets) (5.14.3)\n",
            "Requirement already satisfied: widgetsnbextension~=4.0.9 in /system/conda/miniconda3/envs/cloudspace/lib/python3.10/site-packages (from ipywidgets) (4.0.11)\n",
            "Requirement already satisfied: jupyterlab-widgets~=3.0.9 in /system/conda/miniconda3/envs/cloudspace/lib/python3.10/site-packages (from ipywidgets) (3.0.11)\n",
            "Requirement already satisfied: decorator in /system/conda/miniconda3/envs/cloudspace/lib/python3.10/site-packages (from ipython>=6.1.0->ipywidgets) (5.1.1)\n",
            "Requirement already satisfied: jedi>=0.16 in /system/conda/miniconda3/envs/cloudspace/lib/python3.10/site-packages (from ipython>=6.1.0->ipywidgets) (0.19.1)\n",
            "Requirement already satisfied: matplotlib-inline in /system/conda/miniconda3/envs/cloudspace/lib/python3.10/site-packages (from ipython>=6.1.0->ipywidgets) (0.1.7)\n",
            "Requirement already satisfied: prompt-toolkit!=3.0.37,<3.1.0,>=3.0.30 in /system/conda/miniconda3/envs/cloudspace/lib/python3.10/site-packages (from ipython>=6.1.0->ipywidgets) (3.0.47)\n",
            "Requirement already satisfied: pygments>=2.4.0 in /system/conda/miniconda3/envs/cloudspace/lib/python3.10/site-packages (from ipython>=6.1.0->ipywidgets) (2.18.0)\n",
            "Requirement already satisfied: stack-data in /system/conda/miniconda3/envs/cloudspace/lib/python3.10/site-packages (from ipython>=6.1.0->ipywidgets) (0.6.3)\n",
            "Requirement already satisfied: exceptiongroup in /system/conda/miniconda3/envs/cloudspace/lib/python3.10/site-packages (from ipython>=6.1.0->ipywidgets) (1.2.1)\n",
            "Requirement already satisfied: pexpect>4.3 in /system/conda/miniconda3/envs/cloudspace/lib/python3.10/site-packages (from ipython>=6.1.0->ipywidgets) (4.9.0)\n",
            "Requirement already satisfied: parso<0.9.0,>=0.8.3 in /system/conda/miniconda3/envs/cloudspace/lib/python3.10/site-packages (from jedi>=0.16->ipython>=6.1.0->ipywidgets) (0.8.4)\n",
            "Requirement already satisfied: ptyprocess>=0.5 in /system/conda/miniconda3/envs/cloudspace/lib/python3.10/site-packages (from pexpect>4.3->ipython>=6.1.0->ipywidgets) (0.7.0)\n",
            "Requirement already satisfied: wcwidth in /system/conda/miniconda3/envs/cloudspace/lib/python3.10/site-packages (from prompt-toolkit!=3.0.37,<3.1.0,>=3.0.30->ipython>=6.1.0->ipywidgets) (0.2.13)\n",
            "Requirement already satisfied: executing>=1.2.0 in /system/conda/miniconda3/envs/cloudspace/lib/python3.10/site-packages (from stack-data->ipython>=6.1.0->ipywidgets) (2.0.1)\n",
            "Requirement already satisfied: asttokens>=2.1.0 in /system/conda/miniconda3/envs/cloudspace/lib/python3.10/site-packages (from stack-data->ipython>=6.1.0->ipywidgets) (2.4.1)\n",
            "Requirement already satisfied: pure-eval in /system/conda/miniconda3/envs/cloudspace/lib/python3.10/site-packages (from stack-data->ipython>=6.1.0->ipywidgets) (0.2.2)\n",
            "Requirement already satisfied: six>=1.12.0 in /system/conda/miniconda3/envs/cloudspace/lib/python3.10/site-packages (from asttokens>=2.1.0->stack-data->ipython>=6.1.0->ipywidgets) (1.16.0)\n",
            "Note: you may need to restart the kernel to use updated packages.\n"
          ]
        }
      ],
      "source": [
        "%pip install ipywidgets"
      ]
    },
    {
      "cell_type": "code",
      "execution_count": 21,
      "metadata": {},
      "outputs": [],
      "source": [
        "# import soundfile as sf\n",
        "# import numpy as np\n",
        "\n",
        "# def save_audio_samples(dataset, num_samples=5):\n",
        "#     for i in range(num_samples):\n",
        "#         index = np.random.randint(0, len(dataset))\n",
        "#         example = dataset[index]\n",
        "#         audio_data = example[\"audio\"]\n",
        "        \n",
        "#         if isinstance(audio_data, dict) and \"array\" in audio_data and \"sampling_rate\" in audio_data:\n",
        "#             audio_array = audio_data[\"array\"]\n",
        "#             sampling_rate = audio_data[\"sampling_rate\"]\n",
        "            \n",
        "#             filename = f\"audio_sample_{i}.wav\"\n",
        "#             sf.write(filename, audio_array, sampling_rate)\n",
        "#             print(f\"Saved {filename}\")\n",
        "#             print(f\"Transcription: {example['transcription']}\")\n",
        "#             print(f\"Speaker ID: {example['speaker_id']}\")\n",
        "#             print(\"=\"*50)\n",
        "\n",
        "# # Use the function\n",
        "# save_audio_samples(train_dataset, num_samples=5)"
      ]
    },
    {
      "cell_type": "code",
      "execution_count": 22,
      "metadata": {
        "colab": {
          "base_uri": "https://localhost:8080/"
        },
        "id": "72737oog2F6U",
        "outputId": "10c7688c-287a-42e3-e1f6-a16b1ac79309"
      },
      "outputs": [
        {
          "name": "stdout",
          "output_type": "stream",
          "text": [
            "Example 1:\n",
            "Transcription: at\n",
            "Speaker ID: F04_B1_CW21_M4\n",
            "Audio length: 2.05 seconds\n",
            "Audio saved as: audio_sample_0.wav\n"
          ]
        },
        {
          "data": {
            "text/html": [
              "\n",
              "                <audio  controls=\"controls\" >\n",
              "                    <source src=\"data:audio/wav;base64,UklGRlAAAQBXQVZFZm10IBAAAAABAAEAgD4AAAB9AAACABAAZGF0YSwAAQD+//7//v/+//3//v/8//3/+//9//3//v////T/9f/3//b/9//5//f/+P/6//n/+v/y//L/9//1/+3/8P/7//r/AQD5/wEA+P/3//3/+P/2/+v/8//w/+3/8f/0/+n/7//v/+L/9f/p//D/BQAIAAcACwAJAPr/+f/i//z/EQAkAEMAHwAzADoANgBiAGgAeACHAIcAagAeAOz/3f/D/67/uf/X/9P/1P8SAPr/CwBFAAsAIwBmAEIAAQD8/wIA9P8PAAoASwCmAMEAeQBTAGkA//8AAA8AOgBoADcAUgAxAOT/ov+M/3f/X/9z/4L/lf/I/9T/2P85AFUAZABdADwAGADa/9D/lP9j/x//3P4c/1v/TP+T/9//CwCTAJwAaQA4ABAAAACQ/1r/j//Z/6z/vf8dAAoAsP9X/6z/af8z/3r/KP9X/x3/Wv8ZAOD/IgAFAPP//f9i/8P/PwAAALT/y//p/x4AFQDa/zwARwAPADEAIQANABYAwf8eAFoARQChALoA2ADMAMQAzgDeAMEA6QAmAcIAaQBfAFUADAABAAkALQBfAP//IwAzANP/7/+l/9j/y/+M/9D/f/9j/x//S/+A/0f/bP/A/wEA+v8uABYAKQCpAIoAkwCxAK4ApwCDAMgARwAiAKUATQAGABwAHADb/yQAmQCsAJQAiAA1ABoAjgCrAMsAtwCoAGsALQD4/6L/1f+y/8D/t/+F/9j/0P+M/5T/nv91/6f/sf/V/8//ef9S/y7/jf/y/xUAvP+3/7n/x/8MANj/AwDt/5L/Z/9q/yb/J/8q/0b/n/96/1//Bv+7////DgB7AC8AtwBTAL3/yP9y/1v/Kf9d/57/Uf8+/y3/Ov9f/4r/3P/x/xAA+f/f/9L/0//y/yEABgAMAGMAz//7/w8A1v8YALb/sv+v/9//0/+v/yUAegCLAJQA4ABdAB0AXAAgAEYAMAD1//f/nP+B/8X/wf/K//3/GQC0/8z/PgAhAFIAlADDAJYAeACiAHwAjABlACEANwBGAOf/9v9ZABEAFAAKANz/EQA2AIYAwgDqABQB2AB4AGkAoAC6ALkAjAAoAAoA8f/g/9f/1/85AC4AGADx/+D/IgD2/ygAZwBUACUARAAfAAoAUQAXAAwAv//Z/9r/0P8DAL7/qP+x//H/yv/0/w4A7v9MAF0AOAA1AHUAeQBVAFsA8v+X/8v/wf/b/7f/uP/t/43/tP9z/zP/jP+F/8j/DgDI/7f/iP9w/2z/W//t/6f/3f8AALT/LACz/+b/sv+G/xIA5/8MAMr/uP+U/4X/sP91/5X/hP+I/6X/aP/N/x4AFQCGAD0AMQBXAMX/uP+2/4D/sP+s/6j/GgDm/7z/3f/y/+L/nf+o/7X/6//C/3n/ff+X/5P/pv/r/9b/+P/6/8b/t//R/87/u//v/7D/wv/0//n/GgDs/xAA8P8DADoANwCeAIQAZgCdAIEARABBAD8AVABhAHIAewAkAP7/8/83ACsADgA8AGMAlgBHAEEA8P/2/y4Akf+U/8P///8IAO3/8P+2/9b/yf/g/xYACQDx/6T/qP/B/8z/yP8HADwAIwBoAHoAaQBZAE8AWgAsAC4AXgCUAMAAVgAtACQACQBlAGwAeACHAHQASQBhAGAAeADrALcA3gDXAHMAiwBEAAcAWABOADQAPAAHAL//pP/E//L/6/+//9r/if+n/9z/z/8YAAAAIwAdAPz/4f+z/73/9v8BAAwALwDt//T/DQAgAAkADgBAAAMABgDm/63/vv/l/ygA/P/M//b/5P+k/5n/fv9k/3r/WP9j/0//RP9+/33/mf+r/9D/yf+u/3f/gP/B/6//zv/M//n/7v////P/jv/W/7b/AQA0APf/AwDa/9v/t/+0/7//+//H/53/GQARAEEANQDt/zAAdABMABsAEwAGAAQA1v/Y/97/0P/b/9j/p//4/zUAEgAwAPb/JgAlAAAAKgA4ABIA7f/m/8X/7/+8/9L/2f/d//j/5P///+n/FgD9/xMABgDm/+j/FQAVAOP/JACs/7b/1f/Q/5//P/9w/3D/gP+k/9v/4/8LAAEA3//G/5X/4f/z/8//6f8iAB4ACAApAGEAYAA+AAsAEgD6/8z/BgARACwALwBUAHwAigCHAI0AmQBoADYAJQBNAEAAYQBcAJwAcwAXAF4AFAAWACkAMgBMADQARQAzAC8AWwAxACcAOQBCAFEAJQBPAC4AEgAeAP//+v/y/zQARQABABQANgAgADsALQAYAPb/BAAsAAIADQATADcARwBMAFkAQQAwAEgAMgArAD4A/P9GAFcAPAAwAAwAMAAmAEEAEgAOAPf/x/8NAPz/4//L/73/mP9//6v/qP+T/6P/yf/n//X/6P/r/9T/sf+x/6z/mv+g/7j/m/9U/0v/f/9z/6//uP+X/87/uv+r/0r/OP95/1z/hf9t/4j/8v/R/7b/j/+M/6f/jP+1/9r/zv+f/7P/rv+Z/6v/nP/Q/4j/nP+x/33/0//Q//n/HABhAGYAIgAgAPX/9v/1/w8AHAAZAAkA2P/P/9z/+P/6/yYACQAcABMAy//s/9//LQBdAHAAQgAFAEoAQQAhABkANgAaACEABADe/wQAzP8OACQAGAAoAD0ATwAVAA8AIABAADoAbABtAFAAdAA9ADUAQgBVAGgAbABVAC8ASwBBAFcARwA0AIoAXQA2ABkAAQAIAPD/MQAIAPX/DQAWACMA6/8cAAQA5/8PAPz/9P/K/5j/s//s/wkAFgAMACYAJAACAPX/+v8vABIA8v/+/+z//P8FABkAIwAWADwALwAYAD8AWgCAAG8AUwBJACIAQAAUAPj/KAD+/xoAJQAKAPj/yv/x//D/5P/4/9b/6f8VAA0AJgAbABUACADS/+L/4P/h/+z/5v/1/wYAAwDg/7v/rf+//6H/r//R/8r/1f+5/7//sf/X/+L/r//W/9P/1//F/+X/+f/O/xAA8f/X/6//iP+k/4X/rv+O/3P/pv+f/5X/nf+w/9H/9/8DABIABAALAAAA6v/c/9r/DwDK/97/CwDV/9z/t//m/yAANQBMAE8ARgAlAB0AFwD8/wsAUgA1ADAAGQDd/wYA8//4/0QAJgAYACoA0//b/77/tP/y/9n/KgAHAOr/8//0/wEA/P9iAB0A8//7//X/5v/U/xUAIQBMAFQARgAjACsASQA6AFsAWgBvAGcAQAAlAB4AIwAlADsAOAA+ADIAKgD+//z/6f/H/+j/7/84AC4AEAAcAPH/CgD+/xsAXQA2ADcANQAJAPf/3f/k/+j/8//s/wYAAwDs//r/tv/r/+7/rv/Z/8r/4v/c/9j/DwDa/9z/MAD3/93/CgDt/wsAHgAGAOH/x/8BAOz/2//Z/9z/9//W/93/4v8MAA8AFgAfACEAIgDo//D/xf/a/+P/+P8SAPX/HADw/+T/6f/1/w4AJAA/ADkAIABAAF0AHgAqACEADgAUAAoA6P/s/w8A5f/x//f/+/8yAD8AIgA/ABEA7v8lAP3/FwAlACkACADk/wUAz//u/wAABgD//8j/wP+r/9f/5//m/+7/xP/b//P/0P/Q/+j/2P/j/9T/z//e/9f/GAD//+H/5f/O/93/v//F/+D/6//2/xIAFQAMAO//2v/3/+j/+P/4/wIA8v/f/9//x//q/9n/6f/t/wUAKQAIACwAHgAXAEQALAARACwALgAuAA8A/f8HAPz/6//X/wUAFgAjADIAOQAfAAUAIAAXAD0AOwA8AC4A4P/r/+P/0P/x/xsAFwD8/9X/0P/u//H/CwAHABYAIwAGAPj/2P/I/9j//P8DAPr/+v/w//P/3f+2/8L/+/8FAAMA///I/9n/9//u/+3/4P/n/+T/9P///wMADQAGAB8AGwAdABMACwD9/9//7P/Z/+7/7f8BABgA/f8EAAAAAQDT//P/EgDj//v/CAAPAPj/9f8WAP//BAAIAOj/0//Y//f/4P/k/wYADQAkAA8AAQD7/wcAAADx//L/+P/v/+T/DgD7/wUAEQAcAC4A//8MAPn/6v/5/+H/6P/o/+7/7//s/wsAEQAiADMAHgAZABQAGAANABMAHAASABkACwAEANv/4P/s//b/BwAUACUA+f8AAAEACQASABQAMAAsACIACAARAPr/2//q/9b/1f/T/9b/5P/s/+H/8P8SAPb/AAANAA0AGQAQAAUA+f8FAO3/7v8ZACcAJwAoACQA/v8HAAcA+v8AAPj//P/n/+//+P/s/+L//f8MAPH/CAAGAAgACADz/w8A8P/4/xMAAQD4/+b/6v/Z/9r/3v/Y/9r/3//h/9f/1f/D/8z/w//W/+j/0//r/+7/1v/O/8n/wf/Q/9H/3P/a/93/+P/f//X/BwD//xQADQD1/+n/3//P/8X/3v/k/+D/BwACAAAAAAAFAAkA9v8PABIAFQALAAYA9P/f/wMA8f/n/+7/6f/l/+r/AAAQAB0ADgAIAAYAEwAdABcAGgATABkAHQAKABIAFwAIAC4AMgAZABkAGwAOAP//BAD0/xYAHwAPABkAFQAaABAAEwAhACIAHQAeABIAFQANAAMAAAD3//3/9P8RAAwABgABAPn/CwDu/wUACwAHABAABwAQAAQAEQAjABEAAwAQAAIA/P8GAPv/AgD8////8v/v/w4A/v/6//n/5v/m/+j/+f/3//H/8//q//P/2//O/9j/yv/Q/9//9//s/+z/9v/Z/9z/6//n/+f/9//q/+X/3v/W/9f/u/+9/8f/2//t/+v/6v/q/////P/1/wUAAQD///f//v8HAP3/CADz//L/AADr//T/BwAIAPz/EgAPAPz/DQANAP7/9/8IAAQABgAPAAUACAAIAAEABAD2//n/AQAJAAcABQAKAAMACQAIAAUAAgACAAIACwASABQADwAHAB4AGQAYABoAEwAdABwANAAtAC0AJwAXAAIA+/8dAAkABAADAAMAHQAFAPX/+v/2//v/9v/w/+v/7f/i/9n/1P/X//L/6//f/+v/4//c/+D/+P/1//j/DwD4//f/8//8//r/7/8EAPj/9//z//X/AwD4//z/DQAAAO//AQD4/+3/5//w/+7/5P/w/+n//v/3/wMAAwD8/xEADwADAO//9v/y/+b/5P/X/9b/1//d/+b/2//w/wMA+f8KAAUABwAhAB0ADgAMAAcAAwAFAPz/AAD8//f//f8QABcADwASAB4AKgAgABgAJAAIAOn/+P/j/+//+P/z//z/9P/5/wAAAgDv/wMADwAMABcABgACAAMABgABAAUADQAUABcACgAXABwAFwASAA0ACAD+//7/BQD1//X/+f/u//P/9v/8//b/AgAJAAwAFQALAAUA+//v//z/+P/0//7/8f/s/97/1v/g/93/4v/x//L/8P8EAAAA/P/7/wMAAgD3/xIA8v/w/wEA+P/7//b//f8NAA0ADAATABIADwAQABAADgAHAAMAAAD8/wEABgAGAP3//f/8//f/AwD+/wAABwAJAAkA/P8MAAQABQAIAAgAEwAYABwABQALAA4A/f8CAP7/9v/7//n/8f/t//n/BgD8/wcADgD8//f/AwD2/+//8v/m/+//4v/3//X/+f8MAP7/BAD1/wcA/f/z/wEA7//1//T/8v/4//T//P/2/+7/6f/m//f/8//r//v/+v/8//X/7//6//X//P////v/9//4/+v/3f/l/+j/7f/0////+f/y//X/8f/t/+7/+//v//X/+P/r/+//5v/n/+j/7P/3//7/BAAJAAgAAgD9//T/+//+/wEAAAD+/wMAAQAAAPD/6f/u/+7/9//0/+7//P/6//r/AgAKAAwAAgADAPr//f8HAP7/BgACAPj/AwD6//b/+v8BAAgACgAZABgAHgAbABEAFAANAAwAEAAVAAUABAD+//P/9//9/w0ADQAPABMADAAJAAsADQAOAAcADwAMAAQA/P/8/wUA/f8FAAIABgANAAkADgAIABUAEQAGAAkA/f///wsACAAPACQADgANAAsA9P8DAP3/AAANAAgACgADAAQA/v/0/wIA///6//P/+f/0//L//v/v//X/8//y//n/8//2//j/7f/k/+v/6v/q/+3/8P/y/+v/8v/u/+f/5//x//3/9v/r//X/9P/j/+z/6v/l/9//5v/l/9z/6//2//P/5P/v//P/6//k/+b/8//u//L/8f/z//D/7//p/97/8P/4//b//P/5//j/+v/0//j/BwAEAAMADgADAPT/9v/5////+v8BAP7/+P8EAPr/AwAAAPv/DQAJAAEAAAABAPn/+P/2//z/AgABAP7/+P8EAPr/+f/6//7/AAD3//b/4v/v//T/8/8AAPf/BAAIAPn////+//n/AwAEAAQA/v8IAAYA8f/2//P/+f/4/wAACAADAAMAAAAGAAYACQATAAoACgANABEABwAIAAsAAwAAAAAACAD4//3/CwAHAA4AEgAVAAwADgAPABEADgAGAA8A/v8GAA8AAwABAAUACQAIAAoABgAIAPj/AAACAAIAAwAGABMACgANAAMABAD9/wYAEAAJABMABAAGAPv////+//T/+//8/wgA+//+/wAA/P/3//f//P/t//f/8//t/+3/+P/4/+3/9f/w/+r/6f/0////8//v//f/7v/n//D/7f/j/+//+P/w/+r/9P/0//L/8v/7//P/8f/4//X/8//v//H/8f/u/+3/6//w/+3/9P/w//P/+//0//z/+v/+//7//f/9//7//f/6//v/8//4//r/+//7//v////3//b/9//+//n///8KAP///v/6/wQAAwD8/wMAAAD7//v//v8AAP3//f8BAPH//P8JAPr//f8FAAMAAAD7////AgD2//f/9//5//n/8P/8//T/8f/8//r/+//y//n/9P/6/wIABQD///7//v/7//7/+P8EAAMA+//8/wEA///8/wIA+/8AAAMAAgAFAAEABgAAAPv/AAADAAYACwADAAsADgAKAA0AAgABAAgABQAOABEADAAIAAMABAD7/wIACQACAAQABAAHAAQAAAAIAAUADAAUABsAFwAQAA0ACAAAAAYACAAFAAIABAAAAPn////+//3/AwAPABAACgAEAAMA/P/6/wEA/f/9//n/AQD8/+//+v/y//X/8P/0//n/8//2//T/9f/z//z/+v/8//f/9v/5/+//9v/3//v/9v/y//T/9v/z/+f/8v/4//T/9f/3//L/7v/w//P/7v/t//T/9f/y//L/9f/0//b/+f/4//H/8//3//b/7f/w//b/8v/6//3/+f/9/wIA//8FAAAA//8FAAEABAD//wUACgD+/wYABQD//wEA/v/9//j/8//9//z/+v8CAAMABQD8/wUAAgAAAP7/+/8CAPz//f/y//L/8f/0//b/+P/8//7/AwABAAsACQAJAAYABAAGAAMACQAAAP7/9//z//b/8/8BAP7/BQAKAAAABAACAAEAAwABAAEADAAHAAQA///y//b/+P/8//v///8AAP3/AgAFAAYA//8FAAsAAwADAAIA///5//3/BAD///7/AQD+//X//f8CAAEABAAAAPv/+v/7//v/+//7//v//f////z/+//7//n/8/8DAAQA//8CAP7/AQD///f/+f////r/+f////v/+//8//n/9f/z//7/+//8/wEAAAD9/wEA//////z/9f/5////+//9//7//f/4//v//////wEABAAHAAcABAAJAAkAAwD7/wUACQD9//7/AQD2//T//P/2//b/+v/7//b/+f/6/wAA/P/7/wEAAgAGAAQAAwD+//n//f/8//r/+f/6/+//9//3//v/AAD7/wEA/v8CAAQAAwD8/wEABAACAAcAAQADAPn//v/7//f/AgAAAP3/+f/+//v//P/9//v/AQD//wcAAwD///3/AQD7//j/AwD5//T/+P/5//j/+f8BAPv/9f/7////+f/+////+v/5//b//f/7//b//f/+//r//f8AAPv/9//2//7//P/6////9//5//z//P8AAAEA+//6//r/8v8AAP7/9v/8//j/+//6//z/+f/3//b/9f8AAP///f/6/wEA/P/5/wQAAQD+//j/9f/1///////7////+f/+/wgABAAAAAAA//8CAP//BQACAPj//v/8////AQAAAAMAAgD5/wIABwD6/wAA+//7//n/+//+//v/+v/6/wIA9v/7////+f/7//7/BgACAAIAAgD///z/BgAJAAQACQAAAAAA/v8AAAYABAACAAIABgABAAgACAD+//7/BgAFAP3/AQD9//T/+P8BAPr//v8EAPz////+/wEA/v/6//n//P/4//f////8//z//P8AAP7///8EAP7/+v8BAAMA+f/9//n/9v////3/AQD///7//v/9//v/AQAIAP7///8AAAEA/f/7/wQA+f/7//7/+P/2//f/+P/w//X/+v8EAAMA+P8CAAAAAQADAAcABgADAP///P/+//j/+f/6//r//v/8//3/+v/7//r/+//8/wEAAgD+//r/+//7//v/+P/5//n/7f/v//L/9f/0/+3/9f/0//j/+f/5//z//P/8//3/+v/1//r/9P/w//P/+v/3//P/9//1//3//P8CAAIA//8BAAYABAD//wUABAD+//r/AQD6//X//P/2//f//f8CAPr/+v/4////BgAAAAYAAwD+//z//f/7//r/+//6//3//v////z///////3/AQACAAUAAgABAP7/AQABAAEABQAFAAIAAQADAAEABwAFAAQABAABAAIAAwADAAEAAgAEAAcABAAFAAUAAAAGAAEABQABAP7/AAD7//7//v/9//3/+f/6//r/+f/7/wMA/v/7/wEA/v/9/wIA//////3//v////r/8P/3//f/8//4//z/AgD6//7////+/wMA//8FAAIA+/8AAP3/+//1//r/9f/0//f/9f/2//X/+P/5//n/+//9/wAA+P8BAAQAAAD3//v/+//0//X/9f/3//b/9v/4//f/+f/5//3//P/+/wcABQABAAIABgACAAEAAAAFAAEA9//4//n/9v/+//r/9//2//b/+f/6//n/AAD///3/AAD8//n/+f/4//7/9//6/wAA+P/0//n/+//5//7/+/8AAP7//P8BAAMAAwAHAAAA/v/9//3//v/4//7/AwD5//v/+f/7//v/+P/8//7//v/8//n/9v/6//7/AgD9/wAAAAD+//z/9//6//j/9v/3//n/+//7//z///8DAAMABAADAP//+f/+//7//v8CAAIAAAD5/wAABQD///3/BAACAP7/+/8AAP///f8DAAAAAAD+/wYAAAD4//r////8//P/+v/4//X/9v/6/wAA+v8AAAEAAAD//wMABgACAAQAAQACAP//AwAFAAEAAgAFAAEA/f8AAP3//v/8//3/BAABAAUA///+/wYAAQABAAUAAQD///r/+f/+//r/9v/6//n/+f/6//v/8//z//j/+f/2//P/9P/z//X//f/8//3/+f/7//j/8f/4//j//P/5//j//f/2//3//f/5/wEABgABAAAA//8AAP//+P/+/wEA///7//n/+P/2//3/9//2//r//P/5//n////9/////v/9//7/+//5////9//6//3/9f/3//r//v/0//n/AAABAP///f8CAP//AwAEAAEA//8CAAEA/f/5//n/+f/z//T/9v/4//H//P/5//r/AAABAP7//v8FAAUAAwAAAAcAAQD+//7//f/9//n/AAD+/wIABAAAAAMA+v8BAAIA/f8EAAAAAQAAAAAABAABAAAA+v/+//3//v8DAAIA///9//r/AAACAP//AAADAAQAAgAEAAUAAQAHAAQAAgACAAQACQABAP///f/6//3/+f/9////+P/8/wEA+//7//7/+//4//3/AAD8/wEA/f8AAPr/+P/1//P/8//x//f/9P/z//v/8//w/+7/8v/3//L/8//3//X/9//1//j/+f/0//f/+//+///////5//n////5//T/9v/w//r/9v/0//r/9//3//P/+f/8/wIABwD+//3/BAD7/////P/9/wYAAQD//wYACgABAP3/BAAHAAYABQAIAAwABwAMAA4ACAAQAA0ABgAEAAIACAD9/wEAAwACAPj/+P8AAPf/9P/6//7//f/8/wEA/v/8//7///////z////+//n/+v/8//j/+f/4/////////wcACAAIAAcABAAFAAEAAAAEAAMAAwD5//z/8//s//P/8v/1//b/9v/9//b/9v/2//v/9P/1/wMA+f/6//7/+f/6//T/+//3/+//8P/z//H/8//2//n/9v/5/wAAAAAEAA4ADQAIAAkAEwAOAAcABgAHAAgA/P/+/wQA/v8CAPz/BAABAAMACwAAAAcACgAEAAUAAwAEAPr/9P/x//H/7v/m/+7/6f/i/+n/8P/w/+//+f8CAAAABQAKAAYAAwAAAAAA/v/7//7//v/6//X//f8AAPj/+//9//r//f/8/wAA/v/9/wAAAgD+////AQD+//f/+v/8/////v/9/wEA9v/6/wUAAwABAAAADAAIAP7/BQAJAAcAAwAFAAoABwADAAoABQAJAAMABQACAP7/AwAAAAEA+f/+//b/6v/1//L/8P/w//L/+P/x//H/8v/1//X/9f/7//v/9f/4//v/9//5//v/9//2//P/+f/5//n//v///wAA//8EAAUABAAIAAgADwAEAA0ACAAAAAcA///+//n//f////b/+f/+/wAA9f/2/wMA9v/4/wIABwAIAP//BgACAAAABQAEAPz/9//4//n/+P/1/wEA+v/6/wMADAAOAA4AHgASAAkADwATABEABgAFAAsABAD9//n/+v/x//L/9v/z//P/9f/7//b/7//+//z//P/0/+//8f/n/+n/6v/o/+n/6v/n/+z/7v/4/wAA/P/+//7/AAD8//r////1//v//P8DAP//+////wIABQD+/wIABwADAAYAAgADAAcACQAHAP//AAAIAAEA/f////7/+f/2//v/+//9/wAA/f/+//3/AwAAAPT/9//8//7//P8BAAoA/P8AAAcA+v/8//r/+//0//L/+//2//f/+f8DAAAA+f8KAAsABwAHAAoACQD//wYABAD//wAAAgAKAAQAAQAFAAMA/f8AAP7/+v/6//3/BgD9/wEA+////wIA9P/7//H/8P/8//n/8P/s//X//P/9//f//f8HAP7///8AAPv/AAD2//X/+f/z//f/8//y//L/8v/x//X/+P/9//7//f8GAAgADgAKAAgABwD//wAA/v8AAPn/+/8AAAQACgAEAAsABwAKAA0AAwAKAAIA/P/3//L/9P/t/+v/7P/u/+//8v/4//L//v8EAP3/AQAIABAAEQABAAEACgAKAAcABAD5//H/7v/0/+3/8P/8//j/9v/w//3/BAD2//j/9f/3/+7/7//1//T//P/y//n/8//s//X/7f/v//D/8//0//P/AgD9//r/+P8AAA4AEAARAA4AEAAKABgAGAASAA8ACgAQAPv///8DAAIABAAAAAQABAALAAQADwAVABcAGAAGAAkABQD7//H/6v/p/+n/6P/r/+T/4f/o//D/9f/0//z/9f/5/wEABAAAAPb/+v/5//j/7//w//f//v8CAAEA///4/wgADAAPABAAEwAVAA4AFQARAAYA9//3/wAA/v/6//n/AgAEAPz//v/2/+//8//t/+n/3v/c/+L/6P/t/+r/7f/g/+X/7//1//P/7//z//3/BwAGAA4ACQASACEAFAANAAwAFQAMAPn/8f/6////9f/0//n/+f/w//X/AQAGAAYAAAD6////BAADAPz/9P/0/+v/8//z//H//v/7//r/9v/6//v/AAD5//b/CAD+//b/9//z//D/8v/t/+z/8//2//z/+P8CAAkABwABAAYACAACAAcACwAQAA0ACQAFAAcA+v8BAAcABQD9//z/CQD3//f/+//5//z/9P/7//z/7//v//v//P/x/+//+///////BAD+//n//v8CAPj/9v/4/wQABgAKAA0ADAAFAAIACAAFAPn/+v8MAAsACgAGAPz/9P/2/wQA+f/u//b/+//9//n/9//7////9v/+////8P/q//P/+f8AAPn/8P/t/+//+//3//T/AAAAAAUAAAD9/wUABwADAAcA/v/3//L/+P/4/+//8v/y//f/AgALAA0ABAAUABUAFAATAAIAAQAGAAUABAD8//T/7P/y/+L/1//k/+3/7P/u//f/9//2//b/8P/u//P/+v/5//f/+/////r/5P/f//H/8P/u//v/AQABAAkADgARAAoACAAOAAIA///5/+//9f/6//j/7//t//H//f/7/+//+P/4//H/8//4//v//P8FAAYACQAQAAkA///5//f/9//3//n/+v8BAAcABAAOABYADgAJAAYABgAGAAUABwAMAAYA+v/v//D/+P/1/+//8/8BAAIACgAIAAkAFwACAPv/AAD2//X/8//v/+3/6v/u//X/9v8CAAQABQACAPv//P8KAAIA7//q/+f/7v/6//X/+P8GAAsABwAIAAgACQAFAAcA///z/+n/8f/5//n/BAALAA8ADwAUABkAFwAHAAEA+P/n/+T/6//w//T/+f/3//r//f8FAAYAAgAQAAwACAAIAAcAAwD7/+z/7//0/+3/8f/v/+7/7//v/+3/9f8AAP///f///woAAwD2//j/+v/8//X/8v/1//X/+f/3//n/+f/u//n/AQAEAAMA9f/9/wMAAgD5/+j/5//x//D/6P/s//L/+P/5//z/AAAFAAgACQAIAPX/7//u//D/+P/y//n/7//r/wMAAwAHAAsADQAOAAAA9v/7//b/6P/p/+v/7f/t//H/+//8//r/CQAHAAMADQAOABEAEwAKAP7//v///wQA9v/q//n/CQAMAAkAEAATABwAGQAPABoAGwAgAB0ADgACAAUABQABAPv/9f/5/wQA/v/9/wYADQAHAP///P8AAAoA/f/x//X/+f8BAPb/6P/v//r/7v/m/+n/+f8MAAEA+P/8/wwAEwAGAAEA9P/3/+v/3f/l/+f/6P/o//D/+P8GAAcAAAAIAAUA9v/u/+r/7P/r/+z/7P/u//r/BAAIAPj/8P/1//P/8f/v//j////8/+//8f/4//X/9f/0//7/9v/z//T/9f////f/8P/z//j/9//3//v//v8JAAAA9//9////AQABAPv/AAADAAUACQALAA8AFgAWABMAFwANAAgA///6//3///8SABcAHQAYABgAJQAtACYAFQAQAAoACgD+//n/BgAGAPX/5v/u//H/9f/4//T/8//y//b/AwD5//P/AAADAAAA8//z//b/+v/w/+X/8v/s//L/+P///wsAFAAPABUAIQAlABoA/v/4//j/AQDz/+H/5P/n/+v/5P/e/+z/7//l/+H/4v/w//j/8f/1//3/AQDt/+H/6P/s/+H/2P/a/+X/6v/q////EAAYACcALgAnABUACgADAP7/7f/n//P/AQABAPb/9v8KAA4AAwAEAPv/+v8BAPz/+//5//T/BQAFAPX/9v/+/w4ADAD7//z/CQAHAP7/AAAIACAAEQDy//f/CwAYABsADgALABgAJAAnAB4ACwAPABoABADw//v/BwAFAPP/5f/x/+//5v/w//r/BQD//9j/0v/j//f/+//q/+H/4v/i/+v//v8NACEAGQAPABsAHAAdABgACQACAP3/8//4//z/9f/7/wEAAQACAAQADgAdABMAFAAXAA4ADAD+//T//P8DAPX/7//z/+7/6P/Z/9P/1v/e/+P/5//l/9//6//r//L/AQD8//n/8f/k/+f/0v/I/9T/0P/G/9X/4v/m/+3/9/8KABgAEgANACAAOgBBAEAALwApADAALAAXAPv//P/7/+f/4//p//j/BQAKAAsAGwAlACcAJgAnACoAIQAYABYAEQAbABUADQAMAP//7//t//L/6f/h/+b/6//v/+z//v8JAAUABQALAAsA///q//T/AwDu/+j/7//n/+f/5f/X/9r/7v/0//n/9f/s//7/AwD6//7/9f/z/+f/5P/u/+H/2//h//b//v/z/+D/5v8KABUADgAVABgAGQATAA4AEAAKAAIACgAOABAAAADt//7/EAAUABgACAD///3/8P/4/wAA9P/1/woADQAIAP//EAAqAB0AAAD3//n/8f/l/+X/7v/3/+L/5/8BAPj/9f/y//f/AwD1/+b/8f8BAPT/5P/q//H////4//L/BQAPABUAFAANABkAHQASABQADwAQABkAEgAXACYAIQAGAPH/7P/4//r/5P/o/+//7//k/9L/3P/j/+T/5f/f/+L/4v/c/+f//P8GAP7/9v8AAAUAAAAAAAkAEgAVAAAA9v/5//L/+v8OABUACAAFAAMACQAQAAoAEwAgAB4AIQAlAB0AKwA1ACoAJQADAOv/AQD8//X/AQD9/x8AMQANAPr/BAAHAA4ADQACABAA+//T/9D/3P/j/9f/xv/K/+L/5f/o/+z//f8DAPv/7P/q//j/8v/s/9//2//U/8v/0v/X/8//1//q//f/+f/q/wEABwD5//r/7v/u/wEA+v/g/+f/6v8AAAQA5//2/wEA+f/8//7/BgAWABIAEAAZAA0A+/8CAAsAGgAkABIADgATAAwABQD5//z/CQAHAA8AHAAgACkAJAAuAC8AJQAnACkAJAAWAAgA8f/n//z///8EAPT/5//1//b/+P8BAAIACgANAAIA/f8MAB4AJQATAAUACQAIAAYADAAIAAUA8P/a/9T/1P/f/+L/0v/c//L/+P/t/+P/6P/8/wMA/f8IAA8A+v/w/+//8P/u/9v/1//g/+L/1v/P/9v/+/8NAP//9P/0//L/+P8GAAQA+//j/9L/3//m/+n/6v/q/+7//P/0/+r/+f8NABUADwAFAAgAGgAWABYAGwAaACYAHAAAAP//BAAHAAwAGQATAAwABADz//r/+v/x//T//v8KACIAHgARAB4AHQAcABwAEQALAAQA+//+/wcAAQDv//P///8CAPn/2//z/xkACwDp/8//1//q/+f/2v/h/+D/2v/V/93/7f/9/wQABwAYAB8AIwAaAPf/8//9//T/5//Z//P/GQASAP//AgAVACgAIwASAAgACAD6//L/+/8JAP//7v/f/+P/9//1//n/CQAPABUAEQASABoAGQAYACIAHAAZAAsA9P/w/+X/2P/U/9T/1f/T/8v/xv/Z/+z/6//o//T/BgAAAOv/5f8EACAAEQD7/9//1f/r/+j/4//f/9v/2v/X/93/7f8JABUAGAAUABUAIQAiABIACAAJAP3/6//k/+r//f/4/93/7P8OAAgA/P/4//3/DwAMAAkAIAA3ADQALgAYABMAJAAdABEADQDy/+P/2f/K/9z/+v8PAA8AEwASABkAIgALAP//+//2/x4ALgAPAAwAEwAWAA4A/v8MABwAAQDn//X/CQAPAAYA/v/7/wMAEQAUABUADwAHAP7/AAD6/+f/2v/c/+n/2/+8/7f/0P/Y/8b/vf/C/8v/2f/W/+P/6//r/w4AIwAaABsAEgAMAB4AIAAbABYABgAKABMAAQD9//H/8//+//j/+f/u/+z/BwAMAAAA///7/w4AKgAcABgAFADz/+r/3v/P/8b/uv++/9z/4P/d/+j/4v/k//H/5//o/+X/1//U/83/wv+7/8r/1//l/+n/5f/w/wMAEwAfACoAMAAxADoAQgBDAEMASABbAHMAXgBFAEIAOAA0ABoA///1//D/5//n/+X/1f/r//X/5v/1/+v/3v/a/8z/zf/W/9f/7P8KAO3/6P/t/+z/FQAaAA0ADwAGAAgABgD6//L///8UABEAAQD7/xQALAAoAC8ATgBTADwAFgAUADIAGwDw/+T/6f/x/9j/w//o/wsAAAD3/wQAAgD2/9r/zf/r//b/6//k/9v/3//t/+v/6//0/97/0//V/9v/8f/v/9T/7/8mAC8ABQDk//r/GwAgAAgABgAmADAAGQD+/+f/8P/3/+f/4v/k/9z/yP/R/93/5v/0/+H/1f/I/8b/5f/y/+L/5v/x//T/+//+/w0AEQAFAA4ANAA4ADEAMgA8AEMAOAAyADAANQAiAAIA+//3//3/DQAFAP7/CADx//b/EgAfAC8AGQDw//j/9P/5//3/1v/b/9j/rP+b/7T/0v/i/9H/x//1/wYAAgAEAA0ADQDd/8L/0v/6//r/1f/F/93/AgASAAcAAAD9////CADn/8//5P/4//3//P/c/+D/BwAYACwAKQAXABwAIgAhAB8A/P/V/8b/sv/M/+T/1v/a//n/OQBjAHYAiwCzANoA5wDhAOsA9wDJALMArgCTAG0AJAD8//T/rv9U/0f/Y/9x/3H/b/+Y/7X/lf+G/57/rP+k/3v/W/9X/1v/Rf81/yn/G/8u/zX/L/8u/0v/cv+b/7n/6/9WAJUAtADeABYBQAEiAe8AywCjAGMAFwDx////BQAHABoANwBjAIoAhwB/AGQALAD//83/p/97/2H/dP+D/3v/jv/D//H/JwBjAIsAjwB6AHsAhQBvAEgATwB9AMIA3gDLANoA7QDbALAAegBEAP//qf92/2H/Nf/z/sH+pv64/sT+pP6r/t3+CP8z/zX/M/9h/4X/m/+9/9T/8f8EAAcAHgAlAPr/4P/h/wEANABEAEUAXwB+AJYAnwCYAKUAuQCeAGYALQAPAA8ADgDf/6f/qv/M/+b///8aAFAAjgCmAK8AsACNAHcAZgA3AAUAuP9o/0H/SP9a/03/Wv+S/+P/HgA/AGMAewBzAGIAWwAhANT/o/+H/4//lv+l/+D/LwCeAPwAKgFHAYcBygHLAZwBUQEPAd4AoQBOAOn/gf8t//D+nv5J/iT+M/5a/qX+A/9N/5f/uv/K/8v/nP9l/xX/0P6q/lf+Hv4Y/jT+hP7M/gf/S/+K/+//cQDPAPkAAAEVAUIBRgEtASABTQGEAWQBIQEBAfUA4QCpAGYANgARABQAXACbALQAzQAeAXwBjQF6AXwBjAFoAfoAkAAhAJn/F/+v/mz+K/7x/eD93/3i/er9AP46/oD+0f5Q/8P/DgBYAKUA7gD2AMEAmgCWAHkAOwAvAE0AZAB4AHYAkgDWAAgBGgETAQYBBAH8AOgA3wC8AGEA+P+k/1X/CP+v/lv+T/5W/lL+WP6B/vD+aP+7//T/FAA1AHQAmwBrABQA1P+8/8D/rP+b/8//4//T/+T/CwA1ADgAFAAtAFUAKgD1/+b/6P/s/9P/l/+M/6X/u//M/57/Y/9Y/2n/kP+g/5j/yf8ZAFEAhACrANIAzwC1AKoAiQBHAAkA5//2/wcA7f/o/wsATQCMAJkApwDLANsA4gDtAN8AqgBlAD8AQAA0APz/zf/F/+//SABwAF8AWQB6AKIAiwA4ACAAMAApABcA7v/e/97/6v8YABsA4/+v/4j/jf+A/z//9P69/rH+2v4Y/y7/Rv95/6P/4/8JABEAMQBZAJMAuACIAEIADAALACMA3v9X/xb/Of9j/1T/QP9k/6n/yP/C/8b/0P/3/xUAGgAkACoAKwAuAFEAnQDhAOMArgCrANcA8wDtAPAANwF2AS0BpgBeAF0AbAAiALD/lP+C/2b/UP9M/3z/d/8e/8v+h/5g/k3+Cv7i/Q3+Lv48/kj+lf5A/9n/HwBGAJsA3ADiALsAiwCXAIsAUgAmACUAPwBNAFQAiwDkAAkBCwEKASMBVgFRATcBDgHyAPAAvgCNAIQAgQBqAB0Ay/+//8P/pf+H/1//Rf8k//H+B/9g/5j/qv+0/9L/OABwAGEAdwCFALwA1QCEAEsAMQArACYA7/+w/7f/1P8IAG4AygDuANEAvQDLAKUAPwDS/5n/mv+J/zP/3/7H/gn/gf+6/6X/gf9n/4j/tP/A/6X/av9f/6j/+P/0/7H/oP/r/ysAGgDn/8X/3f/7//j/1P/C/9n///8bABsACQD9//z/DQA5AFMAIADM/7//FABkACUAi/9C/03/g/+u/4z/a/94/5r/8/8vABYADAALAB8ALADf/5X/jv+V/7//uP+C/6D/3f8rAGgAZAB4AMYA8wAAAQ4B8wDTAMoA3ABEAVYBtwBdAIIA4QAMAYoALwBfAHwAcgBbAGoArgCoAEgA2v9//3z/mP97/0H/+P7K/uD+D/9q/7T/n/9R/xv/PP+W/6//cv97/9T/8v/W/63/uf8nAGIANgAIAMf/wv/e/6f/iv+Z/5//yv+8/3L/av9c/4b/4//S/9D/7v/6/1gAnwDKAP8AsQBNAGgAlQCvAIUAYQCyANQAngCDAJsA5gD3ALEAhABnAHMArACnAHoAJwD2/xQAAwDS/7T/kf92/xj/2/4a/zD/3v6X/sr+NP8+/wL/Cf9T/4X/dv9P/2H/ff+H/5j/uv/Q/+7/KwB1AJEAUgACAPn/MgBxAGsABQCp/6//EgClAOcAzwDJAPUAJQEqARoBHgHqAHoAIQDw/8j/lf+N/63/y/+n/3f/pf8fAIoAlgBIAP7/EQA/AD4A2P9Z/2z/wv/u//v/9f8LACAA6f+6//j/GgDd/5b/dv+U/7T/nv+y//X/CwAFAOj/4v8JABgABQDc/6H/gf+A/5f/sv/O//b/9//i/9v/+f8rADAAGQA2AHUAiwBiADEAXgCmAJ8AeAA6AOL/r/+T/57/y//I/7b/nP+U/+r/OQBvAMIAzQCTAG4ATAA2AAsAtP+C/23/R/8q/1//2v9JAFoAKAAsAGMAgwCIAGEATQBpAF0AOQACANP/7f8DABcAOAA1AEoARgA3AHMArACNADEA1P/o//7/fv9D/37/jf9U/9f+wP5C/4f/cf84/97+r/7C/vL+Ev8w/1b/o//6/9f/u/8OAG4AlwBwAC8AUQCDAJoAxQCsAIgAkgCVAKkAsgB/AGEAWAB2ANMA5gCSABMABgCcAB8B5wA4ANn/JQCFAEkAnf8y/33/zP9z/+/+6f6B/xAA/v/F/8T/z//s//X///8JAMf/Y/9f/8j/DQD3/7T/wf88AKkAqwBjABcAMwByAE8AAgC///T/TgAgAM7/pf/Z/zYAMwDz/7f/jv+F/6b/vP+V/3P/eP+D/4z/m//Q//r/1P+a/7b/FQAtAO//CQBlAHYAIwDv/0YAuwDIALYAzwC3AI0AjQCDAE0ABAD5/zgANADT/8b/FQA+ACwAHwAxADQAAADj/+z/tP9d/0P/YP9L/xX/M/+7/wEA0/++/+L/NABbACcA8f/A/4L/bv82/xn/Tf+K/9L/9P/w/wUAQABXAHQAswCDAAwAr/+B/7X/7f/M/6r/nf/f/10AZwAqAB8AWQDaAA4BfAACAPH/RgC/AHkA7//h/w4AkwDPAHQAcwCBAHUAhABNACkAJgATAFoAsACTAFIAFgAFAEIAXAAnAOL/n/+x/wsACgCf/1T/j/8QACcArf9Z/3z/tP/N/6L/P/8J/wP/I/9e/yz/0/7j/jr/iP+F/17/gP/J//H/5/+r/5//ov/O/wUA5//M/9T/+P8gAAEA1f/p/xQARABCADUAQQBGAG0AiwCTAIUAdgCQAKgAbwAWAMv/p/+y/97/+f/H/8H/RgDlAOwAfgBRAMEAPwEJAYYAVwCTAMEA4gD0AMEApgCwAKwAbADd/5//4P/k/5//VP9E/3P/RP/6/hX/JP8T//z+8f4h/83+Hf7l/SX+jv7C/rn+4v5r/wAAdAB+AHMArwDZAO0A7gChAF0AiQDcABwBHAHgAP4AnwEZAhwC7AGmAZgBxAGCAdsANQDC//L/OQDg/0H/FP90/5r/Tv8A/9T+n/5e/hH+Af4U/gv+a/47/wMAhQCPAH8AzQAGAQQB5ACPAEYADwDo/9L/2f8VAGoAowCwAGoA7v/B/wsALADA/1n/N/9K/3P/bv9//+L/CQAIAP//u/+i/5P/Z/9S///+vf4A/yT/G/8+/2//s/+8/5H/4/9rAH0AdQB9AH0AigBpAEQATABrAJQAsgC3AJ4AlQCuAKIAfABHAFIAhQBhAEoAQQBnAMQAwgCVAKgAkwBeAPv/Y/9X/0f/wP6S/qD+8v5u/1//Rv9H/yf/P/9E/yL/K/9W/6z/CQARABIAfQAZAVwBLwEDAQAB0QBJAPP/2//9/zAACQA1AMAAAAEDARUBTwG6AY0BwABnAE4APwBZAD4AGADx/7T/BABIAPX/mf9v/5D/ov9n/zT/K/8r/2T/vf+U/xT/7v52/zcAOgCX/17/zv8xAPD/af9F/43/3f////n/wf+o/+7/VQB5AC4A3P/S/9P/qv9q/xv/Jv+j//X/AAD4/9T/2v8RAFwAnAAmAIb/T/8+/0f//v67/if/m//i/z4AeQCeALkAzgDwAL8ANAAKADgAaQCKAGEAgwDiAPkA+wDTAKwAngB+ACAAmv9g/0j/L/8Z/+j+8v5A/3v/zf8cADUAWwCIAIkAZAAPAP3/BwDQ/wsAiACrAMsA3AATAVoB1wBTAHQAkABVAJ7/9f4O/2v/gf+E/7z/GwBWAFsAVgBDABsAzP9p/yj/7P59/kz+i/7s/nn/BABaAJAAjACsABUB1QDo/4v/uv/W/3z/+/5X/x8AZABnAJ0A9wAUAQIBBwHtAGMAuf9T/zb//v64/ub+W/+w/w8AbgCFAIsAdAB3AIwA+f9N/xH/F/8o/xn/Gv8r/0z/lv8HAHwArADxACkBCAHKAEEABgAaABkAKAD3/6v/0f9CAIkAyQDlAMoAyQCWAFoALQCs/4z/0f/K/9H/lv9t/9//PAB2AKwAcgA3ABsA6v8RAA0A2v/c/6//mv+X/2j/gv97/13/n/+U/2b/Lf8J/03/mP+R/1j/T//I/14AkgCxAKwAmACBAFUAXwBpADcADQAXAEYAaQBOADEA/v8RAHsAiQAzAKP/vf9qAFcAtv9d/1z/3P/s/3j/c/+g//7/LADE/2v/Z/9z/3j/Ff/l/m7/fv86/1X/x/+CAIgA/v9CAK0AwACYADoAggDgAOEA1gCQAEEATwCeAI4ADQDV/ygAswCvAC4AFgBbALMAmABfAE8AIQAmAFkAiQBgAOf/d/+H/wQAEQC4/0r/6/4P/2//T//W/pP+3P6X/+b/ZP/0/hj/wP89AKj/Ev///jz/2f8TABsAMgAEAGEA7QDKAIIAIQAIAKYA9gDhAOwAqgDJAIYBygGgARIBdQCDALEATgC8/3H/ZP+B/2H/Dv8L//n+Lv8MAEsAMAAFAKL/z//W/2L/Pf/x/rr+H/9J/5T/EQDp/zcACgH2AOIA9wCiAPQAtgDg/0QAeQBcAKAAQgBVAKkA8P+e/6f/aP/D//X/h/92/1j/Lf9a/w3/Ov/P/3f/UP91/1j/fv8T/1b+b/7w/mb/qv9f/zf/+/+VALUAhgAGAH0AcwFUAaUABwC+/zcARgDU/+D/kf+k/2IAfQC4AKkAIACaANQAtgDgABwAov/s/9v/OwBeAM3/HQCBAJoA9QBoABcAqwCvAPIAzwAYAEoAUAAnAEQA1f+X//f/JQB6AJ8AAQDh/yEAQwBeAM//Zv+p/73/oP9c/zP/dv/E/+v/6v///wcALwByAD4A9//W/6D/rf98//n+DP8q/1j/1v8LAEwAOgC8//7/SADq/6r/Wf9B/03/9P7Y/vn+8P47/7T/+P8eACEAmwAkAcsATgAWABAACwB0/0//tv/S/9P/rv8LAMMA7QCwAHEAZABZABwAvf9f/0b/rP+//73/GQD//yQAWAA2AJUAoQBDAFIAOABfAOIAzwBuAEQAbAD9ABgBcwAVACcAmwDYAEsAyf+j/7P/AQD4/6v/fP9D/7H/VwAmAIj/Qf9O/97/UADa/2z//P4M/9b/HADI/yv/J/8jALUAJwCc/23/vv9zAKUAdAA6AAsAnwBvAT8BlwDW/5L/2v/K/23/N/8g/0z/EgB5AO//S/9Y/yAAuABZALT/mP+y/93/z/8//+T+Af9h/w4A9f+q/+T/7P8DAOr/AAB7AGIAJACBAN8AvgAoANj/XwDbAMMASQD4////LQBhAGIABwDv/z4AVQB4ACAA0v9TAHgAVQBIAOH/y/8rABwAPgB/ACoAQgCQAKQAywBWAJr/if+Q/3z/Qv/B/sz+Zf+6/5r/T/9w/ywAtgCsAIAAGADG/8H/dv8l/+/+jv7U/nX/ZP+Z/8H/r/+KAOUA8AATARYAzv95ADwAoP/I/nr+lf/I/0f/qf/Y/0sAxwBxALUAxwBFAJ0AgQDY/6T/Cf8j/+H/5/9bALMAHgBNAMsAoQC1ACwAt/9bADUAxf+4/1H/rP+EAGIAbQCYAEcA4QARAV4ASAAdADUAwgBYAOz/1P+B/7T/1P9X/1//BwBwAIkA1/8M/33/AQDw/wcAMQCBAKEA7v+K/5L/Ef/T/lD/6f8PACP/SP7b/o//3v/M/5T/IgDeACcB/gA0AFv/bf8DAAAAVv/P/v/+5f9XABYACAAAAFEAQAHVAZUB/wBRAJwAGwFeAL3/kP8JAM4AfwDQ/8n/+v9TANAAsgCPAIcAFwDv/9f/Fv/d/iv/YP+0/2b/6P4+/7n/6/8xACIALwDJAOYAngDo/+L+2v6O/8D/cP8j/1H/BgBgACgAKAAnAFkAFAEwAdUAPABL/wz/WP9L/0T/Hf/v/tz/oACSAG4A1f/8/w8BPAGyAMT/rf7Q/ob/dP/e/qT+M/9PAAABlABJAFoAZgC/AN8AgAD+/3//av/Y/7//Q/80/0X/xv9+ANoAKwG8AAwAWgC4AMoAbQDN/w0ArgCtAGQA4f9j/+v/aQBiACsAUv8f/wYAngCZAEMAzv8MAIsATgARAOb/o//1/x0AzP9H/4f+V/78/r7/1P99/23/DQDSAOcAmAAyAA0AKwD7/+D/+f+5/8b/EAAdAEkAzv8//9j/lwCrAEsAcf9h/04ApACzADcAiv/m/zgAJAAEALb/GADeAHwAyf99/0b/gP+x/+n/ZwD//yH/HP++/0QA8P9H/3v/LgBZADQAHAD9/wYAFAAiAAoAVf8h/7z/RwB8AMb/Av8n/9b/wABgAe8ADwADAFoA0gCFAJT/AQDaAOsAcABy/wr/xv9cAKwA6QCkAHYAogCFAFAAFwB1/0j/kP/Z/0AAHgCa/4D/yv8BABIAjf9U/93/LgB2ABMAZP+Z//v/QABFAMf/pv/z//z/5//p/+v/6//J/6v/5//z/63/zv9FALgAnQAQANr/+//+/8P/cf8m/xb/F/8g/0j/XP+w/3wAxgCsAKoAvwANAaEAwv+r/8H/Sv/Z/pv+yP5q/7L/FgC4ANIA3QBIATQB4QCHAAMAGQDp/zP/Af8H/yj/jP+x/woAkgCzAAMBWgE7AeoAZgCt/3v/Yv8E/9b+vv5L/yEAfgB9AJ0ACwGDAXEBnACH/7v+kP7M/tX+vv4P/7L/ZwCMAEQAagDEAAoBXgFZAbAAHgB9/z//dP/1/pv+3/46/9z/WACDAAsBXQEsAQwBswAaAAAA3v+b/7//X/9B/6f/pf+S/6//3P8kADQAxv/B/zMAXQBhAFUADgDv//r/AwA/AFwAPwAZAPr/tv+S/6H/rf++/6v/x/8RACoAVQCOAK4AogAqAM7/0v/y/z8AbABSAC0A2f+k/47/eP+1/9X/4P/t/+r/DgATABAAQABJAP3/qP+i//D/3f+V/6T/+f9KAD0A/f/5/zsAcQB3AAYAaf8+/1H/hf+U/0r/bv8HAE0AUAA1ABsATwBxAFUAKgDH/1b/Kf8x/xj/5/7k/h3/9P+7AO0AFgFKAVEBEQGTAAQA5P/O/3T/av9m/0j/V/+Z/xUAggDIAEMBlAFQAb0AJwDQ/4L/2/54/tn+SP+C/wMAbgDQAAsB9AABAf4AzwBkABgAtv9c/0v/E//z/uL+Kv/h/2oAQAAGAFoA4wAGAWgA0P+h/5r/Uv8W/yT/Zv+7/yMAlAChAGUABQAgACUAAAA1AAcAvf+J/2f/mP/X/5//nf80AKIAoAAjAKL/vf8EAAIAx/9G/zX/kv/b//L/vf/E/zsA0QDrAKYAXgArAFUAXwDa/23/ff8CAGsAMwDx//3/RwBtAIgAuADHANEAqgB1ACgAvv+o/77/vv+7/3r/fv/0/zcAkwCxAIcAiABoADwAHACx/07/m//a/9T/sv9R/4r/IABGABgA8v8YAJoAkwDS/4D/bf9E/0X/Uf9z/wgAZQBLAHsAbQBYAJAAbwAhAPL/pf9r/wn/V/6o/m//0f8gADEAnAAZAaEADQAhAGIAXQCl/9z+qP61/rX+1v44/73/XwDXAOUAggAiAEUAigBZALj/ZP+L/4D/Jf/v/l7/DABjAJEAngCaAGUAEQDY/6T/vP8IAFAAUgDp/9b/SQB+AJkA4AByAdUBeQFyAG//TP8g/9n+/P5B//v/iQCIAIwAsgD/AE0BMgHkAH8AEQCJ//T+pv6//vn+Lf+f/+L/HwB9AIsAxAALAR8BMwHwAG0A6f9o/x7/HP9W/7f/HwBDAFsAYwBUAA0Anv+9//3/DgCh/wr/6v7y/h//av+y/0YA5gD7AO8AfADz/8//lP92/37/if+W/5P/QP8o/3r/6f9wAKcA2wAeAQQBegDZ/2f/WP+V/6P/Xv9j/4n/iv+4/73/9P+OAPkAIAEsAd0AbgAnAM3/n/+M/3L/b/9//4z/rv/E/7v/xP8ZAIEAZwBDAA8ADwA5APn/0//p/yAAZQBDAPv/9v/H/+L/HwAbACAAEwAhAA4Arf9E/0b/ov/a/+r/9P8WABQA8//c//f/+P/C/8//CwA4ABMAnf9O/3H//f97AIQAYQBIAGgAmwBAALH/rf/y/ywADgB1/zn/bf+M/83/FgBLAJQAjwAkAB4ARgBGAD8AHgAeAFgAdgAbAMn/2v8EAFQAggCSAKEAmgCiAIYAIwC1/37/mv/d//n/3P/P/9P/1v/7////AgAqADUAFAACAOn/xv/A/8L/5v8uAGkAcwB5AHAAbwB0AD4ACQDO/6b/lP+J/3P/Tv9W/2P/if/f/x0AHQAtABoAGAAXAMj/qv+c/6X/pf+O/3b/nP/B/8b/EAAwADAALwASAOf/0/+v/5L/qf+U/3b/h//Q/wMABgADACgAfACCADUAAwDr/+X/of9o/47/zf8OAD0AdwB2AEkANAAiABoAIwA6ADUAFwDU/4j/iP+r/8z/JwBjAIgAqAB9AEEADQD9/wMALQAoABAABQDb/9H/0f/0/zYAgACYAK4AjgA0AP7/uP+R/4H/lP+1/7P/ev94/8n/IwBmAGUAegCTAJIAcAAdANf/yP/Z/xYA/f+t/8P/0v/9/yYAHQAnAC4AEgDz/77/jP+L/6H/zv/9/w4AAAAkAC0ALwA9ADcAUQBUACcA7f/5/+b/wf/F/9f/DAA3ABYAAAA0AFAAaABKACQAEgDx/9v/rf9y/3D/s//d/+D/u/+z/9j/CwAhACgAQABMAEUAGADd/6r/tf/i/x4AFQDi/8//s/+v/7//4f///zcATQBIABEA2v/g/8//1v/d/+b/2v+7/6L/ov/O//b/FwBGAEUAMwA4APn/3v/S/+T/HQAeABwA7P+v/7T/x/+//9r/AAAsAEwAFgDC/5v/rP/Z/wgAHAAbAAUAAwDO/6P/wf/m/zwATQA7ABMADQBWADoAIwBKAGEAVgANANL/v//Y/+j/3P/Y/73/v//W/9n/4P8BAFgAhgBmAF4ASgBNAEgA/v8AAOr/5f8IALT/hv+W/7b/4P8BAAcAAgAbAAQA8P/i/9v/DAAkADUAQgAfABwANQA8ABwAGQBAACcAJQAKALX/yv/x//7/9//1/+X/3P8LABIAJgBuAJIAlAB0AD8AAADT/8v/qv+a/5T/lf+k/37/kv/T/zEAZABmAIYAmgCUAGwAVQAuAAsA/P/k/9j/rf9v/2z/lf+R/7v/1P8JAD4AOgBRADEAPAAxAA4ACwAAAPn/v/+c/6r/7v8RAPP/+P/u/+P/2//H/8T/m/+6/xcAEwAOAPz/4P/j/9z/uP+Z/7L/yv/E/83/vv+J/5b/qv/I/w8AAAAGAEkANgAIACgANQArAD0AIQAMAOP/z/+1/43/sP+8/wwAKwAAAP//3f/n/+T/4P8JAB4AQQCBAHUARQAyADQASgBQAEwATQA/AAAA5f+M/2L/kv+g//j/BwAgAGMATQBAADMAOgB5AJgAWwAbAN3/0//H/5//1P/0/xsAbgBhACQANAAqAD0AXwAtAB4A+v++/4P/TP8x/zb/sf8JACAAOAA5AEIADgDO/8n/1P/o/93/uv+3/6D/mP+//+v/NgB+AKAAeQAxAAgA4v/c/+D/z//N/9n/x/+2/7T/yv8fAIYArACCAGoAcgAoAPL/4/+5/9b/6v8EABUAGgAtAEIAcwBwAFoAYABjAD4AFwDq/8D/o/+Z/6v/yv8TAAoABwAtADMAMgA2AEUABwDv/+v/0v/c/7L/mf/Z/9f/5f8YAOr/5//q/97/1P+9/7b/s/+r/4r/iP+B/5r/u//N//z/GAAlAB8A9P+w/77/xv+d/5T/iv+d/7D/tv+q/6X/zf/3/x8AEwDp/9n/xf/X/+H/zv/N/wMAEAAPAA0A4v/3/xoANgBWAGoAQABKAF8AHQA0ADgAJQA+AFkAcgBrAFAAUwBVACsAHgALAPn/AwAaABEAIgA8ADIAdgBIAAMAMQAgAC4AQgAtAD0AKwAHAAsAKQAVACEANQARAC4AJQAYAAgA0f+3/7b/wv+m/6z/3v8DAA8ADQATAB0A6P/o//v/0f/n/8//u/+r/6z/uP/F//z/1f/6/w8ADwAQAOT/+P/u/+b/7v+4/53/sv+e/6n/sf+q/83/9v8GAPT/EgAPAAUAAgAEAB8AGAAZAAsABwD8//X/9f/o/wcAJgATAB8AJAAZACgANwA6AB0AEAAEAO7/9//p//D/IAAyADAAEgAzADEA+/84ABIA+f8WAPj/9//g/8X/s/++/9r/5/8DACMAHQAdAPn/7v/c/63/2//E/77/rP+p/7r/jv+e/9D/AwATAAsABQD9/+L/2//Z/+P/xv+z/8P/nP+f/5z/xf/s//X/FQAXAOb/1f/W/8r/BwD9/w0ASwA5AAwAGAAAAP7/PAA8AG0AVgBAACkADQAkAP7//v8uAE4ARABIAD8AFgAWAFYASABiAHIAJQArABwAIgAMAC4AZQB4AJcAVABTADwAAQAnABsAJQBKAP//BADr/+D/CwDw/yQAHQAwADwAAwDe/77/z/+z/8b/4P+0/8b/uf+h/83/2f/Z/woALAD4/wEA3v+Y/7X/gP+S/6H/a/+Q/4z/a/+J/4f/nf/H/8H/vP+7/9n/tv/J/87/wv/S/8X/8P/L/9r/9f8AAAIADwAeAPz/JwDq/+H//P/o//H/9P8YABEADwAUAB0ANQBBAGEAYwBJAFAAPAA6AEcALAAWABAAJAAvACkAIgAuAE8AWQA/ACQAGgAhAP7///8TAN3/CwDz/+L//v/0/x4AMwAtABQAOwAVAPL/8//P/+r/7P/j/9//+//u//f/BwDl//j/8f/W/+r/0//X//T/yv/Q/7z/1P/v/+L/8/8HACIAAAAgAPb/1//q/6r/uf+y/7L/0//U//f/GQABAAoAGwASADAAQgAdACcADwDY/wUA4v/u/w8AAAA9ACkAFAAkABQAEwAIADAARAA+AEEADQAwAPz/9f8cAOr/EwALADAAIQAjABAA4P8VAPb/+v8BAPL/8v/+/wAAFwAMAA4AEgDu//n/zv/M/77/xf/h/9H/1//V/7z/vP/X/9v/6v/n//H/+//+/9L/uv+n/8v/6f/J//L/yv/W/7j/tf/p/+b/9//7/wQA+f8GANz/9f/W/+b/JAAEABIA2P/1//X/6v/s/+7/IAAKABEA/P/d//f/CQAJACQALwA7AFYAPwD+/wMAEAAEAE8AQQArAEAA9P/z/w4A/v82AEwAUQBgAEwAJwAFAPD/6f8kADAAPQAvAAAA+f/t/+//8f8RAP7/HQAdAOb/4//b/+//GQAvAA8ACQDc/9P/zP+x/+H/8f8MABQA+P/f/8j/vf/Q/7n/4P8BANr/+//b/7z/7/8ZAPr/6f/m/8z/xP/H/7j/qP/h/+//HAAhAO7/8v///wEAAAARAAYAIgAbAAYAJwD4/+v/DQDU//D//f/4/x8A7P8XACAAPAA8APr/DADw/yYAGwACADMAKQA1AEwALQAgABsA/v8FAAAA2//h//v/4//w/9P/7f8eAN7/FAAVAPX/MQArAP7/BQAHAPr/+f/s//T/1v/r/w8A4f/M/+b/2P/n/wgAwP/U//H/3P/n/9L/4v/o//7/DQD3/wsAAAAOAAkA3P/6/w4AFwDv/8L/zf/R/+7/6f/T//v/AAD//yAA1//t/w4ABAAdAAoAGwD7/wcAAQDw/xMAJgApABQAIgD+/xEAEwD2//L/5/8VABgAFQAGAAIABQAWAA8ABAD+//X/FgD0/wQACQADAC4AEwAFAN7/AwARANj/FgD0/9L/FAD0/9r/9/8IACsANADx/9v//P/h/9P/6v/j/wEALwAcAA8Az//E/9//u//r//z/9P8TAAQA9f/e/9r/9//0/wYADAAOADkACQDl/wMA+f8nADEAAQD2/8z/2f8AAOf/7P8bAB0AGAAZAAIAEAAsAD0ANAA4AEQAIgAWANv/9P8TAB0AZAAxABoA9//0/+f/2//8/9f/NAA8AAUAEwACAPr/5v///xMABAAaABYA4v/t/93/5f8kABsA/f/5/9z/tv/Q/8D/yP/W/+3/4/+w/9r/vf/Q//3/3/////H/0P/r/8r/p//0/xwA+P/9/+L/xP/Y/7X/wP/5//v//v/5/93/x/+1/+H/7P/Q//////8JAPT/9P/q/+r/QQAjADsANAAeABsA5f8CAAgA/f8IACEADwDh////DwD7/ygAFQAcADwACgACAAUAJwBDAG0ASgAYACYA9/8CAAAAEQBBAC4ARwAgAP3/KwANACQAGwALACcACgDv/8r/3//g/+7/LQAgAO3/EwDc/8H/BQC//yAAOQD+/zYAFADi/+z/6//Y/xUACgD8/+j/wP+9/7//AwAUAA8A+f/N/6j/tv+5/83/EAAaAEUAGgDZ//H/2//z/xcAJgAwADIAGwDp/8j/uP8CAA8ANwA3AO//AwC7/7L/p/+6/+n/CgA0APb/GQAnABkACQAgACgANQA3AAoA8/+t/+v/8f8pAB4A+P8nALn/1v/K//L/MAA5AFsAKgAmAMH/r//E/67//v8kACkAFgDo/7//x//w/wkAFQARABwA9//L/8P/3P/w//v/DgD4//j/0P/G/7v/rP/8/wAAFwAhAPb/pf/V/+n/qv8UAB8ABwAaAAwAvv/Z/wkAAABAACMAGQD8//r/4P/M//L/8P8rACQA/v+4/7r/0//n/w0AGQBHAEMAKADz//f/CQAiAFYAMQAeADkAVAAjAAgAHwANAD4ANgD4//f/5//h/wUAAAD0/zcAHQAgABAA3f8CAOP/GgAOABIADwD//x8A3f8ZACUAMQAwABcAIQD1/wYADADT/+P/CAC6/8z/qf+K/6j/pv/h/9v/DAAcABkAMgALAOn//f/6/87/9v/m/9H/AgAHAAMA5v/c/wUA8v+//6r/uv/P//b/CQD3//b/7v/w//b/7//W/xYAHAAbACQA9v8WAAIAEgD1/+z/AQAVAA4A5f8QAA0AJwAGABYAAQDu/wEA7/8MAMf/BwAbAP//DgATABMAJwBaAAYAJwAkAA0AMADt/97/EgAlAPz//v///87/u/+5/7T/6v8uACgAIQAPAM//2v8cAOn/2f/r/93/AAAMABkABwDn/ycAEQDg/8v/3f8HAND//v/s/8//EwDx//f/6P/U/wgACgDj/+P/9f8GAA4ACwANAAkAHQACAOX/xP+0//7/FQAIABUAJAAKABsAJwC7/9P/5P/P/yAA4//6/woA3f8GAOz//P/w//P/AAAIABYAJABKAAoA/P8SABwALQAcAOj/xP/b/wAAAADZ/7j/6P8MAPr/KwAgAB8AKQD//+f/4f/z/+//AQDe//b/EQAnACQA6P8NAPv/CAAqACcA8//6/yAA3v/K//D/DgAAADsADQDm/x4ACQAlABcAGgD+/+3/5v+4/8L/1f8iAP7/AQD8/6j/8v/s/87/3f8sAE4ANQAiALb/1//W//X/MQDy/wEAKAAfAPz/5f/K/9H/3//w/8//5f/Z/9b//P/c/ycAEgBcABAAvv8lAOj/CAD1//L/0P/k/ysAzP/D/+L/5/8wAFEAIgAfABYAEgABAB0ANABEAE0AGwDt/7n/3//n//P/2v8KAC4A2/8EAM//1f8NAC0AJADi/ykA/f/u/yAAtf/T/xYABwAiAPT/tf+n/7//1//X/wkAKwBBADgA3f/1/+H/5P8zAMT/1v/5/+P/x/+g/8r/wf8gAC8A5P/l/9r//f8LAPT/DQADABUAEgDg/8z/0f8OAN3/HQAHANH/KwDr/87/1P8AAAUALwAkAPv/LQAVACoAJAD4/xsARQAbABYA7f/k/x4ANgANAPj/MQDz/xsADAC1//D/UABFABwAOQDw//T/9P8BAO7/DgBnACAABgDC/w4AKgACAB8Az//V/xgAIQDE/wEA8P/h/yMA9v/9/7z/AgD//+P/yv+1/9z/vf8VANL/3/8MAAcA6P/a/wgA3f8tANf/5v/0/9r/QAADANz/1/8BAMD/0f++/5T/+/8dAP7/vv8QAKf/FQArALf/bwDT/0MABADQ/z8AtP94ALz/7/89ANL/PQBq/8v/z//+/3sA9P/2/7n/EAARAEUAXQDq/1cACwBHABAA9f9XAOX/jgAEAAoAZwDl/0cAxP/z/00A7P8cAOL/l/8eALz/+P/2/4r/RwDw/0UA4/8MACgABACnALb//v+y/47/AgCY/6b/xf/J/xkAIAD4/1oA6/8PAF0ABwAiADIAyv+f/7L/sf+u/8z/7v9g/+L/uf+8/0kAkv9CABIA7f9/AMP/SwBFAOb/NAC6/xUA6f/v/9z/oP8wAOz/XADa/+j/UwDf/5oA9P8SACQA6/+ZALH/TAAUAOD/fwCe/zEAn//6/z0Awv8kAM3/bwD0/0cAIQC4/8kA+v8CAJgAwv8dAD8ArP/B/8z/OABe/+r/3P9//1gAt/86AHL/xf8uAPH/QwDs/w0Ax/8uAJP/4v+j/2L/DABg/x4A4P+t/0kAtv/l/0kAxv9aAPX/zf+qAGH/RgB1AIv/MQD5/wIAr/8lANX/BwCJAJn/QwDd/zQAOgAbAH8Au/90ACMAEAACAPv/3//G/wEAp/8vAJ7/JQD+/7L/YQADAEYALQD0//D/EwASAB4ABABaAOz/HwB/AKT/hwC8/y8ARgAS/7EAbf+S/1IAGP8kAOb/KQA6AKn/NwD5//H/FAATAIf/MwAGALD/GgCD/+7/uv8dAOX/7v84APf/VQC9/1MAIAAQADYA1P/P/x4AQQCk/zkArP/l/wwAzP83AM//LQAnACkAFABIAP7/VQB+AOP/NgDG/xYA0f/P/8f/yP/q/93/VACa/0kAwP+g/0kAo/8SACAA6f/C//z/2/9fAOT/y/9QAGX/VwDI/73/BgCX/0cA6P8pAAgAPQD6/6v/+/+R/yAA7v8CAEgAzf8jADwAwf8UAPv/AAB2ALH/EAAYANr/KAA+AP//7f+VAJj/KwAXAGj/cwD+/zIAQgA0AEIAx/8lAOv/aP/T//v/+v/E/+//3f+C/1IA1f84AF4A8P9oAJD/CADd/93/SwCS/zIACQCt//7/t/+f/+T/FwDW/x4ABQCo/xwAmP/a/z8A+f9WABMAOgBDAPb/LwA7APH/DAARAJ7/3P+7/87/CQD4/zgA/f8oAAYAHQB6AN7/NQBvADQAGQD+/0cAzf8iAFcAsf8qAA0A6/8+ADgAKwAeAEgAFQAfAOD/0f8lAK7/BwDa/8H/MQCv/xsA/P/A/zcA2P/p/9D/uv/m/8X/EgDb/wgA6P+g/zIArv8bAOX/p/8MAFP/KQCk//L/KQBr/3YAmf8eAC0A3/9iANH/dwAOAAQAEgCr/9v/uv/r/wEAyf8bADkAp/9wABoAAgBuANf/YwAWABMAHADI/+r//v/q//P/DgC8/xcADgAoABcATwA0AOn/pwDT/0EADACl/1gAk/8IAAQAyP/U/wgAJwC5/yQAvv/l/wsAQABXAP7/UgC2/14ADAB5/+T/kP/5/9D/LgDW/6L/JwDp/+X/r//h/8v/t//Q/+T/qv/V/wIAs//+/8D/+P8GAOr/DADk/zQA7/8EADEA/P9nAC0ACgBFAPv///88ACkAJgBuADAALgBKAAoAIwAWAAsA7f///w4Awv/Q/+7/wP/6/xEA7f8oAOH/FwA0ADgAfAAZAHwAWADO/9b/nf/a/+r//f8YAMr/AgD5/xIATAABAEIAGAAPADsAv//n//D/6/8iANn/7f/S/7r/9f8OABAA7P8GAA4AMgDk/8v/4v+5/+D/vv8sALv/pf8BAHL//P8VAPz/FADk/xMA6//q/+3/f/+0/7z/s/8ZAPf/VQBZADsAKgCk/x8AFADK/z4AJAD8//z/yf/r//7/3/8XADYA8//5/ygA8v/Y/wgACwDp/wsA8/+2//7/IQAAACwAMQAFAEUAUQAoAAAA0P/l/9L/NQBJAPj/HgDj/yIAAgD+/z0A3f9WAOv/6v83AH7/+v/5/+b/KAD5/+r/tf/0/+X/NwBsAO7/NwAkADMABADC/8f/eP/K/8z/4/8DAMn/4/8FAPP/8P/t/8H/7P///wQA7P8KAAcAov/5//b/w//r/9j/zv/O//n/EgA4AC0AFABCAA8ASgAVAO//IQD0/yUABAA2AOD/0f8PANP/QAAHANX/AwD5//n/EgAcAEYABAAJAFQAGgBWAOz/DwBJAOz/PwAKAPT/LgDt/+f/PwAfABIAKwAHAPT/AAADAP3/JgArABMAIgAmAAIA3v/C/+r/2//E/8r/kP+D/9j/1P+w/woA2v8LAEsAHwDc//7/6/+L/wUAnv97/3z/i/+I/3f/4P/B/woA1f8EAEIANwBhAFcAKACo/yMAKwDK/wgA4//X/9X/tv/7/7j/vf/6/9n/TgAXACQAagAmAFUAZgBkAC0AGwA9ABQATQBmABMA7f/7/ysAZAA+APD/GgDU/9v/IQD3//f/3//7/wEA///e/ywAHgD6/0YACAAmAOT/4v/9//n/8P/4/yoA/v84ABkAEQD2/y0AHgCz//f/0P+w/6b/yf+g/6f/r/+j/6f/f//w/97/MAAlAOH/VQALAOD/+P/8/73/sP8XALH/lP/Y/5X/6f/y/7//9//1/wMA/v8IAN7/2//9/wIAUwBGAAoADQAVAEAAKgA6AFYAGgCEAGcAIwBNAPD/1/8gABkA9/8rAB4AIgD1/xkAPADg/w4A2P8ZAC8Atv8ZAPL/zv8aAMj/9//X/8j/EQDT/0EAUwBSAAkACQAoAN//PwAkAEMA9//j/+3/o/+t/8L/NAAFABQAKQDh/+H/5v/D/7D/q/+K/57/qf+g/53/5//P/9//QQAkAPb/CgA9AAAADgBXAAwA8P/z/5r/r/+S/57/6v/V/wAA//8nABYAAgArAAwAEABDAAgAFAAgAN7/LAC4//3/TgD8/ycAJgAtABMAQQAPABUAIQADADQADQAKAEMAIgAMADcA8/8JAP3/5/++/83/2f/O/yMA0f8iAOP/3v8GAM7/LADg/0kAiQBaACIACwDp/6r/NAAjANH/4P/u/4n/i//B/7f////p/xMA5f/q/yIA4/8fAPf/DwD9/7f/8f+2/9z/+f/S//3/CADy/ywA/P+s/7r/o//k//r/HQAeABcA9P///2oAFAAzAPP/v//z/7//6v/5/x0AWwAsAAIAEwDF/9z//P/3/zYALwAZAPH/+v8JAP3/AgAfAA4AHwArAPv/2P/f/x0AUgBtADUAMQADABAAKgAqACwA/P8PANj/3//W/yMABQDQ/y8Aqf+f/9T/vv/m/+z/GQBWACkACADd/+T/BADe/xQANADp/8H/x/+L/0n/gv8CANT/GwBAAMb/IwDy/x0A8/+5/yIAe/+t/63/jf/L/4j/HwA2ADAANQABACcArf/N/yMAJAAfAD4AVwAIACgA9f/r//j/7v8MAPr/CwDw/1QAagBdAJ8AUwA3AFwAUwBAAA8A0v+t/5X/3P8aADMAPAAQAPX/9f8+AGUAUABHADwA8f8RAOT/Vv/j//X/qP/3/9//vv/I/73/rv90/3r/lP94/5T/gP+I/8j//f8vACgANgBFAE8APQAgAN//2P8FAOz/DADQ/9X//P8IAF4AKAAyAGEATAAeADMAJgDV/yMA+f/G/73/pf+P/7//JAAGAGsAJADf/2EAXgCPAI4AXAA2AAwA7//k/+r/BAAkAGMAOQC1/+3/vv+b/9b/+v8RAOv/SwAFAL7/1v+I/9z/FwDc/6n/qP+G/9r/OQD5/y0ADQDB/9//0v/X//P/v/+v/7T/jf+8/+D/u/9l/5n/xv8MADcAxf8mAOX/+/9VAAIALABAAFsAFgAlACgAMABoAFQATQA7AE0ALgBmACoA/P8IAJ3/rv+s/9H/SgBEAGIAowBZAJQAjQBRAEkAEADs//f/+P+L/wcApv9S/9n/Tv9M/4z/wv8BAGUAmQCLAFwADQBBAO3/4P8+AO3/1f/5//n/w/+q/9j/m/+0/wIA0P/F/+T/wP+f/9f/vP97/7P/2P/A/93/FwAlABMATQBnACEAQQBpACoARwBNAEQAWQDH/+b/yP9d/6n/yP/i/8L/9P+9/9P/BQCX/xIAGAD//w0AEgBhAGgAfgBeAF8AaABxAFEAMgAtAOj/8P/+/xgAyv+R/4j/zf/2//r/MQCr/7//qf/I/z4AJwD+/xsAeAAbAC4AXwAMAAYA2/+i/+j/rP+A/7L/pf/n/zcANQALABwA6P8EAPP/JQBsAAoADQC3/2//b//J/wEA/P8XAND/pv+A/x3/ZP+S/6P/NwAtAEUAVwBJACQAJgBPADcATgAdABcACgApADAAOQB9ACsABgDZ/7f/u/+6//r/z/8ZAGgAQwBxAGIAgABqAGcAWgAfANv/r//d/zn/jf/y/+D/BADo/18AFABtAHQAzv8SAOL/2f/z/xQAsv+J/9b/rv/d/7j/rf/P/7L/AwAqAEIAcwBpAEwAAAAPAOv/rf+O/wv/Cf8b/4v/u/+2/zwAGwAzAIgArgD4ANYArwDEAFsAOgA4ANL/EgDt/9X/IwCj/4T/qP/m/9z/w/9IAAsAKAB/AFQA9f/U//X/0f/9/8H/uf/D/9X/FgDV/xkANAAHACkA2f/C/zEAUAB0AFQAGACk/zv/f//E/xMA5v8pADwAqP/L/5j/hf9f/1H/0/+g/5v/nv9h/47/qP8XAFUAagBxAC0ASQAtAEMA4f+1/wEA4/9GAPP/7f8MAAYAYQAyADQA8/8ZAJcAqACAAFoASgAMANj/6f9gAGgAYQB6AHkAbQBFABkAQAA5AOH/OgC+/z//WP+l/8r/Zv+6/33/n/8CAA0ALwDW/xYAEADF/xoAMQCw/8n/SgAWABoAHwCj/8D/2v/W/ysA/P/p/w8Ayf9e/4v/0//j//z/IgBLAKP/kP++/3v/zP+x/57/yv/E/wYABwD6/08AUABLADMAMQAlAP3/OgBSAKAAzgCtAKYA5wBPAN7/XQDm/9z/EADR/93/JwDc/6//EQAEAOX/8v8kANX/GgA1APD/v/+w/x8A0v8SAFoAXQB5AIYAcQA8ALD/gP8wAKP/qP8LANz/2v/+//f/Uv98/5v/2v8kAKz/1/+j//z+K/9w/3X/ef+i/4//1P8RACYAUwA5ALsAVAAEAEsAdQA2AKf/5v+N/6z/NABXAAgABgASAL//3f8OAEMA8f8hAN3/BgD5/63/GACO//3/3/8JAEAAIgCGAGsAJACy/0gA+v8xAEYABgBmAP7/oQA7APD/IQAOADgA3v8RACIAZACTANcA5wCSAGUAAwALAMf/2P+b/zf/dP9T/4P/jv/f/5v/c/8FALn/4f8OACwAXwBIABgA3/+Q/63/+P/V/zcADwD9/y8A+//l/5D/n//r/wUAEwCv/xr/T/9a/z3/hv///z8ABQBwAEwAy/9lAJgAXABlACEA9f9j/w7/p//v/xYAYgBVABEANwAXAOn///+AANoAtADbAFMAGQBwAGcAMABjAEgA8/8OAK7/lv8L/8/+bv/T//X/+/8ZABMAXACrAAIBxwCpAIQAHwBBANn/zP+5/1v/Sf9M/7D/qf/O/zsAFgBmAHoAQgAbALf/6v/j/+b/kv+D/9D/Zv+m/73/AAAeANj//v94/4D/7/+0/8j/3v/v/7r/ov+0/zr/y/83ANz/HABTAJIAqwA5AP7/3f+0/6D/x//g/4//6v/f/xIAhgAsAKAAyAC3AKsAPQBGAGMAUAAJAK//d/+S/w4AQwBxAC8ALwDwAGsAVwB8ABMA+/+I/87+8/1v/nL/n//7/2AAxv8RAA0BagBGAF8BgwF8AdoBLwFqAGH/Ff+6/hn+BgBGAIb+1/6O/wgAEgEYAWsAfwDk/yv/Wf/W/m3/BwC//ywAgv8n/yEAOACu/1kA3/+A/8z/mf8FAFD/+/4P/2P/iP/n/z8A+P9cAC8AVwD4AJYBOgHiANcAJQC8ADUBpv+q/7cAPgDq//z+lf7K/o3/yv8eAHEAof9ZAH3//f8FAf//zQAjACv/eAARAMr+IQAiAKD+VP9mAHoA3v8t/7oAEQJcAPj/cgByAPL/KADGAMb/0gByAUsAlwBdAF/+O/8cAFL+QP9QAFr/Uf8sANr+k/57AN8AdABqAAsA1v8fAEz/fv8H/3T/zQCQ/yj/+f/o/2D/EQBoAJH/y//fACEAcwDk/5/+/f/p//YAXQGaAKEBiQHL//X/ZQGkAKv/lf/I/6//qf8wAPT/tv6R/0kA5f6//tv/pv9Y/74AmgDbAPb/C/82/wf/UwBg/5AAKwEG/zEAawGQACj/af9X/1b/2wANAPr+RwC4ACcAmQDD/6v/+QEqAdUAngGn/7T+BgCpAGb+af4QAHX/0P9SAOD+hv5yACf/lv2jAE0An/7VASIB2/4hASsB/P+hAcUAz/9nASf/Af6G/lj+XgBoAQABBwFiACsAcgLpAEcACAOoAFEAMgEl/hv+ef/o/vH+j/9RAI0ATAD+/kP+Of8U//v/QwEmAKX/SQAq/2n+m//7/9n+Yv5r/+D/lv8dALIAEP8F/yMAuv/XAKwA6P8lASMAVv5d/4v+cf5zADcAGwFGAa4AEAGFAHAAcwCOAPj///4yAOH/lP+uAGcApgB//2kAIAERAJAB7QB7ADQBZgHOAEoAmwARABwBAwImALr/1AB8/4j/JgFiAIX/GADM/43/af/U/t7/zv9UAG0AHv8e/+/+O/9t/z3/IP8D/xH/SABC/6r9Hf+A/gT++f/o/1b/0/8F/5z/9gABAfz/4P/FAFoApf/W/2kAZQCvAFf/Kf22+R/61/zz/s0C2AFtAasBlQLdAiMCrAIoAN3+of7g/Br7KPqQ+AT6wfxp/l4AyQD3AZYERQlWDRUPpA/4DsYM3wqiCqsH7gSdBC4EPQPI/1f4L+sz4QXdOORr8qj3QvyV/E7/fgpvF7MfrBzCE68HXgC5+134wfKb7JfsMu9H8wP1EPec+eT/pghUDusPNAuhBmoD/f/S/db4EvS18tPyE/ZM+iD+hwI7BhgJyQuWClcIZQZtBE4EYALX/r75+fbI9YD3M/sw/pICgAQYBSoE/QLWAbABSgHlAJYB7wDq/xj/DwBpAdsEhAaaBzgISQdoB7UGlgfPBogGcgUIA3n/1vxF/Hf77v1d/z8BMwKoAgIEzAWSBSEAhfll8dXshOso6Grn3Op77lX1qvwPAq4GYwtREHIS4RO7DtwGyABz+2L3u/RV8+jvy+8I8qv2lvy+AvYISwxvDuMMCghYBN4BWf6C+0X3rfZD+UL6wP4NAPn/vAKcBsoJdgm/B0MC0f4j/5r/cgDZARYFSgeaC60QiRQAF/kYIRpYG/QbGRjQDgv97uGIwhTA98xD3DLuB+tQ6pbzSA97KsM4UTv4JTsVkQlvApn27OYM20nTJ9cg2QbeeeCD5776Eg0IHjgjih+FGUcVWRKHCMP8lu9o5XHgO+Lt5ynrSPMK/7kJOBBuF8QaURhWGtIX/QzyALb1lOdf4VXioOFC56TwDvzwCDwVpRyuH5EhNyFnIB4e6haTC8P/Q/Xt73fwYPQr+dn/NwiIEQMYXSGRJs4k7SAwEejuf8EbuQu8osb82rHWxtba3Yn/8RwbNI5APS7aJmAdYxlhDOn38eLG0fXQ3s1705fS9tdG6kH+iBYmIfkmAiQHIcUh/hWkCB/66ey+4ibjQecB5aHrGPcpAQ8KxhQGGeQY5h91Je8hyBarCvn4MuyP5+3h2t4g4J/mBe9J/CUJuhGdGWAinipaMQQxaiq+ILkUagsIAkv9rPOv6yDpEd9WxA+97dDm4fcGmhPVC9sFvQsXIWoniy56GRT+xO0M5OnidNyf1w/Se9166sD2yv/H/R8EBQ0bGdkdixjvDd7+Nvsx9iDvZu6e7snt3/Bc/eADvwiREFcUsxH2EHQR9woCCQAJvAXg/Yv3GfRh8xH4rv46BT4GKAn4CvMI4AeYBnkGlAfACisOLQ9qCywMvQ46Ei8Wihh7Fy4N2QjNAdD0ytJZwIrIM8256t3wyetX6AjxlxHCIiQz3SSyEesGHf+3BJj6suyP3ePbst2Q3/vkWd9f52X0TAacEs4S4RLrC0EQARHJDBwI4v7U+E73Rv9xAukCCwRBA1sCMQYbCSsGwwNZAl0DngIWBYMIWQnDCn0LagxUCosHcwQhAX8AQv+FAHf+LPpf+lf9agNnDbEXKBtUGTIWSxfVFeMYrhmYCBPdDrymvRHDMOBz6jXgtNlj4NcD5RlFLW8mqhPKDZ4KqBDlBh31x+Lw20jg6eUL6WrjTeau8M7/+A39EokRNwoGC2YKVQFLADj+ofav9tL/nwTvApwG7QqyCsgOcBDcCyUKNQuPDCcNlQwDCQcFnAA2/oX/YgImBB8FsAX1AvEBjwMHB0kH6g1rELYQOROeDg8KJgKsBXgFEAtQDmQBdtfHtxDEt8l98gEEpvrF7tvqoQvqGNUuRSBGAwj3IO089ILtx+TW0tvVN+Zf7zD6hvSs9iP8gQtAHtAbTRW6Bar+3/lV9iL6lfcV+Ib4WgW+DqsSmxYcFfAPmQ+YFfAO4wkpB0YEzf7f/y4BePzH+0/9LwWAC9cVlRumGOkSXwtwBX0Blf+7AHEAP/47/Xj+y/6a/roGIQzDD4UO2A6u6lrTHd7Uz7LmrO9n7HDkAeV8/q39YxOTDCH7LPfV8w/9dfrI+lXrGefY6p/uEPju83H4BvvjAbUMRw38CjID3gNuBVkFKgyoDYMI3wQECvgLoApSDjQLlQHyAV0G8AT0BawGigOlACIDaAacCJ0LFBDJFLsUERgIGcgQhAtLCR4GUgdFCYQIzwSAANf+qflK+Z/+xwJbCdEK8wOS5iXI1cfrytXaGOsd7NLnQ+qBB5EawSmDJ1cQMv6R7YruwegJ403ZGNO12Tvemei76ITxEv/dDJIciSMdInISpwwvCSz+J/lb+XT2JvHm+UQDCgl9Ep8ZmhtVF8wYLBo3GhoYrxAMBkj54vXX9Bz4EfsOAZ4K9BKeHzYkeSSGILwbUBa4EcMO1gZzAPL5nPGp7WnwB/jp/dkBOPZE0YrHsst91aTwQvcv9RbrYvW/CQMW/x87Et0FbPVt6jnrd+Ti3MnXr91I5WPpHepq6LjuWvffBR4SwRQWDnMIkA6EBdj/NwQKAiMDlQxLFeoRehZlGbATLA//C34GvwNmCKcIzAonBaAAFQK8BGEMUxHfFikYKR+gIzwgnhzwEaQIpQOOA8QBmP5V/Bv21PYm/dwEjg3ADyEGruU6y5HGfcZu2NDmDOrW6dfr5v6BD6oc8RczCcYCNfee8CnpQuFB1rfQqdxV5BXn4ef978j2CfzNCDgNUwmYAP0HBAxqBEsGmQXdBnAIvxRDHZEcTCA3G+cTUgdK/+f7I/sJ/yAC+gbWBh8KsA7yFY8ZxxrdIOIfgSEwJScgQRKhBoj/BP1x//UAmv/K+oD30vwHB+IMdhMjEbL1I83rvMu5HsAU24fmwe4t9Jb9YRQCIyIlbhYgCAH32Ove56vcd9EsxZ/IVNaH3Crh/usT+t0Gtg/1FukU/AS1Az8HcQDB+WH9DwNABLQQgxgrHu4hqCJAJHka1gwZBZ0EDP9vAHYB4vjj+AcATAzYE5YbsiJ1JNonfCtvKE4dRRCIAu4AJAFeAzoI8f9G9tXze/xuA+0MnQ/i+AXUKr10uiG9mNOH4YbmY+2l+6MWeiMGK+gdUwqi/C7vg+lL4KvaQ9JazKPQD9d92Pjd3/AF/YoDWBAxEGgHVQm5CUoEUPuW+WD8HQbvFx0e0iFfI7EiJSDPGxwSfgWjA4MEfggKCesCk/oC+HYD4Q9CGnIk9yaLJcUpeSwVI7oTTghyAngEMAt5D+gIJvda7/3w1/Ta/fcEVvYIzuy/O8B6vlfYvOq48L7zIwSMGxAj6yctGEYDqvHO5OHc89Pz0DnMndSE3x/n4Oe35/ry8vxWBFgJ6Arp/RL5oP1h+dz0cfQb+QYEWRdRJi0yezWaMtkp3R29Ep0Cr/0C/Nb6Fvro+sD4OfesA4sOJBlVKKQ16DprO+43DCtgE0gBNfoO+6ADEQkpCyD82fCz8kz31/8aA1/w7cVFvrC/1cGi2xTpH+3r8ZIS/Sm1LGspRhCl/O7pZuHh2PDLs8WExWvWC+OO6aTtcPMU/XgGFg2gCuj+PfNE8pDvK+z36Crsm/eFCSckHjJONCE29jRrK5MijhcVBYH4c/UN9aH2CPr+99P89AghFCAhZC6zOO8//UNrQpIx8xXVAbXxVPGN/XcASP8//SD5LPywApMAUOXfweG8IrxWx9LdxeNB6L/xGw4jK8g3bSs7FBIDvecX3N3Wxsg4v4rBHtV25iHvwO459BAA0wgYEAgN9/5P65zn5uW43+nbEd+B7PwAiilQQMNH/Uj9O8EtAh+UFbIBj/Ir7nHuDvGQ8dP1lfsgCNkVeyaGMUQ4/0KyRrdF2jjoHwcKIvqK83X1hPp1/Cj+1Qd+DYMHc94vtE+uvawJxt7mE/NW8sP2BBg+MK04nC5qFPz7wOsG5XnaRNF5v+K11cU811zgc+24/s8KuhSDGh8Qp/YM6q7fxdgn2V3Xv9oO45cCWB+xMf4/jUZqRDo4Ci/IFyj9S+eT4XroU+8z+jYBtAs2E9obgCX0KmkuSDagQBQ+VzFGJBgR7f1c+3r2FPN7+Q8DAQz/Dujy98t+v8OvRLpG1/7pu/VpASYgpS3eK34emwoj/EPwh+/o6JTd1s+5zhndmuEm4TTkPOvY9MQEjBIbDBj26ukk5aXVyc2j0ITPetk+AD8jhTU1Rh9HXDtmLNwgQQ+H/JnxLOdg58Dop+lC9EIJOBybLNk6wjltNfIyujcpNGEh1RrkFP4FYwRnCD76IvL193X8UOPoyX7SM8aW0wX09/pn/0ABHRrCMBg2vCEYAVvoxs8N0mzZKNvQ1IjWlfM8BtwKogOp/Ej69vsVCikJlfCs14/TcMu9wuLLxMeSyhLuexQSLvRDHEn4OU4v7yIaDQb5RueK3hjiLfDu+nkAzQsUFsciCDRIP84/Ej/kOL8utiOhFVgJfgL4/k3/nwEI/tDnWbwdupK9MsLV540AzhSpHF87tlGJS2835RBY8v3NIsSpvzbEccqkxjbf1O8Q/q8LsxyZLvApGSRWFa34stUHx5bHrLeRu1/I1M0J4J8EOCBcKdg4ujWUKQwaMAnJ9HfgvtpL1iLg0OgK9JUHPxkCKYg6BkgQR8FIf0bENYwhUhKWA/f6t/0S+8vzHeFItfW0Nce9yALo/wDLEa4XjDM3VPtO+0CULdIbEPr85O/S6L9iuKO0/cx15D/09QILFHkityeGKlwhXw/m9+ziy9R9x2y69btby5HXk/UdF1QjWjEJN9wqpBsGDdv4DuNc1krPjMuUzxzcIuss/XgTVyjBPPJIxU1BUeRD3TDDI9wTSQiuCY0CxPsI3LSfkp6ZomerzNWL+SIR4h40UA9yQm1GTdoq2wim3dLWbM0PyVXG3c9L6kv6zgv9CdsWqikcLQ8tPiPADr3pxNZNyv6ykLRzvf/LoPDFEVYoVDrmQe046CZJEfr40OA51GDWptaf3JHkJOX97pQBExJ+Hg0qLDLGMWAv4ytfHSkPYAzNDTwPtw9TDqnef7BWt+ytPrrq31P1XALlEz47ZlVuU2E6fSQxCkPs5tpX0gLPB8B/z5PoWPaLBb8QjyVmNxZCwD/wN4cfJ/ae2brA26M2nXWwg8hk8csVOisQPqtAezowMpIknAt886Xmv9sAzu/Mg9Pf0g7kwANZGpQpcDnyQ8xE4T4aMmoalwK+9ZP0ivTS8cPo6LXOo3G1brZF1LXy7wn0Gbs2K1z8Z51T0SkcD+DrUM7duQS3S7obuqTcXPu3D2AV0x4fMWU2bzrbOEsy7BEF9EjfTb9oqfWnnrdyzy/7jh8+OMRL9kQoMwYb/gO67yzi6uLZ473iguXX7HPvAvnSDJQXzCImL+U8sUN4PHMvJht1Ch4D6v5182Dpu72vl+ykf6YCuWXYWfMoDKgn0VKvbPVlA0AOHhX6RNrKvVWwL7jisd3L8+4SBmYWYh6WMqU+QEE1OjkygRqX9qDbrcAPqteixrUA0P327xpTMRdI/Uc3PYosThilBALwb+SM3JbTg88I10XcneoTA3AWJC9MPtlHfk/2Ry81bSOoFg8I0QN3/4jvQsIwn/OiWZ1csVbSlOz1CLAkGU7UaH1e+TekGsb0LtFEvw6ztrLGsv/M9etyBB0TKRspMH48C0W/RsA7MSMgBtviEb6wo5iQIZlEvensbRftOj9PbVFQSM8vTBda+t7jV9933WrhLeS85Frm2esE+zgLDB0pMo9F207kUfhDjyh1E+L/zvnD9gfpo8LyqnespabSvEPTMu6aD+QvRWCXfIpsFUB5HmfzWsSopv2dmpakldC9LeRcAOEQrCIQPTdKSVM4VrJK7CyjDj/tfMPBoGOOv5LdsgTilArZMONJfkrgRLU0thas/N7pL+HM323gdeCo5Sns0vI3/1cIlxKpHx83FkjmShZCZDVsKS4ZAhYKCXzo/rJemfqZAJdzsX7Jh+VsB+cwa2T/f0FzdVDPMOoL8uVcwDSyQqJ7lRSvysnS3XDttQf3J0k+PU9QVr5NhjhZINT8H9VfsyuboZgqsqDdQwKbIng+VEa8PXcqhBXn/AflT+Gd50zphOg26D/pru3j9KABwBINIeoyXEjOVNdIBzSYJO8SKwvVBV7w+cTap36jwqU9t1rGcd76+28cxFIld8BoSElfLeQGReQ8zMnAeLCWqvLFAOD98oQB0xAvIxsxLDt0PQcxeyLgE4P4k9nwvIilE543tQzcUv+HIwJB40oXRd8wFxO096zhbtt63wzmwuyt71Xz4vaJ+Kj5NQK3EKUg+TQWQ8RDejg1Ko0l5SEfGQYQyvMzv9qnNqUHncOtaMd04a8A9y1mZIJ0CmGKR2sdwe9o0lm876+4p7auhMjt52cCcBTjJbc4NUfNS0lP2ES6JXMCkuSDv/+cjJFMl1Sy6dyiClQv3kPMSUFCpSymFE37OOfX5KHp6O+K7jTrNOP938bn0e/pBGoa3Ci3OHVAEjkGLGQfvxQrDGcOEh03H84eqQ5L2fG30aOBkZim5sEY4XMKITJ6YIF0a10YNFMJ3OHdvaawhrjPs1/AOeSt+ZMITRM2HvgwB0NFT7xRq0IfJs8FuNxZsUCWCIqBkN60xuRdCyorS0HaR6w9NCndGkwMxfz09azwgeJ91n3Tv9Ih3Z7suf+UF5Ev8z2wPho47yWeETv+T++Q7+j0Y/0TD8UbSSSYKusqECfRFNHpCcr7wg+xArlPz0PYxumi/MUdgDuJOQkxrieFD6H6UOq94+fd/ddj6Rn54PwFARIImQ0VFhocaR3+GgsM9Pxt7hnPP67LpGGhaLFU5BkVCTgKWCBkbFNeNXkRTerPysfBesaz1bvrlv8FEdsYsRsxHR8cCx3MJpIsECqOJNINwfKF2hnBc76Ny0zXSvJ0EfcjJDH+OzE//DYYMFEtMiZMHHwK7t0kuOakao9Anx+5CdPZASQljFOUexxva01fLPsEbd5PyZTD6LZNs3PFk9lJ5nnoX+wZ/iMUvyXlN+Y5KibcDyT8D95kvIuuxqoMvBzmGhBfMjxHpU2dSuw8QyX/Dbz6Ve8260vs+e3E6QDnHe5k+SUAugsJGn8kGSqWKaYhPwvG8d/iIdxK2WHgW+xq84H+VQtVEIoRPxOzFF8afB6sHxkgoRaYEa0QlQrDB4YIbQR4+0joQ79mrSmtJqjywprkWv3TEpIs4kuvRTQofxA07ybUNstfzzjYltjV5MX6ygdLDggTYBtjJbMrTS58KiMaLQab9pfjUcnevKC+DcXr4zUOIioHQfNS0FHzPyspSBIP9iLkyeTj4tTfYug08LX0fgPeDA4OuRW9HKofqyHhGycOMAAh8Yvo4+Fz2H7W5NWL3ATv2/6ACRkTRRi9FVUYBh54EpX/PfDk387TBdAy2Nrj6+tK/a8PEBbLGY8YUBXwFdoWYx6GI48hsh3mFe3tibsmrluZhZlxvg7YXvxrG51C0XBobyZeK0ZfHsD+7uUo3svWusT4yDfZHeTO8c0CFxlOM6RJ4VzoYjtOjCpQCaXkiLmppN2fDZ6stk/ZnvcEGZsvPjhxOIoyViSCDy39Y+dC0O7EL8EnwjnOROT+9q0IEB05KQswByxDIA0VegRa9cDtbOg33ajVHNho2vHjdfbXBgQakSilLcMzNzBWIKkP2AID+PjsPedc5qvj2OHd7Jr6FgESESgf6iPMLL0tNiLdE3kI+f5T+uQAtQrdE1QhzSz8Ltwa/etbzLO5Oqi8s8LGZ9w975QGRDWCQOku4yHVCcf0nOlL7/H1MeXD3GrkKeGH27HfjeqQAK0fLD+ZT3FF3ylrC3zq7MPWqHCdBZzxs/beRQfHJ7E7oEC+O5807CkDG0MPXQNn+I7xKuk04HzcteBt7GsA/xfHK8I85kWAPEQoZxFp9qDhJNms2cLi8+2X94oG9xCKD4MQSRFbCW8GGA1JDXsH4ALz/qjyGOWW5KvgaN686HL3uQEbCSsSYxHvDMAIqf5y8//nm+JY6DzyVwLyE2IfVijiKX4Rmusk1ha8W7S9xZPN1+fT//MW4TtyQ0s6YCbBCWn4cuii55Dvm+sV8lkCUQrICqYHUgg+EC8dczDoO9o0QyUYDt/vhtT5wgC7Z8IT3YH88RfOLYc0GCpuGncQAgfh/dwAbwFJ+hj12eeA12nPl9E33Z7zvQ8UJTY0qTkaLmkTavaq37fQu89F2UvnMfWu/RYFvgghAqn52vfZ/QkI0BXeHxkbhg0oAHvvJN493IzhTes6AqAWdB6cHFUVpgmF/9T7v/u1/EP+wAFAAs/+0PoI9oT0VvsjCwoeTDNtQitANzDoCFfk+tDYv1/CUsUx0vHmGPJfGWwswiMnJooX7AyECnMI0gm5+/Huxuhe4HjfmeJ75or6OxJ+HHwp4CwhG7gMRfwN4UPRAswZzHTbvO4/+9EJ+hUQGJIXPhaGEjcPggzcCkkJzQDy9QHtUOXt5lrwLfxTBoYLWxAEESsOSQ+YCFcBcwSOBPEDqQQJABT3nu8W7azrAOxm8mH66wRVE3McpiCII6ggbBbVC5YBzPXx6oXl/eVx4yDlAe2T7+f2BAOFCmUU0hjPFdARxwnxAmH5oPC87YHoVefQ62vsauy38y3/jwzuH8sxVz0oQc09JS5G/H7S67wTo4iy1sdx1GXv//z+HoU31zQYOWMkfBcwHSYWVxeuCdvmcdWBzDrDPMcO0g7owwjFJM0+pkKdLIQb2Qm48s3kiuBY4K/m7/aTAZH/Z/6O/YH5C/7LB9oK8xRHIg8ePBJhB5rzB9+z30TpgerG9gwIQwn+Bx0GDfsi747rX/VnBfAUUSJiJKgaEgyM/anweOai5bHtR/kwBIkKFAvUBwsFjAO6BL0DLQLLBLwCNQAW/lf18+zq6LLqxvE4/T0JHA6FEWMSJA5tCtoCbfgk8pLxqvJ/9EP2AvIo8Nb2bP0OCK8VOBqaGs0aoxauDWkFKgEC/u4B0A05EwMUEgpb6u/ZzNTWzBPbWuFt6PL9wQshKCAyuyN8IWoTMA02FjoThA4d/oTnqN250vvIoMuU1c/n/gFaGXgo3CctHqUY7w8bBfP7Z/OT7TztLPMO9nDzbvCG7sHxgv6pDSQYaiHqJZIfoBTjB0T2oeY64WHio+MY7CT3VvstAMkDQAOdAyUI5QyOEPsWyhmIFPcL/v1+7ObjEeOu59vx0v5UDCEW7R70IWEc8hIoBrL7xfWZ8QvvwO4472zx/fjfAF4GygpyDIcPgw88CnkGrv/Z+P/1cvIf73rttO/i92b+SwCJAmcAegDbCHMNPA44Cz8FQAPs/MX3gfeS7vDsdfZx+uj/wAbMB50IqAyBFeobdxvHGbUHuPVu7+ri9OA93IDXHOGP6ikAYBBwE70XpxDCDb4Nkgb6Cg8IywJlCIEE9f7R+a/wLe6J8yf4Wf7oBLcI5Q2DEGoP2gdw/r/6F/pY/UAAG/wA/Er7xfG88Qvx2+nE8EL9qwVQD0wWAhj4E1kNcQZP+e/wb/Jc86n4rvyZ+W/50Pey+LkAwgbNDOoRqBAyCg0EP/5B90DyyvHn9P34xAIPDPANRQ2oC90HVQCO/tEBoQGcBpEMgQnPBW7/H/MF7eDpOeeq7jT6jQSrD30VnxQODmEF7QFB/uP7vv6j/Gb7Rf0H+yb8wvqL9Uv14Pbq/UoHngvLDisMSQMm/fX25vBc7+Dzn/o0AAwI7gq1Bs4DwAEg/Zn8iv1m+6P+TQMgBpgHAwavAsUD0AgSCHgGNf3J8pT2Ffjn9oXwQOZf4xfovvqSC6wT7xovG2sbyhxMFh8PWwQk9sjx7e9x7EbrFO0f7/D1iwMaCc0MCxFEDDwIawVi/Tn4WPiL+fT+IAQ2BK8F2gM0/SL8J/7L/b0APweUBpQD2gP6AN78kvzE/an7qvs9/kn+Tv0b+3b4FPZ19B/4N/62A6ALYA/jDTMKvwMk/h/5PPcZ+aj7DgHIBbkEsQGQ/qz41fW7+fn/WgdvDikTXhHgCugD8/mR8TruoO4E84f5dP8OBFsFWQQpBMwClAIkBtcI1wnFC3wJswKs+8P0gvAg77zxO/ej/MMDdgoDDLwJXQUZADX8Qfv2/bIA5f/f/cD8Xvkk+LX6mvwkAKYEaArNDWEK0AUaAbn6vfek96z2Cffz+kj/VQAGAasBXADvAKYEGga1BgoJIQdqAxUCDv2d9QP0gvUv+Pb+3wWjB7QIhAzFDSoNwAlcAz/+Ev2S/gH89fOM6kznnOsG9eYBZgkxChgMUg6qDrwNPAlVAk7++P4fACkBsv53+GT20ff0+K34jPoG/Pf8PgEsAiYAZv2u+W35RP6GAgkF2QgZCvsIaQfmA3j+2/lG+Az4WfgH+n/8zf4lAKf+U/xO+xD9sQK5BzULwQwJCnEH5wZ5A0IASf/9+7v6Z/v7+PT1ivQn9Xj4JP2DAHUDkgckCy0PBxJFD14KVAZZA9kAr/2o+Zv0gfGt8c3zVfcC+0z+JwMeB/EHOwfaBBgD8AKiA4YEUwMLAZ8AKf8//SH+2v0n/nb/r/1E+yj5W/YI9iL5j/3kAbgFuQkICoMJFAowBRb/Tfsh+Oz1cfak+BH5SvqX/XUBDAVTCOAMzhG9E5QRIwsnAfv2aPAn8JnxofDL7xHwP/EZ9un+mQUGCcwJZweZBdUEFgMjAssCsAPPBU8I+wg0CF8GEgOT/1D89/jv94j40/gT+T33pvWK91b5nPvn/5cDzQWWCJoL/gosCMgFqgI7AOr/H/9y/6gABgAsAAQBCwC0/SH9gfzp+g78Cf5m/7QAoQGkAtkBtv4s/fH8S/xI/gMCrARkBm8IwglcCFoG+QOEAaf/TwHaBDUFewVXAxH9aPch9YbztvTN+V37l/t++5n55/hZ+nX9fQKtB2UKWAuRCRMFZwKDARX/Iv9E/0z+igD+ANf/5f4d/BD5W/ha+S37Kv3j/Q7+FP3c+9n8LP+tAMUCvgXnBpgGvAYFBrYDUwJAAYr/xf0s/Rb9wvzF/MD8CPzK+6j90v5XALMBWwLkAh8CAgKlACz+ivzR/JX9Wv8iA5gEegT3Ay4DAQNlAusCzgNoAxEDpgBC/df5xPcl+Ur7o/6XAaADqwSJBEIDdABl/QL6xPgu+Cj4SPrW/V4BxgMYBvkFPwQ0BLUFxAZyB+AGAAVyAjz+TPqL9z72tPd5/aMCuwTsBZoEhwFQ/0r+zvux+Ur63Pvf/rEDCQZTBgsH/gY7ByMG3gOWAUf/Ev55/bD7JPhR9VT0jPV4+cD+twOYCAcMFAyBCYkEjP0Q+dH4bPgG+rH94f27/TkATQBo/5gAhQBdAV8DFARnA4IBNP5b+3X69fhN+Zj77f08AA8CkQHq/pX9UvxU/TIAQwJ9BHwFfwVjBFICoAD6/h//OQGyAi4EoQPFAcT/if1g/f/8l/0e//f/2v/i/7oAOgDxAJkCSgOFAnABJwGc/wL+8f2+/QL+5f/JAWQDNAN2AXwAuP/b/qj+K/7M/RD+Nf5W/2D/l/8gAVgBJAH/AFX/HP3q/GP9HP4m/0X/HP63/e791f19/20BeQL5AwwGSAbWBS4FJwI6/yX+mfwv+7z8D/6j/kYAZACw/7cAHAHSAewDwQMPA0cDAgL0/5/+6Pwf/Mz8gf6PAHcBVgIBA2YCLwEiADb+1P1t/m//YQEsANz9Zvwo+on5JPy5/mUBggTVBd0E5AMCAnz+p/0z/f/8rf36/U3+Uf4k/5//Gv/K/YL9aP2V/Y3/JAD4/8r/kP9S/7r/hQFXAkYDLAR2BPgDQwNMA/cBlAFJAhICvgAb/5T9X/w6/RT/ggDUAf8B7/+H/pP9O/0D/oH/ogENAiUCYQIGAe7+UP6E/rz/9AGLA9YC9wFoAJ/89vuU+yD8Q/7U/x0C1wEAANz+6Pxk+7f83P0H/xYBhAEUAaYArv8v/5H/WQFJAzUDJwPOAVL/3/3N/Af7H/vX+9X7N/8uASEB3QFsASoAgAHcA/4DJgWbBFQCKgEM/1z+GP9g/1oBwgNoBGYECQTkARgAwv98/6f/L/9W/nL94fwi/E/8Of2K/ST/lwByAtEDjwToBIQE0wOfAWQAiP51/I78ivw1/Ov8Zf1F/Sf9wvum+4n8Fv5eAWEDOQTNA/4Aqf7L/fP7n/vZ/Zn/wQFQBLUEoQKwAFT/LP5Z/lH/dQARAfQBXgLhAO3/Ff/f/V3+IQA7ASgBFAHxANT/6f7H/lj95fyp/uH/MgEOAoACHgKIAWIC6wHUAI8AkQB+APoAjABh/1f/jf5H/1gA0QDhAM7/BAAz/yr/Uv8L/gH/CAC2/xYAlAB3/9H+wP56/i7/qP5V/pv/pAAFAm0D5wPvAqoBCwHn/1X+3vwk/Mz71/sZ/WX+jv/uAHICvANIBOMEQgTeAisCNgEYAG/+nf0E/Yj8Ev0O/vv/dwDFAH0BnwGQAUsBWwGbAEkAMgCi/+T+3/15/ar9j/5ZAOMBaAL6Al8C+ACrACwATv9w/qj9tP1i/VX96/1v/fb9d/4m/vb+uP9mAA4B3QEeAj0BDAETAZ4AvwDiAPr/x//x///+vf5x/mL94vw//cD9eP60/4sAKAHUAW0C2QFiAYoB7gA/ASQCIQKSAfsAiAD+/2H/FQAgAWsBLgLEAjgCJwEyAE//xf5//nv/cADTAFsBPAAs/wL/pv5i/5MAGgFHAvYBtgB5AHb/Uf4V/pz+Lv9bAMUARQA8ANP/J/8G//L+gv5J/6T/3f/tADoBngCK/93+i/2W/IH81fwK/sH+mwAUAnkBwQHMASEB6gAvAasA+v+I/3D+D/6h/X/9l/36/U/+MP96AN4AcgJCA2cCWAFTARIAsv7WAO0Azv4F/6//9P6N/rT/BAAKAI0BUAGsAeQBvP+N/9v/zf8kAaUA7P4j/8v9q/0R/1/+Gv5J/88AdgEtA4cEuAM/ApUB0gBn/+b+Ff/V/v3+Yv/p/k//Ff+l/mD/dgAFAWcBYAECAfAAQf9f/ur9lPwG/Yv/CAHxAXsDmwOLA5EDWwK3ALP/q/4B/hz+af6D/WX9jP7E/oz/igBeAT8BuwHgAisCAQExAAD/qf26/Xf+4P73/6sA0AA+AiYChgFbAZf/hv/z/1z/xf8dAFP/+P6P/hv9kfy1/IX9Kf88AGQB/gHdAfwB1gAnAGcAkf9k//f/5P69/c79if3l/b/+aP/P/0cAKQH/AVsClAF7AOj/+P80ANsAGAGDAC0ApP+H/s/9gv4J/7z/EwLCA44DBQMAAksArP4F/gX+1/3//p4A8gDdAIwBAAFx/8j/VwB/AD0BnwEpAacAJABW/zD/D/9R/in/KQDm/5oAEADN/gb/y/7q/u7/dwC3AOEArQAeABb/oP6y/rj+Yv9rAPAAkQBrALv/xP5U/qP94/2q/tT/ggF2AnECEAI/AWEA/f88/+P+QP+h/2T/lf+u/9f+1f7y/ij/7v+gAB8BxQHSAdkBXQESAMH/PP9L/77/vABiAfQATQHhAEYAOwB6AC8A1f97AGoAn/9f/xP/q/79/hz/tf/R/7P/fAB8ABcA7v8KAN3/OAChAHQAoABSAKX/k/8c/03+wP7+/uv+3P8NAbUAYwBsANL/BQBo/1f/y//D/ysA1AAKAZEA8ACNAA0AZgBvABkARADI/zP/pf/y/gP/9f7X/r//MwBnADYByQFrAZcB4ABBABUAlf8c/1f/df/G/nr/0v9S/xb/ev/Q/w8AeQABAS8BPACo/7P//v+O/7r/6f/F//H/OP8q/wH/i/4O/wcAngD/AOMAPgCX/0b/0v6U/vj+O/5W/nn/KgCJANYAEwHHAOkAogCXAPkA6AC/ADwAqv/D/gX+cf4w//P/FQFJAWgBegE1Ad4AWgB5ANr/IABYAOv/3f+G/8H/p//s/9v/TgDCAJgAWwFMAWkA9v/E/03/df+0/8D/7/93ADcAJQCgAAsAKgCKALoAegCjAJAASAB4AJz/5f60/rD+vf5p/+P/cwBLAPr/kQDx/8X/DwBJAGQAjACWABEAlv+M/73/gP/B/47/qv/l/0YAiwDH/zv/bv5+/qn+wv9ZAOX/9wBKAbUAegBrAIT/iP9EAMAA7ACAAIH/Wf6s/hL+Hf45/13/6P/VAFEBFwGkABkAef+x/u/+Uf9z//H/WgDQ/yn/k/9L/2z/XgA8AREBpwC6ALcAMADG/zoAa/+o/1MADwCc/wD/av/i/wMA+f93AHoA6ACzAT0BsABVAAQAy/+t/+P/ggAHAGIA/QA3AA0AyP/O//P/3f9LAOEAhQBQANcAeQDl/0f/AP/m/hv/R/8+/18AwABuAOwAbwG0AIkA+wD8//P/cgC8/zb/hf8K/3P+Av8n/1z/VAB9AC8AsQB8AC4AFQDn/8T/Y/9Z/0P/f/9//67/tf9P/4b/cAD4AM0AQAG9AAwAIACx/2H/f/8w/zT/AgCKAIIAPwBxAGQAxf80/4b/UP/g/vj/JgDa/hL/9v9T/8D/jQDDACsBuwEZAdb/h/+G/jD/kP9Y/wMA4v/6/6L/Sv9dALoBdwDh//AAFgF4AVABeQDp/2T/1v7k/qr+Ev+U/3X/UwDxAKYAEQFsAY4AXABBABcAAgDT/8r/EACd/w3/EQAsACYAXgDmALUAQQCdAHr/T/8VAHD/9f6S/+b/fACr/1H/jAA+ADwAkf9G/wgAPABTACkBpgBs/1cAZv8g/4YAGgD2/yAAH/9c/+3/Yf4J/8z/l/4F/4QABgFiAAoAOwDxADUAAv98/zYACQAzAMAAY/88/+D/vf+OAEYBGgCj/yoBfP+9/gEBjgBf/wkAfv88/8cAyAB4AOn/P/8BALsABACiAPgAEACMAXcAwf4BABgA2/8kAO//Pf8X/3v/Yv9lAAUA2f7F/1r/4/+EAH3/pAAWAvz/Iv86AWUA6/+DAPD/6f9CAKAAWQCF/5sApQEV/43+NAAd/+X+hgAhAKH/z/8z/4/+M/8VACr/QgAVAdr/lwC2Af0APAClAFP/if+1AZUAiv9cAC0AbP81/23+c/63ANEANQDRAMH/cv/Q/7j/xP6f/hgAn/8OAA4BDv+3/tABxQBX/YgAAwKB/zsCpgFk/mcAKQB8/uD/mf/a/o4AP/9s/u//Tv+fAGcBoQCxAcYACv+QAJAAPP4EAEwBZf/QAEcBEAAFAW0AXf/C/kL/lQCFAHv/1f6D/6r/YAAqAQsAq/96AKX/ov43/w0Az/86//j/oQCEALYAEAELAAkAqwBmAKAAVwBeALwAXwAd/9r+af7Z/bv/IwCj/2MArP+A/0EAxP/Y/8gA6QAGAIMAOQBW/7n/JQCpAEb/vv/KAHn/JQAjAFL+9f+kAIP9yP65AA3/QABTAYz+Dv8NASYANwDCAOIAxQARAMP/XgAkAOP/IQC+/4QACwA5/8YALQDs/kgA6P9B//7/2P8gABkAzf9XANb/Tv+fALQAXgCAAPn/RADhAGcBkAA0ANsAfwAdAJL/UQCnAKP/vP9N/1T/IgBfAHwAKwBkAJMABACz/7v/ov8eAIMAcwBTAEL/iP+V//v+IADE/5P/lQBpAEoAdQCaALj/Iv/r/sX+qv+y/2oAZwDj/qD/AAAM/+//FwB8/w0BgQCH/pb/hv/Q/iUA7P/e/18AhgCTACP/Vf+cAIv/1/4cAHv/8f7g/6T/8v9TABAAPADs/8L/SwBJ/0T/DQB4/3oABwE2AO0ALAFdAHgALgCIALYA5/8oAGwA1P/8/mH/xv/6/wsAvv+iAAEBdAA9AJT/wv9VALf/9v+z/7D/+QAcASgAYgDOAGv/3/+/AFgAdQB/AIgARQBF/27/3P+s/8AAjwAxALQAOgAEACEAWP9L//r/6f///7r/uf/X/7b/ov/e/7f/BQCwABQAMQDG/6b/FgCT/wIA3ABYACEAfgACAEgASwDP/+3/JADU/+7/WQAQ/5f+Jv+n/q/+nv+f/5L/4f89/27/yf9i/zAAVgAeAKQA2/++/zUAav+z/hL/5f/0/0UAhQBBAI0A8f9n//3/8f/c/8H/Y/96/63/hf/U/9f/RQBkAfkAnADbAL4A9//P/6T/BgApAS8BFAGJAI//Lf+7/7j/ewBJAHYA/ACn/8j/5f3b+5b9XgBv/4D/uwHXAXsCkAKtAZgA+QD6ALcARgCWAOMBTgGfAEQAOABD/7r/CQFDAHX+bv53/sv8HPxU/TEAJv+4/QIBQwKA/9kA6gI7AB4AxAHwAOf/bwFxAUAAJgDBAMUAoP4m/5wBrQB+/jYAGQA5/lP+5v6Z/9T+n/77/gD/vv1Q/9QB2f/X/vMBswH2/uoBOQGj/iIAhQBo/3P/GwBtAOMBSf/v/gMBpv6j/T7/GgDu/s7+VP/0/rH8lf1PAJD+AP8BAegBlQJ4AtEClgN8AbD/wQEfAFv+WACFACkApgATAB3/sP/4/lL+ff88/uz+IAC4/S3+N/+V/mn/Tv+B/psADgHKAFgEwgKXAd8EYAJFAN8BqADW/hQAiQBSAIj/PP9sAScAPf5e/0gAM/4w/Q0B6QER/db95wKv/wP9BwGOAp7/ZwAzAqcAtv+g/zECrf9C/bUAKAFg/SP+KgO5/u38twE7Ab/+Gv9kAZX/GP3z/3QCJv6E/GYCxwHb/VYBvgJ0/zP/zQGvAHv+zQD3AJ7+Ef/pAGz+Mf2OAKL/k/3e/eH/pQEA/7f9EwK8AZf8lP6cAWz/c/4rAWoC+v+J/+YBkgJI/3r/bQOVABX+wgCIANf+CQBIAPH+CP8K/3oAHQBj/c3/ZQD0/YX/UgBJAAYACABjAZAB5v4Z/wADeQByAHUBUP9dAXwBB/9lAL8CYv5m/pIAif74/gT/0//eAAAAmv9tARIAUQDDAmb/gP4IAskAaf+7APX/9gGoAE7+TQGtAeH9CP/6AWj/4P7Y/Zz+lv/K/u//iv/d/QT/0QIcAPz+GgFrAAMBWADj/skB5wEj/RABlwMu/mX+YQFzAKUAVP8q/k4Bxv+0/mgAnP4u/mkB2P4o/FMAzf/a/XX/SQH+/yL/pAAKAcABWP9+/hYBHgGt/3f/hgDeAEwBPADj/k8AvgDv/jb/LgE2/xT+RAF2/wP+pgEcAKL9WABuAWj/XwDL/wkAeAJm/47+OwKYAn799P5/AtX/Dv7h/mwBfP9g/0UB2/+X/sv/LgHL/5P+Sf/TARYAbP7qAc8C7f7k/iEC3wFF/4T+yAEGAtv/Av+h/6//3P8C//v9mAL3AMz89v9TAhAADf8vANL+cP/+/60AygBh/lAAxQHY/rj+xgHiAI//tQA3AWABc/7u/TMCVABV/uYA4f/L/woBWP93/zoB/P39/jsCk/78/3oBuP4b/hoAmwDB/Sr+cAHHATD+Pf/3AQQA6v7b/68BpwAt/nz/PgHz/xr+Ff/qAP/+FP7xAc0Bg/1p/4UDkwBV/GgAvwNy/vL9cAJvACH97/+MAJL/BwGQ/7v/MQFXABv/cQCw/0P/1ABb/2r/hABAASD/zv/XAM3/Ev/o/ooBOgGy/0X+TQF3AbP+aP8CAcsAQf/eAM7/NwA+AJkAHwE5AJv/NP/H/4D/5wGX/yT+OwE3Adr+jgCjAdj+KQCMAEj/n/78//n/gv5U//8BmAAT/XL/YwJLAeb8sP/SAq3/Lv4HAa0CBP+kAJ8Ayv4rAPL/9P/2/+f/Lf/+/4//UP/oAPf+6v60Aa////1GAGABtf/L/iMBfwCA/sv+qgFTAJL9pQGBAdL9JP96A48Asv0oAHUBs/9o/YYBOQG7/b3/JAIIANj9vf+uAYj+If6dA00AN/wGAXUDw/75/8EAIv9uAS8Ak/8f/78AhABH/0v/mQCIASL+5f5QAAABE/+w/C4AwAI+ACX9owCeAkD+TACeAeP9MP9ZAnABpP7X//oATAGI/44AlAEW/d7+gAM7AqT96/59AEEBWQCM/ST+Nf59ATkB0P0B/7EBRwDf/lUBtwI0AK/7LgHrBDf9Lf3rAc0Ajf/G/58A6/+N/kgAHwLr/lT91AGxAOj+uQCpAGr+Sv70AS8BBv14/hgEnv+g/NEB4gDK/ZT/pQNAAJ/8TQDcAuz+4PyxAWUBK/7nAHICA/7N/cMAFAEcAOH9QgDUAX7+lv+DAof/6v3SARwCeP+K/+UBSQDZ/d8A1wDT/SX/vgEzAOn/7wA1/hb+ggDdAGYBJf+O/gkCef+j/QQAvgGv/l7+hgNjAqb/d/4AABoA1f9+AFn/QP/5/xkCSwDa/qL/rf6x/jQBjwHp/m7/eAC6/7H/rv62/0IA1P1YASYBfP/H/1/+3QANAjYAif6hAdgAOABDAFv+EwLy/uv9jwLJ//T8z/8IAvH/Qv32/k8DTwI1/U//jgNl/+n9bgGjAgj/6vyoAbQC2/5N/cYBoQFj/VICLQPy/M38iAPsAhb8xv3n/10BywAu/o//iP97AH8BWAHR/9/+o/9IAPkBQv+u/SAAzAD+AS4BqP57/vT97/7FAXL/IPxKARcDl/4CAAwASf+Q/mT+yQJuAk3+Uf3UARICA/94AEP/Uf9vAQcBuv/U/ysAU/4O/3IA8AC1AKz+BgCBAin/8PuwAP4Bjv5gAPACqwCC/iQAswGBABT9bAB0AlT/uQDH/1z/eAHM//f81v/VAR3/EgBFAFsBgQCM++b/sgFC/gAAHwFdAf7/If+3AIcAqf0zAOYC5P4wAP8BN/7T/hICff9//Bv/mwFhAF3/rP7kARsBX/tp/0UDlwCc/ZUB1gJw/gz+rP9hATf/RADqAJj/mwAfAEb/hP92Aaz/Mf/YASEA6f47/+L/hQA//br+2QI/Abb+ZQBnAqL+eP4MAO0A5QCq/3QCxgDl/eb+cgERAWH9wgByA33+vv4wAhwA4/yx/n8B7wARAJz+FgLxASz92f4QAM//bAB7ABgAcgJt///8/QCIASn/7v2cAnEBRf4N/1sANgH8/Pr/2QKY//P9+P6JA+EAyvu2/mQCJP8C/hgE5gG8/OX+2gG4/1T9tgD9ApkAvfyG/woDlP5D/IoC2QPR/Ib9RQKRAMj8R/9vAvgA+/y//h0E8v+X/MMAbAP9/XD8EQKwA1r/+f1mAVT/Dv/p/w//kP9YAfIBV/9c/lr/sAC8/zr/pQFBATT+m/9bARABE/52/psB/P+f/7wAYgFi/xcBeQGN/4X9T/5RA6YA/v6ZALoAVP4aAEQBkf7Y/rUAkQGf/wQBxgAu/2P/0gFdAAD9gf7AAW4D6/8M/un/WwI8/gr+UgK0AP/8BQB2BBT+5P0i/5kAxADv/R8Bw/+n/7sAyQG3///8DwCDAKwAIAD+/8AAVP9L//YAAACr/fL/igI1AQf/df5BADwBN/+h/gkAxf+f/8AA8wCu/iUAzwAA/ocAjwBm/rX/vAGdAMn+Yv+UAeoAev3HAZcC3vxp/v0DRAHm/Ob/qAHMAIj++v6LAdD/qv5JAV0Akf62/20BKACC/RP/jABWAB//TgHwANH+4v9/AKwAbf8DAJ4AuwF3/+f+lwCI/8D/5v8q/2b++ADU/7P/swDw/8j/6v32/90ALf+k/1YCEwGA/q/+Lf8vAZYAP/8VAXUBDAB9AAwB5P9k/kkAaQBt/3//s/9gAeT/2f9QAKr++/1tAE8B5f9JAVsB6v5//ogAlADD/+X/fwKBAP796QB7AFf/xwChAXL/mf/s/48AvABG/nr/TgBw/0T/6f/s/w8AFwD3/5P/S/4n/4UADwHMAO7/lf9q/3T/jwCkAAwAvgA2APj/eACj/0T/8f+IATwAJf5c/+b/af/I/r4A3QBp/sH/uwFGAHz+ZgEvAIL9swA1Ad3/zf+pAQMC+/3a/cwBgAGL/aH/xgMGAIb82f6YAqn/QPztAMECI/8j/vEAuwFi/+n99wDNATP+Xv+6AhQBI/5n/x8B6/8E/uUAQgLi/3b+7P96ACz+x//E/4YA/v96/hYAxQC2/2j/mwFKAEb/FAAEAaMAlwDK/0gAcAAp/h0AbAByAGr/KAA7AXP/5P7b/5gBKP/o/hkB8P+S/Rz/ewEsAL//0P8GAMgA3P/o/+oAVQAf/7MALQGA/iUAvQAOACkAfP8E/5/+nADwAAkABAA7AIH/6f+3AKL+jf5wAfMBCf/H/jMB6gB9/9T/VgG6AOb9MP9TAtoAQf6j/7MAFQDr/1f/ZgC+ACkA3v+G/0b/KABJAGf/JQFrAfT+W/6fAFwAcP+//7cARwH//p7/7wCK/1P/KAFj/2n9wABoAX/+y/5DAFoA//7//c4BwAHf/rX/ewEeAej9Ev/nAF0AOwD5/7z/aP9s/2UAnwCA/6P/HQAhAKj/lf/V/+X/kf8hALIAJ/+j/5UBqgCJ/ywAQgC8/0//AwECAYX/RgAkABwAy/92/+YARgFs/9f/jQDj/uP+gQATAc3/U/9LACUBrv8l/w0BBgBf/wIACwBgAFEAVADGANUAcP7t/pYA2P7x/ykBoP+Z/zMAUP+E/zoAUwAUALf/NwAQAPT+e/8sAfP/cv/0/7X/zQB0AHD/8/8pAPj+vv7p/wkAQwA8ADj/oABaADT+9/9/AVIAWQBsAO//SgAZ/ykAhQGc//T/+AHoAMH+d/+eALT/Lf5m/xEBx/8T//cAYACu/rD+TP+5ALH/+//HAHgApgCt/3j/PwDIAHoAdAG8AMf/IAA0/47/JgAq/+3+7wAyAPz+/f/z/+3+s/4XADsAdv8+AMwAZAAMAO3/LQDJ/x4BewHKAEAAuf+SAOD+8f5SAEwAbP85AEwBuf/4/rT/lwDJ/vD+mwDHALb/OQBLAfr/uf+x/8cAfQAVABUBxABV/zz/NAB8//f+tv+iABj/mf4rACoAj/7K/ngA7f8i/9L/0ADr/zsABgEhAK7/8v90AOYA9wAEAAkAUgAPAJr/xP86ALn/mf/X/6z/RP/3/wMAtf/M/1j/kf8GAC0AAwC/AFEAYv9KAJIARADn/4wAxAC3/7//+v/e/z4ArgA+AG//j/9dAAsArv8mAFsAmv9H/3UARwA4/yb/rgBKAIr+n/9oAOf/yP+oACoACv+V/3oAyv/i/xcBIQDk/+7/7f8SAOD/AQCcAFwAhf/u/8L/cgBqAN//+/+q/7T/fAAcAL3+YACdAAL/Rv+QAH0AGwDmAO8AfgAy/7X/KgGyAM3/SQDLAK7/nv8eAE4Avv8z/zEAqf+L/v7/MAA+//z/j/8U/2D/9P/vAFkA7//VAHcApv9sAIgARwCXAKEAyAACAGT/QwA9AGj/lf8t//7+kv9+/+b/DgBi//b+b/8kABcA0f/4/54AcgCF/7D/NwBYAIoAxQCbAKn/7f+SACUAuf+g//r/i/+a/+f/q//h/97/tP+y//7/mv/o/4EAVQB1AC0A1f/JAK8BdgBdAOkAaQCm/6j/FgBR/1//qP/M/1j/1f5E/4H/Jf8j/+D/rf9g/77/tACaAIX/8f9rAZgASP/HAE4BUgDC/xgAJwBv/2T///8PAG7/jP+//0v/H/+K/1z/QP+A/4f/2/+7/zMA0gBhAGYAyACwAJMALgGAASsBJwE0Af0AWwB7AAkBSwDb/1oANgCz/7L//f8KAGL/Vf+AAIMAy/9zAPAAWgA/AHcAdAD2/9L/KwDS/5r/VP8M/xL/qf7G/i//Ff+2/m7+Af8Y/zX+xv7e/5X/X//Z//L/7f/W/87/IgBSAFkANQB9ANUApAAwAEMARgCQ/4r/6P8gAKr/t/8IADj/S/8rADgAsf9WAPkAcABWACoBjQENAUYBwgGTAQYBowADAUgBWAD6/34AZwCY/0b/OAD+/93+9f7G/6v/7v4m/ywACQAD/3D/LQDz/93/EQDR/yUA7f84/53/9P+8/03/j//q/5j/Av+K/9D/Pv9q/1//m//H/3b/7v8wALP/v/8DAKIAfQAeANIAvwAcAAQAggBTAFAAPQBZALYA7P8IAFkAv/+H/ycA8//C/87/vP93ADUAAADz/ysAkwAjAEEAigB8AP3/vf8jAEEA/f/2/5UATwC4//r/sP++/97/yf9LAB8AyP8LAD8A/f8PAAMAu/8DAPD/BAADANr/CgCV/yr/rf8fAJP/Xv8kAFYAc/9O/+3/4P+o/7z/+v/b/9T/0P/G//X/AADN/5T/x//f/ywA2P+h/xoAJAAWAC8AiABYADkAKgBLAFoAQgBbAE8AnABmAHgAogCJAJwAjACBAEoAdABeABYAMQD9/83/0P+E/2//Zv+F/8v/pP9a/z3/qf+b/8n/7f+m//X/7P8DABoAHQAlABMA6f/J/wUA0P/2/yQACgAPANT/mf+o/wIA3P/y//z/wP+s/1n/8v/I/2T/9//U/9X/0v81AGgAKgBgACMAXwBrAGoAzQC7ALsAqQCQAB4ADABWADQACwAOAF8A7/9e/93/IwAAAJD/hf/r/6r/p/+z/9P/t/9u/6P/l/+O/7P/CADf/73/9//V/7z/+v8YAPH/GADi/9v//P/K/wkALAAlAB8A+v9LAEsALwCOAFQAMwB3AK8AmwCeAL4AZwBBAFMAAwDL/xkAIADO/5n/3f+O/0z/sv9v/1T/l/+u/2b/sf8KALj/qf/c/+T/rP+9/+v/DADh/8L/5f/V/77/xP/O/9H/4//X/7L/yP8CABkAGQD6/ywAUADa/xgAqwBXAFAAoACiAJcAXQBMAKIAqQAXAA4APQARANv/6f83ABkAv/+///j//f8GAAQAAgAKACMADgDw/x0AagBuAEMAVQAUADgAJgAhADAAwf/g/+L/3f+4/+r/2/+g/93/oP9//1j/nf/N/3//q//T/6//ef+q/+//jP9t/63/qf98/4b/l/+j//f/vf/C/xUALwA4AE0AkQBuAGsAiwCSAGAAowCuAG8AuQCaAGcANQBnAEsA2//j//r/0P+U/9D/2v+o/73/7v/w/8L/q//w/83/vP8TAAYACgAYAAgA/P8pABUAFgAHAPj/NADy/+r//P8nAAQA0P/7/9T/5//C/5r/0P/Y/63/i/9k/13/p/9q/0j/jP9s/zz/Pv9+/4P/LP/4/l7/pf9O/4j/4/8kADAAHwCLAIIAbQDmADgBZQFfATgBmwHJAXMBbwFrASoB4QDyANQAbgCPAKoAZgAkACEABQDk/wcA9f/P/8f/zP+z/4j/w/+2/3X/oP/V/4b/VP+x/5X/oP+e/3j/xP+C/4b/yf/D/3L/QP+N/zj/7P4S/wL/DP8I/wb/Yf9I/xr/Xf+Y/4z/Lf9p/53/S/9z/9H/zP+L/9T/HgD1/+z/MwCYAH0AcgDHAP0AGAEMAXoBsAFkAaQBvAGUAY4BiAFvAUQB+QAJARYBlgCwAK8AMAAOAPX/s/+a/3j/Lv9V/z7/B/8U/+7+B//8/vP++v7j/hP//v7y/hj/OP9O/0X/TP9h/03/SP+A/03/Rf93/3j/bv9S/5P/tv+G/7r/9v/e/9j/3/80AE4ASQByAIkApQCjALwAmgC/AKgAgQDpAJoAlwDbALsA0ACCAIgA3QC0AKwA3AAMAdEAvgDOAMMAygDIALgApQDbAHUAPgBiADUAEgD///v/5f/1/7L/zf+p/3v/oP/8/jz/Z/8B/wP//P4D/wr/Cf/v/in/ZP9j/0b/WP91/0r/TP90/6f/tv/E/7n/3P/w/8T/tP/U////3P/7//7/CwA6ADIAAgA5ADQAy/9FABcA3v8EAOn/1//P/wYA7P/t/ygAQADm/9j/FwD2/x4ASgBBAGYAbQCEAIEAfgC9AGIAZACoAMAAsACvANkApQCSADUAMgAqAAIADgDp/7r/hf+g/2L/S/88/yL/RP9a/zL/O/+P/0P/Tv+0/7L/rP/d//b/QQA6AB8AcwBUAHgAjgCiANAArwCuAMsAsQCiANkAiwBVAIYAnQBZAFUAnQBcAFgAcwBXAE4AMQARAPz/6P/L/8z/vf9l/27/l/99/0b/Nf9y/zv/G/9Q/07/MP8L/yP/XP97/1n/YP+L/2X/cP9r/3j/Zv8n/2n/Uv8s/zr/P/82/xX/Pv9o/1b/Z/+u/7z/1P8YAFYATACCAPsAJgE5AV8BhgF0AZsBqAGwAbwBmwGWAb0BoQFJAXoBZQH3ALcA2AC4AFEAYwCEAGcAJgALAAgABQCv/5j/pv+W/6z/bf9T/1z/Nv8Z//z+2v7g/qz+iv6s/pX+cf5c/o7+1f72/hP/Uf9r/07/df+X/4v/iP+Y/xQAMwD2/zoAJADn/9X/8//7/9b/BgAtAEkAHwBrAKEAVwB6AJUAnQCLAKsAsACWAM4A2wABAQ0BAwFCATMB/gANAekAtgCiALUAhAApACMA6/+x/4X/df93/03/YP9T/1P/Qv8q/1L/Nv8m/07/ZP9x/3r/gP95/2D/Uv94/5T/kv9p/4b/1P/D/8D/2v/1/+7/6v/x/+7//f/e/9n/0//p/+//yf8VABgA/f9HADwALQCFAKcAcACxAOgApgDVALYAmADlALkAnQCVAJ4AoACEAJgAugCgAHEAqgCqAHQAmACkAHkAkACLAEkAWABUAA4A7v/k/8r/of97/2r/iP9//z3/iP9j/wD/P/89/z3/Iv9C/zP/+f4k/0b/UP8R/2T/jP9J/0f/af+d/3f/ZP+G/7L/ev9i/73/iP9d/2D/O/9M/xr/OP+d/4H/m//Q/9j/2P8xAHMAqADTAMUAHgEqARoBIgEOASIBMgEEAQcBOwEIAfMA6wDPALEAmwCbAMQA2wC9AL0AmwCCAE0ARAAxAD8ALQD3/y4A7f/Z//v//v/T/9f/zv+T/8L/Zf9c/2P/QP9T/x3/Nf8S/+n+9v70/uT+wv7i/g7/UP9Q/1z/t/+E/5z/x/+c/+b/yf/G/9v/yP/C/43/3P/x/+//GAAPADwAYwBuAHUAoQC7AN8A5wD5AC4BNQE9ASgBKQEcAQMB6ADfAOoAnQCPAJwAYwA2ACgANgAKAN7/3/++/6D/fv+T/5n/fP9n/3//pv+M/7//tP+t/7v/p/++/5D/iP9q/37/of9d/0j/U/9A/xn/Qf9L/yX/KP9F/2b/d/+K/8f/2v/c/xgALAAkAC8AXwBGAEoAXAAxACoAEgAtAAQA/v8ZAPX/BwAFABsA/v/7/w4A+f8nADsATABpAG0AZABaAGEAWQBTAEMAUgB3AD0AMgBDACcAFgAfACsAJwBIACIASQBgADIAZgBRAI4AkgB/AL0AmACXAJ0ApgCmAI0AlQCYAHQAUgBTAC0A+f/2/+L/uf/o/83/f/+U/5f/cv9Y/2v/e/9f/2H/cv9U/17/YP9S/1f/V/9B/wr/Hv8d//n+HP8u/wf/HP8S//f+Lf8T/zH/O/9b/5r/p//W/9T/DwAZAPr/KgBNADYATgCTAHkAdACbAIIAZgC1ALsAqQDEALkAvgDHAOEA1ADsAPEAwwC8ALgAmQCgAJ8AYAB8AGwANQBCAFkAUwAyADsATwA0AOj/FAAeAPn/6v/P/9//o/+T/8D/zv+F/4L/x/+l/5j/wP/c/87/u//a/+z/yf/f//L/EgAGANP/+f/y/9n/yv/2//f/zv/X//T/7v/i/woABAAJANz/zf/c/8r/w//L/97/3v/g/9f/EwABANr/AwAZAAYABwAXABcAEwDb//P/6/+w/5r/r/+h/4L/dv9a/3v/Yf9s/33/xP/G/6P/BwD//wkA/f8mAFIAMAA9ADoASgAzADYAMAAqAEoANQBDAD0APABqAEsAYwCDAHIAeQBZAH0AjwBcAFIAdQB2AD4ATwBCAD8ANgD9/00ALAD+/xwAAQAQAND/w//E/67/t/+D/6n/v/+N/3r/mP+j/4z/m//H/+H/uf/Q/9H/s//I/57/nv+s/4b/bP+P/37/Q/+F/3z/eP+b/6P/0//S//v/GAAjAC0ASgBxAGUAfQCKAI8AfACIAJ0AhwCYAJMAkwCSAHQAoQC0AI8AuAChAJ8AqABgAIAAfwBYAF8AVQA6ADMAJAAbACsA9//w/wMA0//h//f/tf/P/8r/k/+d/3T/iv9m/0v/Zf84/0T/OP9E/0n/Kf9D/0f/Qf9b/2P/Yf9v/3P/af91/3j/b/+W/5j/rP+v/6f/0//G/+3/9v8NADgAMwBkAHEAdgCBAHAAbACJAJ0AcQCPAK8AdwCNAHgAfgCYAI0ApQCQAK8AkACIAIsAbACDAGEAWABqAFsALAA2ACcACgARAPH/6v/1/+7/9//l/8L/4f/D/7H/1P/S/7L/qP+o/5j/k/93/4f/i/+E/3b/hv+S/33/h/+O/57/hv+P/6//vP+9/8b/6f/d/97/CQDj/w0AKADv/zMAGwAqADUAPQBmAEgAWgA9AFQAWgBUAEkASABdADMAQgA9ABsAIQAQABAAIwD0/wwAHgASABUACAAVAPv/AQAHABIAFQD+//X/AQD2/9j/9f/2/+X/1v/V/+j/3P/I//L/9f/e//r/4f/1//n/wP/O/9n/tv+z/73/xf/E/8j/xf+5/7//yv/R/8L//f8AAOX/CAAIACQAFgAIACkALgAPACAAOgAzADYANQBOADAAKQA8ACoAMAAhACEAIQAMABsAGwD+/xYADQDk//n/6P/o//z/9f8GABgAEQANACsACQARACUA+v8FAP//BgD0/+P/+P/m/7v/uP/K/6//pf+r/8r/wP/A/8n/wf/1/9P/x//0/+D/1f/Z/+n/6P/X/+P/5f/x/9v/0v/y/9//4f/3/xEADQAaADkAMgA9ADAALAA8AD0AQABOAE4ARgBCAEwARwAwADoAQAAsAC8APwAmACEAGwAhABsA9v8FAAAAAgD3/+H//v8EANn/5P8HAOf/5//1/+f/3v/n/8r/0P/d/7j/tP+1/6P/qP+e/4r/oP+Q/6r/x//C/9n/5v/3/+b/AQD4//f/DwD5/yYAHQAQACEAOAAjABMALgAWACUAGQAwADwAKwBSADsASwBMAEcATgA0AD8ALwAdABcAHwATAAEAGQD4//P/AQD2/+f/1P/s/9X/vv/M/8n/t/+z/7v/sv/A/6v/sP+0/5v/sv+k/6r/uv+v/8//xv+7/+D/2//M//D/DAD3/w4AHgAKAB4AKgAnADEASwBRAFEAVgBeAFYAQwBcAEwATgBdAFUAVwBOAFoASwBLAFEANQBCAEkAKQAvADoAHAD9/xsAFADv//H/9v/0/7r/xf/J/63/rf+Y/7D/mf+K/5X/nP+Q/3r/o/+U/5n/m/+j/7//ov/E/8n/wP+3/7T/1f+6/73/vf/E/8r/xP/h/9b/+//0//b/BgAcAD4AHQBdAGcARQB4AHsAbQB3AHsAcgB2AGsAXABpAEwAQgBhAEgANgAzADsAPQAUADAAOgAUABcAJgAVABcAHgAHACUADgABAA4AAAAEAOX/AgDw/8r/7v/R/7v/w//S/7T/uf/K/7H/sP/A/83/qP+z/7X/pP+4/8n/xP/M/8P/uf/g/6z/t//W/63/vv/F/7//wP/N/83/2f/d/+X/7P/p//7//v8RABIAGAAzADEALABSAFcAQgBTAEgAUQA0ADsAVgAmADUAQwAqADQANQAiACUALAAsACQAJgAzACMAGgAlACQAGAAbAAsACQAjAPn///8PAOr/6//s/+z/2v/Y/+r/yf/S/+b/wv+6/93/wv+1/7//wP/I/6P/y//D/7n/z//A/9T/yv/X/83/6P/l/9D/AgDm//P/AADq//b/+/8DAP//9/8eABAABgAcABgAIQANAC0APQAiADMAPAAwACMAMAAfACAAIAAZACYABQAOABQABAAVABIAFQAjABkAIgA2ACUAKAAtACgALgARACoAJAAJAB0AEwD+//j/CgD6//j/CQD5//7/8P/x/+n/8v/x/+H//v/X/9X/5P/K/9r/0v/L/8f/3P/Z/9n/1v/X//P/xf/k//D/wf/O/8j/0f++/77/xv+//9T/vP/M/9//xv/d/+f/9v/u//X/BgD0/wQA+f8FAAEA6P/+//3/AgAGAAYAHAAXAA4ANAA1ADIARgBMAFEAUwBFAFQAUwAuAEYAPwArACsAGAARABIAAwAGABoA9v8IAP3//f/+/9b////x/+b/6P/m/+T/y//Z/9D/0//W/8//1f/Z/93/yf/d/+//1f/m/+f/7f/2/+n///8AAPb/+P8AAAEACQAFABgAHwAYAC4AHgAqACIAJgA2AB4AMgAjACUAGAAcACwAEAAeAA8AFwALAAUAFQABAAkADAANAAgACQD9////9v/g/+v/2f/R/8H/vP+8/7X/sv+q/7n/rP+4/7D/uf/I/7z/0v/Y/9z/2//e/9f/3f/g/+z/6v/c//X/3P/t//v/9f8cAAYAIAAoACMAQwA1AEkASwBNAEoAUQBKADMAVwBAAEMATwA7AD0AOgA9ADkAMQArADIAEwAoACMAGAAiAP//CAD7//n/5//g//P/0f/l/+z/2//Z/9v/3//J/9H/0v+6/8H/tv+6/7f/sv+2/7H/uv+1/77/vv/C/8P/1v/f/9n/+v/u/+//+f/2//3/AgD9//j/BwDw/wEA/f/9/wUA//8WAAwAGwAeABoAIgApACwAMwAwACoAMgArADMAJQAvACcACgAmABgAEgAVABoACAAWACEAAAAeABsACQARAA8ADwDx//v/AADk//b/8P/o/93/5//k/9z/9f/f/+//7P/h/+n/8P/t/97/+v/g/9//5v/e/93/0//m/9//5//p/+b/5P/w//X/8P/+//b/+P/8//3/+v/9////+P/7/wEAAgD9/wUAEgAMAB0AEwAcAB8ABQAeABMAEAAWABUADgAHABMAAAARABAADAAcAA8AKAAdAA8AOAAdABkAOQAaABwAEgAJAAcAAAAEAOD/8P/m/9X/3f/f/+D/zf/y/9T/1//y/9D/4//l/+//3f/j/+X/2f/h/97/3//X/+z/x//U/+X/yf/h/+b/8v/n//D/BADz//j/EAADAAkAHAAOAA8AGAAXAA4AMQAkAB8AIAAeAB8ACwAuABUAGgAmAAgAHAANAAQABwAUAP//BAANAPH/CQD9//r/EAAFAA0AAgAGAAAA9/8CAPr/6//s//D/0//i/+X/0P/T/9//6v/O/9z/4//R/+T/8//j//X/8v/e//v/8P/i//v/8f/p//z/9//s//n/CgAJAP//HwAnAAUAGQAuABAAHgAnABoAIQASABoADwAYABgAAAAaAAoA+/8JABIAAwADABsACAD//wIAAQDz//z//f/v//X/5//d/+z/6P/V//b/7P/f//L/6v/w/+b/8//8//r/+f/6/wEA8P/4//D/+//0//D/AQDy//T/9v/3//f/BAADAP7/CQAJAAgA9/8XAAwA+v8YAAMACgALAAUAFwATAA4AEAAeAA0ACQAjAA4ADQAQABAABQDz/w8A/P/u//n/7v/y/+r/8v/z//P//f/y//v/AwDx//L/AwDz/+//8P/t/93/2//j/9T/3v/g/9n/3v/u/9z/5P8BAN//+//1//z/9v/v/wcA7v/6//H/9v/n/+j/7v/g/wIA6P/+/wUA/P8PAAIAEQAKAAoAEwAfABUAGQAZAA4AIQAGABIAHwAKABMAEwAaABEAEwAWABQADQANABYAEQAKAAgAFgAEAPX/EAAFAPL/CAARAAMAAQAGAAYA9v8AAAgA9//6//f/8v/t//L/4P/m/+X/0v/s/9b/2v/q/9//6//h//z/7P/X//7/9P/i//j/+//r/+r/6v/r/+X/3//0//T/7/8CAAIABgADAAMAIwAMABEAKwAZAA8AIAAeAA8AFwAGABQA/P/5/xUA8v8KAAcACQAJAAkAEgADAAsACwANAPf/AgABAO7/9v/1/wUA6P/t/wEA6P/n//L/+P/z//P/AQAGAPf/+P8FAPT/6//3//X/7f/m//n/8//k//7/+f/x//f//P/7//X/AAACAAMA9P8DAAAA5/////T/7P/5//T//v/s//j/BAD0////CAAIAPv/+/8FAP3/9f/4/wgA7v/o//z/6P/u/+H/9f/9/97/AQD6//f/+P/+/wkAAAAHAP//DgD2//z/BwDw/wQA8P8GAAAA+f8YAPr/CQASABEAFAAgACEAFAAlABkAHAAUABQAEwAIABIABQASAAUAAQAQAAcAAAAMABEACQAWABAAGgAPAAMACAAGAPv//P/3//j/7v/c//j/5f/g//H/5//l/+n/7v/f/+v/3//n/+f/3//y/9n/5v/d/+D/5P/X/+X/6P/n/+r/AwDu/+z//v/3//H/9P8CAPL/6v/6//z/5f/2//z/8//4//b/DAD+//7/DgASAAAAEAAYAAgAGgAHACAACQAEAA0A+P8NAPn/EQAGAAsAFwABABoACQAYAAwAEQAYAA0AEgAHAB0A/f8AABEA8//1//P/9//p/+3/6//4/+//6P8AAPL/8v/y//3/+f/s//j/AADs//L/AgDh//L/9f/p//H/8f/z//L/+//y/wMA9v/2//3//v/5//j/DQDx//v////3//P/8v8GAO7/AwAIAAMABwADABAABAASAAsAEQASAPr/DwAFAPz//P8DAAEA8/8MAAYA/v8GAA8ACQAIABcADQAFABEABwALAAIA+f8HAOr/8v/z/+//7f/e/wIA6P/q//v/AQDt//f/FQDw//3/+v/9//X/5/8AAPb/5f/r//3/5f/r//j/+//v//X/DQD6//z/AgACAPb//P8HAPf/AAD6//z/+P/1//7/9v/9/wEACAAGAAQADwAJAAAADwALAP7/BwAAAP//9f/5//f/6P/0//D/+P/0/wAA+f/8////8f8IAPL//v8EAPz////4//r/5//y/+f/4//3/+r/8v/0//3/8//7/wgA9v8JAAYAAAAMAAYA//8FAAMA+f/9/wEAAAD9/wEACAADAAYAEAAOAA8AFQAMABwAEwAIABkACgAFAAAACgD6//v/BwD7/wYABQABAAEACQAFAPz/EgAIAPn/AwACAPT/8v/0/+j/5f/o/+P/5//u/9//6//x/+b/6v/x/+3/5f/1/+7/7v/2/+T/6f/s/+X/4//t//H/5v/y/wAA9//3/wIAAAABAAEADQAJAAMABAAHAAcA/v8AAP7/BgD+/wcAFwADABIADwAOABgAEAAWABYAGgATABEAIAAEAAQACgAFAAQAAAATAP//AgAFAAEACQD6/wkABQAFAAoAAwAJAPv/+//7//L/+f/v/+v/9//z/+r/8P/9/+D/7P/4/+b/+P/o//X/8//n/+r/8v/t/9P/+P/p/93/9P/q/+//6f/3//T/+v/4//r//v/2/wAA/P/9////+f/7/wEA9v/6/wgA8v8CAAsA/f8EABUAAwALABYABgAVAAcADAANAAIABwAEAAIAAQABAAUADAD9/wwAEAD8/woADAAHAAAAEgAHAAIADQD7//z/+//2/+7/AAD1//P/AQDw//v/9f/z//3/+f/0//n/AgDy//n/9v/4//f/5P8AAPf/4f/7//r/8v/5//v//f/3//z/9/8AAAEA8P8DAAEA9//8/wIAAQD1/wYA/v8DAAEA+P8QAPj/AwAIAAQAAQD4/wwA+//+/wAABAD2//X/CADu/wMA///7/wcA/f8HAAAA//8CAAEA//8CAAYA/f/7/wMA/P/0//r//P/y//T/AgD3//3//P/8/wIA8/8FAAEA+v8FAAYAAwACAAgA9v8CAPL/+P8CAOv/BQD4//b/+//7//f/9P8BAPT//v8AAP3/+v8AAPv/9P8GAPX/+P8CAPz/+P8AAP3/+v/6//v/AAD8/wEAAQAGAP7//v/+//z/+P/z/wkA8v///wEA+P8BAPH////5//f//P/+//7/AQD+//7/AQDz//b//f/z//r///////7//P8BAPz//f8BAAEABgAKAAIACAAKAPr/AAADAP//+f8EAP3/+P8CAPX/AQD7//z/+v8DAAMA9f8QAAQA+v8IAP//+v/4//j//f/4//X/AgD2//T/+//2//f/AAD//wEABQD9/wgA/f/9/wMA9//7//v//v/y//r//P/v//r/8v/8//L//P8DAPv/CgAAAAkA///+/wIA+/8DAP//AgAIAP7//f8GAPf/AQAEAAUADgAJAAwACAALAP//DAABAP//BwD2/wUA9//9//3/9//8//n//f/5/wAABgD7/wMABgD6//L/+v/6/+n/+//8/+7/8f/r//T/4v/x//f/9f/9//v/BgD5//r//P/7//j/9f8AAPP/9P/z//P/9//n//3/+P/q/wUA+P/+/wIABAADAP//CAD7/wkA/v8CAAsA+P8FAP3//P/8//r/DAD//wUAEQALAAMACAARAAAAAgALAAUAAQD+/wYAAQD4//3/AQD9//L/BgAGAPX/DQAMAAQACAACAAUA+v/+/wMA/f/7/wQA9P/0/wEA6v/1/wUA9P///wsA/f8FAAIA//8FAPz/AwAAAP///v/4/wAA8v/5//f/9v/4//z////6/wYA/P8GAP7/+/8JAPP/AwABAPv/AADy//v/8P/w//b/+v/z//n/AwDy//v////w//3/+v/4//3/+//6//L/9v/z/+3/9P/1//X/9f/+////+f8CAP7/AwD9/wQAAwD//wkA/f8HAAMA+/8AAPz//v/4/wgA//8IAAUAAwARAP3/CgAJAAQACAAEAAwAAQAIAAUA/v8GAP///v///wIA//8BAAwABgAGAAcA//8FAPn///8CAPz/AwD2/wAA+f/n//7/8//u//v////4//j/AwD2//j/+f/7//r/+P///wEA+P/5//j/8//x//L//P/3//v/+/8CAPv/+v8IAPX/CAAAAAMACAACAAUA+v8JAPH/AgAEAPX/AwD///7/9/////3/9v8BAPv/AgACAP3/BgD+//r/AAD8//7/+P8CAAIA+/8EAAAA/f/1/wUA+P/2/wUA+P////n/BQD9//H/BQDw//z/8//+/wIA8P8LAAAAAQD//wMA/v/2/wMAAQAFAP7/CQAFAPj////6//z/9v/7/wkA/P///wMAAAABAPf/DAABAPr/CQABAAYA/v8JAAAA+/8AAPX/AwD0//r/AgDy//3/9v/6//j/9f8FAPv/AgABAP7//P/2/wIA+P8BAAcA/f8FAP3/+P/5//T/9//5//r/+/8AAP//9/8EAPn/+P////X////9/wUAAgAHAAUA/P/8//f//P/2//7/CQABAAEABwD+//v/+f/7//3//v/+/wEABADz/wYA+//5/wgA9v8GAPb/AQD9//r/CwD6/wcA//8BAPr/+v////j/AQD4/wEA+f/2/wEA+f8DAPr/AQABAPD/CAD6//z/CgD3/wMA/P/9//j/9v///+///v/3//3/+f/w/wcA9v/8/wAA+v////H/AQABAAAA/v8GAAQA7v8BAPb/9v/5////BQD6/wYA+//6////9f8HAP7///8KAPz/CAD8/wAAAwD0/wQA/v//////AAACAPv/AgABAP///v/+/wMAAwD8/wwA///4/wAA/P/6//v/BAD8//7/+f/8//z/7/8EAPv///////z/AAD1//7/+P/7//z/9P8EAPL/+v8AAPD//P/5//v/9v////v/+/8AAPb/BgD3//v//P/4//z/9P8DAPj//P/8//T/AADz//3/AQD2/wQA9/8EAPz/+/8JAPb/CAD3/wUA/P/2/wwA8f8FAPz//P////j/BwD2/wcA/f/9/wUA9/8IAPn//v8CAPv/BgD4/wsA+f/5/wYA8f8DAPv//v8CAPr/AwD+//z////7//b//f/9//b/AgD///j////0//j/+f/0//3/+v8DAPf/AQD+//b//v/6//r//f/8//v//f/9//3/8/////r/9/8BAP3/AgD3/wMA/P/7/wMA/P8DAAQA/v8BAAEA+f/6//r/+//7//////8DAPn//f/7//T//f/3/wQA+v8DAAAA+f8CAO7/AQD4//L/AQD6//n//v8AAPr/+//8//f//f/5//j/AgD0////+/8CAPf//v8AAO7/AgDs/wYA9P/2/xIA8f8FAP3/AgD6//L/BwD3////AQAAAAoA9P/+/wQA8v/7//r/BgD6////BQD7////9v8IAPf/+f8FAPj//v/8////9//4/wAA9f8EAPb//v/9/+z/AwDz//z//v/8/wMA+v8AAPb//P/0//X////5//r/AwD6//n//f/0//v/8//7//z//v/9/wMA+v/7//3/9P8BAPT////4/wEA/v/6/wcA8f8AAPf//P8CAP3/AAAAAP//+f8HAP3//f8BAAAA/P/+/wIA+v/+/wQA/////wQA/f/+//v//P8BAPn/AgD///3/BgD4/////f/z//z//v/7//j/BQD0//v/AwD0//v/9//8/+3/AAD6//X//v/z//r/9P/4//n//v/w/wEA9f/1//z/8v8BAPH/BAD5//r/+f/2//7/7/8FAPz//P8CAP7/+//7////9f8AAAIA/P8FAAMA+//+//v//f///wIA/f8FAAEA/f8GAP//+//9//f/BAD7////CwD2/wIA+f/9//T/+/8AAPL/CgDz/wMA+f/0//3/+P/8//T/BgDx//z/9v/5//r/9/////j////y/wAA+P/0//r/AAD1/wIA///2/wMA7f8JAPP/+v8EAPL/BwD1/wsA+v/9////+P8EAPH/CgD+//v////+/wIA8/8GAPr/+f8FAPT/BQD6//j/AAD9/wEA/f8EAP7/9/////r/+v/4//z/BAD0/wQA/f/x//7/8v/+//v/AAD6/wAAAQDy/woA8//+//b/+P8BAPv/BQD6/wcA+f/2/wUA9//6/wEAAwD//wIAAgAAAPn//f8BAPr//v8EAPj//v/9//3//f/8/wEA/P8DAP3/+/8DAPT///8CAPr//f8BAPz/9f/+//3/8//7//f/+//3//7/AgD8//v//P/8//H/AQD1///////3/wUA+P8CAPX//P/7//n/9v/+/wQA9P8EAAAABQD3/wMAAQDw/wIA9v////7//v8GAAAA/P/+//X/+//8//f/BwD+/wUA+v8FAPz/9/8DAPT/AQD3//3/BAD8/wAA+f8AAPL/+v/+//j/AwD2/wUA/v/7//7/9v////D/BAD9//n/CQDz/wIA/P/3//7//f8CAP3//P8EAPz/9v8BAP3/+//9/wIA+f/7//3//f/9//3//f/7/wMA/P8EAAEA/f////b//v/6//7/+v8AAAMA+f/+////9f/z////+v//////BAAFAPX/AgD///T/AAD7//7//P/7////+v/9//7//P8AAPf//f8BAPX/CgAAAP7/BwD8//7//P8BAPn//f/+//3////6/wUA+v/7//r/AgD7//z/CAD6/wgA9/8EAAIA9f8AAP7/+//6/wUA/v8AAPf////4//X/AwD5/wcA+/8CAAMA8f8BAPr/+f8AAP7///8BAPn/AAD8//n/AAD7/wEA9/8GAP7/+v8CAPv/AQD1/wkA/v/3/wQA+f////f/BAD6//z//f/8/wQA+//+/////P/3//r/AwD4//r/CgD1//7////1/wAA9P8IAPX//f8GAPT/BAD4/wUA+P/7//7/9//9//f/AgD7//z//f8BAP3/9v8EAPz/9f8DAAQA+v8AAAMA/P/7/////v/7////9v8DAPr//f8GAPn/AwD6/wAA/P/8/wMA///+/wQABADz/wEA+//3//z/AQABAPX/BwD8//r/AQD6//z//P8AAAAAAwD//wEA/f/6/wAA9//+//z/9/8AAPv//v/+//z/+//7/wEA+v8EAP///v8CAPv/AAD///7///8BAP3//f/6//v/+//7//7/AwD9//v///////j//v8GAPf/AwD9/wAAAwDz/wgA+P/8/wAA/P8EAPL/BAD6//7//P8CAAQA8v8JAPv/+v////7//P/6/wQA/P8AAAEA+v/+//n/+f/+//b/BwD7/wQABwDx/wgA7/////v/AgAFAPX/FQDv/wEAAQDz/wEA9f8FAPj/CAD5/wAAAQDz/wQA9v8EAPr//v8BAP3///8CAAEA+f8FAPn/+v8CAPz/9v8IAPj/+f8HAPj/AAD3/wgA8//8/wEA9v8DAPf/CgD9//z//v/7//v/+v8CAPf/BwDy/wEABADw/wUA+v/4/wAA/f/+//3//v/5///////9/wUA+f/5/wAA9P////3//P8CAPn//v////v/+f/9/wIA9/8HAP3//v8AAPz/AgD+/wAA9v8CAPf//v8DAPv/AgD3/////v/5//n/BgD1//r/DAD6/wEA+/8CAPf/AAD+//v/BwDw/wMA/f////z/+P8HAO//+/8CAPX///////7//v/6/wIA9//7/wMA9/8FAPj//P/6//n/+////wcA8f8IAPr/9//+//f/BgDu/wkAAwD0/xAA8v/8//7/+//9//7/BADz/wEA+v/9/wIAAAAAAPj/AgD7//j/AQD9////AAADAAIA/v8CAPX/AAD9//T/BAD7////AAAEAP7//P8AAO7////8//z/AgABAAMA+/8EAPn/AAD2//r/BAD1/w8A9v/7/wMA8P8FAPv/AwD8//r/+v/5/wQA9v8FAAMA+/8BAPv/+v/9//L/AQADAPr/BQD///n/9f8FAPb/9v8HAPv//P8BAAkA9v8AAPj/AQD9/+//EQDt//z/AwD3/wIA///1//z//P/u/w0A8v/8/wEA+/8CAPj/FADw//3/AADs/wIA8v///wMA+f8GAP//+v/8/+//+//1//3/AQD9/wQA+v8JAPL//v8CAO7/9/8AAP7/7v8NAPj//P8HAPT/CADs//j/9v/x/wkA+P8IAAMA9P8AAPj/+f/1//n//f/x/wQAAgD4////AQD2//r////3//7/9v8BAP7//f8EAPj/AAD4/////P/4/wAA9P8AAPz//P8GAPj/+/8EAPb//f/5//7//P/6/wcAAAD7//3/+v/z/wQA/P8FAAQA9v8IAPD/BAD8//f/BQD1/wUA/P/5/wUA+P/6/wAA/P8DAPn//P8DAPL/CQD9//3/AwD7//7//f/9//j//P/7/////v8GAPv//f8HAO7/BQD9//b/AAD6/woA/f8EAAUA8P/2/wMA7/8GAAUA+f8DAPj/CADx/wIABADy/wgA/f8BAP7/9//8//3/+v8AAP//+P/9//T/BQD0//v/BAD2/wAA/f8AAPj/+v8EAPz///8EAPf/9v/6//P/AwDz/wEA/f/w/wcA9/8CAPj/9/8AAO7///8DAPr/AQD+////+//w////9P/x/wIA9f8CAP//9v8EAPj/+P8CAPX////8//T/BADy/wEA///4/wcA8P/9//L/8P8BAO7/BQABAPv////8//b/+//7//v/AQD1/wIA9P8BAP7/+P8HAPD////7//b//v/3//v//P/7/wgA/v/z/wkA8P/7//////8AAPT/CAD6//r/AQD///b////7//7/AQD2/w8A9/8AAAAA+P/9/+//CwD//wEABAD8////9f/9/wMA+P/6/wUA+P8CAAIAAAACAPX/CgD3//3/AQD5/wEA9v8IAA0A9v8IAAUA7v8CAPT//P8CAPb/DgD8/wAA/v/5//3/+v/6//z//P/8/wkA+f8RAPr///8DAOr/DQDx//7/AwD2/wMA+f8AAP//+P8AAPz/9f8DAPf//v/+////AAD4/woA+v/7////9v/x/wAA+P/9/wgA8f8HAPH//P////T/CADy/wQA+//2/wgA9v////j/+P/+/+z/AAD7//T/AwD4//j/+v/8//T/AQD///T/AAD9////+/8DAPb/+P/+//D/AgD1//v/+//u/wYA+//2/wAA9P/8//D//P8HAPP/BQD8//7//P/0/wIA9v/4/wEA9v/3/wYA8f///wkA8f8DAPX//P/8//j/BQD4//7/AgD3/wQAAAD1/wEA9f/+//n/+v8IAO//BAABAPj/BgAEAPn/+f/9//z//P8BAAwA/P8CAAIA9/8AAPr/AwD2/wAABADz/wIABgD4/wUA/f/9/wIA8/8JAP7/AQAFAPr/CgD4/wIAAQD//wQA+v8DAP3///////r/+v8AAP7/+/8OAP7//v8AAPX/BwD7//v/BwD9//7//P8NAP//+/8JAO3/AAD5//L/CwD1/w0AAAD9/wkA8//+//n//f/+//n/AwD///3/BQD7//v////u//3//f/w/wcA+P/2/w4A+/8BAAUA9P/6//L/AAD7/wAABgD0/wEA/P/2//3/9f/2//b/7/8EAPr/+v8IAPj//f/9//b/8v/8////9//9/woA+P/2/wEA9f/9/+n/+//8/+3/AwABAAEA/f/6//j////w//f/9//3//z/AAAMAPz/AQD0/+3/9P/5//f///8EAP//AgD4/wgA9v/3//r/+P/8//b/DAD3/wIABAAAAPn/9v////D/8P8DAAEA8f8MAAIA//8EAP7//P/y/////P/6/wkABAD8/woA//8GAP3/8v8BAO3///8BAAUADgD7/wAABgD4//n/CAD3//7//v8CAAUAAwAJAAEA//8EAPr//v/5//v/CgD0/woADgD5/wQAAQABAPf/+f8BAAEA/v8HAAoA/f8DAP7/+f8DAAEA+P/+/wEA+/8CAAwA/f8AAP7/9v8DAP7/AwAAAP3////+/wEA//8GAPj/+v8EAPT//f8AAPb////8/wAAAwD6//3/AQD5//T/CQD3//v/AQD//wMA+f/8//n//v/4//b/BQDy//P//v/6/wkA9P/6//7/7f/8//v/AgD4//7/9f/6/wgA8P/+//3/9f/w/wAA/P/6//r/+P8AAPX//P8BAPP/+P8BAO//BgD3//j//v/4/wQA7f8HAO7//P/6//T/BwDw//r//f8FAPH/BwD5//H//P/y/wkA/P/7//7/AAD1/////f8AAPX/8/8BAPj/AgD0/w0A8f/5/wcA8/8FAPn//v/3/wcA+v8AAAgA+v8FAPn//P/+//z/9v8DAAIA+/8DAAIA+/////3//f8DAPX/BgACAAAACAD7/wEA/f/9/wEABwADAPr/AQD+//j/BAAGAAAAAAADAP7/AgABAP//BAD6/wMAAgAFAAQAAAD+//v/BAD5/wEABAD7/wEAAwACAAIAAAADAAEA/P8IAPv//v8HAAAAAgABAAQA+v/8/wIAAwD3/wIA+//2/wgA+v8FAAUA8/8DAPr/AAACAPz/BgD5//3/AgD///z//v////f//P////r/+f8CAPr/+v8AAAIA+//6////9f////X/CwD6//z/BAD0//3/8/8AAPP/AgD2//z/AgDv/wQA+P8AAPz/9P/7////7f8CAAcA9v8CAPn/AADw//v/9P/x//v/9//9/wQAAAD1//z/8//+//D//P8GAPH/AQACAAAA/P8AAPL/+P/0/+3/AQD2//v/AQD8//v//P/2//P////4//f/BAD0//7////4/wwA8P/+//v/8//6//L//v/3//b/AgABAAMA9f/3/wUA5//9/wkA+f////z/AgD6//7/+/8BAPX/+P/+//P/AwD3//7/AAADAPr///8AAP7//v/8/wUA///+//n/CwD5//v/BAD3/wQA8/8DAAMA+f8CAAAABAD+/wIAAwD//wMAAwAEAA0A/////wEA9P8AAP7/AgAMAP3/AQABAAAA+f///wYAAAAAAAMAEAD7/wAADAABAAMAAwAIAPn//f////z/BAAAAAcAAgAEAAIA+//6/wYA9/8DAAoA//8JAP3/BgD//wUA///9/wMA9f/8////AgD8/wUA//8JAPr//v8KAO7/BgD4//7/AwD//wEABgACAPj/BQD1//X/+P/w//3//f/5/wYABAD6//v//f/3//T/BADz/wEA/f/7/wEA9P8DAPf/9f/+//L/7v/y//X/8v/5/wYA8//8//3/7P8AAPX/7//7//v/9f/+//j/9v/0/+7/AgDw//X/8//u/+//8v/1//j//v/u//7////1//L/+P/z/+7//v/z//j/8//x//v/+P/0//j/7//t//r/9v/5//j//v/7//n/AwAAAPf/8/8FAPj/7f8DAPT/7v/8//7/AgD4//j/+//1//n//v8BAP7//f8KAAIABgACAPj/CwD4/wYAAgD6//7/9P8DAPz/DQD4/wkABgD4/wwA9v8IAP//BAAKAAsACAD//wkABgABAAcABwD5/wYA9f8KAP7/BAAPAPz/FgAIAAUAAgAOAP7/AQARAAEABwACAA8ACQAFAAAABwD8//X/AgD7/wQA/P8RABAACgAKAAIADAD8/wIACgD9/wcAAAALAAsA//8KAPr////3//v/+P/0/wYA+P8LABAA/v8FAAIA/f8CAPj/BQD7//v/AwD5/wsA8v////n////7/+z/AwDl//j/+f8CAAQA+v8HAP3//f/3//j/9v/v//H////v//z/9P/2//7/7/8AAOb/9//s/+r////0/wMA9P8KAP//7v8FAOn/7f/x/+r/+v/r//v/9P/x//r/7//y/+z/8P/z//H/+f8BAPP/AAD+//v/+f/0//z/8f/0/+n////i//L/AQDr/wIA7v/8//H/9f/3//f/9//+//3//v8EAPD/CADq/wEA9//5//r/7P8AAOT/BADs/wAA/P/7/w0A8/8IAPj/+f/+/wAA/v8FAPz/BAD9//7/AgDw/wIA7v////j/+v/+//r/BQACABMA/f8LAAoA+v8HAAEAAQABAAIACwAEAAYABwD1/wQA+v/5/wAAAQABAAAADwAOAAQAEgAEAAcAEwABAAgAAgALAPv/CgAVAPz/EAABAAkAAgD+/wMA/f8GAAYAEgAPABAACQAMAA0ABgAHAAgAAQAGAAUABQAMAPv/CgAEAAYACQABAAgA9v8FAAwAAAAPAA8ACwARAAkACQD9//3//P/3/wYAAAD9////AAAAAPn//f8BAPj/AAD5/wYAAAD5/wgA/f8PAPb/CAD5/+7////l/wAA7v/4//L/+f///+z/9v/0//T/6//9//T/+//x//7/9v/4//f/7f/9/+D//f/j/+//7P/n//f/4//8/+z/8//u//r/6v/x//L/6v/7/+n//P/q//T/7v/o/+v/7P/r/+P/8//l//X/5P/s//b/5//6//H/+f/4/+7/+P/v//X/9//m//3/9f/x//P/7//2/+T/7//1/+7/8P/1//j/+f/8/wIA+f/9/wEA9P8AAPf/AQD2//z/BQAFAPz/+v8IAPD//P/7////+v///wwAAgATAAkABQAEAAYAAQAGAP//DwAIAP//GAD//xMA+v8JAA4AAwAVAAMAFwAFABAAGQAOABoAEgAOAAoAFAAJAAYACwARAAsACgAWAAoABwAAABEADgAKABgAEQAQABEAFgANABAAFgAPAA4ADwAcAP//AQAOAAQA/P8LAA0AAAALAAEACgAAAAcA//8EAA8A/v8SAPr/CwD///r/BwD+/wcA8v8CAPf//v/u//r/AgDw/wMA/v/+//P/+f/y//L/+//5//f//v/0//f/8//g//7/5v/q//b/8P/w/+f/9P/o//L/8//x//b/+P/w/+n/7//x/+v/6P8AAPH/6//0/+z/4//n/+H/6f/o/+7/7//q//f/5v/q/+3/9P/z/+z/8f/4/+v/7v/5/+X//P/l//n/8v/l//P/2v/z/+r/9P/w//v/9P/t//X/8P/x/+n/+//p/wcA9f/2//j/6P/9/+v/AAD3/wAA+f/4//z/BAD6//D/DwD9/wgA/v8IAP3/7P8IAPr/AQD+//3//P8BAP7/BgD5////EAD3/xMABgALAAMAAwAfAAgAEgASAA8ACAAEAA8A//8GAAUACgAPABAADgADAAcABwAGAAUADgAMAA0AFQAWABIAEgAJAAsAEgAHABEACgALABIACwAUAAcAFQAGAAEAEgACAAQACAAGABQADgAIABoAAAACAA4A+f8MAP3/CAAMAAYAEwACAAUA/f8JAP7/+/8RAP//AQAJAA0A/P8EAAAA+v8DAPn/AgD0//v/+//6//3/+//8//H/+//5//n/9v/8//X/AQAEAPP/DgDm//r/+f/n/woA5P/z//j/7//1/+j/8P/x/+H/+P/y/+r/9v/j//v/5v/2//X/3v/4/+X/8//n//D/5v/r/+z/5////9T/9//l/+v/8P/l//j/3P/5/+v/7f/1/+P/7v/k/+T/9f/g/+n/9v/i//j/4//0/+z/4v/5/+f/+f/v//n/9P/8//z/9//2//j/9//o/wIA8v/z//X/+P///+///v/5//L/+v/9//v/AAAEAAkABwALAA8ACAAGAAcADQAGAAUACQASAAMAEAAPAAEADAD8/xEABQADABYAAQALAB0ABAAXAA0ADQASAPr/HAAFAAoADAARABkAAAAXAAsACAAKABMACAAOABMABgAYAAsAEwAKAAgAEwALAAIACAADAP//BQAHABAA+v8PAAAA//8IAPz/FgDx/xUAEQD4/xYA/f8KAAAA/v8NAPr/9P8BAPf/9//7//f/AQDz//7//P/x//7/8P/1//n//f8DAPP/+/8BAO3/8f/9/+v/7f/u//L/+P/t//b/9v/u//P/7f/y/+7/8P/1/+n/+v/o/+z/+v/e////5//p//b/4v/2/+r/9P/6/+//9v/z//P/9P/0//b/+P/3//r/7f/5//n/5//0//v/6//8//b/9P/4/+f//v/2//f/BAD3/wAAAQABAP//AwAIAPz//v8MAAAABgACAPz/EQD3/wEABQD7//3//f8CAAcA/v8LAA0A//8VAAEADgABAAUADwD6/xIACAAKAAQADwAGAAUAAgD//w4A+v8aAAkADwARAP//DgAEAAsABgADAAkABAD4/wQA9f/+//P/+/8IAPL/DADy/wcABgD2/xMA+v8GAAYA+v8GAPz//v8DAPr/CAD5//f/9//q//j/7//1//r//f/u//r/+v/u//z/7v8CAPD/+v8HAPL/BgD9/+v/9f/u//D/6//w//v/6f/8//n/8//3/+//AADr//z/+v/s/wEA7v/0//T/9P8CAPL/8v/6/+z/9P/1//f/AAD6/wQABAD2//3//v/6/wYA/v8AAAkA8f8BAPj/7/8HAPL////+//b/CwDw//3/BgDy/xAACAAFABQAAgAPAAIACAAPAP//EQAEAA4ABwAJAA8A/f8NAAQADQAHAAEADQAHAAkADAAPABMADAASABYABgAXAAIACAAPAA8AGwAQABwABQATAAoACwAMAPn/GQAAABAAEwD+/wsA/P///wkA//////3/+/////b/EQD//wMADwD//wsA7f8AAPX/5/8FAPz////6//7/8//r//P/6P/q//D/6//w/+3/7v/u/+P/8v/s//D/5v/w/+n/2//y/9j/7f/t/+T//f/k//H/7P/g//X/2//q//H/4v/v/97/4f/f/9z/8P/i//T/8//l/+3/5f/k/+n/8P/1//D/9//5//n/6P/x//r/6v8AAPf/+v/5//P/AgD5//v/+v8FAPf/9f8GAOv/9v8DAPv/CgAKAAkABgD5/wQA/P8FAA4ADQAdAAkAJAAbAAUAGQACABAAEAAKACEADwAPABwAFwAUAAwAFQAPAAgAGgAVABUAHwAWAB8AGQAeAB0ADgAZABQAGAAaACYAGQAfACAADwAbAAEAFQAFAAQAFwAHAB4ACQANABEAAwAMAA0AAwALAAEADQATAAYAFgAKABUA/v8NAAoABAAMAPj/DgD3/wkA+//x//j/8f/7/+//+//w/+3/8f/2/+j/8//v/+f/6//c/+7/3P/i/9//8P/s/+H/+f/Q/+X/4P/Z//r/6f/p//D/6P/s/9//3v/b/8j/5//d/9r/2v/W/97/0//h/+H/0v/U/9//2v/f/+3/5P/r/+z/8P/w/9v/5v/d/8//4//r/+n/5f/w/9r/3//g/8v/2//U/97/7v/x/+7/9P/t//X/7//2/wcA7f8DAAAA/P8FAP//CgD3/wkAEgD1/woAAQD6/w8ABwARABQAEwAOABUADAAGABcACwAbABQAFAAfABQAGAAPABgAHgARAB8AJQApACMALAAyABUAMgAlACQAKAAiACkAFgAyABQAIAAkABEAKgAeABwAHAAcACQALQAnADYALAAiACwAKQAgACEAHAAMACsAJwAwABoAFgAUAPz/GgANAAoADAAOABEAFAASABUADgADABMABwAYAAUA9P8EAAIABgD8//b//P/1//P//P/z/+z/7//6/+7/+f/+/+f/7v/o/+T/5f/g/9z/1P/c/9v/0P/Z/8z/wv/c/9f/1//R/9b/zP/P/9f/1P/T/8r/1f/C/9H/yP+9/8b/t//S/8b/yf/I/73/w/+5/8T/yP+8/8//yf/G/8b/u//P/7X/xf/R/8r/2//N/9n/zv/P/83/0P/O/8n/3f/b/97/3//j/+P/2f/y/+L/0//z/+H/7//v/+3//f/u////9//+//r/9//8/+//BgD7//T/BgAGAAgADQATAAUA/P8VAA8AGgAcABYAJQATACMAHAAZABwAJgA5AC0ARgA7ADQALQAqAEIAOgBCAE0APgBKAEsAQwBCADwASABPAE4ARwBKADkAMABNAEMAPgBLAEwAQwBJAFkAUgBKAE8AUgBWAEoASgBCAC0AMwA1AD4APgA/ADkAOAA2ADAAOQApACoALwArADYALwAZABkACAACABAABQANAAIACgAHAPr/8//r/+7/7//8/+n/8v/b/9b/zv/L/+f/wP/Z/8z/yP/F/7H/wf+s/77/xv/S/8T/u/++/6n/rv+s/7P/wf+l/6v/uP+a/53/nf+a/4//pP+s/6P/r/+O/5z/lf+a/57/mv+y/6L/pf+h/6D/p/+a/6j/q/+g/6r/nP+d/6D/n/+w/6v/uP+0/7//x//I/7z/uv/Q/8n/0P/Y/9L/1P/Q/8n/2//X/9v/5P/q//b/8f8JAPL//P8AAAAAEQD9/xgACgAPABsADwATAA4AIgAnADIAMAAkADEAJAAlADoAMQA/ADMAOAA6ADIAPAAwAE4ASABUAGUATABaAEwAXABWAFcAYgBFAF4AXQBeAGEAUABgAF0AYwBjAG0AVQBFAGgAYwBYAF8AYQBPAFYAXQBYAEgARQBPAEEAWABaAFQATgBFAFQATQA9AD0AOQAyADgAPQA6ABcAEAAYABcADgAVABUABgAkAB0AJQAkABsADAD//xgABwD+//j/7//f/+X/4//W/9X/zf/h/9T/y//T/8P/v//d/9v/yf/N/7//vP+//7n/tP+3/7P/vP++/7b/qf+l/5z/pf+v/6T/s/+p/67/qP+y/7f/qv+z/6b/yv+2/7P/wP+e/63/rP+j/7f/q/+h/7b/ov+u/6b/pP+p/7n/xP+1/8//pv+t/8H/v//P/8T/yP/B/8r/u//D/7z/tP/Z/8//wv/Q/8n/xP/w//H/7//2//D//f/y//f/7v/u/+r/9P8GAPH/GgALAPj/HAAiABwAEgAiAA8A/f8OABoAIwAeACIAQwA3ACQANwAzAC0ALgBOAEYANwA0ACoAMgAmAEkAOQAxAEIAPQBVAEoAUgBRAFgAYgBcAGkAXgBUAF4AVQBZAFYAQwBOAE8AUgBKAEgAQQBBAFkAYQBdAE4AVABPADcAMAA3AC4AOQAyACMAJQAVABwAEQASAAQACwAEAPj//P/p/wAADwATAAsAHQASABIAFgAGABIAEwAaAAIAEgD9/+r/4//a/+D/2//2/+v/AgD0//j/9v/q/wAA6v8AAP//9//1/+7/4P/a/7v/uv/E/7v/1v+7/9L/1v/b/9b/yv/Y/8D/2f/U/9v/1f/c/+H/0v/h/8b/0P/f/9X/zf/j/+P/1f/j/+b/9v/i/+v/7v/e/+H/3//d/8v/zP/J/9L/zv+9/9T/xv/A/9T/2v/c/+L/4f/b/9z/3P/p/+b/1P/U/9v/yv+8/77/1P/e/+H/8//o/+L/1P/n/+b/1v/s/+j/+P8HAAUABQAUAPz/9/8EAAcAGAAGAAUABwAVABEAGQAVABUAIgAfADAAJwAfABYAJgAJAAMAGwAcACEAHwArABsAHAAUAB0AFAAcADQALgAmADAARAApADoAPQAwACsAKwAYABAAAwD8/xQAEQArABgAJwA1ADIAIwAnAC8ADwAqABMAKgAuABkABAD3/wkA9//9/+//8//q//7/BgD4/wgABgAKAAkAEAAJAPz/AgAOAAYAEgD8/+D/9//o/9z/3v/f/+j/5f/z/wYA7P/7//7/+P8FAPL/AwD2//H//P/6/wkA///v//T/8//n//H/8P/s/+n/+v8KAP3/7v/3/+X/3v/U/8X/rP+v/wAA/P8GABMAAAD5//j/BwDv/wIACwAEAAkACgAFAPz//P8IABQAEAAdAA8ADwADAAMA+/8FABMAGgBKACkALQAwABIAIgAdACcAGQAHAC0AFQD6/wQAAgAAAOX/FgANAAMAFwAGABQACAAgAAQA+P8GAP//AgAGAAoA9//8/wQA8P/1/xUAAAAhABkACwD//+b/+f/k//j//v8SAPr/BAAJAPr/FQABAPj/5v/7/+L/3//g/+j/8//a/9r/5f/1/7P/yf/d/8n/5v/f/97/2f/C/83/z/+9/9X/1P/f/+3/4P/N/9D/xf/M/9X/yv/k/8v/y//K/8H/p/+k/7r/nP+u/9P/0v+8/9X/1v+x/8L/6P/W/8n/yf/U/77/p//M/7H/yP/c/9f/7P/2/+H/6//p/83/8P/Q/9f/3f/o/9//5/8GAP7/OQAnACgAJAARAA0ABAD8//z/JQArADEAJAAZABEAHwAWABwALwAtADsAGAAkADAAJAArAD0AMAAeACIAIwAZAAwAFQAgACkATwBhAEkAXAA+AE8APgA0AGUALQBAAD0AVQBYAE0AYQBOAGcAaQB4AGwAaQBeAFoAUgA5AEUAOwAtACgARQA6ACkAKQAwAB8AIwA2ABgAKwAnADIAMAAkAC4ANQA/AD0AOwAaADEAHgAEABoA+//i//z/EAD2/9r/zP////P/8f8mABgAIgD9/9z/8f/j/8L/1P/g/9H/0v/A/6z/kf+Y/4z/kP+5/7P/rf+w/6L/jf+q/7T/tP+8/5j/o/+P/3//gP9q/5//j/+M/3z/Uv9n/z7/Wf9z/3z/if+j/7T/sP+1/57/s/+v/7D/l/+l/3T/O/9b/2D/jf9m/4X/iv+j/6X/WP+f/6j/qv/J/9X/0P/k/8//wv/h/8//4P/F/+3/BwDt/xYAIQD+/+D//f8+ADoACwBZAEIAMgBmACsAJAAWACwAOwBBAGwAZABsAEAANwBzAHIAfQB1AFsAfgBoAFAAVwA5AEAAYABrAEUAOwAxAPr/KABFACIATwCDAGwAYgCDAFsAMgBJAFwAbABtAIAAZgBQAE8AQQBGADIAOAA1AD8AXgBZAEwAPAA4AGsAaQBVAFcAGQBPAFMATQB3ADgAIgAaAA8A6v/h//X/8/8LABQAEwATAO7/9////+D/8v/c/87/6f8AAPX/8P/e/+T/+v/Z/9//8v/1/+v/AQD8//n//v/8/8b/2f8HAMX/4//V/+X/+f/0//j/3f/c/+b/9//r/9b/7f8iAPX/AwD0/+3/3v/R/+//1f/q/6j/uv+v/6v/xP+0/7f/k/+i/3P/f/+g/5T/jP+m/6X/Yf9f/2z/O/9I/5f/fP+I/3n/YP9p/1L/cf9+/4v/gf+0/9r/kf+m/7j/iP+P/9T/8P/C/+r/9//Z/+X/4//8/wAAMgA8ACYAEgD2/yMABAASAGYAMQDS/xsAKQD7/y8AFwD//+X/IAAZAOX/GAAXAFIAPgBBADkA5//w/xYAWQBfAKQAswCJAJwAkQCRAFkATQBfAE8ARwBGADYADwDx//L/EAAdAFAAPgA4AGwARgB1AFsAKgBbADYAAwDd//D/zv/N/wMA+f8KABIAGAAjADsAQgBSAGMARwBSAJ4AlwCZAH4AXwBWADQAPQD1/2kALgAiAFkADABsACIAMgAeACUA5v+m/wEAvf+W/6D/w/+L/6b/jP+Q/+j/xv/B/9L/y//7/zMA6v8kAA4A9/8cAC8AKQDt/zEAGgAfAO//yf/k/8v/6P8sADsADgAUAPn/BAATAPb/8//+/87/wv+m/4j/lf+g/5L/lf+K/w7/qP+W/6n/jv8L/1f/iv7k/vT+7v76/tD+G//N/iH/dv/Y/+3/ZADJAKoApQBTACkAFwAkADoASwBAAEUADgDj/8P/xf8QAGgAnAC7APkAyQChAKUA2QD5ABUBAQG0AI4AkACNAHcAzACvAL4A7gCrAJcAfQCpAL8A3ADpALUA1wB4AF0ATwDi/0IASQBOAG4AhgCZAIoApgCCAKQAigB2AFYAKAAwABMAEQDs/9j/xv+n/3z/fP+F/7r/3//H//n/PQA3AL//1v/M/77/5P+//83/zP+3/6L/of+F/57/lv9M/y7/JP8Y/x3/L/8f/yv/A/8C/wn/Df8e/xT/K/9P/2//bv9Y/zb/Uf9A/0j/Pv83/1D/Lv9J/yj/Lf8G/xb/cf8+/2v/f/9q/6L/d/80/2b/q/9s/2j/cv83/4j/a/9i/4L/ef+N/1r/mf+i/5L/cv97/8j/df9k/4X/h/+k/7b/q/+8/97/AgAMAAwAHwArAGMAVwBsADYAFAA6APP/WgCMAMUA7wDZACABIgFmAVIBggGvAVsBogF0ASMBSgEcAfsANwEnAS8BSwFOAUYBRQFiAWgBkgFtAYsBrwGgAckBwwGVAWgBVAEiAVwBbAFnAaABdQGBAZQBgAGnAc0BxgHiAakBlgGSAVsBpAGNAVwBUwFFAfYAqgDBAKcAwADKAMsAuwCcAJAAVgAlABsADgDq/+z/7//5/5v/gv9//0H/gf9F/xv/xP6m/uH+nP7N/rz+rf7E/qX+nf6V/pT+Xv5a/lv+QP5h/lX+S/5v/jv+I/47/kP+CP7O/RX+7P3T/ej9+v0J/s394P3G/cv9sf2P/cj9rv2u/Z39hv2g/Wn9j/3c/cz9GP7z/ef9CP7k/ff9Kf56/k3+VP5f/kn+ev6u/nr+fv7h/tj+G/9T/13/cP/N/5T/nP8VAOz/QAAIAPv/+/8fAJgAWQB1AJQAwADPALgA2AAHAQQB7QD4AOkAAgEmATIBVAGHAZcBwAG0AboBngFqAacBewFuAZYB0wHQAdMB4gG8AcwBmgGwAckBCgIgAgECMwIUAhkCSQJrAlsCeQLBAtQCuwLNAgcD8wLtAqsCnALMArUCyAK6AuECCgMKA04DAQORAoICUAIrAkECYwJGAhwC8QF9AVMBNQERAfYACQFcAQwBEQEKAagAfwCCAJgASwBhABEAyP8XALD/k//Z/6T/af9W/3j/Xv9Z/5b/of/P/5X/cv9c/w3/Bv/H/nz+c/5p/iX+Of4h/gD+Hv7t/dD9pf2//ZD9Uv2c/an9dP1C/Ur99Pyu/Kr8ffx9/LT8Cf3Y/Nf8Cv3R/M38q/yE/Lb8ofyW/Nv81vyn/KL8yfzP/OL82Pz+/Bn9Bf0u/RT9ZP12/WH9kf2g/an91/0Q/tn9Hv4k/hP+Wv5Q/oX+hv6g/uf+4/4E/xL/Qf+P/4v/nf+3/+j/BADy/wkAFgBVAH0AdwCbAL4A0AD+AAgBJQFbAWgBjwGkAdgB8QH4ASwCNgJBAl8CeAKHAqsCxwLRAvsCIAMvA0sDXgN1A4ADggOUA54DowOjA60DswO2A7YDswO/A70DuAO0A7ADsAOvA7ADogOaA44DewNwA1wDUANHAy4DIgMPA/YC4gLNArcCpAKJAnMCXAJBAisCDgL4AdcBwQGgAYUBZwFKASwBDQH4ANAAygBnAPn///8AAP//AAA=\" type=\"audio/wav\" />\n",
              "                    Your browser does not support the audio element.\n",
              "                </audio>\n",
              "              "
            ],
            "text/plain": [
              "<IPython.lib.display.Audio object>"
            ]
          },
          "metadata": {},
          "output_type": "display_data"
        },
        {
          "data": {
            "text/html": [
              "<a href=\"file:///teamspace/studios/this_studio/audio_sample_0.wav\" download=\"audio_sample_0.wav\">Download audio_sample_0.wav</a>"
            ],
            "text/plain": [
              "<IPython.core.display.HTML object>"
            ]
          },
          "metadata": {},
          "output_type": "display_data"
        },
        {
          "name": "stdout",
          "output_type": "stream",
          "text": [
            "\n",
            "==================================================\n",
            "\n"
          ]
        }
      ],
      "source": [
        "import numpy as np\n",
        "import soundfile as sf\n",
        "from IPython.display import display, Audio, HTML\n",
        "import os\n",
        "\n",
        "def show_random_elements(dataset, num_examples=5):\n",
        "    assert num_examples <= len(dataset), \"Can't pick more elements than there are in the dataset.\"\n",
        "    for i in range(num_examples):\n",
        "        index = np.random.randint(0, len(dataset))\n",
        "        example = dataset[index]\n",
        "        \n",
        "        print(f\"Example {i+1}:\")\n",
        "        print(f\"Transcription: {example['transcription']}\")\n",
        "        print(f\"Speaker ID: {example['speaker_id']}\")\n",
        "        \n",
        "        audio_data = example[\"audio\"]\n",
        "        if isinstance(audio_data, dict) and \"array\" in audio_data and \"sampling_rate\" in audio_data:\n",
        "            audio_array = audio_data[\"array\"]\n",
        "            sampling_rate = audio_data[\"sampling_rate\"]\n",
        "            \n",
        "            print(f\"Audio length: {len(audio_array) / sampling_rate:.2f} seconds\")\n",
        "            \n",
        "            # Save as WAV file\n",
        "            filename = f\"audio_sample_{i}.wav\"\n",
        "            sf.write(filename, audio_array, sampling_rate)\n",
        "            print(f\"Audio saved as: {filename}\")\n",
        "            \n",
        "            # Display audio player (this may or may not work depending on your environment)\n",
        "            display(Audio(data=audio_array, rate=sampling_rate))\n",
        "            \n",
        "            # Provide a download link\n",
        "            file_path = os.path.abspath(filename)\n",
        "            display(HTML(f'<a href=\"file://{file_path}\" download=\"{filename}\">Download {filename}</a>'))\n",
        "        \n",
        "        else:\n",
        "            print(\"Audio: Unexpected format\")\n",
        "        \n",
        "        print(\"\\n\" + \"=\"*50 + \"\\n\")\n",
        "\n",
        "# Use the function\n",
        "show_random_elements(train_dataset, num_examples=1)"
      ]
    },
    {
      "cell_type": "code",
      "execution_count": 23,
      "metadata": {
        "id": "svKzVJ_hQGK6"
      },
      "outputs": [],
      "source": [
        "import re\n",
        "chars_to_remove_regex = '[\\,\\?\\.\\!\\-\\;\\:\\\"\\“\\%\\‘\\”\\�\\']'\n",
        "\n",
        "def remove_special_characters(batch):\n",
        "    batch[\"transcription\"] = re.sub(chars_to_remove_regex, '', batch[\"transcription\"]).lower()\n",
        "    return batch"
      ]
    },
    {
      "cell_type": "code",
      "execution_count": 24,
      "metadata": {
        "colab": {
          "base_uri": "https://localhost:8080/",
          "height": 81,
          "referenced_widgets": [
            "0916726aebc54174b1f04a34b58b96fe",
            "880a6659daec40ffb8bbe7f134bf0c3e",
            "2120e88c22364be189498b9a3c076dad",
            "b3cf4a431aab4a2c8d85a5da78e0b9bc",
            "6410a6ac383e4d8da2036e1d05d29ba8",
            "ab55b0085e394a8380678c13bfc34d63",
            "98a9c8f47e0c49dba53b0acd16e9864d",
            "c468c89b5eb7458387c9e3bec48eafa2",
            "432f2c3371a94926902e792aff89f0b1",
            "b2ba19ee4dcf4ba6b537e151079789ab",
            "301cc631a3ef487c9f0a379071810da4",
            "1db58d1db1ea4ba4ad4041780372b29e",
            "f84b01a119354da5a387f570e2bb20f6",
            "b497f1d13e064c1f85689110859dfde7",
            "985ecb40edfd40af8b72cc9a7fe52eee",
            "5bdcd4bc1eac45d5b75747700507f3ac",
            "672e96d17e4c402490588d04f28d67ab",
            "2187411cd2bc4c4cb9b1edc43fe0458d",
            "86e9bf5e58994e22b526ea87231dc5b4",
            "104d2af972ee47f1b14ea0faf692035c",
            "72b54f71afc247879962dd0fed69a999",
            "a2953141df264e6dafe30e4e7f1ea561"
          ]
        },
        "id": "XIHocAuTQbBR",
        "outputId": "2af777d8-4ab3-4fc6-b0fd-7c32ba8e41df"
      },
      "outputs": [
        {
          "data": {
            "application/vnd.jupyter.widget-view+json": {
              "model_id": "cee40527cd4a4fe5865f30b69ee50eeb",
              "version_major": 2,
              "version_minor": 0
            },
            "text/plain": [
              "Map:   0%|          | 0/2000 [00:00<?, ? examples/s]"
            ]
          },
          "metadata": {},
          "output_type": "display_data"
        },
        {
          "data": {
            "application/vnd.jupyter.widget-view+json": {
              "model_id": "a10a108834bb46c98a99aed76129091e",
              "version_major": 2,
              "version_minor": 0
            },
            "text/plain": [
              "Map:   0%|          | 0/500 [00:00<?, ? examples/s]"
            ]
          },
          "metadata": {},
          "output_type": "display_data"
        }
      ],
      "source": [
        "train_dataset = train_dataset.map(remove_special_characters)\n",
        "test_dataset = test_dataset.map(remove_special_characters)"
      ]
    },
    {
      "cell_type": "code",
      "execution_count": 25,
      "metadata": {
        "id": "LwCshNbbeRZR"
      },
      "outputs": [],
      "source": [
        "def extract_all_chars(batch):\n",
        "  all_text = \" \".join(batch[\"transcription\"])\n",
        "  vocab = list(set(all_text))\n",
        "  return {\"vocab\": [vocab], \"all_text\": [all_text]}"
      ]
    },
    {
      "cell_type": "code",
      "execution_count": 26,
      "metadata": {
        "colab": {
          "base_uri": "https://localhost:8080/",
          "height": 81,
          "referenced_widgets": [
            "a26bd9bb24bb441287caa7b62089780f",
            "efcc0cb02fb24f7da9f6bca8d283c77b",
            "ffb79698dedd4a45aa75805ef8e973e7",
            "0f2d26f92c9b4db2b67d48176c982483",
            "8189bed1aafc4944bea3ad0e5a5ee0fb",
            "d5e40b24df5d4d909660d1789fbf6f32",
            "8eb71778c21f414e9968469a0cef9dba",
            "358ed0628e68425a9463818762764d74",
            "0779eb9b72ae46289bdffd4fe6a2aaa8",
            "e76b0f11e396424dac7818b3b52f67fb",
            "fcc035da73b54b808ad83ff7cf572aed",
            "467d65013eeb4e0090f5b3df748f06be",
            "e84db8073fb7467a9cb209667ad72148",
            "037cdadf41414d0fb92b4c4474857e26",
            "9ea0167433d04e3ab127c1506522a0c4",
            "a90dacde984e46bfac1d75baed34b604",
            "689487d77913425490936175daaec991",
            "10bd0f8ccbb348148ce1f496a610f4a7",
            "a4c00aa8c56d4754922e95513ec77eb5",
            "e4150d45c7b94126a62548c1aa11ea57",
            "839aea443cae470c94aff78eb54145ae",
            "610748641993409682ed9e91877982ca"
          ]
        },
        "id": "_m6uUjjcfbjH",
        "outputId": "b136c7d6-ebb5-4049-f482-5930ad33997b"
      },
      "outputs": [
        {
          "data": {
            "application/vnd.jupyter.widget-view+json": {
              "model_id": "6bd1fb8cf3f74b9194a54c159a1b5f51",
              "version_major": 2,
              "version_minor": 0
            },
            "text/plain": [
              "Map:   0%|          | 0/2000 [00:00<?, ? examples/s]"
            ]
          },
          "metadata": {},
          "output_type": "display_data"
        },
        {
          "data": {
            "application/vnd.jupyter.widget-view+json": {
              "model_id": "f953808eea6f445cbc09e7123c823859",
              "version_major": 2,
              "version_minor": 0
            },
            "text/plain": [
              "Map:   0%|          | 0/500 [00:00<?, ? examples/s]"
            ]
          },
          "metadata": {},
          "output_type": "display_data"
        }
      ],
      "source": [
        "vocab_train = train_dataset.map(extract_all_chars, batched=True, batch_size=-1, keep_in_memory=True, remove_columns=train_dataset.column_names)\n",
        "vocab_test = test_dataset.map(extract_all_chars, batched=True, batch_size=-1, keep_in_memory=True, remove_columns=test_dataset.column_names)"
      ]
    },
    {
      "cell_type": "code",
      "execution_count": 27,
      "metadata": {
        "id": "aQfneNsmlJI0"
      },
      "outputs": [],
      "source": [
        "vocab_list = list(set(vocab_train[\"vocab\"][0]) | set(vocab_test[\"vocab\"][0]))"
      ]
    },
    {
      "cell_type": "code",
      "execution_count": 28,
      "metadata": {
        "colab": {
          "base_uri": "https://localhost:8080/"
        },
        "id": "_0kRndSvqaKk",
        "outputId": "e1bd854f-dd28-4519-aeec-f2383d274a66"
      },
      "outputs": [
        {
          "data": {
            "text/plain": [
              "{' ': 0,\n",
              " 'a': 1,\n",
              " 'b': 2,\n",
              " 'c': 3,\n",
              " 'd': 4,\n",
              " 'e': 5,\n",
              " 'f': 6,\n",
              " 'g': 7,\n",
              " 'h': 8,\n",
              " 'i': 9,\n",
              " 'j': 10,\n",
              " 'k': 11,\n",
              " 'l': 12,\n",
              " 'm': 13,\n",
              " 'n': 14,\n",
              " 'o': 15,\n",
              " 'p': 16,\n",
              " 'q': 17,\n",
              " 'r': 18,\n",
              " 's': 19,\n",
              " 't': 20,\n",
              " 'u': 21,\n",
              " 'v': 22,\n",
              " 'w': 23,\n",
              " 'x': 24,\n",
              " 'y': 25,\n",
              " 'z': 26}"
            ]
          },
          "execution_count": 28,
          "metadata": {},
          "output_type": "execute_result"
        }
      ],
      "source": [
        "vocab_dict = {v: k for k, v in enumerate(sorted(vocab_list))}\n",
        "vocab_dict"
      ]
    },
    {
      "cell_type": "code",
      "execution_count": 29,
      "metadata": {
        "id": "npbIbBoLgaFX"
      },
      "outputs": [],
      "source": [
        "vocab_dict[\"|\"] = vocab_dict[\" \"]\n",
        "del vocab_dict[\" \"]"
      ]
    },
    {
      "cell_type": "code",
      "execution_count": 30,
      "metadata": {
        "colab": {
          "base_uri": "https://localhost:8080/"
        },
        "id": "znF0bNunsjbl",
        "outputId": "0352978a-1dbd-45fb-a9f4-4b9c4f49aa12"
      },
      "outputs": [
        {
          "data": {
            "text/plain": [
              "29"
            ]
          },
          "execution_count": 30,
          "metadata": {},
          "output_type": "execute_result"
        }
      ],
      "source": [
        "vocab_dict[\"[UNK]\"] = len(vocab_dict)\n",
        "vocab_dict[\"[PAD]\"] = len(vocab_dict)\n",
        "len(vocab_dict)"
      ]
    },
    {
      "cell_type": "code",
      "execution_count": 31,
      "metadata": {},
      "outputs": [
        {
          "data": {
            "text/plain": [
              "{'a': 1,\n",
              " 'b': 2,\n",
              " 'c': 3,\n",
              " 'd': 4,\n",
              " 'e': 5,\n",
              " 'f': 6,\n",
              " 'g': 7,\n",
              " 'h': 8,\n",
              " 'i': 9,\n",
              " 'j': 10,\n",
              " 'k': 11,\n",
              " 'l': 12,\n",
              " 'm': 13,\n",
              " 'n': 14,\n",
              " 'o': 15,\n",
              " 'p': 16,\n",
              " 'q': 17,\n",
              " 'r': 18,\n",
              " 's': 19,\n",
              " 't': 20,\n",
              " 'u': 21,\n",
              " 'v': 22,\n",
              " 'w': 23,\n",
              " 'x': 24,\n",
              " 'y': 25,\n",
              " 'z': 26,\n",
              " '|': 0,\n",
              " '[UNK]': 27,\n",
              " '[PAD]': 28}"
            ]
          },
          "execution_count": 31,
          "metadata": {},
          "output_type": "execute_result"
        }
      ],
      "source": [
        "vocab_dict"
      ]
    },
    {
      "cell_type": "code",
      "execution_count": 32,
      "metadata": {
        "id": "ehyUoh9vk191"
      },
      "outputs": [],
      "source": [
        "import json\n",
        "with open('vocab.json', 'w') as vocab_file:\n",
        "    json.dump(vocab_dict, vocab_file)"
      ]
    },
    {
      "cell_type": "code",
      "execution_count": 33,
      "metadata": {},
      "outputs": [
        {
          "name": "stdout",
          "output_type": "stream",
          "text": [
            "Requirement already satisfied: transformers in /system/conda/miniconda3/envs/cloudspace/lib/python3.10/site-packages (4.43.2)\n",
            "Requirement already satisfied: filelock in /system/conda/miniconda3/envs/cloudspace/lib/python3.10/site-packages (from transformers) (3.15.4)\n",
            "Requirement already satisfied: huggingface-hub<1.0,>=0.23.2 in /system/conda/miniconda3/envs/cloudspace/lib/python3.10/site-packages (from transformers) (0.24.2)\n",
            "Requirement already satisfied: numpy>=1.17 in /system/conda/miniconda3/envs/cloudspace/lib/python3.10/site-packages (from transformers) (1.26.4)\n",
            "Requirement already satisfied: packaging>=20.0 in /system/conda/miniconda3/envs/cloudspace/lib/python3.10/site-packages (from transformers) (24.1)\n",
            "Requirement already satisfied: pyyaml>=5.1 in /system/conda/miniconda3/envs/cloudspace/lib/python3.10/site-packages (from transformers) (6.0.1)\n",
            "Requirement already satisfied: regex!=2019.12.17 in /system/conda/miniconda3/envs/cloudspace/lib/python3.10/site-packages (from transformers) (2024.7.24)\n",
            "Requirement already satisfied: requests in /system/conda/miniconda3/envs/cloudspace/lib/python3.10/site-packages (from transformers) (2.32.3)\n",
            "Requirement already satisfied: tokenizers<0.20,>=0.19 in /system/conda/miniconda3/envs/cloudspace/lib/python3.10/site-packages (from transformers) (0.19.1)\n",
            "Requirement already satisfied: safetensors>=0.4.1 in /system/conda/miniconda3/envs/cloudspace/lib/python3.10/site-packages (from transformers) (0.4.3)\n",
            "Requirement already satisfied: tqdm>=4.27 in /system/conda/miniconda3/envs/cloudspace/lib/python3.10/site-packages (from transformers) (4.66.4)\n",
            "Requirement already satisfied: fsspec>=2023.5.0 in /system/conda/miniconda3/envs/cloudspace/lib/python3.10/site-packages (from huggingface-hub<1.0,>=0.23.2->transformers) (2024.5.0)\n",
            "Requirement already satisfied: typing-extensions>=3.7.4.3 in /system/conda/miniconda3/envs/cloudspace/lib/python3.10/site-packages (from huggingface-hub<1.0,>=0.23.2->transformers) (4.12.2)\n",
            "Requirement already satisfied: charset-normalizer<4,>=2 in /system/conda/miniconda3/envs/cloudspace/lib/python3.10/site-packages (from requests->transformers) (3.3.2)\n",
            "Requirement already satisfied: idna<4,>=2.5 in /system/conda/miniconda3/envs/cloudspace/lib/python3.10/site-packages (from requests->transformers) (3.7)\n",
            "Requirement already satisfied: urllib3<3,>=1.21.1 in /system/conda/miniconda3/envs/cloudspace/lib/python3.10/site-packages (from requests->transformers) (2.2.2)\n",
            "Requirement already satisfied: certifi>=2017.4.17 in /system/conda/miniconda3/envs/cloudspace/lib/python3.10/site-packages (from requests->transformers) (2024.7.4)\n",
            "Note: you may need to restart the kernel to use updated packages.\n"
          ]
        }
      ],
      "source": [
        "%pip install transformers"
      ]
    },
    {
      "cell_type": "code",
      "execution_count": 34,
      "metadata": {
        "id": "xriFGEWQkO4M"
      },
      "outputs": [
        {
          "name": "stderr",
          "output_type": "stream",
          "text": [
            "The cache for model files in Transformers v4.22.0 has been updated. Migrating your old cache. This is a one-time only operation. You can interrupt this and resume the migration later on by calling `transformers.utils.move_cache()`.\n"
          ]
        },
        {
          "data": {
            "application/vnd.jupyter.widget-view+json": {
              "model_id": "a900689387a540eaa330ed83e7f861fc",
              "version_major": 2,
              "version_minor": 0
            },
            "text/plain": [
              "0it [00:00, ?it/s]"
            ]
          },
          "metadata": {},
          "output_type": "display_data"
        }
      ],
      "source": [
        "from transformers import Wav2Vec2CTCTokenizer\n",
        "\n",
        "tokenizer = Wav2Vec2CTCTokenizer(vocab_file=\"vocab.json\", vocab_dict=vocab_dict, unk_token=\"[UNK]\", pad_token=\"[PAD]\", word_delimiter_token=\"|\")"
      ]
    },
    {
      "cell_type": "code",
      "execution_count": 35,
      "metadata": {},
      "outputs": [
        {
          "name": "stdout",
          "output_type": "stream",
          "text": [
            "Tokenizer vocabulary size: 31\n",
            "Special tokens: {'bos_token': '<s>', 'eos_token': '</s>', 'unk_token': '[UNK]', 'pad_token': '[PAD]'}\n",
            "All tokens: ['a', 'b', 'c', 'd', 'e', 'f', 'g', 'h', 'i', 'j', 'k', 'l', 'm', 'n', 'o', 'p', 'q', 'r', 's', 't', 'u', 'v', 'w', 'x', 'y', 'z', '|', '[UNK]', '[PAD]', '<s>', '</s>']\n"
          ]
        }
      ],
      "source": [
        "print(\"Tokenizer vocabulary size:\", len(tokenizer))\n",
        "print(\"Special tokens:\", tokenizer.special_tokens_map)\n",
        "print(\"All tokens:\", list(tokenizer.get_vocab().keys()))\n",
        "\n"
      ]
    },
    {
      "cell_type": "code",
      "execution_count": 36,
      "metadata": {
        "id": "A1XApZBAF2zr"
      },
      "outputs": [],
      "source": [
        "repo_name = \"wav2vec2-large-960h-lv60-self-dysarthria\"\n",
        "user_name = \"jmaczan\""
      ]
    },
    {
      "cell_type": "code",
      "execution_count": 37,
      "metadata": {
        "colab": {
          "base_uri": "https://localhost:8080/",
          "height": 54
        },
        "id": "zytE1175GAKM",
        "outputId": "c6a1557d-6141-44cb-d5d7-3bf720da7c24"
      },
      "outputs": [
        {
          "data": {
            "application/vnd.jupyter.widget-view+json": {
              "model_id": "d0b7a2ff22f94ae4a0bb4f10ade499b7",
              "version_major": 2,
              "version_minor": 0
            },
            "text/plain": [
              "README.md:   0%|          | 0.00/2.48k [00:00<?, ?B/s]"
            ]
          },
          "metadata": {},
          "output_type": "display_data"
        },
        {
          "data": {
            "text/plain": [
              "CommitInfo(commit_url='https://huggingface.co/jmaczan/wav2vec2-large-960h-lv60-self-dysarthria/commit/0a549bef883cf835520fa5bac3458e106b6b7590', commit_message='Upload tokenizer', commit_description='', oid='0a549bef883cf835520fa5bac3458e106b6b7590', pr_url=None, pr_revision=None, pr_num=None)"
            ]
          },
          "execution_count": 37,
          "metadata": {},
          "output_type": "execute_result"
        }
      ],
      "source": [
        "tokenizer.push_to_hub(repo_name, token=token)"
      ]
    },
    {
      "cell_type": "code",
      "execution_count": 38,
      "metadata": {
        "id": "kAR0-2KLkopp"
      },
      "outputs": [],
      "source": [
        "from transformers import Wav2Vec2FeatureExtractor\n",
        "\n",
        "feature_extractor = Wav2Vec2FeatureExtractor(feature_size=1, sampling_rate=16000, padding_value=0.0, do_normalize=True, return_attention_mask=True)"
      ]
    },
    {
      "cell_type": "code",
      "execution_count": 39,
      "metadata": {
        "id": "KYZtoW-tlZgl"
      },
      "outputs": [],
      "source": [
        "from transformers import Wav2Vec2Processor\n",
        "\n",
        "processor = Wav2Vec2Processor(feature_extractor=feature_extractor, tokenizer=tokenizer)"
      ]
    },
    {
      "cell_type": "code",
      "execution_count": 40,
      "metadata": {
        "colab": {
          "base_uri": "https://localhost:8080/"
        },
        "id": "qj_z5Zc3GAs9",
        "outputId": "3312fe14-bcb3-48d5-eca0-723c0863b86b"
      },
      "outputs": [
        {
          "data": {
            "text/plain": [
              "{'path': 'M11_B3_CW59_M8.wav',\n",
              " 'array': array([ 3.96728516e-04,  7.01904297e-04,  3.66210938e-04, ...,\n",
              "         6.10351562e-05, -3.05175781e-05,  0.00000000e+00]),\n",
              " 'sampling_rate': 16000}"
            ]
          },
          "execution_count": 40,
          "metadata": {},
          "output_type": "execute_result"
        }
      ],
      "source": [
        "train_dataset[0][\"audio\"]"
      ]
    },
    {
      "cell_type": "code",
      "execution_count": 41,
      "metadata": {
        "colab": {
          "base_uri": "https://localhost:8080/",
          "height": 80
        },
        "id": "dueM6U7Ev0OA",
        "outputId": "c3f72d5e-3f6c-4703-e840-64ac4009b66a"
      },
      "outputs": [
        {
          "name": "stdout",
          "output_type": "stream",
          "text": [
            "avenues\n"
          ]
        },
        {
          "data": {
            "text/html": [
              "\n",
              "                <audio  controls=\"controls\" >\n",
              "                    <source src=\"data:audio/wav;base64,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\" type=\"audio/wav\" />\n",
              "                    Your browser does not support the audio element.\n",
              "                </audio>\n",
              "              "
            ],
            "text/plain": [
              "<IPython.lib.display.Audio object>"
            ]
          },
          "execution_count": 41,
          "metadata": {},
          "output_type": "execute_result"
        }
      ],
      "source": [
        "import IPython.display as ipd\n",
        "import numpy as np\n",
        "import random\n",
        "\n",
        "rand_int = random.randint(0, len(train_dataset)-1)\n",
        "\n",
        "print(train_dataset[rand_int][\"transcription\"])\n",
        "ipd.Audio(data=train_dataset[rand_int][\"audio\"][\"array\"], autoplay=False, rate=16000)"
      ]
    },
    {
      "cell_type": "code",
      "execution_count": 42,
      "metadata": {
        "colab": {
          "base_uri": "https://localhost:8080/"
        },
        "id": "1Po2g7YPuRTx",
        "outputId": "dbc964ea-afe5-49d7-dcce-4873412046b1"
      },
      "outputs": [
        {
          "name": "stdout",
          "output_type": "stream",
          "text": [
            "Target text: we\n",
            "Input array shape: [ 1.22070312e-04  1.52587891e-04  9.15527344e-05 ... -9.15527344e-05\n",
            "  0.00000000e+00  0.00000000e+00]\n",
            "Sampling rate: 16000\n"
          ]
        }
      ],
      "source": [
        "rand_int = random.randint(0, len(train_dataset)-1)\n",
        "\n",
        "print(\"Target text:\", train_dataset[rand_int][\"transcription\"])\n",
        "print(\"Input array shape:\", train_dataset[rand_int][\"audio\"][\"array\"])#.shape)\n",
        "print(\"Sampling rate:\", train_dataset[rand_int][\"audio\"][\"sampling_rate\"])"
      ]
    },
    {
      "cell_type": "code",
      "execution_count": 43,
      "metadata": {
        "id": "eJY7I0XAwe9p"
      },
      "outputs": [],
      "source": [
        "def prepare_dataset(batch):\n",
        "    audio = batch[\"audio\"]\n",
        "\n",
        "    # batched output is \"un-batched\"\n",
        "    batch[\"input_values\"] = processor(audio[\"array\"], sampling_rate=audio[\"sampling_rate\"]).input_values[0]\n",
        "    batch[\"input_length\"] = len(batch[\"input_values\"])\n",
        "\n",
        "    with processor.as_target_processor():\n",
        "        batch[\"labels\"] = processor(batch[\"transcription\"]).input_ids\n",
        "    return batch"
      ]
    },
    {
      "cell_type": "code",
      "execution_count": 44,
      "metadata": {
        "colab": {
          "base_uri": "https://localhost:8080/",
          "height": 138,
          "referenced_widgets": [
            "5e62d1001ec24c58953fdc7745158d0f",
            "693ca38f0f424b1d86d204d33edb75a4",
            "31a5e1b2bc6445a98e17a1a8a272f829",
            "912776653b4c43c0be79b6acf38f6c27",
            "f6bc7614de9d4eefb6cbf813c6082330",
            "1a367b9a8cf048d3ac3b39b62e72fc25",
            "ff328afaf575441c9786596a6e5c1d3e",
            "360b17788282485792884acac7f39a1d",
            "179ff20203cd46d0923fd5bccacd5b60",
            "c7b0ccc72dc745b3a3ade7ca783ffd8b",
            "6959f7fba2464e7687ab251252ef29de",
            "ed207b4a9c9942cfb94e042264a00c59",
            "7e6c2b5f288f4891b3f8c9afb5a17916",
            "8244da5987494c3abfbabdf43c5de63e",
            "9a3d2c405ace485296df5a069028e0df",
            "c3983d35e20a4f4ebaeebfde59324e15",
            "a719f49c00d943028df290cc77d73c28",
            "36a4a4430cb04dc18de80bd8bd32df37",
            "62d8da282a6645ceb7178f134bc70d11",
            "58e086351a6f4de583d46be71230b14b",
            "7eeb778be4b246baa25a00a1ae16e859",
            "c333a63a98f046f8ab172b45babf0c94"
          ]
        },
        "id": "-np9xYK-wl8q",
        "outputId": "813daa59-35e3-4907-eac1-1b615db0cad4"
      },
      "outputs": [
        {
          "data": {
            "application/vnd.jupyter.widget-view+json": {
              "model_id": "c3a2a5ef48564117a987af6f30eabb81",
              "version_major": 2,
              "version_minor": 0
            },
            "text/plain": [
              "Map:   0%|          | 0/2000 [00:00<?, ? examples/s]"
            ]
          },
          "metadata": {},
          "output_type": "display_data"
        },
        {
          "name": "stderr",
          "output_type": "stream",
          "text": [
            "/home/zeus/miniconda3/envs/cloudspace/lib/python3.10/site-packages/transformers/models/wav2vec2/processing_wav2vec2.py:157: UserWarning: `as_target_processor` is deprecated and will be removed in v5 of Transformers. You can process your labels by using the argument `text` of the regular `__call__` method (either in the same call as your audio inputs, or in a separate call.\n",
            "  warnings.warn(\n"
          ]
        },
        {
          "data": {
            "application/vnd.jupyter.widget-view+json": {
              "model_id": "c47c9495f85c4846911ccd062f6876fb",
              "version_major": 2,
              "version_minor": 0
            },
            "text/plain": [
              "Map:   0%|          | 0/500 [00:00<?, ? examples/s]"
            ]
          },
          "metadata": {},
          "output_type": "display_data"
        }
      ],
      "source": [
        "train_dataset = train_dataset.map(prepare_dataset, remove_columns=train_dataset.column_names)\n",
        "test_dataset = test_dataset.map(prepare_dataset, remove_columns=test_dataset.column_names)"
      ]
    },
    {
      "cell_type": "markdown",
      "metadata": {
        "id": "gYlQkKVoRUos"
      },
      "source": [
        "### Training\n"
      ]
    },
    {
      "cell_type": "code",
      "execution_count": 45,
      "metadata": {
        "id": "tborvC9hx88e"
      },
      "outputs": [],
      "source": [
        "import torch\n",
        "\n",
        "from dataclasses import dataclass, field\n",
        "from typing import Any, Dict, List, Optional, Union\n",
        "\n",
        "@dataclass\n",
        "class DataCollatorCTCWithPadding:\n",
        "    \"\"\"\n",
        "    Data collator that will dynamically pad the inputs received.\n",
        "    Args:\n",
        "        processor (:class:`~transformers.Wav2Vec2Processor`)\n",
        "            The processor used for proccessing the data.\n",
        "        padding (:obj:`bool`, :obj:`str` or :class:`~transformers.tokenization_utils_base.PaddingStrategy`, `optional`, defaults to :obj:`True`):\n",
        "            Select a strategy to pad the returned sequences (according to the model's padding side and padding index)\n",
        "            among:\n",
        "            * :obj:`True` or :obj:`'longest'`: Pad to the longest sequence in the batch (or no padding if only a single\n",
        "              sequence if provided).\n",
        "            * :obj:`'max_length'`: Pad to a maximum length specified with the argument :obj:`max_length` or to the\n",
        "              maximum acceptable input length for the model if that argument is not provided.\n",
        "            * :obj:`False` or :obj:`'do_not_pad'` (default): No padding (i.e., can output a batch with sequences of\n",
        "              different lengths).\n",
        "    \"\"\"\n",
        "\n",
        "    processor: Wav2Vec2Processor\n",
        "    padding: Union[bool, str] = True\n",
        "\n",
        "    def __call__(self, features: List[Dict[str, Union[List[int], torch.Tensor]]]) -> Dict[str, torch.Tensor]:\n",
        "        # split inputs and labels since they have to be of different lenghts and need\n",
        "        # different padding methods\n",
        "        input_features = [{\"input_values\": feature[\"input_values\"]} for feature in features]\n",
        "        label_features = [{\"input_ids\": feature[\"labels\"]} for feature in features]\n",
        "\n",
        "        batch = self.processor.pad(\n",
        "            input_features,\n",
        "            padding=self.padding,\n",
        "            return_tensors=\"pt\",\n",
        "        )\n",
        "        with self.processor.as_target_processor():\n",
        "            labels_batch = self.processor.pad(\n",
        "                label_features,\n",
        "                padding=self.padding,\n",
        "                return_tensors=\"pt\",\n",
        "            )\n",
        "\n",
        "        # replace padding with -100 to ignore loss correctly\n",
        "        labels = labels_batch[\"input_ids\"].masked_fill(labels_batch.attention_mask.ne(1), -100)\n",
        "\n",
        "        batch[\"labels\"] = labels\n",
        "\n",
        "        return batch"
      ]
    },
    {
      "cell_type": "code",
      "execution_count": 46,
      "metadata": {
        "id": "lbQf5GuZyQ4_"
      },
      "outputs": [],
      "source": [
        "data_collator = DataCollatorCTCWithPadding(processor=processor, padding=True)"
      ]
    },
    {
      "cell_type": "code",
      "execution_count": 47,
      "metadata": {
        "colab": {
          "base_uri": "https://localhost:8080/",
          "height": 180,
          "referenced_widgets": [
            "30900042f0e54d739dfb6a2482ea2f4d",
            "028a7812d0554189bc9bea7f8e5508ec",
            "fb6991d1728747a3a8af407be3baa771",
            "c7b8ec474805477ba3f2c91896f8e104",
            "e78aa460bfcf488b85ac63be29cae346",
            "ba2927af84104863a1776675aaad0aa1",
            "d004186078644da7ae1a96bd7665da01",
            "b45daecba2764f5180dc0e52a682a2b2",
            "11ca84f8e50143d4b25cb2e686fafe73",
            "a3a217d301ef4bacb3bca719be5ef734",
            "8dcbfac0422d4e8492cd94d6693714f4"
          ]
        },
        "id": "9Xsux2gmyXso",
        "outputId": "940dbb25-822a-4768-ad01-8a456e6a154b"
      },
      "outputs": [
        {
          "name": "stderr",
          "output_type": "stream",
          "text": [
            "/tmp/ipykernel_2517/24688115.py:1: FutureWarning: load_metric is deprecated and will be removed in the next major version of datasets. Use 'evaluate.load' instead, from the new library 🤗 Evaluate: https://huggingface.co/docs/evaluate\n",
            "  wer_metric = load_metric(\"wer\")\n"
          ]
        }
      ],
      "source": [
        "wer_metric = load_metric(\"wer\")"
      ]
    },
    {
      "cell_type": "code",
      "execution_count": 48,
      "metadata": {
        "id": "1XZ-kjweyTy_"
      },
      "outputs": [],
      "source": [
        "def compute_metrics(pred):\n",
        "    pred_logits = pred.predictions\n",
        "    pred_ids = np.argmax(pred_logits, axis=-1)\n",
        "\n",
        "    pred.label_ids[pred.label_ids == -100] = processor.tokenizer.pad_token_id\n",
        "\n",
        "    pred_str = processor.batch_decode(pred_ids)\n",
        "    # we do not want to group tokens when computing the metrics\n",
        "    label_str = processor.batch_decode(pred.label_ids, group_tokens=False)\n",
        "\n",
        "    wer = wer_metric.compute(predictions=pred_str, references=label_str)\n",
        "\n",
        "    return {\"wer\": wer}"
      ]
    },
    {
      "cell_type": "code",
      "execution_count": 49,
      "metadata": {},
      "outputs": [
        {
          "name": "stdout",
          "output_type": "stream",
          "text": [
            "Requirement already satisfied: flash-attn in /system/conda/miniconda3/envs/cloudspace/lib/python3.10/site-packages (2.6.3)\n",
            "Requirement already satisfied: torch in /system/conda/miniconda3/envs/cloudspace/lib/python3.10/site-packages (from flash-attn) (2.2.1)\n",
            "Requirement already satisfied: einops in /system/conda/miniconda3/envs/cloudspace/lib/python3.10/site-packages (from flash-attn) (0.8.0)\n",
            "Requirement already satisfied: filelock in /system/conda/miniconda3/envs/cloudspace/lib/python3.10/site-packages (from torch->flash-attn) (3.15.4)\n",
            "Requirement already satisfied: typing-extensions>=4.8.0 in /system/conda/miniconda3/envs/cloudspace/lib/python3.10/site-packages (from torch->flash-attn) (4.12.2)\n",
            "Requirement already satisfied: sympy in /system/conda/miniconda3/envs/cloudspace/lib/python3.10/site-packages (from torch->flash-attn) (1.13.0)\n",
            "Requirement already satisfied: networkx in /system/conda/miniconda3/envs/cloudspace/lib/python3.10/site-packages (from torch->flash-attn) (3.3)\n",
            "Requirement already satisfied: jinja2 in /system/conda/miniconda3/envs/cloudspace/lib/python3.10/site-packages (from torch->flash-attn) (3.1.4)\n",
            "Requirement already satisfied: fsspec in /system/conda/miniconda3/envs/cloudspace/lib/python3.10/site-packages (from torch->flash-attn) (2024.5.0)\n",
            "Requirement already satisfied: nvidia-cuda-nvrtc-cu12==12.1.105 in /system/conda/miniconda3/envs/cloudspace/lib/python3.10/site-packages (from torch->flash-attn) (12.1.105)\n",
            "Requirement already satisfied: nvidia-cuda-runtime-cu12==12.1.105 in /system/conda/miniconda3/envs/cloudspace/lib/python3.10/site-packages (from torch->flash-attn) (12.1.105)\n",
            "Requirement already satisfied: nvidia-cuda-cupti-cu12==12.1.105 in /system/conda/miniconda3/envs/cloudspace/lib/python3.10/site-packages (from torch->flash-attn) (12.1.105)\n",
            "Requirement already satisfied: nvidia-cudnn-cu12==8.9.2.26 in /system/conda/miniconda3/envs/cloudspace/lib/python3.10/site-packages (from torch->flash-attn) (8.9.2.26)\n",
            "Requirement already satisfied: nvidia-cublas-cu12==12.1.3.1 in /system/conda/miniconda3/envs/cloudspace/lib/python3.10/site-packages (from torch->flash-attn) (12.1.3.1)\n",
            "Requirement already satisfied: nvidia-cufft-cu12==11.0.2.54 in /system/conda/miniconda3/envs/cloudspace/lib/python3.10/site-packages (from torch->flash-attn) (11.0.2.54)\n",
            "Requirement already satisfied: nvidia-curand-cu12==10.3.2.106 in /system/conda/miniconda3/envs/cloudspace/lib/python3.10/site-packages (from torch->flash-attn) (10.3.2.106)\n",
            "Requirement already satisfied: nvidia-cusolver-cu12==11.4.5.107 in /system/conda/miniconda3/envs/cloudspace/lib/python3.10/site-packages (from torch->flash-attn) (11.4.5.107)\n",
            "Requirement already satisfied: nvidia-cusparse-cu12==12.1.0.106 in /system/conda/miniconda3/envs/cloudspace/lib/python3.10/site-packages (from torch->flash-attn) (12.1.0.106)\n",
            "Requirement already satisfied: nvidia-nccl-cu12==2.19.3 in /system/conda/miniconda3/envs/cloudspace/lib/python3.10/site-packages (from torch->flash-attn) (2.19.3)\n",
            "Requirement already satisfied: nvidia-nvtx-cu12==12.1.105 in /system/conda/miniconda3/envs/cloudspace/lib/python3.10/site-packages (from torch->flash-attn) (12.1.105)\n",
            "Requirement already satisfied: triton==2.2.0 in /system/conda/miniconda3/envs/cloudspace/lib/python3.10/site-packages (from torch->flash-attn) (2.2.0)\n",
            "Requirement already satisfied: nvidia-nvjitlink-cu12 in /system/conda/miniconda3/envs/cloudspace/lib/python3.10/site-packages (from nvidia-cusolver-cu12==11.4.5.107->torch->flash-attn) (12.5.82)\n",
            "Requirement already satisfied: MarkupSafe>=2.0 in /system/conda/miniconda3/envs/cloudspace/lib/python3.10/site-packages (from jinja2->torch->flash-attn) (2.1.5)\n",
            "Requirement already satisfied: mpmath<1.4,>=1.1.0 in /system/conda/miniconda3/envs/cloudspace/lib/python3.10/site-packages (from sympy->torch->flash-attn) (1.3.0)\n"
          ]
        }
      ],
      "source": [
        "!pip install -U flash-attn --no-build-isolation"
      ]
    },
    {
      "cell_type": "code",
      "execution_count": 50,
      "metadata": {},
      "outputs": [
        {
          "data": {
            "text/plain": [
              "{'a': 1,\n",
              " 'b': 2,\n",
              " 'c': 3,\n",
              " 'd': 4,\n",
              " 'e': 5,\n",
              " 'f': 6,\n",
              " 'g': 7,\n",
              " 'h': 8,\n",
              " 'i': 9,\n",
              " 'j': 10,\n",
              " 'k': 11,\n",
              " 'l': 12,\n",
              " 'm': 13,\n",
              " 'n': 14,\n",
              " 'o': 15,\n",
              " 'p': 16,\n",
              " 'q': 17,\n",
              " 'r': 18,\n",
              " 's': 19,\n",
              " 't': 20,\n",
              " 'u': 21,\n",
              " 'v': 22,\n",
              " 'w': 23,\n",
              " 'x': 24,\n",
              " 'y': 25,\n",
              " 'z': 26,\n",
              " '|': 0,\n",
              " '[UNK]': 27,\n",
              " '[PAD]': 28}"
            ]
          },
          "execution_count": 50,
          "metadata": {},
          "output_type": "execute_result"
        }
      ],
      "source": [
        "vocab_dict"
      ]
    },
    {
      "cell_type": "code",
      "execution_count": 51,
      "metadata": {},
      "outputs": [
        {
          "data": {
            "text/plain": [
              "Wav2Vec2CTCTokenizer(name_or_path='', vocab_size=29, model_max_length=1000000000000000019884624838656, is_fast=False, padding_side='right', truncation_side='right', special_tokens={'bos_token': '<s>', 'eos_token': '</s>', 'unk_token': '[UNK]', 'pad_token': '[PAD]'}, clean_up_tokenization_spaces=True),  added_tokens_decoder={\n",
              "\t27: AddedToken(\"[UNK]\", rstrip=False, lstrip=False, single_word=False, normalized=False, special=True),\n",
              "\t28: AddedToken(\"[PAD]\", rstrip=False, lstrip=False, single_word=False, normalized=False, special=True),\n",
              "\t29: AddedToken(\"<s>\", rstrip=False, lstrip=False, single_word=False, normalized=False, special=True),\n",
              "\t30: AddedToken(\"</s>\", rstrip=False, lstrip=False, single_word=False, normalized=False, special=True),\n",
              "}"
            ]
          },
          "execution_count": 51,
          "metadata": {},
          "output_type": "execute_result"
        }
      ],
      "source": [
        "\n",
        "\n",
        "processor.tokenizer.add_special_tokens({'pad_token': '[PAD]', 'unk_token': '[UNK]'})\n",
        "\n",
        "# Remove 'bos_token' and 'eos_token' from special_tokens_map\n",
        "del processor.tokenizer.special_tokens_map['bos_token']\n",
        "del processor.tokenizer.special_tokens_map['eos_token']\n",
        "\n",
        "processor.tokenizer\n"
      ]
    },
    {
      "cell_type": "code",
      "execution_count": 52,
      "metadata": {},
      "outputs": [
        {
          "data": {
            "text/plain": [
              "28"
            ]
          },
          "execution_count": 52,
          "metadata": {},
          "output_type": "execute_result"
        }
      ],
      "source": [
        "processor.tokenizer.pad_token_id"
      ]
    },
    {
      "cell_type": "code",
      "execution_count": 53,
      "metadata": {
        "colab": {
          "base_uri": "https://localhost:8080/",
          "height": 138,
          "referenced_widgets": [
            "cd3fa278f52d4e758933cf9338179bb6",
            "683f9aab199c4d81a02fc43170e9bf92",
            "1de04901846b4eaf922804764db284ea",
            "c51891eb247842878b888a4367b76f09",
            "0c1af8de82dd41308b0dd459b2704094",
            "ac73e06b68f4448ab902130d51a227a5",
            "3f73859b6eda46eb9ffab85143d529ea",
            "f2abcc26955445f7834d3869298c93a4",
            "f7b89b9d407b4bd8b975d63903775728",
            "dec7a66671e34d20a5a0c14283a7eaca",
            "cd6858e22042455cbc51d85f5bc025b8",
            "feaebee202a24d4c93811950d93b8659",
            "b845af41e4c04add86507a75e169aa41",
            "99cd519632d74800b7fe4fcaa6b69879",
            "d6d0facf1fe14ad8a644135ffa3282b8",
            "5a6c5ee62a83478d88be604ec2d31ceb",
            "22f632b6b1114e458739bc54c509c555",
            "8d00d38c4bf94d27bb4f7126f4180cff",
            "837fe93445684f19811bda3fd52f9971",
            "f2735489677542d7a9c552d4676423b0",
            "cc147b7ce4c944489f91dfeff79609a9",
            "4a666ab8126348ada5f1fe3f9f6c46d7"
          ]
        },
        "id": "e7cqAWIayn6w",
        "outputId": "6351d721-9201-4476-e5e5-ebbf48c9a78b"
      },
      "outputs": [
        {
          "name": "stderr",
          "output_type": "stream",
          "text": [
            "You are attempting to use Flash Attention 2.0 with a model not initialized on GPU. Make sure to move the model to GPU after initializing it on CPU with `model.to('cuda')`.\n",
            "Some weights of the model checkpoint at facebook/wav2vec2-large-960h-lv60-self were not used when initializing Wav2Vec2ForCTC: ['wav2vec2.encoder.pos_conv_embed.conv.weight_g', 'wav2vec2.encoder.pos_conv_embed.conv.weight_v']\n",
            "- This IS expected if you are initializing Wav2Vec2ForCTC from the checkpoint of a model trained on another task or with another architecture (e.g. initializing a BertForSequenceClassification model from a BertForPreTraining model).\n",
            "- This IS NOT expected if you are initializing Wav2Vec2ForCTC from the checkpoint of a model that you expect to be exactly identical (initializing a BertForSequenceClassification model from a BertForSequenceClassification model).\n",
            "Some weights of Wav2Vec2ForCTC were not initialized from the model checkpoint at facebook/wav2vec2-large-960h-lv60-self and are newly initialized: ['wav2vec2.encoder.pos_conv_embed.conv.parametrizations.weight.original0', 'wav2vec2.encoder.pos_conv_embed.conv.parametrizations.weight.original1', 'wav2vec2.masked_spec_embed']\n",
            "You should probably TRAIN this model on a down-stream task to be able to use it for predictions and inference.\n",
            "Some weights of Wav2Vec2ForCTC were not initialized from the model checkpoint at facebook/wav2vec2-large-960h-lv60-self and are newly initialized because the shapes did not match:\n",
            "- lm_head.weight: found shape torch.Size([32, 1024]) in the checkpoint and torch.Size([31, 1024]) in the model instantiated\n",
            "- lm_head.bias: found shape torch.Size([32]) in the checkpoint and torch.Size([31]) in the model instantiated\n",
            "You should probably TRAIN this model on a down-stream task to be able to use it for predictions and inference.\n"
          ]
        }
      ],
      "source": [
        "from transformers import Wav2Vec2ForCTC\n",
        "\n",
        "model = Wav2Vec2ForCTC.from_pretrained(\n",
        "    \"facebook/wav2vec2-large-960h-lv60-self\",\n",
        "    attention_dropout=0.1,\n",
        "    hidden_dropout=0.1,\n",
        "    feat_proj_dropout=0.1,\n",
        "    mask_time_prob=0.05,\n",
        "    layerdrop=0.1,\n",
        "    ctc_loss_reduction=\"mean\",\n",
        "    pad_token_id=processor.tokenizer.pad_token_id,\n",
        "    vocab_size=len(processor.tokenizer),\n",
        "    torch_dtype=torch.bfloat16,\n",
        "    attn_implementation=\"flash_attention_2\",\n",
        "    ignore_mismatched_sizes=True\n",
        ").to('cuda')"
      ]
    },
    {
      "cell_type": "code",
      "execution_count": 54,
      "metadata": {
        "colab": {
          "base_uri": "https://localhost:8080/"
        },
        "id": "oGI8zObtZ3V0",
        "outputId": "a8393a31-e606-4eda-952f-3987ac000941"
      },
      "outputs": [
        {
          "name": "stderr",
          "output_type": "stream",
          "text": [
            "/home/zeus/miniconda3/envs/cloudspace/lib/python3.10/site-packages/transformers/models/wav2vec2/modeling_wav2vec2.py:2177: FutureWarning: The method `freeze_feature_extractor` is deprecated and will be removed in Transformers v5. Please use the equivalent `freeze_feature_encoder` method instead.\n",
            "  warnings.warn(\n"
          ]
        }
      ],
      "source": [
        "model.freeze_feature_extractor()"
      ]
    },
    {
      "cell_type": "code",
      "execution_count": 55,
      "metadata": {
        "id": "KbeKSV7uzGPP"
      },
      "outputs": [
        {
          "name": "stderr",
          "output_type": "stream",
          "text": [
            "/home/zeus/miniconda3/envs/cloudspace/lib/python3.10/site-packages/transformers/training_args.py:1525: FutureWarning: `evaluation_strategy` is deprecated and will be removed in version 4.46 of 🤗 Transformers. Use `eval_strategy` instead\n",
            "  warnings.warn(\n"
          ]
        }
      ],
      "source": [
        "from transformers import TrainingArguments\n",
        "\n",
        "training_args = TrainingArguments(\n",
        "  output_dir=repo_name,\n",
        "  group_by_length=True,\n",
        "  per_device_train_batch_size=16,\n",
        "  gradient_accumulation_steps=2,\n",
        "  evaluation_strategy=\"steps\",\n",
        "  num_train_epochs=30,\n",
        "  gradient_checkpointing=True,\n",
        "  fp16=False,\n",
        "  bf16=True,\n",
        "  save_steps=200,\n",
        "  eval_steps=200,\n",
        "  logging_steps=100,\n",
        "  learning_rate=3e-4,\n",
        "  warmup_steps=100,\n",
        "  save_total_limit=5,\n",
        "  push_to_hub=True,\n",
        "  weight_decay=0.01,\n",
        "  load_best_model_at_end=True,\n",
        "  metric_for_best_model=\"wer\"\n",
        ")"
      ]
    },
    {
      "cell_type": "code",
      "execution_count": 56,
      "metadata": {
        "id": "rY7vBmFCPFgC"
      },
      "outputs": [
        {
          "name": "stderr",
          "output_type": "stream",
          "text": [
            "/home/zeus/miniconda3/envs/cloudspace/lib/python3.10/site-packages/transformers/optimization.py:591: FutureWarning: This implementation of AdamW is deprecated and will be removed in a future version. Use the PyTorch implementation torch.optim.AdamW instead, or set `no_deprecation_warning=True` to disable this warning\n",
            "  warnings.warn(\n"
          ]
        }
      ],
      "source": [
        "from transformers import Trainer, EarlyStoppingCallback, AdamW\n",
        "\n",
        "early_stopping_callback = EarlyStoppingCallback(early_stopping_patience=5)\n",
        "optimizer = AdamW(model.parameters(), lr=1e-4, eps=1e-8)\n",
        "\n",
        "trainer = Trainer(\n",
        "    model=model,\n",
        "    data_collator=data_collator,\n",
        "    args=training_args,\n",
        "    compute_metrics=compute_metrics,\n",
        "    train_dataset=train_dataset,\n",
        "    eval_dataset=test_dataset,\n",
        "    tokenizer=processor.feature_extractor,\n",
        "    optimizers=(optimizer, None)\n",
        "    # callbacks=[early_stopping_callback]\n",
        ")"
      ]
    },
    {
      "cell_type": "markdown",
      "metadata": {
        "id": "rpvZHM1xReIW"
      },
      "source": [
        "### Training"
      ]
    },
    {
      "cell_type": "markdown",
      "metadata": {
        "id": "VYYAvgkW4P0m"
      },
      "source": [
        "```javascript\n",
        "function ConnectButton(){\n",
        "    console.log(\"Connect pushed\");\n",
        "    document.querySelector(\"#top-toolbar > colab-connect-button\").shadowRoot.querySelector(\"#connect\").click()\n",
        "}\n",
        "setInterval(ConnectButton,60000);\n",
        "```"
      ]
    },
    {
      "cell_type": "code",
      "execution_count": 57,
      "metadata": {
        "colab": {
          "base_uri": "https://localhost:8080/",
          "height": 1000
        },
        "id": "9fRr9TG5pGBl",
        "outputId": "6d175dfe-8d26-43de-8d06-f99c8abb6910"
      },
      "outputs": [
        {
          "name": "stderr",
          "output_type": "stream",
          "text": [
            "/home/zeus/miniconda3/envs/cloudspace/lib/python3.10/site-packages/transformers/models/wav2vec2/processing_wav2vec2.py:157: UserWarning: `as_target_processor` is deprecated and will be removed in v5 of Transformers. You can process your labels by using the argument `text` of the regular `__call__` method (either in the same call as your audio inputs, or in a separate call.\n",
            "  warnings.warn(\n",
            "/home/zeus/miniconda3/envs/cloudspace/lib/python3.10/site-packages/torch/utils/checkpoint.py:460: UserWarning: torch.utils.checkpoint: please pass in use_reentrant=True or use_reentrant=False explicitly. The default value of use_reentrant will be updated to be False in the future. To maintain current behavior, pass use_reentrant=True. It is recommended that you use use_reentrant=False. Refer to docs for more details on the differences between the two variants.\n",
            "  warnings.warn(\n"
          ]
        },
        {
          "data": {
            "text/html": [
              "\n",
              "    <div>\n",
              "      \n",
              "      <progress value='1860' max='1860' style='width:300px; height:20px; vertical-align: middle;'></progress>\n",
              "      [1860/1860 32:46, Epoch 29/30]\n",
              "    </div>\n",
              "    <table border=\"1\" class=\"dataframe\">\n",
              "  <thead>\n",
              " <tr style=\"text-align: left;\">\n",
              "      <th>Step</th>\n",
              "      <th>Training Loss</th>\n",
              "      <th>Validation Loss</th>\n",
              "      <th>Wer</th>\n",
              "    </tr>\n",
              "  </thead>\n",
              "  <tbody>\n",
              "    <tr>\n",
              "      <td>200</td>\n",
              "      <td>20.970300</td>\n",
              "      <td>3.560659</td>\n",
              "      <td>1.000000</td>\n",
              "    </tr>\n",
              "    <tr>\n",
              "      <td>400</td>\n",
              "      <td>3.421600</td>\n",
              "      <td>3.374136</td>\n",
              "      <td>1.000000</td>\n",
              "    </tr>\n",
              "    <tr>\n",
              "      <td>600</td>\n",
              "      <td>3.306200</td>\n",
              "      <td>3.141940</td>\n",
              "      <td>1.000000</td>\n",
              "    </tr>\n",
              "    <tr>\n",
              "      <td>800</td>\n",
              "      <td>2.994000</td>\n",
              "      <td>2.683459</td>\n",
              "      <td>1.000000</td>\n",
              "    </tr>\n",
              "    <tr>\n",
              "      <td>1000</td>\n",
              "      <td>2.736100</td>\n",
              "      <td>2.412916</td>\n",
              "      <td>1.000000</td>\n",
              "    </tr>\n",
              "    <tr>\n",
              "      <td>1200</td>\n",
              "      <td>2.600500</td>\n",
              "      <td>2.297349</td>\n",
              "      <td>1.000000</td>\n",
              "    </tr>\n",
              "    <tr>\n",
              "      <td>1400</td>\n",
              "      <td>2.572400</td>\n",
              "      <td>2.251976</td>\n",
              "      <td>1.000000</td>\n",
              "    </tr>\n",
              "    <tr>\n",
              "      <td>1600</td>\n",
              "      <td>2.619000</td>\n",
              "      <td>2.243480</td>\n",
              "      <td>1.000000</td>\n",
              "    </tr>\n",
              "    <tr>\n",
              "      <td>1800</td>\n",
              "      <td>2.527800</td>\n",
              "      <td>2.238458</td>\n",
              "      <td>1.000000</td>\n",
              "    </tr>\n",
              "  </tbody>\n",
              "</table><p>"
            ],
            "text/plain": [
              "<IPython.core.display.HTML object>"
            ]
          },
          "metadata": {},
          "output_type": "display_data"
        },
        {
          "name": "stderr",
          "output_type": "stream",
          "text": [
            "/home/zeus/miniconda3/envs/cloudspace/lib/python3.10/site-packages/transformers/models/wav2vec2/processing_wav2vec2.py:157: UserWarning: `as_target_processor` is deprecated and will be removed in v5 of Transformers. You can process your labels by using the argument `text` of the regular `__call__` method (either in the same call as your audio inputs, or in a separate call.\n",
            "  warnings.warn(\n",
            "/home/zeus/miniconda3/envs/cloudspace/lib/python3.10/site-packages/torch/utils/checkpoint.py:460: UserWarning: torch.utils.checkpoint: please pass in use_reentrant=True or use_reentrant=False explicitly. The default value of use_reentrant will be updated to be False in the future. To maintain current behavior, pass use_reentrant=True. It is recommended that you use use_reentrant=False. Refer to docs for more details on the differences between the two variants.\n",
            "  warnings.warn(\n",
            "/home/zeus/miniconda3/envs/cloudspace/lib/python3.10/site-packages/transformers/models/wav2vec2/processing_wav2vec2.py:157: UserWarning: `as_target_processor` is deprecated and will be removed in v5 of Transformers. You can process your labels by using the argument `text` of the regular `__call__` method (either in the same call as your audio inputs, or in a separate call.\n",
            "  warnings.warn(\n",
            "/home/zeus/miniconda3/envs/cloudspace/lib/python3.10/site-packages/torch/utils/checkpoint.py:460: UserWarning: torch.utils.checkpoint: please pass in use_reentrant=True or use_reentrant=False explicitly. The default value of use_reentrant will be updated to be False in the future. To maintain current behavior, pass use_reentrant=True. It is recommended that you use use_reentrant=False. Refer to docs for more details on the differences between the two variants.\n",
            "  warnings.warn(\n",
            "/home/zeus/miniconda3/envs/cloudspace/lib/python3.10/site-packages/transformers/models/wav2vec2/processing_wav2vec2.py:157: UserWarning: `as_target_processor` is deprecated and will be removed in v5 of Transformers. You can process your labels by using the argument `text` of the regular `__call__` method (either in the same call as your audio inputs, or in a separate call.\n",
            "  warnings.warn(\n",
            "/home/zeus/miniconda3/envs/cloudspace/lib/python3.10/site-packages/torch/utils/checkpoint.py:460: UserWarning: torch.utils.checkpoint: please pass in use_reentrant=True or use_reentrant=False explicitly. The default value of use_reentrant will be updated to be False in the future. To maintain current behavior, pass use_reentrant=True. It is recommended that you use use_reentrant=False. Refer to docs for more details on the differences between the two variants.\n",
            "  warnings.warn(\n",
            "/home/zeus/miniconda3/envs/cloudspace/lib/python3.10/site-packages/transformers/models/wav2vec2/processing_wav2vec2.py:157: UserWarning: `as_target_processor` is deprecated and will be removed in v5 of Transformers. You can process your labels by using the argument `text` of the regular `__call__` method (either in the same call as your audio inputs, or in a separate call.\n",
            "  warnings.warn(\n",
            "/home/zeus/miniconda3/envs/cloudspace/lib/python3.10/site-packages/torch/utils/checkpoint.py:460: UserWarning: torch.utils.checkpoint: please pass in use_reentrant=True or use_reentrant=False explicitly. The default value of use_reentrant will be updated to be False in the future. To maintain current behavior, pass use_reentrant=True. It is recommended that you use use_reentrant=False. Refer to docs for more details on the differences between the two variants.\n",
            "  warnings.warn(\n",
            "/home/zeus/miniconda3/envs/cloudspace/lib/python3.10/site-packages/transformers/models/wav2vec2/processing_wav2vec2.py:157: UserWarning: `as_target_processor` is deprecated and will be removed in v5 of Transformers. You can process your labels by using the argument `text` of the regular `__call__` method (either in the same call as your audio inputs, or in a separate call.\n",
            "  warnings.warn(\n",
            "/home/zeus/miniconda3/envs/cloudspace/lib/python3.10/site-packages/torch/utils/checkpoint.py:460: UserWarning: torch.utils.checkpoint: please pass in use_reentrant=True or use_reentrant=False explicitly. The default value of use_reentrant will be updated to be False in the future. To maintain current behavior, pass use_reentrant=True. It is recommended that you use use_reentrant=False. Refer to docs for more details on the differences between the two variants.\n",
            "  warnings.warn(\n",
            "/home/zeus/miniconda3/envs/cloudspace/lib/python3.10/site-packages/transformers/models/wav2vec2/processing_wav2vec2.py:157: UserWarning: `as_target_processor` is deprecated and will be removed in v5 of Transformers. You can process your labels by using the argument `text` of the regular `__call__` method (either in the same call as your audio inputs, or in a separate call.\n",
            "  warnings.warn(\n",
            "/home/zeus/miniconda3/envs/cloudspace/lib/python3.10/site-packages/torch/utils/checkpoint.py:460: UserWarning: torch.utils.checkpoint: please pass in use_reentrant=True or use_reentrant=False explicitly. The default value of use_reentrant will be updated to be False in the future. To maintain current behavior, pass use_reentrant=True. It is recommended that you use use_reentrant=False. Refer to docs for more details on the differences between the two variants.\n",
            "  warnings.warn(\n",
            "/home/zeus/miniconda3/envs/cloudspace/lib/python3.10/site-packages/transformers/models/wav2vec2/processing_wav2vec2.py:157: UserWarning: `as_target_processor` is deprecated and will be removed in v5 of Transformers. You can process your labels by using the argument `text` of the regular `__call__` method (either in the same call as your audio inputs, or in a separate call.\n",
            "  warnings.warn(\n",
            "/home/zeus/miniconda3/envs/cloudspace/lib/python3.10/site-packages/torch/utils/checkpoint.py:460: UserWarning: torch.utils.checkpoint: please pass in use_reentrant=True or use_reentrant=False explicitly. The default value of use_reentrant will be updated to be False in the future. To maintain current behavior, pass use_reentrant=True. It is recommended that you use use_reentrant=False. Refer to docs for more details on the differences between the two variants.\n",
            "  warnings.warn(\n",
            "/home/zeus/miniconda3/envs/cloudspace/lib/python3.10/site-packages/transformers/models/wav2vec2/processing_wav2vec2.py:157: UserWarning: `as_target_processor` is deprecated and will be removed in v5 of Transformers. You can process your labels by using the argument `text` of the regular `__call__` method (either in the same call as your audio inputs, or in a separate call.\n",
            "  warnings.warn(\n",
            "/home/zeus/miniconda3/envs/cloudspace/lib/python3.10/site-packages/torch/utils/checkpoint.py:460: UserWarning: torch.utils.checkpoint: please pass in use_reentrant=True or use_reentrant=False explicitly. The default value of use_reentrant will be updated to be False in the future. To maintain current behavior, pass use_reentrant=True. It is recommended that you use use_reentrant=False. Refer to docs for more details on the differences between the two variants.\n",
            "  warnings.warn(\n",
            "/home/zeus/miniconda3/envs/cloudspace/lib/python3.10/site-packages/transformers/models/wav2vec2/processing_wav2vec2.py:157: UserWarning: `as_target_processor` is deprecated and will be removed in v5 of Transformers. You can process your labels by using the argument `text` of the regular `__call__` method (either in the same call as your audio inputs, or in a separate call.\n",
            "  warnings.warn(\n",
            "/home/zeus/miniconda3/envs/cloudspace/lib/python3.10/site-packages/torch/utils/checkpoint.py:460: UserWarning: torch.utils.checkpoint: please pass in use_reentrant=True or use_reentrant=False explicitly. The default value of use_reentrant will be updated to be False in the future. To maintain current behavior, pass use_reentrant=True. It is recommended that you use use_reentrant=False. Refer to docs for more details on the differences between the two variants.\n",
            "  warnings.warn(\n"
          ]
        },
        {
          "data": {
            "text/plain": [
              "TrainOutput(global_step=1860, training_loss=9.161372605190483, metrics={'train_runtime': 1969.6651, 'train_samples_per_second': 30.462, 'train_steps_per_second': 0.944, 'total_flos': 5.919979856068626e+18, 'train_loss': 9.161372605190483, 'epoch': 29.76})"
            ]
          },
          "execution_count": 57,
          "metadata": {},
          "output_type": "execute_result"
        }
      ],
      "source": [
        "trainer.train()"
      ]
    },
    {
      "cell_type": "code",
      "execution_count": 58,
      "metadata": {
        "colab": {
          "base_uri": "https://localhost:8080/",
          "height": 110,
          "referenced_widgets": [
            "562b0d339f3a4d40ac342010975e532d",
            "b003278635a940ea85e1620f958803b6",
            "1cf0f0ace4c248599b9f3b9a3e63767e"
          ]
        },
        "id": "ArG1Thf6NBWm",
        "outputId": "1fb728d7-cd7c-4080-ea50-8c8ff5f868dc"
      },
      "outputs": [
        {
          "data": {
            "application/vnd.jupyter.widget-view+json": {
              "model_id": "8470afb19ccd48b180710d762175d45b",
              "version_major": 2,
              "version_minor": 0
            },
            "text/plain": [
              "events.out.tfevents.1722445141.ip-10-192-10-83.2517.0:   0%|          | 0.00/13.4k [00:00<?, ?B/s]"
            ]
          },
          "metadata": {},
          "output_type": "display_data"
        },
        {
          "data": {
            "text/plain": [
              "CommitInfo(commit_url='https://huggingface.co/jmaczan/wav2vec2-large-960h-lv60-self-dysarthria/commit/7375421e04a40cd2a304f019286a0aa8eb2e4eb0', commit_message='End of training', commit_description='', oid='7375421e04a40cd2a304f019286a0aa8eb2e4eb0', pr_url=None, pr_revision=None, pr_num=None)"
            ]
          },
          "execution_count": 58,
          "metadata": {},
          "output_type": "execute_result"
        }
      ],
      "source": [
        "trainer.push_to_hub()"
      ]
    },
    {
      "cell_type": "markdown",
      "metadata": {
        "id": "RHIVc44_fY2N"
      },
      "source": [
        "You can now share this model with all your friends, family, favorite pets: they can all load it with the identifier \"your-username/the-name-you-picked\" so for instance:"
      ]
    },
    {
      "cell_type": "markdown",
      "metadata": {
        "id": "5lWWIKyBpx1h"
      },
      "source": [
        "```python\n",
        "from transformers import AutoModelForCTC, Wav2Vec2Processor\n",
        "\n",
        "model = AutoModelForCTC.from_pretrained(\"patrickvonplaten/wav2vec2-large-xls-r-300m-tr-colab\")\n",
        "processor = Wav2Vec2Processor.from_pretrained(\"patrickvonplaten/wav2vec2-large-xls-r-300m-tr-colab\")\n",
        "```"
      ]
    },
    {
      "cell_type": "markdown",
      "metadata": {
        "id": "L8b8Qkoy3KyS"
      },
      "source": [
        "### Evaluation"
      ]
    },
    {
      "cell_type": "code",
      "execution_count": 59,
      "metadata": {
        "colab": {
          "base_uri": "https://localhost:8080/"
        },
        "id": "R351I9IQp_9D",
        "outputId": "4558d822-818b-4023-a877-ba8c18792d57"
      },
      "outputs": [],
      "source": [
        "model = Wav2Vec2ForCTC.from_pretrained(repo_name).to(\"cuda\")\n",
        "processor = Wav2Vec2Processor.from_pretrained(repo_name)"
      ]
    },
    {
      "cell_type": "code",
      "execution_count": 60,
      "metadata": {
        "colab": {
          "base_uri": "https://localhost:8080/"
        },
        "id": "pax07TnL3WZn",
        "outputId": "fc6f99c6-3433-426a-84ac-a7e0bdceceb6"
      },
      "outputs": [
        {
          "name": "stderr",
          "output_type": "stream",
          "text": [
            "It is strongly recommended to pass the ``sampling_rate`` argument to this function. Failing to do so can result in silent errors that might be hard to debug.\n"
          ]
        }
      ],
      "source": [
        "input_dict = processor(test_dataset[0][\"input_values\"], return_tensors=\"pt\", padding=True)\n",
        "\n",
        "logits = model(input_dict.input_values.to(\"cuda\")).logits\n",
        "\n",
        "pred_ids = torch.argmax(logits, dim=-1)[0]"
      ]
    },
    {
      "cell_type": "code",
      "execution_count": 61,
      "metadata": {
        "id": "fe2AE-2xqKHx"
      },
      "outputs": [],
      "source": [
        "# df = load_parquet_directory(directory_path, use_narrow_data=True)\n",
        "# dataset = convert_dataframe_to_dataset(df)\n",
        "\n",
        "# test_dataset_transcription = dataset.train_test_split(test_size=0.2)[\"test\"]"
      ]
    },
    {
      "cell_type": "code",
      "execution_count": 66,
      "metadata": {
        "colab": {
          "base_uri": "https://localhost:8080/"
        },
        "id": "K4xWqmk_qMn0",
        "outputId": "9d1acb98-0afc-4a7a-ec7d-74614712f7a8"
      },
      "outputs": [
        {
          "name": "stdout",
          "output_type": "stream",
          "text": [
            "Prediction:\n",
            "\n",
            "\n",
            "Reference:\n"
          ]
        },
        {
          "ename": "AttributeError",
          "evalue": "'DatasetDict' object has no attribute 'train_test_split'",
          "output_type": "error",
          "traceback": [
            "\u001b[0;31m---------------------------------------------------------------------------\u001b[0m",
            "\u001b[0;31mAttributeError\u001b[0m                            Traceback (most recent call last)",
            "Cell \u001b[0;32mIn[66], line 6\u001b[0m\n\u001b[1;32m      4\u001b[0m \u001b[38;5;28mprint\u001b[39m(\u001b[38;5;124m\"\u001b[39m\u001b[38;5;130;01m\\n\u001b[39;00m\u001b[38;5;124mReference:\u001b[39m\u001b[38;5;124m\"\u001b[39m)\n\u001b[1;32m      5\u001b[0m \u001b[38;5;66;03m# print(test_dataset[0][\"transcription\"].lower())\u001b[39;00m\n\u001b[0;32m----> 6\u001b[0m \u001b[43mdataset\u001b[49m\u001b[38;5;241;43m.\u001b[39;49m\u001b[43mtrain_test_split\u001b[49m(test_size\u001b[38;5;241m=\u001b[39m\u001b[38;5;241m0.2\u001b[39m)[\u001b[38;5;124m\"\u001b[39m\u001b[38;5;124mtest\u001b[39m\u001b[38;5;124m\"\u001b[39m]\n",
            "\u001b[0;31mAttributeError\u001b[0m: 'DatasetDict' object has no attribute 'train_test_split'"
          ]
        }
      ],
      "source": [
        "print(\"Prediction:\")\n",
        "print(processor.decode(pred_ids))\n",
        "\n",
        "print(\"\\nReference:\")\n",
        "# print(test_dataset[0][\"transcription\"].lower())"
      ]
    },
    {
      "cell_type": "markdown",
      "metadata": {
        "id": "aZqmSLDRE5bG"
      },
      "source": [
        "### Optional \n",
        "Further training phase on next parquet file"
      ]
    },
    {
      "cell_type": "code",
      "execution_count": null,
      "metadata": {
        "id": "eY9eFrONF24g"
      },
      "outputs": [],
      "source": [
        "# import pandas as pd\n",
        "# import os\n",
        "# import librosa\n",
        "# from datasets import Dataset\n",
        "\n",
        "# global_parquet_file_index = 1\n",
        "\n",
        "# def load_parquet_directory_by_file_index(directory_path, parquet_file_index=1):\n",
        "#     all_dfs = []\n",
        "#     current_parquet_file_index = 0\n",
        "#     for file_name in os.listdir(directory_path):\n",
        "#         if file_name.endswith('.parquet'):\n",
        "#             file_path = os.path.join(directory_path, file_name)\n",
        "#             df = pd.read_parquet(file_path)\n",
        "#             all_dfs.append(df)\n",
        "#             if current_parquet_file_index == parquet_file_index:\n",
        "#               break\n",
        "#             current_parquet_file_index = current_parquet_file_index + 1\n",
        "\n",
        "#     return pd.concat(all_dfs, ignore_index=True)\n",
        "\n",
        "# def convert_dataframe_to_dataset(dataframe):\n",
        "#     return Dataset.from_pandas(dataframe)\n",
        "\n",
        "\n",
        "# # def load_audio(batch):\n",
        "# #     audio_data, _ = librosa.load(batch['path'], sr=16000)\n",
        "# #     batch[\"audio\"] = audio_data\n",
        "# #     return batch\n",
        "\n",
        "\n",
        "# # dataset = dataset.map(load_audio)\n",
        "# directory_path = '/content/drive/MyDrive/uaspeechall/data'\n",
        "# df = load_parquet_directory_by_file_index(directory_path, parquet_file_index=True)\n",
        "# dataset = convert_dataframe_to_dataset(df)\n",
        "\n",
        "\n"
      ]
    },
    {
      "cell_type": "code",
      "execution_count": null,
      "metadata": {
        "id": "xRbDsL9GGPic"
      },
      "outputs": [],
      "source": [
        "# import io\n",
        "# import numpy as np\n",
        "# from pydub import AudioSegment\n",
        "\n",
        "# def convert_audio_format(batch):\n",
        "#     # Extract the audio data from the dictionary\n",
        "#     audio_bytes = batch[\"audio\"][\"bytes\"]  # Replace \"data\" with the correct key\n",
        "\n",
        "#     # Convert binary data to audio array\n",
        "#     audio_data = AudioSegment.from_file(io.BytesIO(audio_bytes), format=\"wav\")\n",
        "#     # Convert to a NumPy array and normalize\n",
        "#     audio_array = np.array(audio_data.get_array_of_samples()).astype(np.float32) / 2**15\n",
        "\n",
        "#     # Update the audio dictionary\n",
        "#     batch[\"audio\"] = {\"array\": audio_array, \"sampling_rate\": 16000}\n",
        "#     return batch\n",
        "\n",
        "# # Apply the conversion function to the dataset\n",
        "# dataset = dataset.map(convert_audio_format)\n",
        "\n",
        "# from datasets import load_dataset, load_metric, Audio\n",
        "\n",
        "# dataset = dataset.train_test_split(test_size=0.2)\n",
        "\n",
        "# train_dataset = dataset[\"train\"]\n",
        "# test_dataset = dataset[\"test\"]\n",
        "\n",
        "# train_dataset = train_dataset.map(remove_special_characters)\n",
        "# test_dataset = test_dataset.map(remove_special_characters)\n",
        "\n",
        "# vocab_train = train_dataset.map(extract_all_chars, batched=True, batch_size=-1, keep_in_memory=True, remove_columns=train_dataset.column_names)\n",
        "# vocab_test = test_dataset.map(extract_all_chars, batched=True, batch_size=-1, keep_in_memory=True, remove_columns=test_dataset.column_names)\n",
        "\n",
        "# vocab_list = list(set(vocab_train[\"vocab\"][0]) | set(vocab_test[\"vocab\"][0]))\n",
        "\n",
        "# vocab_dict = {v: k for k, v in enumerate(sorted(vocab_list))}\n",
        "\n",
        "# vocab_dict[\"|\"] = vocab_dict[\" \"]\n",
        "# del vocab_dict[\" \"]\n",
        "\n",
        "# vocab_dict[\"[UNK]\"] = len(vocab_dict)\n",
        "# vocab_dict[\"[PAD]\"] = len(vocab_dict)\n",
        "# len(vocab_dict)\n",
        "\n",
        "# import json\n",
        "# with open('vocab.json', 'w') as vocab_file:\n",
        "#     json.dump(vocab_dict, vocab_file)\n",
        "\n",
        "# from transformers import Wav2Vec2CTCTokenizer\n",
        "# tokenizer = Wav2Vec2CTCTokenizer.from_pretrained(\"./\", unk_token=\"[UNK]\", pad_token=\"[PAD]\", word_delimiter_token=\"|\")\n",
        "\n",
        "# tokenizer.push_to_hub(repo_name)\n",
        "\n",
        "# from transformers import Wav2Vec2FeatureExtractor\n",
        "\n",
        "# feature_extractor = Wav2Vec2FeatureExtractor(feature_size=1, sampling_rate=16000, padding_value=0.0, do_normalize=True, return_attention_mask=True)\n",
        "\n",
        "# from transformers import Wav2Vec2Processor\n",
        "\n",
        "# processor = Wav2Vec2Processor(feature_extractor=feature_extractor, tokenizer=tokenizer)\n",
        "# train_dataset = train_dataset.map(prepare_dataset, remove_columns=train_dataset.column_names)\n",
        "# test_dataset = test_dataset.map(prepare_dataset, remove_columns=test_dataset.column_names)\n",
        "# data_collator = DataCollatorCTCWithPadding(processor=processor, padding=True)\n",
        "# wer_metric = load_metric(\"wer\")\n",
        "\n",
        "# model = Wav2Vec2ForCTC.from_pretrained(\n",
        "#     user_name+\"/\"+repo_name,\n",
        "#     attention_dropout=0.0,\n",
        "#     hidden_dropout=0.0,\n",
        "#     feat_proj_dropout=0.0,\n",
        "#     mask_time_prob=0.05,\n",
        "#     layerdrop=0.0,\n",
        "#     ctc_loss_reduction=\"mean\",\n",
        "#     pad_token_id=processor.tokenizer.pad_token_id,\n",
        "#     vocab_size=len(processor.tokenizer),\n",
        "# )\n"
      ]
    },
    {
      "cell_type": "code",
      "execution_count": null,
      "metadata": {
        "id": "AXxqms2GIFlm"
      },
      "outputs": [],
      "source": [
        "# from transformers import TrainingArguments\n",
        "\n",
        "# training_args = TrainingArguments(\n",
        "#   output_dir=repo_name,\n",
        "#   group_by_length=True,\n",
        "#   per_device_train_batch_size=8,\n",
        "#   gradient_accumulation_steps=2,\n",
        "#   evaluation_strategy=\"steps\",\n",
        "#   num_train_epochs=30,\n",
        "#   gradient_checkpointing=True,\n",
        "#   fp16=True,\n",
        "#   save_steps=400,\n",
        "#   eval_steps=400,\n",
        "#   logging_steps=400,\n",
        "#   learning_rate=3e-4,\n",
        "#   warmup_steps=500,\n",
        "#   save_total_limit=2,\n",
        "#   push_to_hub=True,\n",
        "# )"
      ]
    },
    {
      "cell_type": "code",
      "execution_count": null,
      "metadata": {
        "id": "X4QUt8y-E401"
      },
      "outputs": [],
      "source": [
        "# from transformers import Trainer\n",
        "\n",
        "# trainer = Trainer(\n",
        "#     model=model,\n",
        "#     data_collator=data_collator,\n",
        "#     args=training_args,\n",
        "#     compute_metrics=compute_metrics,\n",
        "#     train_dataset=train_dataset,\n",
        "#     eval_dataset=test_dataset,\n",
        "#     tokenizer=processor.feature_extractor,\n",
        "# )"
      ]
    },
    {
      "cell_type": "code",
      "execution_count": null,
      "metadata": {
        "id": "TRI_FHpLE4uc"
      },
      "outputs": [],
      "source": [
        "# trainer.train()\n",
        "# trainer.push_to_hub()\n"
      ]
    }
  ],
  "metadata": {
    "colab": {
      "history_visible": true,
      "provenance": []
    },
    "kernelspec": {
      "display_name": "Python 3",
      "name": "python3"
    },
    "widgets": {
      "application/vnd.jupyter.widget-state+json": {
        "00b54c04c9ae4ddd988d7d4780e9d3f8": {
          "model_module": "@jupyter-widgets/controls",
          "model_module_version": "1.5.0",
          "model_name": "HTMLModel",
          "state": {
            "_dom_classes": [],
            "_model_module": "@jupyter-widgets/controls",
            "_model_module_version": "1.5.0",
            "_model_name": "HTMLModel",
            "_view_count": null,
            "_view_module": "@jupyter-widgets/controls",
            "_view_module_version": "1.5.0",
            "_view_name": "HTMLView",
            "description": "",
            "description_tooltip": null,
            "layout": "IPY_MODEL_4f0e157ba8b545f9a263a36c535dfd83",
            "placeholder": "​",
            "style": "IPY_MODEL_55061d6fe26947b0b9dde21f6b19ea41",
            "value": "<center> <img\nsrc=https://huggingface.co/front/assets/huggingface_logo-noborder.svg\nalt='Hugging Face'> <br> Copy a token from <a\nhref=\"https://huggingface.co/settings/tokens\" target=\"_blank\">your Hugging Face\ntokens page</a> and paste it below. <br> Immediately click login after copying\nyour token or it might be stored in plain text in this notebook file. </center>"
          }
        },
        "028a7812d0554189bc9bea7f8e5508ec": {
          "model_module": "@jupyter-widgets/controls",
          "model_module_version": "1.5.0",
          "model_name": "HTMLModel",
          "state": {
            "_dom_classes": [],
            "_model_module": "@jupyter-widgets/controls",
            "_model_module_version": "1.5.0",
            "_model_name": "HTMLModel",
            "_view_count": null,
            "_view_module": "@jupyter-widgets/controls",
            "_view_module_version": "1.5.0",
            "_view_name": "HTMLView",
            "description": "",
            "description_tooltip": null,
            "layout": "IPY_MODEL_ba2927af84104863a1776675aaad0aa1",
            "placeholder": "​",
            "style": "IPY_MODEL_d004186078644da7ae1a96bd7665da01",
            "value": "Downloading builder script: "
          }
        },
        "037cdadf41414d0fb92b4c4474857e26": {
          "model_module": "@jupyter-widgets/controls",
          "model_module_version": "1.5.0",
          "model_name": "FloatProgressModel",
          "state": {
            "_dom_classes": [],
            "_model_module": "@jupyter-widgets/controls",
            "_model_module_version": "1.5.0",
            "_model_name": "FloatProgressModel",
            "_view_count": null,
            "_view_module": "@jupyter-widgets/controls",
            "_view_module_version": "1.5.0",
            "_view_name": "ProgressView",
            "bar_style": "success",
            "description": "",
            "description_tooltip": null,
            "layout": "IPY_MODEL_a4c00aa8c56d4754922e95513ec77eb5",
            "max": 737,
            "min": 0,
            "orientation": "horizontal",
            "style": "IPY_MODEL_e4150d45c7b94126a62548c1aa11ea57",
            "value": 737
          }
        },
        "0779eb9b72ae46289bdffd4fe6a2aaa8": {
          "model_module": "@jupyter-widgets/base",
          "model_module_version": "1.2.0",
          "model_name": "LayoutModel",
          "state": {
            "_model_module": "@jupyter-widgets/base",
            "_model_module_version": "1.2.0",
            "_model_name": "LayoutModel",
            "_view_count": null,
            "_view_module": "@jupyter-widgets/base",
            "_view_module_version": "1.2.0",
            "_view_name": "LayoutView",
            "align_content": null,
            "align_items": null,
            "align_self": null,
            "border": null,
            "bottom": null,
            "display": null,
            "flex": null,
            "flex_flow": null,
            "grid_area": null,
            "grid_auto_columns": null,
            "grid_auto_flow": null,
            "grid_auto_rows": null,
            "grid_column": null,
            "grid_gap": null,
            "grid_row": null,
            "grid_template_areas": null,
            "grid_template_columns": null,
            "grid_template_rows": null,
            "height": null,
            "justify_content": null,
            "justify_items": null,
            "left": null,
            "margin": null,
            "max_height": null,
            "max_width": null,
            "min_height": null,
            "min_width": null,
            "object_fit": null,
            "object_position": null,
            "order": null,
            "overflow": null,
            "overflow_x": null,
            "overflow_y": null,
            "padding": null,
            "right": null,
            "top": null,
            "visibility": null,
            "width": null
          }
        },
        "079781265c444cbfa959c5fba622503a": {
          "model_module": "@jupyter-widgets/base",
          "model_module_version": "1.2.0",
          "model_name": "LayoutModel",
          "state": {
            "_model_module": "@jupyter-widgets/base",
            "_model_module_version": "1.2.0",
            "_model_name": "LayoutModel",
            "_view_count": null,
            "_view_module": "@jupyter-widgets/base",
            "_view_module_version": "1.2.0",
            "_view_name": "LayoutView",
            "align_content": null,
            "align_items": null,
            "align_self": null,
            "border": null,
            "bottom": null,
            "display": null,
            "flex": null,
            "flex_flow": null,
            "grid_area": null,
            "grid_auto_columns": null,
            "grid_auto_flow": null,
            "grid_auto_rows": null,
            "grid_column": null,
            "grid_gap": null,
            "grid_row": null,
            "grid_template_areas": null,
            "grid_template_columns": null,
            "grid_template_rows": null,
            "height": null,
            "justify_content": null,
            "justify_items": null,
            "left": null,
            "margin": null,
            "max_height": null,
            "max_width": null,
            "min_height": null,
            "min_width": null,
            "object_fit": null,
            "object_position": null,
            "order": null,
            "overflow": null,
            "overflow_x": null,
            "overflow_y": null,
            "padding": null,
            "right": null,
            "top": null,
            "visibility": null,
            "width": null
          }
        },
        "0916726aebc54174b1f04a34b58b96fe": {
          "model_module": "@jupyter-widgets/controls",
          "model_module_version": "1.5.0",
          "model_name": "HBoxModel",
          "state": {
            "_dom_classes": [],
            "_model_module": "@jupyter-widgets/controls",
            "_model_module_version": "1.5.0",
            "_model_name": "HBoxModel",
            "_view_count": null,
            "_view_module": "@jupyter-widgets/controls",
            "_view_module_version": "1.5.0",
            "_view_name": "HBoxView",
            "box_style": "",
            "children": [
              "IPY_MODEL_880a6659daec40ffb8bbe7f134bf0c3e",
              "IPY_MODEL_2120e88c22364be189498b9a3c076dad",
              "IPY_MODEL_b3cf4a431aab4a2c8d85a5da78e0b9bc"
            ],
            "layout": "IPY_MODEL_6410a6ac383e4d8da2036e1d05d29ba8"
          }
        },
        "0934bce676574a199a564b9f8ded6d1e": {
          "model_module": "@jupyter-widgets/controls",
          "model_module_version": "1.5.0",
          "model_name": "FloatProgressModel",
          "state": {
            "_dom_classes": [],
            "_model_module": "@jupyter-widgets/controls",
            "_model_module_version": "1.5.0",
            "_model_name": "FloatProgressModel",
            "_view_count": null,
            "_view_module": "@jupyter-widgets/controls",
            "_view_module_version": "1.5.0",
            "_view_name": "ProgressView",
            "bar_style": "success",
            "description": "",
            "description_tooltip": null,
            "layout": "IPY_MODEL_7bf1706997da4a94a31999a455aef9a4",
            "max": 3683,
            "min": 0,
            "orientation": "horizontal",
            "style": "IPY_MODEL_562634158db644339ad7e0c1a77225c6",
            "value": 3683
          }
        },
        "0c1af8de82dd41308b0dd459b2704094": {
          "model_module": "@jupyter-widgets/base",
          "model_module_version": "1.2.0",
          "model_name": "LayoutModel",
          "state": {
            "_model_module": "@jupyter-widgets/base",
            "_model_module_version": "1.2.0",
            "_model_name": "LayoutModel",
            "_view_count": null,
            "_view_module": "@jupyter-widgets/base",
            "_view_module_version": "1.2.0",
            "_view_name": "LayoutView",
            "align_content": null,
            "align_items": null,
            "align_self": null,
            "border": null,
            "bottom": null,
            "display": null,
            "flex": null,
            "flex_flow": null,
            "grid_area": null,
            "grid_auto_columns": null,
            "grid_auto_flow": null,
            "grid_auto_rows": null,
            "grid_column": null,
            "grid_gap": null,
            "grid_row": null,
            "grid_template_areas": null,
            "grid_template_columns": null,
            "grid_template_rows": null,
            "height": null,
            "justify_content": null,
            "justify_items": null,
            "left": null,
            "margin": null,
            "max_height": null,
            "max_width": null,
            "min_height": null,
            "min_width": null,
            "object_fit": null,
            "object_position": null,
            "order": null,
            "overflow": null,
            "overflow_x": null,
            "overflow_y": null,
            "padding": null,
            "right": null,
            "top": null,
            "visibility": null,
            "width": null
          }
        },
        "0e3799d0b947480785911320e3fd22f2": {
          "model_module": "@jupyter-widgets/base",
          "model_module_version": "1.2.0",
          "model_name": "LayoutModel",
          "state": {
            "_model_module": "@jupyter-widgets/base",
            "_model_module_version": "1.2.0",
            "_model_name": "LayoutModel",
            "_view_count": null,
            "_view_module": "@jupyter-widgets/base",
            "_view_module_version": "1.2.0",
            "_view_name": "LayoutView",
            "align_content": null,
            "align_items": null,
            "align_self": null,
            "border": null,
            "bottom": null,
            "display": null,
            "flex": null,
            "flex_flow": null,
            "grid_area": null,
            "grid_auto_columns": null,
            "grid_auto_flow": null,
            "grid_auto_rows": null,
            "grid_column": null,
            "grid_gap": null,
            "grid_row": null,
            "grid_template_areas": null,
            "grid_template_columns": null,
            "grid_template_rows": null,
            "height": null,
            "justify_content": null,
            "justify_items": null,
            "left": null,
            "margin": null,
            "max_height": null,
            "max_width": null,
            "min_height": null,
            "min_width": null,
            "object_fit": null,
            "object_position": null,
            "order": null,
            "overflow": null,
            "overflow_x": null,
            "overflow_y": null,
            "padding": null,
            "right": null,
            "top": null,
            "visibility": null,
            "width": null
          }
        },
        "0f2d26f92c9b4db2b67d48176c982483": {
          "model_module": "@jupyter-widgets/controls",
          "model_module_version": "1.5.0",
          "model_name": "FloatProgressModel",
          "state": {
            "_dom_classes": [],
            "_model_module": "@jupyter-widgets/controls",
            "_model_module_version": "1.5.0",
            "_model_name": "FloatProgressModel",
            "_view_count": null,
            "_view_module": "@jupyter-widgets/controls",
            "_view_module_version": "1.5.0",
            "_view_name": "ProgressView",
            "bar_style": "success",
            "description": "",
            "description_tooltip": null,
            "layout": "IPY_MODEL_0779eb9b72ae46289bdffd4fe6a2aaa8",
            "max": 2946,
            "min": 0,
            "orientation": "horizontal",
            "style": "IPY_MODEL_e76b0f11e396424dac7818b3b52f67fb",
            "value": 2946
          }
        },
        "104d2af972ee47f1b14ea0faf692035c": {
          "model_module": "@jupyter-widgets/controls",
          "model_module_version": "1.5.0",
          "model_name": "ProgressStyleModel",
          "state": {
            "_model_module": "@jupyter-widgets/controls",
            "_model_module_version": "1.5.0",
            "_model_name": "ProgressStyleModel",
            "_view_count": null,
            "_view_module": "@jupyter-widgets/base",
            "_view_module_version": "1.2.0",
            "_view_name": "StyleView",
            "bar_color": null,
            "description_width": ""
          }
        },
        "10bd0f8ccbb348148ce1f496a610f4a7": {
          "model_module": "@jupyter-widgets/controls",
          "model_module_version": "1.5.0",
          "model_name": "DescriptionStyleModel",
          "state": {
            "_model_module": "@jupyter-widgets/controls",
            "_model_module_version": "1.5.0",
            "_model_name": "DescriptionStyleModel",
            "_view_count": null,
            "_view_module": "@jupyter-widgets/base",
            "_view_module_version": "1.2.0",
            "_view_name": "StyleView",
            "description_width": ""
          }
        },
        "11ca84f8e50143d4b25cb2e686fafe73": {
          "model_module": "@jupyter-widgets/controls",
          "model_module_version": "1.5.0",
          "model_name": "ProgressStyleModel",
          "state": {
            "_model_module": "@jupyter-widgets/controls",
            "_model_module_version": "1.5.0",
            "_model_name": "ProgressStyleModel",
            "_view_count": null,
            "_view_module": "@jupyter-widgets/base",
            "_view_module_version": "1.2.0",
            "_view_name": "StyleView",
            "bar_color": null,
            "description_width": ""
          }
        },
        "15f0483831e04672a2cbfae4ca375ecd": {
          "model_module": "@jupyter-widgets/controls",
          "model_module_version": "1.5.0",
          "model_name": "LabelModel",
          "state": {
            "_dom_classes": [],
            "_model_module": "@jupyter-widgets/controls",
            "_model_module_version": "1.5.0",
            "_model_name": "LabelModel",
            "_view_count": null,
            "_view_module": "@jupyter-widgets/controls",
            "_view_module_version": "1.5.0",
            "_view_name": "LabelView",
            "description": "",
            "description_tooltip": null,
            "layout": "IPY_MODEL_fd80bda4b7b546d991764f39507240dc",
            "placeholder": "​",
            "style": "IPY_MODEL_6b3ca312217d4eadae946f2efa2ca4cb",
            "value": "Login successful"
          }
        },
        "179ff20203cd46d0923fd5bccacd5b60": {
          "model_module": "@jupyter-widgets/controls",
          "model_module_version": "1.5.0",
          "model_name": "ProgressStyleModel",
          "state": {
            "_model_module": "@jupyter-widgets/controls",
            "_model_module_version": "1.5.0",
            "_model_name": "ProgressStyleModel",
            "_view_count": null,
            "_view_module": "@jupyter-widgets/base",
            "_view_module_version": "1.2.0",
            "_view_name": "StyleView",
            "bar_color": null,
            "description_width": ""
          }
        },
        "19f209bd8f824f35b9c66355c9d8a5ed": {
          "model_module": "@jupyter-widgets/controls",
          "model_module_version": "1.5.0",
          "model_name": "VBoxModel",
          "state": {
            "_dom_classes": [],
            "_model_module": "@jupyter-widgets/controls",
            "_model_module_version": "1.5.0",
            "_model_name": "VBoxModel",
            "_view_count": null,
            "_view_module": "@jupyter-widgets/controls",
            "_view_module_version": "1.5.0",
            "_view_name": "VBoxView",
            "box_style": "",
            "children": [
              "IPY_MODEL_af94367781c14f33a6499748ecf1fd78",
              "IPY_MODEL_b001cb3f06d04526bc8018ad1412ab10",
              "IPY_MODEL_d19a7827720b43a0a79de528f08b7571",
              "IPY_MODEL_15f0483831e04672a2cbfae4ca375ecd"
            ],
            "layout": "IPY_MODEL_f922d1087f8840349e7d8f8b0a3c2024"
          }
        },
        "1a367b9a8cf048d3ac3b39b62e72fc25": {
          "model_module": "@jupyter-widgets/base",
          "model_module_version": "1.2.0",
          "model_name": "LayoutModel",
          "state": {
            "_model_module": "@jupyter-widgets/base",
            "_model_module_version": "1.2.0",
            "_model_name": "LayoutModel",
            "_view_count": null,
            "_view_module": "@jupyter-widgets/base",
            "_view_module_version": "1.2.0",
            "_view_name": "LayoutView",
            "align_content": null,
            "align_items": null,
            "align_self": null,
            "border": null,
            "bottom": null,
            "display": null,
            "flex": null,
            "flex_flow": null,
            "grid_area": null,
            "grid_auto_columns": null,
            "grid_auto_flow": null,
            "grid_auto_rows": null,
            "grid_column": null,
            "grid_gap": null,
            "grid_row": null,
            "grid_template_areas": null,
            "grid_template_columns": null,
            "grid_template_rows": null,
            "height": null,
            "justify_content": null,
            "justify_items": null,
            "left": null,
            "margin": null,
            "max_height": null,
            "max_width": null,
            "min_height": null,
            "min_width": null,
            "object_fit": null,
            "object_position": null,
            "order": null,
            "overflow": null,
            "overflow_x": null,
            "overflow_y": null,
            "padding": null,
            "right": null,
            "top": null,
            "visibility": null,
            "width": null
          }
        },
        "1be4a822c86443b2b1cae26b218bcfe6": {
          "model_module": "@jupyter-widgets/base",
          "model_module_version": "1.2.0",
          "model_name": "LayoutModel",
          "state": {
            "_model_module": "@jupyter-widgets/base",
            "_model_module_version": "1.2.0",
            "_model_name": "LayoutModel",
            "_view_count": null,
            "_view_module": "@jupyter-widgets/base",
            "_view_module_version": "1.2.0",
            "_view_name": "LayoutView",
            "align_content": null,
            "align_items": null,
            "align_self": null,
            "border": null,
            "bottom": null,
            "display": null,
            "flex": null,
            "flex_flow": null,
            "grid_area": null,
            "grid_auto_columns": null,
            "grid_auto_flow": null,
            "grid_auto_rows": null,
            "grid_column": null,
            "grid_gap": null,
            "grid_row": null,
            "grid_template_areas": null,
            "grid_template_columns": null,
            "grid_template_rows": null,
            "height": null,
            "justify_content": null,
            "justify_items": null,
            "left": null,
            "margin": null,
            "max_height": null,
            "max_width": null,
            "min_height": null,
            "min_width": null,
            "object_fit": null,
            "object_position": null,
            "order": null,
            "overflow": null,
            "overflow_x": null,
            "overflow_y": null,
            "padding": null,
            "right": null,
            "top": null,
            "visibility": null,
            "width": null
          }
        },
        "1db58d1db1ea4ba4ad4041780372b29e": {
          "model_module": "@jupyter-widgets/controls",
          "model_module_version": "1.5.0",
          "model_name": "HBoxModel",
          "state": {
            "_dom_classes": [],
            "_model_module": "@jupyter-widgets/controls",
            "_model_module_version": "1.5.0",
            "_model_name": "HBoxModel",
            "_view_count": null,
            "_view_module": "@jupyter-widgets/controls",
            "_view_module_version": "1.5.0",
            "_view_name": "HBoxView",
            "box_style": "",
            "children": [
              "IPY_MODEL_f84b01a119354da5a387f570e2bb20f6",
              "IPY_MODEL_b497f1d13e064c1f85689110859dfde7",
              "IPY_MODEL_985ecb40edfd40af8b72cc9a7fe52eee"
            ],
            "layout": "IPY_MODEL_5bdcd4bc1eac45d5b75747700507f3ac"
          }
        },
        "1de04901846b4eaf922804764db284ea": {
          "model_module": "@jupyter-widgets/controls",
          "model_module_version": "1.5.0",
          "model_name": "FloatProgressModel",
          "state": {
            "_dom_classes": [],
            "_model_module": "@jupyter-widgets/controls",
            "_model_module_version": "1.5.0",
            "_model_name": "FloatProgressModel",
            "_view_count": null,
            "_view_module": "@jupyter-widgets/controls",
            "_view_module_version": "1.5.0",
            "_view_name": "ProgressView",
            "bar_style": "success",
            "description": "",
            "description_tooltip": null,
            "layout": "IPY_MODEL_f2abcc26955445f7834d3869298c93a4",
            "max": 1568,
            "min": 0,
            "orientation": "horizontal",
            "style": "IPY_MODEL_f7b89b9d407b4bd8b975d63903775728",
            "value": 1568
          }
        },
        "1e72ed34b3d941f38f33a9b9fde56bad": {
          "model_module": "@jupyter-widgets/controls",
          "model_module_version": "1.5.0",
          "model_name": "CheckboxModel",
          "state": {
            "_dom_classes": [],
            "_model_module": "@jupyter-widgets/controls",
            "_model_module_version": "1.5.0",
            "_model_name": "CheckboxModel",
            "_view_count": null,
            "_view_module": "@jupyter-widgets/controls",
            "_view_module_version": "1.5.0",
            "_view_name": "CheckboxView",
            "description": "Add token as git credential?",
            "description_tooltip": null,
            "disabled": false,
            "indent": true,
            "layout": "IPY_MODEL_f66dabec6f5c4661a5e83a5196dffc9a",
            "style": "IPY_MODEL_31b2e1a523ac4aa98b44bcbcc819f4f1",
            "value": true
          }
        },
        "1f7cad837232406aa7e9804ae3117b5b": {
          "model_module": "@jupyter-widgets/base",
          "model_module_version": "1.2.0",
          "model_name": "LayoutModel",
          "state": {
            "_model_module": "@jupyter-widgets/base",
            "_model_module_version": "1.2.0",
            "_model_name": "LayoutModel",
            "_view_count": null,
            "_view_module": "@jupyter-widgets/base",
            "_view_module_version": "1.2.0",
            "_view_name": "LayoutView",
            "align_content": null,
            "align_items": null,
            "align_self": null,
            "border": null,
            "bottom": null,
            "display": null,
            "flex": null,
            "flex_flow": null,
            "grid_area": null,
            "grid_auto_columns": null,
            "grid_auto_flow": null,
            "grid_auto_rows": null,
            "grid_column": null,
            "grid_gap": null,
            "grid_row": null,
            "grid_template_areas": null,
            "grid_template_columns": null,
            "grid_template_rows": null,
            "height": null,
            "justify_content": null,
            "justify_items": null,
            "left": null,
            "margin": null,
            "max_height": null,
            "max_width": null,
            "min_height": null,
            "min_width": null,
            "object_fit": null,
            "object_position": null,
            "order": null,
            "overflow": null,
            "overflow_x": null,
            "overflow_y": null,
            "padding": null,
            "right": null,
            "top": null,
            "visibility": null,
            "width": null
          }
        },
        "1f928af3956843cb8461ffbc815201a4": {
          "model_module": "@jupyter-widgets/base",
          "model_module_version": "1.2.0",
          "model_name": "LayoutModel",
          "state": {
            "_model_module": "@jupyter-widgets/base",
            "_model_module_version": "1.2.0",
            "_model_name": "LayoutModel",
            "_view_count": null,
            "_view_module": "@jupyter-widgets/base",
            "_view_module_version": "1.2.0",
            "_view_name": "LayoutView",
            "align_content": null,
            "align_items": null,
            "align_self": null,
            "border": null,
            "bottom": null,
            "display": null,
            "flex": null,
            "flex_flow": null,
            "grid_area": null,
            "grid_auto_columns": null,
            "grid_auto_flow": null,
            "grid_auto_rows": null,
            "grid_column": null,
            "grid_gap": null,
            "grid_row": null,
            "grid_template_areas": null,
            "grid_template_columns": null,
            "grid_template_rows": null,
            "height": null,
            "justify_content": null,
            "justify_items": null,
            "left": null,
            "margin": null,
            "max_height": null,
            "max_width": null,
            "min_height": null,
            "min_width": null,
            "object_fit": null,
            "object_position": null,
            "order": null,
            "overflow": null,
            "overflow_x": null,
            "overflow_y": null,
            "padding": null,
            "right": null,
            "top": null,
            "visibility": null,
            "width": null
          }
        },
        "20d35c77705248dfbaae76055cc77c94": {
          "model_module": "@jupyter-widgets/base",
          "model_module_version": "1.2.0",
          "model_name": "LayoutModel",
          "state": {
            "_model_module": "@jupyter-widgets/base",
            "_model_module_version": "1.2.0",
            "_model_name": "LayoutModel",
            "_view_count": null,
            "_view_module": "@jupyter-widgets/base",
            "_view_module_version": "1.2.0",
            "_view_name": "LayoutView",
            "align_content": null,
            "align_items": null,
            "align_self": null,
            "border": null,
            "bottom": null,
            "display": null,
            "flex": null,
            "flex_flow": null,
            "grid_area": null,
            "grid_auto_columns": null,
            "grid_auto_flow": null,
            "grid_auto_rows": null,
            "grid_column": null,
            "grid_gap": null,
            "grid_row": null,
            "grid_template_areas": null,
            "grid_template_columns": null,
            "grid_template_rows": null,
            "height": null,
            "justify_content": null,
            "justify_items": null,
            "left": null,
            "margin": null,
            "max_height": null,
            "max_width": null,
            "min_height": null,
            "min_width": null,
            "object_fit": null,
            "object_position": null,
            "order": null,
            "overflow": null,
            "overflow_x": null,
            "overflow_y": null,
            "padding": null,
            "right": null,
            "top": null,
            "visibility": null,
            "width": null
          }
        },
        "2120e88c22364be189498b9a3c076dad": {
          "model_module": "@jupyter-widgets/controls",
          "model_module_version": "1.5.0",
          "model_name": "FloatProgressModel",
          "state": {
            "_dom_classes": [],
            "_model_module": "@jupyter-widgets/controls",
            "_model_module_version": "1.5.0",
            "_model_name": "FloatProgressModel",
            "_view_count": null,
            "_view_module": "@jupyter-widgets/controls",
            "_view_module_version": "1.5.0",
            "_view_name": "ProgressView",
            "bar_style": "success",
            "description": "",
            "description_tooltip": null,
            "layout": "IPY_MODEL_c468c89b5eb7458387c9e3bec48eafa2",
            "max": 2946,
            "min": 0,
            "orientation": "horizontal",
            "style": "IPY_MODEL_432f2c3371a94926902e792aff89f0b1",
            "value": 2946
          }
        },
        "2187411cd2bc4c4cb9b1edc43fe0458d": {
          "model_module": "@jupyter-widgets/controls",
          "model_module_version": "1.5.0",
          "model_name": "DescriptionStyleModel",
          "state": {
            "_model_module": "@jupyter-widgets/controls",
            "_model_module_version": "1.5.0",
            "_model_name": "DescriptionStyleModel",
            "_view_count": null,
            "_view_module": "@jupyter-widgets/base",
            "_view_module_version": "1.2.0",
            "_view_name": "StyleView",
            "description_width": ""
          }
        },
        "22f632b6b1114e458739bc54c509c555": {
          "model_module": "@jupyter-widgets/base",
          "model_module_version": "1.2.0",
          "model_name": "LayoutModel",
          "state": {
            "_model_module": "@jupyter-widgets/base",
            "_model_module_version": "1.2.0",
            "_model_name": "LayoutModel",
            "_view_count": null,
            "_view_module": "@jupyter-widgets/base",
            "_view_module_version": "1.2.0",
            "_view_name": "LayoutView",
            "align_content": null,
            "align_items": null,
            "align_self": null,
            "border": null,
            "bottom": null,
            "display": null,
            "flex": null,
            "flex_flow": null,
            "grid_area": null,
            "grid_auto_columns": null,
            "grid_auto_flow": null,
            "grid_auto_rows": null,
            "grid_column": null,
            "grid_gap": null,
            "grid_row": null,
            "grid_template_areas": null,
            "grid_template_columns": null,
            "grid_template_rows": null,
            "height": null,
            "justify_content": null,
            "justify_items": null,
            "left": null,
            "margin": null,
            "max_height": null,
            "max_width": null,
            "min_height": null,
            "min_width": null,
            "object_fit": null,
            "object_position": null,
            "order": null,
            "overflow": null,
            "overflow_x": null,
            "overflow_y": null,
            "padding": null,
            "right": null,
            "top": null,
            "visibility": null,
            "width": null
          }
        },
        "2471a70472a84eb08e983d71e4bc6d2a": {
          "model_module": "@jupyter-widgets/controls",
          "model_module_version": "1.5.0",
          "model_name": "LabelModel",
          "state": {
            "_dom_classes": [],
            "_model_module": "@jupyter-widgets/controls",
            "_model_module_version": "1.5.0",
            "_model_name": "LabelModel",
            "_view_count": null,
            "_view_module": "@jupyter-widgets/controls",
            "_view_module_version": "1.5.0",
            "_view_name": "LabelView",
            "description": "",
            "description_tooltip": null,
            "layout": "IPY_MODEL_079781265c444cbfa959c5fba622503a",
            "placeholder": "​",
            "style": "IPY_MODEL_e8e0f18cd26c4adf89402935a620e65f",
            "value": "Login successful"
          }
        },
        "263d35ebc8b14542829474e57b40dada": {
          "model_module": "@jupyter-widgets/controls",
          "model_module_version": "1.5.0",
          "model_name": "DescriptionStyleModel",
          "state": {
            "_model_module": "@jupyter-widgets/controls",
            "_model_module_version": "1.5.0",
            "_model_name": "DescriptionStyleModel",
            "_view_count": null,
            "_view_module": "@jupyter-widgets/base",
            "_view_module_version": "1.2.0",
            "_view_name": "StyleView",
            "description_width": ""
          }
        },
        "2abf66a6f8f24388b4ac277bf5d23cbe": {
          "model_module": "@jupyter-widgets/controls",
          "model_module_version": "1.5.0",
          "model_name": "DescriptionStyleModel",
          "state": {
            "_model_module": "@jupyter-widgets/controls",
            "_model_module_version": "1.5.0",
            "_model_name": "DescriptionStyleModel",
            "_view_count": null,
            "_view_module": "@jupyter-widgets/base",
            "_view_module_version": "1.2.0",
            "_view_name": "StyleView",
            "description_width": ""
          }
        },
        "2ba39fb92c87443c86d6b306bec9ccc0": {
          "model_module": "@jupyter-widgets/base",
          "model_module_version": "1.2.0",
          "model_name": "LayoutModel",
          "state": {
            "_model_module": "@jupyter-widgets/base",
            "_model_module_version": "1.2.0",
            "_model_name": "LayoutModel",
            "_view_count": null,
            "_view_module": "@jupyter-widgets/base",
            "_view_module_version": "1.2.0",
            "_view_name": "LayoutView",
            "align_content": null,
            "align_items": null,
            "align_self": null,
            "border": null,
            "bottom": null,
            "display": null,
            "flex": null,
            "flex_flow": null,
            "grid_area": null,
            "grid_auto_columns": null,
            "grid_auto_flow": null,
            "grid_auto_rows": null,
            "grid_column": null,
            "grid_gap": null,
            "grid_row": null,
            "grid_template_areas": null,
            "grid_template_columns": null,
            "grid_template_rows": null,
            "height": null,
            "justify_content": null,
            "justify_items": null,
            "left": null,
            "margin": null,
            "max_height": null,
            "max_width": null,
            "min_height": null,
            "min_width": null,
            "object_fit": null,
            "object_position": null,
            "order": null,
            "overflow": null,
            "overflow_x": null,
            "overflow_y": null,
            "padding": null,
            "right": null,
            "top": null,
            "visibility": null,
            "width": null
          }
        },
        "2c79fc49efd9409a9c23b1ec7401f028": {
          "model_module": "@jupyter-widgets/controls",
          "model_module_version": "1.5.0",
          "model_name": "DescriptionStyleModel",
          "state": {
            "_model_module": "@jupyter-widgets/controls",
            "_model_module_version": "1.5.0",
            "_model_name": "DescriptionStyleModel",
            "_view_count": null,
            "_view_module": "@jupyter-widgets/base",
            "_view_module_version": "1.2.0",
            "_view_name": "StyleView",
            "description_width": ""
          }
        },
        "301cc631a3ef487c9f0a379071810da4": {
          "model_module": "@jupyter-widgets/controls",
          "model_module_version": "1.5.0",
          "model_name": "DescriptionStyleModel",
          "state": {
            "_model_module": "@jupyter-widgets/controls",
            "_model_module_version": "1.5.0",
            "_model_name": "DescriptionStyleModel",
            "_view_count": null,
            "_view_module": "@jupyter-widgets/base",
            "_view_module_version": "1.2.0",
            "_view_name": "StyleView",
            "description_width": ""
          }
        },
        "30900042f0e54d739dfb6a2482ea2f4d": {
          "model_module": "@jupyter-widgets/controls",
          "model_module_version": "1.5.0",
          "model_name": "HBoxModel",
          "state": {
            "_dom_classes": [],
            "_model_module": "@jupyter-widgets/controls",
            "_model_module_version": "1.5.0",
            "_model_name": "HBoxModel",
            "_view_count": null,
            "_view_module": "@jupyter-widgets/controls",
            "_view_module_version": "1.5.0",
            "_view_name": "HBoxView",
            "box_style": "",
            "children": [
              "IPY_MODEL_028a7812d0554189bc9bea7f8e5508ec",
              "IPY_MODEL_fb6991d1728747a3a8af407be3baa771",
              "IPY_MODEL_c7b8ec474805477ba3f2c91896f8e104"
            ],
            "layout": "IPY_MODEL_e78aa460bfcf488b85ac63be29cae346"
          }
        },
        "31a5e1b2bc6445a98e17a1a8a272f829": {
          "model_module": "@jupyter-widgets/controls",
          "model_module_version": "1.5.0",
          "model_name": "FloatProgressModel",
          "state": {
            "_dom_classes": [],
            "_model_module": "@jupyter-widgets/controls",
            "_model_module_version": "1.5.0",
            "_model_name": "FloatProgressModel",
            "_view_count": null,
            "_view_module": "@jupyter-widgets/controls",
            "_view_module_version": "1.5.0",
            "_view_name": "ProgressView",
            "bar_style": "success",
            "description": "",
            "description_tooltip": null,
            "layout": "IPY_MODEL_360b17788282485792884acac7f39a1d",
            "max": 2946,
            "min": 0,
            "orientation": "horizontal",
            "style": "IPY_MODEL_179ff20203cd46d0923fd5bccacd5b60",
            "value": 2946
          }
        },
        "31b2e1a523ac4aa98b44bcbcc819f4f1": {
          "model_module": "@jupyter-widgets/controls",
          "model_module_version": "1.5.0",
          "model_name": "DescriptionStyleModel",
          "state": {
            "_model_module": "@jupyter-widgets/controls",
            "_model_module_version": "1.5.0",
            "_model_name": "DescriptionStyleModel",
            "_view_count": null,
            "_view_module": "@jupyter-widgets/base",
            "_view_module_version": "1.2.0",
            "_view_name": "StyleView",
            "description_width": ""
          }
        },
        "31da2b54530248a8933cc14fd8b94622": {
          "model_module": "@jupyter-widgets/controls",
          "model_module_version": "1.5.0",
          "model_name": "LabelModel",
          "state": {
            "_dom_classes": [],
            "_model_module": "@jupyter-widgets/controls",
            "_model_module_version": "1.5.0",
            "_model_name": "LabelModel",
            "_view_count": null,
            "_view_module": "@jupyter-widgets/controls",
            "_view_module_version": "1.5.0",
            "_view_name": "LabelView",
            "description": "",
            "description_tooltip": null,
            "layout": "IPY_MODEL_f4d4c6e875954c36aa3e10f0e97ee2c1",
            "placeholder": "​",
            "style": "IPY_MODEL_d854c6e9ed044ec8a8f4c1ff5e658232",
            "value": "Token is valid (permission: write)."
          }
        },
        "34405f3568314dcb9285b6c32d22f5f6": {
          "model_module": "@jupyter-widgets/base",
          "model_module_version": "1.2.0",
          "model_name": "LayoutModel",
          "state": {
            "_model_module": "@jupyter-widgets/base",
            "_model_module_version": "1.2.0",
            "_model_name": "LayoutModel",
            "_view_count": null,
            "_view_module": "@jupyter-widgets/base",
            "_view_module_version": "1.2.0",
            "_view_name": "LayoutView",
            "align_content": null,
            "align_items": null,
            "align_self": null,
            "border": null,
            "bottom": null,
            "display": null,
            "flex": null,
            "flex_flow": null,
            "grid_area": null,
            "grid_auto_columns": null,
            "grid_auto_flow": null,
            "grid_auto_rows": null,
            "grid_column": null,
            "grid_gap": null,
            "grid_row": null,
            "grid_template_areas": null,
            "grid_template_columns": null,
            "grid_template_rows": null,
            "height": null,
            "justify_content": null,
            "justify_items": null,
            "left": null,
            "margin": null,
            "max_height": null,
            "max_width": null,
            "min_height": null,
            "min_width": null,
            "object_fit": null,
            "object_position": null,
            "order": null,
            "overflow": null,
            "overflow_x": null,
            "overflow_y": null,
            "padding": null,
            "right": null,
            "top": null,
            "visibility": null,
            "width": null
          }
        },
        "358ed0628e68425a9463818762764d74": {
          "model_module": "@jupyter-widgets/controls",
          "model_module_version": "1.5.0",
          "model_name": "DescriptionStyleModel",
          "state": {
            "_model_module": "@jupyter-widgets/controls",
            "_model_module_version": "1.5.0",
            "_model_name": "DescriptionStyleModel",
            "_view_count": null,
            "_view_module": "@jupyter-widgets/base",
            "_view_module_version": "1.2.0",
            "_view_name": "StyleView",
            "description_width": ""
          }
        },
        "360b17788282485792884acac7f39a1d": {
          "model_module": "@jupyter-widgets/base",
          "model_module_version": "1.2.0",
          "model_name": "LayoutModel",
          "state": {
            "_model_module": "@jupyter-widgets/base",
            "_model_module_version": "1.2.0",
            "_model_name": "LayoutModel",
            "_view_count": null,
            "_view_module": "@jupyter-widgets/base",
            "_view_module_version": "1.2.0",
            "_view_name": "LayoutView",
            "align_content": null,
            "align_items": null,
            "align_self": null,
            "border": null,
            "bottom": null,
            "display": null,
            "flex": null,
            "flex_flow": null,
            "grid_area": null,
            "grid_auto_columns": null,
            "grid_auto_flow": null,
            "grid_auto_rows": null,
            "grid_column": null,
            "grid_gap": null,
            "grid_row": null,
            "grid_template_areas": null,
            "grid_template_columns": null,
            "grid_template_rows": null,
            "height": null,
            "justify_content": null,
            "justify_items": null,
            "left": null,
            "margin": null,
            "max_height": null,
            "max_width": null,
            "min_height": null,
            "min_width": null,
            "object_fit": null,
            "object_position": null,
            "order": null,
            "overflow": null,
            "overflow_x": null,
            "overflow_y": null,
            "padding": null,
            "right": null,
            "top": null,
            "visibility": null,
            "width": null
          }
        },
        "36a4a4430cb04dc18de80bd8bd32df37": {
          "model_module": "@jupyter-widgets/controls",
          "model_module_version": "1.5.0",
          "model_name": "DescriptionStyleModel",
          "state": {
            "_model_module": "@jupyter-widgets/controls",
            "_model_module_version": "1.5.0",
            "_model_name": "DescriptionStyleModel",
            "_view_count": null,
            "_view_module": "@jupyter-widgets/base",
            "_view_module_version": "1.2.0",
            "_view_name": "StyleView",
            "description_width": ""
          }
        },
        "376f3edd64d84bb4b3d88225ac61edf0": {
          "model_module": "@jupyter-widgets/controls",
          "model_module_version": "1.5.0",
          "model_name": "ButtonStyleModel",
          "state": {
            "_model_module": "@jupyter-widgets/controls",
            "_model_module_version": "1.5.0",
            "_model_name": "ButtonStyleModel",
            "_view_count": null,
            "_view_module": "@jupyter-widgets/base",
            "_view_module_version": "1.2.0",
            "_view_name": "StyleView",
            "button_color": null,
            "font_weight": ""
          }
        },
        "3f73859b6eda46eb9ffab85143d529ea": {
          "model_module": "@jupyter-widgets/controls",
          "model_module_version": "1.5.0",
          "model_name": "DescriptionStyleModel",
          "state": {
            "_model_module": "@jupyter-widgets/controls",
            "_model_module_version": "1.5.0",
            "_model_name": "DescriptionStyleModel",
            "_view_count": null,
            "_view_module": "@jupyter-widgets/base",
            "_view_module_version": "1.2.0",
            "_view_name": "StyleView",
            "description_width": ""
          }
        },
        "432f2c3371a94926902e792aff89f0b1": {
          "model_module": "@jupyter-widgets/controls",
          "model_module_version": "1.5.0",
          "model_name": "ProgressStyleModel",
          "state": {
            "_model_module": "@jupyter-widgets/controls",
            "_model_module_version": "1.5.0",
            "_model_name": "ProgressStyleModel",
            "_view_count": null,
            "_view_module": "@jupyter-widgets/base",
            "_view_module_version": "1.2.0",
            "_view_name": "StyleView",
            "bar_color": null,
            "description_width": ""
          }
        },
        "44edb1671abc414bbe3ef0c42b45ddc3": {
          "model_module": "@jupyter-widgets/controls",
          "model_module_version": "1.5.0",
          "model_name": "CheckboxModel",
          "state": {
            "_dom_classes": [],
            "_model_module": "@jupyter-widgets/controls",
            "_model_module_version": "1.5.0",
            "_model_name": "CheckboxModel",
            "_view_count": null,
            "_view_module": "@jupyter-widgets/controls",
            "_view_module_version": "1.5.0",
            "_view_name": "CheckboxView",
            "description": "Add token as git credential?",
            "description_tooltip": null,
            "disabled": false,
            "indent": true,
            "layout": "IPY_MODEL_0e3799d0b947480785911320e3fd22f2",
            "style": "IPY_MODEL_56ae803beec54b4891b1241b5060f725",
            "value": true
          }
        },
        "467d65013eeb4e0090f5b3df748f06be": {
          "model_module": "@jupyter-widgets/controls",
          "model_module_version": "1.5.0",
          "model_name": "DescriptionStyleModel",
          "state": {
            "_model_module": "@jupyter-widgets/controls",
            "_model_module_version": "1.5.0",
            "_model_name": "DescriptionStyleModel",
            "_view_count": null,
            "_view_module": "@jupyter-widgets/base",
            "_view_module_version": "1.2.0",
            "_view_name": "StyleView",
            "description_width": ""
          }
        },
        "489f2e5ca0dc410384d7fbd40005d1f2": {
          "model_module": "@jupyter-widgets/base",
          "model_module_version": "1.2.0",
          "model_name": "LayoutModel",
          "state": {
            "_model_module": "@jupyter-widgets/base",
            "_model_module_version": "1.2.0",
            "_model_name": "LayoutModel",
            "_view_count": null,
            "_view_module": "@jupyter-widgets/base",
            "_view_module_version": "1.2.0",
            "_view_name": "LayoutView",
            "align_content": null,
            "align_items": null,
            "align_self": null,
            "border": null,
            "bottom": null,
            "display": null,
            "flex": null,
            "flex_flow": null,
            "grid_area": null,
            "grid_auto_columns": null,
            "grid_auto_flow": null,
            "grid_auto_rows": null,
            "grid_column": null,
            "grid_gap": null,
            "grid_row": null,
            "grid_template_areas": null,
            "grid_template_columns": null,
            "grid_template_rows": null,
            "height": null,
            "justify_content": null,
            "justify_items": null,
            "left": null,
            "margin": null,
            "max_height": null,
            "max_width": null,
            "min_height": null,
            "min_width": null,
            "object_fit": null,
            "object_position": null,
            "order": null,
            "overflow": null,
            "overflow_x": null,
            "overflow_y": null,
            "padding": null,
            "right": null,
            "top": null,
            "visibility": null,
            "width": null
          }
        },
        "4a666ab8126348ada5f1fe3f9f6c46d7": {
          "model_module": "@jupyter-widgets/controls",
          "model_module_version": "1.5.0",
          "model_name": "DescriptionStyleModel",
          "state": {
            "_model_module": "@jupyter-widgets/controls",
            "_model_module_version": "1.5.0",
            "_model_name": "DescriptionStyleModel",
            "_view_count": null,
            "_view_module": "@jupyter-widgets/base",
            "_view_module_version": "1.2.0",
            "_view_name": "StyleView",
            "description_width": ""
          }
        },
        "4b1f403e37b94bc1b2ccf6f584f13de8": {
          "model_module": "@jupyter-widgets/controls",
          "model_module_version": "1.5.0",
          "model_name": "ButtonModel",
          "state": {
            "_dom_classes": [],
            "_model_module": "@jupyter-widgets/controls",
            "_model_module_version": "1.5.0",
            "_model_name": "ButtonModel",
            "_view_count": null,
            "_view_module": "@jupyter-widgets/controls",
            "_view_module_version": "1.5.0",
            "_view_name": "ButtonView",
            "button_style": "",
            "description": "Login",
            "disabled": false,
            "icon": "",
            "layout": "IPY_MODEL_527b6a09c9444dbc8c5d4253a5894fbf",
            "style": "IPY_MODEL_376f3edd64d84bb4b3d88225ac61edf0",
            "tooltip": ""
          }
        },
        "4b3d7b0fb15041a19b1927b65abf09b0": {
          "model_module": "@jupyter-widgets/controls",
          "model_module_version": "1.5.0",
          "model_name": "DescriptionStyleModel",
          "state": {
            "_model_module": "@jupyter-widgets/controls",
            "_model_module_version": "1.5.0",
            "_model_name": "DescriptionStyleModel",
            "_view_count": null,
            "_view_module": "@jupyter-widgets/base",
            "_view_module_version": "1.2.0",
            "_view_name": "StyleView",
            "description_width": ""
          }
        },
        "4c5c1a4797f14523952e78ecb8f06e2f": {
          "model_module": "@jupyter-widgets/base",
          "model_module_version": "1.2.0",
          "model_name": "LayoutModel",
          "state": {
            "_model_module": "@jupyter-widgets/base",
            "_model_module_version": "1.2.0",
            "_model_name": "LayoutModel",
            "_view_count": null,
            "_view_module": "@jupyter-widgets/base",
            "_view_module_version": "1.2.0",
            "_view_name": "LayoutView",
            "align_content": null,
            "align_items": null,
            "align_self": null,
            "border": null,
            "bottom": null,
            "display": null,
            "flex": null,
            "flex_flow": null,
            "grid_area": null,
            "grid_auto_columns": null,
            "grid_auto_flow": null,
            "grid_auto_rows": null,
            "grid_column": null,
            "grid_gap": null,
            "grid_row": null,
            "grid_template_areas": null,
            "grid_template_columns": null,
            "grid_template_rows": null,
            "height": null,
            "justify_content": null,
            "justify_items": null,
            "left": null,
            "margin": null,
            "max_height": null,
            "max_width": null,
            "min_height": null,
            "min_width": null,
            "object_fit": null,
            "object_position": null,
            "order": null,
            "overflow": null,
            "overflow_x": null,
            "overflow_y": null,
            "padding": null,
            "right": null,
            "top": null,
            "visibility": null,
            "width": null
          }
        },
        "4c7829c796684c818a7095c2232ee0a9": {
          "model_module": "@jupyter-widgets/controls",
          "model_module_version": "1.5.0",
          "model_name": "DescriptionStyleModel",
          "state": {
            "_model_module": "@jupyter-widgets/controls",
            "_model_module_version": "1.5.0",
            "_model_name": "DescriptionStyleModel",
            "_view_count": null,
            "_view_module": "@jupyter-widgets/base",
            "_view_module_version": "1.2.0",
            "_view_name": "StyleView",
            "description_width": ""
          }
        },
        "4f0e157ba8b545f9a263a36c535dfd83": {
          "model_module": "@jupyter-widgets/base",
          "model_module_version": "1.2.0",
          "model_name": "LayoutModel",
          "state": {
            "_model_module": "@jupyter-widgets/base",
            "_model_module_version": "1.2.0",
            "_model_name": "LayoutModel",
            "_view_count": null,
            "_view_module": "@jupyter-widgets/base",
            "_view_module_version": "1.2.0",
            "_view_name": "LayoutView",
            "align_content": null,
            "align_items": null,
            "align_self": null,
            "border": null,
            "bottom": null,
            "display": null,
            "flex": null,
            "flex_flow": null,
            "grid_area": null,
            "grid_auto_columns": null,
            "grid_auto_flow": null,
            "grid_auto_rows": null,
            "grid_column": null,
            "grid_gap": null,
            "grid_row": null,
            "grid_template_areas": null,
            "grid_template_columns": null,
            "grid_template_rows": null,
            "height": null,
            "justify_content": null,
            "justify_items": null,
            "left": null,
            "margin": null,
            "max_height": null,
            "max_width": null,
            "min_height": null,
            "min_width": null,
            "object_fit": null,
            "object_position": null,
            "order": null,
            "overflow": null,
            "overflow_x": null,
            "overflow_y": null,
            "padding": null,
            "right": null,
            "top": null,
            "visibility": null,
            "width": null
          }
        },
        "50300eaeb316422894ac9c2ec5300c51": {
          "model_module": "@jupyter-widgets/base",
          "model_module_version": "1.2.0",
          "model_name": "LayoutModel",
          "state": {
            "_model_module": "@jupyter-widgets/base",
            "_model_module_version": "1.2.0",
            "_model_name": "LayoutModel",
            "_view_count": null,
            "_view_module": "@jupyter-widgets/base",
            "_view_module_version": "1.2.0",
            "_view_name": "LayoutView",
            "align_content": null,
            "align_items": null,
            "align_self": null,
            "border": null,
            "bottom": null,
            "display": null,
            "flex": null,
            "flex_flow": null,
            "grid_area": null,
            "grid_auto_columns": null,
            "grid_auto_flow": null,
            "grid_auto_rows": null,
            "grid_column": null,
            "grid_gap": null,
            "grid_row": null,
            "grid_template_areas": null,
            "grid_template_columns": null,
            "grid_template_rows": null,
            "height": null,
            "justify_content": null,
            "justify_items": null,
            "left": null,
            "margin": null,
            "max_height": null,
            "max_width": null,
            "min_height": null,
            "min_width": null,
            "object_fit": null,
            "object_position": null,
            "order": null,
            "overflow": null,
            "overflow_x": null,
            "overflow_y": null,
            "padding": null,
            "right": null,
            "top": null,
            "visibility": null,
            "width": null
          }
        },
        "527b6a09c9444dbc8c5d4253a5894fbf": {
          "model_module": "@jupyter-widgets/base",
          "model_module_version": "1.2.0",
          "model_name": "LayoutModel",
          "state": {
            "_model_module": "@jupyter-widgets/base",
            "_model_module_version": "1.2.0",
            "_model_name": "LayoutModel",
            "_view_count": null,
            "_view_module": "@jupyter-widgets/base",
            "_view_module_version": "1.2.0",
            "_view_name": "LayoutView",
            "align_content": null,
            "align_items": null,
            "align_self": null,
            "border": null,
            "bottom": null,
            "display": null,
            "flex": null,
            "flex_flow": null,
            "grid_area": null,
            "grid_auto_columns": null,
            "grid_auto_flow": null,
            "grid_auto_rows": null,
            "grid_column": null,
            "grid_gap": null,
            "grid_row": null,
            "grid_template_areas": null,
            "grid_template_columns": null,
            "grid_template_rows": null,
            "height": null,
            "justify_content": null,
            "justify_items": null,
            "left": null,
            "margin": null,
            "max_height": null,
            "max_width": null,
            "min_height": null,
            "min_width": null,
            "object_fit": null,
            "object_position": null,
            "order": null,
            "overflow": null,
            "overflow_x": null,
            "overflow_y": null,
            "padding": null,
            "right": null,
            "top": null,
            "visibility": null,
            "width": null
          }
        },
        "5343b93aceea4c1db51d16447405e7d2": {
          "model_module": "@jupyter-widgets/base",
          "model_module_version": "1.2.0",
          "model_name": "LayoutModel",
          "state": {
            "_model_module": "@jupyter-widgets/base",
            "_model_module_version": "1.2.0",
            "_model_name": "LayoutModel",
            "_view_count": null,
            "_view_module": "@jupyter-widgets/base",
            "_view_module_version": "1.2.0",
            "_view_name": "LayoutView",
            "align_content": null,
            "align_items": null,
            "align_self": null,
            "border": null,
            "bottom": null,
            "display": null,
            "flex": null,
            "flex_flow": null,
            "grid_area": null,
            "grid_auto_columns": null,
            "grid_auto_flow": null,
            "grid_auto_rows": null,
            "grid_column": null,
            "grid_gap": null,
            "grid_row": null,
            "grid_template_areas": null,
            "grid_template_columns": null,
            "grid_template_rows": null,
            "height": null,
            "justify_content": null,
            "justify_items": null,
            "left": null,
            "margin": null,
            "max_height": null,
            "max_width": null,
            "min_height": null,
            "min_width": null,
            "object_fit": null,
            "object_position": null,
            "order": null,
            "overflow": null,
            "overflow_x": null,
            "overflow_y": null,
            "padding": null,
            "right": null,
            "top": null,
            "visibility": null,
            "width": null
          }
        },
        "54b6d80ec4594d79861a9fbe31097e28": {
          "model_module": "@jupyter-widgets/controls",
          "model_module_version": "1.5.0",
          "model_name": "LabelModel",
          "state": {
            "_dom_classes": [],
            "_model_module": "@jupyter-widgets/controls",
            "_model_module_version": "1.5.0",
            "_model_name": "LabelModel",
            "_view_count": null,
            "_view_module": "@jupyter-widgets/controls",
            "_view_module_version": "1.5.0",
            "_view_name": "LabelView",
            "description": "",
            "description_tooltip": null,
            "layout": "IPY_MODEL_ea637042deb34051b73a5ae1cb13d1c5",
            "placeholder": "​",
            "style": "IPY_MODEL_882828978bc944aa885e13871185c32d",
            "value": "Your token has been saved in your configured git credential helpers (store)."
          }
        },
        "55061d6fe26947b0b9dde21f6b19ea41": {
          "model_module": "@jupyter-widgets/controls",
          "model_module_version": "1.5.0",
          "model_name": "DescriptionStyleModel",
          "state": {
            "_model_module": "@jupyter-widgets/controls",
            "_model_module_version": "1.5.0",
            "_model_name": "DescriptionStyleModel",
            "_view_count": null,
            "_view_module": "@jupyter-widgets/base",
            "_view_module_version": "1.2.0",
            "_view_name": "StyleView",
            "description_width": ""
          }
        },
        "55861b0e6b96412faad98c5aa64b67ef": {
          "model_module": "@jupyter-widgets/controls",
          "model_module_version": "1.5.0",
          "model_name": "DescriptionStyleModel",
          "state": {
            "_model_module": "@jupyter-widgets/controls",
            "_model_module_version": "1.5.0",
            "_model_name": "DescriptionStyleModel",
            "_view_count": null,
            "_view_module": "@jupyter-widgets/base",
            "_view_module_version": "1.2.0",
            "_view_name": "StyleView",
            "description_width": ""
          }
        },
        "562634158db644339ad7e0c1a77225c6": {
          "model_module": "@jupyter-widgets/controls",
          "model_module_version": "1.5.0",
          "model_name": "ProgressStyleModel",
          "state": {
            "_model_module": "@jupyter-widgets/controls",
            "_model_module_version": "1.5.0",
            "_model_name": "ProgressStyleModel",
            "_view_count": null,
            "_view_module": "@jupyter-widgets/base",
            "_view_module_version": "1.2.0",
            "_view_name": "StyleView",
            "bar_color": null,
            "description_width": ""
          }
        },
        "56ae803beec54b4891b1241b5060f725": {
          "model_module": "@jupyter-widgets/controls",
          "model_module_version": "1.5.0",
          "model_name": "DescriptionStyleModel",
          "state": {
            "_model_module": "@jupyter-widgets/controls",
            "_model_module_version": "1.5.0",
            "_model_name": "DescriptionStyleModel",
            "_view_count": null,
            "_view_module": "@jupyter-widgets/base",
            "_view_module_version": "1.2.0",
            "_view_name": "StyleView",
            "description_width": ""
          }
        },
        "58512511499b41d599f83d8294f7899f": {
          "model_module": "@jupyter-widgets/base",
          "model_module_version": "1.2.0",
          "model_name": "LayoutModel",
          "state": {
            "_model_module": "@jupyter-widgets/base",
            "_model_module_version": "1.2.0",
            "_model_name": "LayoutModel",
            "_view_count": null,
            "_view_module": "@jupyter-widgets/base",
            "_view_module_version": "1.2.0",
            "_view_name": "LayoutView",
            "align_content": null,
            "align_items": null,
            "align_self": null,
            "border": null,
            "bottom": null,
            "display": null,
            "flex": null,
            "flex_flow": null,
            "grid_area": null,
            "grid_auto_columns": null,
            "grid_auto_flow": null,
            "grid_auto_rows": null,
            "grid_column": null,
            "grid_gap": null,
            "grid_row": null,
            "grid_template_areas": null,
            "grid_template_columns": null,
            "grid_template_rows": null,
            "height": null,
            "justify_content": null,
            "justify_items": null,
            "left": null,
            "margin": null,
            "max_height": null,
            "max_width": null,
            "min_height": null,
            "min_width": null,
            "object_fit": null,
            "object_position": null,
            "order": null,
            "overflow": null,
            "overflow_x": null,
            "overflow_y": null,
            "padding": null,
            "right": null,
            "top": null,
            "visibility": null,
            "width": null
          }
        },
        "58e086351a6f4de583d46be71230b14b": {
          "model_module": "@jupyter-widgets/controls",
          "model_module_version": "1.5.0",
          "model_name": "ProgressStyleModel",
          "state": {
            "_model_module": "@jupyter-widgets/controls",
            "_model_module_version": "1.5.0",
            "_model_name": "ProgressStyleModel",
            "_view_count": null,
            "_view_module": "@jupyter-widgets/base",
            "_view_module_version": "1.2.0",
            "_view_name": "StyleView",
            "bar_color": null,
            "description_width": ""
          }
        },
        "5a6c5ee62a83478d88be604ec2d31ceb": {
          "model_module": "@jupyter-widgets/base",
          "model_module_version": "1.2.0",
          "model_name": "LayoutModel",
          "state": {
            "_model_module": "@jupyter-widgets/base",
            "_model_module_version": "1.2.0",
            "_model_name": "LayoutModel",
            "_view_count": null,
            "_view_module": "@jupyter-widgets/base",
            "_view_module_version": "1.2.0",
            "_view_name": "LayoutView",
            "align_content": null,
            "align_items": null,
            "align_self": null,
            "border": null,
            "bottom": null,
            "display": null,
            "flex": null,
            "flex_flow": null,
            "grid_area": null,
            "grid_auto_columns": null,
            "grid_auto_flow": null,
            "grid_auto_rows": null,
            "grid_column": null,
            "grid_gap": null,
            "grid_row": null,
            "grid_template_areas": null,
            "grid_template_columns": null,
            "grid_template_rows": null,
            "height": null,
            "justify_content": null,
            "justify_items": null,
            "left": null,
            "margin": null,
            "max_height": null,
            "max_width": null,
            "min_height": null,
            "min_width": null,
            "object_fit": null,
            "object_position": null,
            "order": null,
            "overflow": null,
            "overflow_x": null,
            "overflow_y": null,
            "padding": null,
            "right": null,
            "top": null,
            "visibility": null,
            "width": null
          }
        },
        "5bdcd4bc1eac45d5b75747700507f3ac": {
          "model_module": "@jupyter-widgets/base",
          "model_module_version": "1.2.0",
          "model_name": "LayoutModel",
          "state": {
            "_model_module": "@jupyter-widgets/base",
            "_model_module_version": "1.2.0",
            "_model_name": "LayoutModel",
            "_view_count": null,
            "_view_module": "@jupyter-widgets/base",
            "_view_module_version": "1.2.0",
            "_view_name": "LayoutView",
            "align_content": null,
            "align_items": null,
            "align_self": null,
            "border": null,
            "bottom": null,
            "display": null,
            "flex": null,
            "flex_flow": null,
            "grid_area": null,
            "grid_auto_columns": null,
            "grid_auto_flow": null,
            "grid_auto_rows": null,
            "grid_column": null,
            "grid_gap": null,
            "grid_row": null,
            "grid_template_areas": null,
            "grid_template_columns": null,
            "grid_template_rows": null,
            "height": null,
            "justify_content": null,
            "justify_items": null,
            "left": null,
            "margin": null,
            "max_height": null,
            "max_width": null,
            "min_height": null,
            "min_width": null,
            "object_fit": null,
            "object_position": null,
            "order": null,
            "overflow": null,
            "overflow_x": null,
            "overflow_y": null,
            "padding": null,
            "right": null,
            "top": null,
            "visibility": null,
            "width": null
          }
        },
        "5e62d1001ec24c58953fdc7745158d0f": {
          "model_module": "@jupyter-widgets/controls",
          "model_module_version": "1.5.0",
          "model_name": "HBoxModel",
          "state": {
            "_dom_classes": [],
            "_model_module": "@jupyter-widgets/controls",
            "_model_module_version": "1.5.0",
            "_model_name": "HBoxModel",
            "_view_count": null,
            "_view_module": "@jupyter-widgets/controls",
            "_view_module_version": "1.5.0",
            "_view_name": "HBoxView",
            "box_style": "",
            "children": [
              "IPY_MODEL_693ca38f0f424b1d86d204d33edb75a4",
              "IPY_MODEL_31a5e1b2bc6445a98e17a1a8a272f829",
              "IPY_MODEL_912776653b4c43c0be79b6acf38f6c27"
            ],
            "layout": "IPY_MODEL_f6bc7614de9d4eefb6cbf813c6082330"
          }
        },
        "5e64dc8b030b424695b24af53a91a7ef": {
          "model_module": "@jupyter-widgets/base",
          "model_module_version": "1.2.0",
          "model_name": "LayoutModel",
          "state": {
            "_model_module": "@jupyter-widgets/base",
            "_model_module_version": "1.2.0",
            "_model_name": "LayoutModel",
            "_view_count": null,
            "_view_module": "@jupyter-widgets/base",
            "_view_module_version": "1.2.0",
            "_view_name": "LayoutView",
            "align_content": null,
            "align_items": null,
            "align_self": null,
            "border": null,
            "bottom": null,
            "display": null,
            "flex": null,
            "flex_flow": null,
            "grid_area": null,
            "grid_auto_columns": null,
            "grid_auto_flow": null,
            "grid_auto_rows": null,
            "grid_column": null,
            "grid_gap": null,
            "grid_row": null,
            "grid_template_areas": null,
            "grid_template_columns": null,
            "grid_template_rows": null,
            "height": null,
            "justify_content": null,
            "justify_items": null,
            "left": null,
            "margin": null,
            "max_height": null,
            "max_width": null,
            "min_height": null,
            "min_width": null,
            "object_fit": null,
            "object_position": null,
            "order": null,
            "overflow": null,
            "overflow_x": null,
            "overflow_y": null,
            "padding": null,
            "right": null,
            "top": null,
            "visibility": null,
            "width": null
          }
        },
        "610748641993409682ed9e91877982ca": {
          "model_module": "@jupyter-widgets/controls",
          "model_module_version": "1.5.0",
          "model_name": "DescriptionStyleModel",
          "state": {
            "_model_module": "@jupyter-widgets/controls",
            "_model_module_version": "1.5.0",
            "_model_name": "DescriptionStyleModel",
            "_view_count": null,
            "_view_module": "@jupyter-widgets/base",
            "_view_module_version": "1.2.0",
            "_view_name": "StyleView",
            "description_width": ""
          }
        },
        "62d8da282a6645ceb7178f134bc70d11": {
          "model_module": "@jupyter-widgets/base",
          "model_module_version": "1.2.0",
          "model_name": "LayoutModel",
          "state": {
            "_model_module": "@jupyter-widgets/base",
            "_model_module_version": "1.2.0",
            "_model_name": "LayoutModel",
            "_view_count": null,
            "_view_module": "@jupyter-widgets/base",
            "_view_module_version": "1.2.0",
            "_view_name": "LayoutView",
            "align_content": null,
            "align_items": null,
            "align_self": null,
            "border": null,
            "bottom": null,
            "display": null,
            "flex": null,
            "flex_flow": null,
            "grid_area": null,
            "grid_auto_columns": null,
            "grid_auto_flow": null,
            "grid_auto_rows": null,
            "grid_column": null,
            "grid_gap": null,
            "grid_row": null,
            "grid_template_areas": null,
            "grid_template_columns": null,
            "grid_template_rows": null,
            "height": null,
            "justify_content": null,
            "justify_items": null,
            "left": null,
            "margin": null,
            "max_height": null,
            "max_width": null,
            "min_height": null,
            "min_width": null,
            "object_fit": null,
            "object_position": null,
            "order": null,
            "overflow": null,
            "overflow_x": null,
            "overflow_y": null,
            "padding": null,
            "right": null,
            "top": null,
            "visibility": null,
            "width": null
          }
        },
        "6410a6ac383e4d8da2036e1d05d29ba8": {
          "model_module": "@jupyter-widgets/base",
          "model_module_version": "1.2.0",
          "model_name": "LayoutModel",
          "state": {
            "_model_module": "@jupyter-widgets/base",
            "_model_module_version": "1.2.0",
            "_model_name": "LayoutModel",
            "_view_count": null,
            "_view_module": "@jupyter-widgets/base",
            "_view_module_version": "1.2.0",
            "_view_name": "LayoutView",
            "align_content": null,
            "align_items": null,
            "align_self": null,
            "border": null,
            "bottom": null,
            "display": null,
            "flex": null,
            "flex_flow": null,
            "grid_area": null,
            "grid_auto_columns": null,
            "grid_auto_flow": null,
            "grid_auto_rows": null,
            "grid_column": null,
            "grid_gap": null,
            "grid_row": null,
            "grid_template_areas": null,
            "grid_template_columns": null,
            "grid_template_rows": null,
            "height": null,
            "justify_content": null,
            "justify_items": null,
            "left": null,
            "margin": null,
            "max_height": null,
            "max_width": null,
            "min_height": null,
            "min_width": null,
            "object_fit": null,
            "object_position": null,
            "order": null,
            "overflow": null,
            "overflow_x": null,
            "overflow_y": null,
            "padding": null,
            "right": null,
            "top": null,
            "visibility": null,
            "width": null
          }
        },
        "672e96d17e4c402490588d04f28d67ab": {
          "model_module": "@jupyter-widgets/base",
          "model_module_version": "1.2.0",
          "model_name": "LayoutModel",
          "state": {
            "_model_module": "@jupyter-widgets/base",
            "_model_module_version": "1.2.0",
            "_model_name": "LayoutModel",
            "_view_count": null,
            "_view_module": "@jupyter-widgets/base",
            "_view_module_version": "1.2.0",
            "_view_name": "LayoutView",
            "align_content": null,
            "align_items": null,
            "align_self": null,
            "border": null,
            "bottom": null,
            "display": null,
            "flex": null,
            "flex_flow": null,
            "grid_area": null,
            "grid_auto_columns": null,
            "grid_auto_flow": null,
            "grid_auto_rows": null,
            "grid_column": null,
            "grid_gap": null,
            "grid_row": null,
            "grid_template_areas": null,
            "grid_template_columns": null,
            "grid_template_rows": null,
            "height": null,
            "justify_content": null,
            "justify_items": null,
            "left": null,
            "margin": null,
            "max_height": null,
            "max_width": null,
            "min_height": null,
            "min_width": null,
            "object_fit": null,
            "object_position": null,
            "order": null,
            "overflow": null,
            "overflow_x": null,
            "overflow_y": null,
            "padding": null,
            "right": null,
            "top": null,
            "visibility": null,
            "width": null
          }
        },
        "683f9aab199c4d81a02fc43170e9bf92": {
          "model_module": "@jupyter-widgets/controls",
          "model_module_version": "1.5.0",
          "model_name": "HTMLModel",
          "state": {
            "_dom_classes": [],
            "_model_module": "@jupyter-widgets/controls",
            "_model_module_version": "1.5.0",
            "_model_name": "HTMLModel",
            "_view_count": null,
            "_view_module": "@jupyter-widgets/controls",
            "_view_module_version": "1.5.0",
            "_view_name": "HTMLView",
            "description": "",
            "description_tooltip": null,
            "layout": "IPY_MODEL_ac73e06b68f4448ab902130d51a227a5",
            "placeholder": "​",
            "style": "IPY_MODEL_3f73859b6eda46eb9ffab85143d529ea",
            "value": "config.json: 100%"
          }
        },
        "689487d77913425490936175daaec991": {
          "model_module": "@jupyter-widgets/base",
          "model_module_version": "1.2.0",
          "model_name": "LayoutModel",
          "state": {
            "_model_module": "@jupyter-widgets/base",
            "_model_module_version": "1.2.0",
            "_model_name": "LayoutModel",
            "_view_count": null,
            "_view_module": "@jupyter-widgets/base",
            "_view_module_version": "1.2.0",
            "_view_name": "LayoutView",
            "align_content": null,
            "align_items": null,
            "align_self": null,
            "border": null,
            "bottom": null,
            "display": null,
            "flex": null,
            "flex_flow": null,
            "grid_area": null,
            "grid_auto_columns": null,
            "grid_auto_flow": null,
            "grid_auto_rows": null,
            "grid_column": null,
            "grid_gap": null,
            "grid_row": null,
            "grid_template_areas": null,
            "grid_template_columns": null,
            "grid_template_rows": null,
            "height": null,
            "justify_content": null,
            "justify_items": null,
            "left": null,
            "margin": null,
            "max_height": null,
            "max_width": null,
            "min_height": null,
            "min_width": null,
            "object_fit": null,
            "object_position": null,
            "order": null,
            "overflow": null,
            "overflow_x": null,
            "overflow_y": null,
            "padding": null,
            "right": null,
            "top": null,
            "visibility": null,
            "width": null
          }
        },
        "693ca38f0f424b1d86d204d33edb75a4": {
          "model_module": "@jupyter-widgets/controls",
          "model_module_version": "1.5.0",
          "model_name": "HTMLModel",
          "state": {
            "_dom_classes": [],
            "_model_module": "@jupyter-widgets/controls",
            "_model_module_version": "1.5.0",
            "_model_name": "HTMLModel",
            "_view_count": null,
            "_view_module": "@jupyter-widgets/controls",
            "_view_module_version": "1.5.0",
            "_view_name": "HTMLView",
            "description": "",
            "description_tooltip": null,
            "layout": "IPY_MODEL_1a367b9a8cf048d3ac3b39b62e72fc25",
            "placeholder": "​",
            "style": "IPY_MODEL_ff328afaf575441c9786596a6e5c1d3e",
            "value": "Map: 100%"
          }
        },
        "6959f7fba2464e7687ab251252ef29de": {
          "model_module": "@jupyter-widgets/controls",
          "model_module_version": "1.5.0",
          "model_name": "DescriptionStyleModel",
          "state": {
            "_model_module": "@jupyter-widgets/controls",
            "_model_module_version": "1.5.0",
            "_model_name": "DescriptionStyleModel",
            "_view_count": null,
            "_view_module": "@jupyter-widgets/base",
            "_view_module_version": "1.2.0",
            "_view_name": "StyleView",
            "description_width": ""
          }
        },
        "6b3ca312217d4eadae946f2efa2ca4cb": {
          "model_module": "@jupyter-widgets/controls",
          "model_module_version": "1.5.0",
          "model_name": "DescriptionStyleModel",
          "state": {
            "_model_module": "@jupyter-widgets/controls",
            "_model_module_version": "1.5.0",
            "_model_name": "DescriptionStyleModel",
            "_view_count": null,
            "_view_module": "@jupyter-widgets/base",
            "_view_module_version": "1.2.0",
            "_view_name": "StyleView",
            "description_width": ""
          }
        },
        "72b54f71afc247879962dd0fed69a999": {
          "model_module": "@jupyter-widgets/base",
          "model_module_version": "1.2.0",
          "model_name": "LayoutModel",
          "state": {
            "_model_module": "@jupyter-widgets/base",
            "_model_module_version": "1.2.0",
            "_model_name": "LayoutModel",
            "_view_count": null,
            "_view_module": "@jupyter-widgets/base",
            "_view_module_version": "1.2.0",
            "_view_name": "LayoutView",
            "align_content": null,
            "align_items": null,
            "align_self": null,
            "border": null,
            "bottom": null,
            "display": null,
            "flex": null,
            "flex_flow": null,
            "grid_area": null,
            "grid_auto_columns": null,
            "grid_auto_flow": null,
            "grid_auto_rows": null,
            "grid_column": null,
            "grid_gap": null,
            "grid_row": null,
            "grid_template_areas": null,
            "grid_template_columns": null,
            "grid_template_rows": null,
            "height": null,
            "justify_content": null,
            "justify_items": null,
            "left": null,
            "margin": null,
            "max_height": null,
            "max_width": null,
            "min_height": null,
            "min_width": null,
            "object_fit": null,
            "object_position": null,
            "order": null,
            "overflow": null,
            "overflow_x": null,
            "overflow_y": null,
            "padding": null,
            "right": null,
            "top": null,
            "visibility": null,
            "width": null
          }
        },
        "73c69bca7c034a77b241416cd6bf257a": {
          "model_module": "@jupyter-widgets/controls",
          "model_module_version": "1.5.0",
          "model_name": "VBoxModel",
          "state": {
            "_dom_classes": [],
            "_model_module": "@jupyter-widgets/controls",
            "_model_module_version": "1.5.0",
            "_model_name": "VBoxModel",
            "_view_count": null,
            "_view_module": "@jupyter-widgets/controls",
            "_view_module_version": "1.5.0",
            "_view_name": "VBoxView",
            "box_style": "",
            "children": [
              "IPY_MODEL_31da2b54530248a8933cc14fd8b94622",
              "IPY_MODEL_54b6d80ec4594d79861a9fbe31097e28",
              "IPY_MODEL_a36a14c37d2a44e4bac5244621287a23",
              "IPY_MODEL_2471a70472a84eb08e983d71e4bc6d2a"
            ],
            "layout": "IPY_MODEL_da9301d22cdf4886a62cbbd6057837c2"
          }
        },
        "73efe8f9c458454eb8c8879ffe88e93d": {
          "model_module": "@jupyter-widgets/controls",
          "model_module_version": "1.5.0",
          "model_name": "ButtonStyleModel",
          "state": {
            "_model_module": "@jupyter-widgets/controls",
            "_model_module_version": "1.5.0",
            "_model_name": "ButtonStyleModel",
            "_view_count": null,
            "_view_module": "@jupyter-widgets/base",
            "_view_module_version": "1.2.0",
            "_view_name": "StyleView",
            "button_color": null,
            "font_weight": ""
          }
        },
        "7bf1706997da4a94a31999a455aef9a4": {
          "model_module": "@jupyter-widgets/base",
          "model_module_version": "1.2.0",
          "model_name": "LayoutModel",
          "state": {
            "_model_module": "@jupyter-widgets/base",
            "_model_module_version": "1.2.0",
            "_model_name": "LayoutModel",
            "_view_count": null,
            "_view_module": "@jupyter-widgets/base",
            "_view_module_version": "1.2.0",
            "_view_name": "LayoutView",
            "align_content": null,
            "align_items": null,
            "align_self": null,
            "border": null,
            "bottom": null,
            "display": null,
            "flex": null,
            "flex_flow": null,
            "grid_area": null,
            "grid_auto_columns": null,
            "grid_auto_flow": null,
            "grid_auto_rows": null,
            "grid_column": null,
            "grid_gap": null,
            "grid_row": null,
            "grid_template_areas": null,
            "grid_template_columns": null,
            "grid_template_rows": null,
            "height": null,
            "justify_content": null,
            "justify_items": null,
            "left": null,
            "margin": null,
            "max_height": null,
            "max_width": null,
            "min_height": null,
            "min_width": null,
            "object_fit": null,
            "object_position": null,
            "order": null,
            "overflow": null,
            "overflow_x": null,
            "overflow_y": null,
            "padding": null,
            "right": null,
            "top": null,
            "visibility": null,
            "width": null
          }
        },
        "7e6c2b5f288f4891b3f8c9afb5a17916": {
          "model_module": "@jupyter-widgets/controls",
          "model_module_version": "1.5.0",
          "model_name": "HTMLModel",
          "state": {
            "_dom_classes": [],
            "_model_module": "@jupyter-widgets/controls",
            "_model_module_version": "1.5.0",
            "_model_name": "HTMLModel",
            "_view_count": null,
            "_view_module": "@jupyter-widgets/controls",
            "_view_module_version": "1.5.0",
            "_view_name": "HTMLView",
            "description": "",
            "description_tooltip": null,
            "layout": "IPY_MODEL_a719f49c00d943028df290cc77d73c28",
            "placeholder": "​",
            "style": "IPY_MODEL_36a4a4430cb04dc18de80bd8bd32df37",
            "value": "Map: 100%"
          }
        },
        "7eeb778be4b246baa25a00a1ae16e859": {
          "model_module": "@jupyter-widgets/base",
          "model_module_version": "1.2.0",
          "model_name": "LayoutModel",
          "state": {
            "_model_module": "@jupyter-widgets/base",
            "_model_module_version": "1.2.0",
            "_model_name": "LayoutModel",
            "_view_count": null,
            "_view_module": "@jupyter-widgets/base",
            "_view_module_version": "1.2.0",
            "_view_name": "LayoutView",
            "align_content": null,
            "align_items": null,
            "align_self": null,
            "border": null,
            "bottom": null,
            "display": null,
            "flex": null,
            "flex_flow": null,
            "grid_area": null,
            "grid_auto_columns": null,
            "grid_auto_flow": null,
            "grid_auto_rows": null,
            "grid_column": null,
            "grid_gap": null,
            "grid_row": null,
            "grid_template_areas": null,
            "grid_template_columns": null,
            "grid_template_rows": null,
            "height": null,
            "justify_content": null,
            "justify_items": null,
            "left": null,
            "margin": null,
            "max_height": null,
            "max_width": null,
            "min_height": null,
            "min_width": null,
            "object_fit": null,
            "object_position": null,
            "order": null,
            "overflow": null,
            "overflow_x": null,
            "overflow_y": null,
            "padding": null,
            "right": null,
            "top": null,
            "visibility": null,
            "width": null
          }
        },
        "7feed6991c9f44ef84e90f215871ae86": {
          "model_module": "@jupyter-widgets/controls",
          "model_module_version": "1.5.0",
          "model_name": "HTMLModel",
          "state": {
            "_dom_classes": [],
            "_model_module": "@jupyter-widgets/controls",
            "_model_module_version": "1.5.0",
            "_model_name": "HTMLModel",
            "_view_count": null,
            "_view_module": "@jupyter-widgets/controls",
            "_view_module_version": "1.5.0",
            "_view_name": "HTMLView",
            "description": "",
            "description_tooltip": null,
            "layout": "IPY_MODEL_904f27a6de2c4d0da4b7fb5165dedd8b",
            "placeholder": "​",
            "style": "IPY_MODEL_4b3d7b0fb15041a19b1927b65abf09b0",
            "value": "\n<b>Pro Tip:</b> If you don't already have one, you can create a dedicated\n'notebooks' token with 'write' access, that you can then easily reuse for all\nnotebooks. </center>"
          }
        },
        "8189bed1aafc4944bea3ad0e5a5ee0fb": {
          "model_module": "@jupyter-widgets/controls",
          "model_module_version": "1.5.0",
          "model_name": "HTMLModel",
          "state": {
            "_dom_classes": [],
            "_model_module": "@jupyter-widgets/controls",
            "_model_module_version": "1.5.0",
            "_model_name": "HTMLModel",
            "_view_count": null,
            "_view_module": "@jupyter-widgets/controls",
            "_view_module_version": "1.5.0",
            "_view_name": "HTMLView",
            "description": "",
            "description_tooltip": null,
            "layout": "IPY_MODEL_fcc035da73b54b808ad83ff7cf572aed",
            "placeholder": "​",
            "style": "IPY_MODEL_467d65013eeb4e0090f5b3df748f06be",
            "value": " 2946/2946 [00:00&lt;00:00, 119336.12 examples/s]"
          }
        },
        "8244da5987494c3abfbabdf43c5de63e": {
          "model_module": "@jupyter-widgets/controls",
          "model_module_version": "1.5.0",
          "model_name": "FloatProgressModel",
          "state": {
            "_dom_classes": [],
            "_model_module": "@jupyter-widgets/controls",
            "_model_module_version": "1.5.0",
            "_model_name": "FloatProgressModel",
            "_view_count": null,
            "_view_module": "@jupyter-widgets/controls",
            "_view_module_version": "1.5.0",
            "_view_name": "ProgressView",
            "bar_style": "success",
            "description": "",
            "description_tooltip": null,
            "layout": "IPY_MODEL_62d8da282a6645ceb7178f134bc70d11",
            "max": 737,
            "min": 0,
            "orientation": "horizontal",
            "style": "IPY_MODEL_58e086351a6f4de583d46be71230b14b",
            "value": 737
          }
        },
        "837fe93445684f19811bda3fd52f9971": {
          "model_module": "@jupyter-widgets/base",
          "model_module_version": "1.2.0",
          "model_name": "LayoutModel",
          "state": {
            "_model_module": "@jupyter-widgets/base",
            "_model_module_version": "1.2.0",
            "_model_name": "LayoutModel",
            "_view_count": null,
            "_view_module": "@jupyter-widgets/base",
            "_view_module_version": "1.2.0",
            "_view_name": "LayoutView",
            "align_content": null,
            "align_items": null,
            "align_self": null,
            "border": null,
            "bottom": null,
            "display": null,
            "flex": null,
            "flex_flow": null,
            "grid_area": null,
            "grid_auto_columns": null,
            "grid_auto_flow": null,
            "grid_auto_rows": null,
            "grid_column": null,
            "grid_gap": null,
            "grid_row": null,
            "grid_template_areas": null,
            "grid_template_columns": null,
            "grid_template_rows": null,
            "height": null,
            "justify_content": null,
            "justify_items": null,
            "left": null,
            "margin": null,
            "max_height": null,
            "max_width": null,
            "min_height": null,
            "min_width": null,
            "object_fit": null,
            "object_position": null,
            "order": null,
            "overflow": null,
            "overflow_x": null,
            "overflow_y": null,
            "padding": null,
            "right": null,
            "top": null,
            "visibility": null,
            "width": null
          }
        },
        "839aea443cae470c94aff78eb54145ae": {
          "model_module": "@jupyter-widgets/base",
          "model_module_version": "1.2.0",
          "model_name": "LayoutModel",
          "state": {
            "_model_module": "@jupyter-widgets/base",
            "_model_module_version": "1.2.0",
            "_model_name": "LayoutModel",
            "_view_count": null,
            "_view_module": "@jupyter-widgets/base",
            "_view_module_version": "1.2.0",
            "_view_name": "LayoutView",
            "align_content": null,
            "align_items": null,
            "align_self": null,
            "border": null,
            "bottom": null,
            "display": null,
            "flex": null,
            "flex_flow": null,
            "grid_area": null,
            "grid_auto_columns": null,
            "grid_auto_flow": null,
            "grid_auto_rows": null,
            "grid_column": null,
            "grid_gap": null,
            "grid_row": null,
            "grid_template_areas": null,
            "grid_template_columns": null,
            "grid_template_rows": null,
            "height": null,
            "justify_content": null,
            "justify_items": null,
            "left": null,
            "margin": null,
            "max_height": null,
            "max_width": null,
            "min_height": null,
            "min_width": null,
            "object_fit": null,
            "object_position": null,
            "order": null,
            "overflow": null,
            "overflow_x": null,
            "overflow_y": null,
            "padding": null,
            "right": null,
            "top": null,
            "visibility": null,
            "width": null
          }
        },
        "84e0f49fc6cd4722b5ec4544f152cc8f": {
          "model_module": "@jupyter-widgets/controls",
          "model_module_version": "1.5.0",
          "model_name": "LabelModel",
          "state": {
            "_dom_classes": [],
            "_model_module": "@jupyter-widgets/controls",
            "_model_module_version": "1.5.0",
            "_model_name": "LabelModel",
            "_view_count": null,
            "_view_module": "@jupyter-widgets/controls",
            "_view_module_version": "1.5.0",
            "_view_name": "LabelView",
            "description": "",
            "description_tooltip": null,
            "layout": "IPY_MODEL_489f2e5ca0dc410384d7fbd40005d1f2",
            "placeholder": "​",
            "style": "IPY_MODEL_263d35ebc8b14542829474e57b40dada",
            "value": "Connecting..."
          }
        },
        "84ee3221090d4b24abf29298fd65f6c7": {
          "model_module": "@jupyter-widgets/base",
          "model_module_version": "1.2.0",
          "model_name": "LayoutModel",
          "state": {
            "_model_module": "@jupyter-widgets/base",
            "_model_module_version": "1.2.0",
            "_model_name": "LayoutModel",
            "_view_count": null,
            "_view_module": "@jupyter-widgets/base",
            "_view_module_version": "1.2.0",
            "_view_name": "LayoutView",
            "align_content": null,
            "align_items": null,
            "align_self": null,
            "border": null,
            "bottom": null,
            "display": null,
            "flex": null,
            "flex_flow": null,
            "grid_area": null,
            "grid_auto_columns": null,
            "grid_auto_flow": null,
            "grid_auto_rows": null,
            "grid_column": null,
            "grid_gap": null,
            "grid_row": null,
            "grid_template_areas": null,
            "grid_template_columns": null,
            "grid_template_rows": null,
            "height": null,
            "justify_content": null,
            "justify_items": null,
            "left": null,
            "margin": null,
            "max_height": null,
            "max_width": null,
            "min_height": null,
            "min_width": null,
            "object_fit": null,
            "object_position": null,
            "order": null,
            "overflow": null,
            "overflow_x": null,
            "overflow_y": null,
            "padding": null,
            "right": null,
            "top": null,
            "visibility": null,
            "width": null
          }
        },
        "86e9bf5e58994e22b526ea87231dc5b4": {
          "model_module": "@jupyter-widgets/base",
          "model_module_version": "1.2.0",
          "model_name": "LayoutModel",
          "state": {
            "_model_module": "@jupyter-widgets/base",
            "_model_module_version": "1.2.0",
            "_model_name": "LayoutModel",
            "_view_count": null,
            "_view_module": "@jupyter-widgets/base",
            "_view_module_version": "1.2.0",
            "_view_name": "LayoutView",
            "align_content": null,
            "align_items": null,
            "align_self": null,
            "border": null,
            "bottom": null,
            "display": null,
            "flex": null,
            "flex_flow": null,
            "grid_area": null,
            "grid_auto_columns": null,
            "grid_auto_flow": null,
            "grid_auto_rows": null,
            "grid_column": null,
            "grid_gap": null,
            "grid_row": null,
            "grid_template_areas": null,
            "grid_template_columns": null,
            "grid_template_rows": null,
            "height": null,
            "justify_content": null,
            "justify_items": null,
            "left": null,
            "margin": null,
            "max_height": null,
            "max_width": null,
            "min_height": null,
            "min_width": null,
            "object_fit": null,
            "object_position": null,
            "order": null,
            "overflow": null,
            "overflow_x": null,
            "overflow_y": null,
            "padding": null,
            "right": null,
            "top": null,
            "visibility": null,
            "width": null
          }
        },
        "880a6659daec40ffb8bbe7f134bf0c3e": {
          "model_module": "@jupyter-widgets/controls",
          "model_module_version": "1.5.0",
          "model_name": "HTMLModel",
          "state": {
            "_dom_classes": [],
            "_model_module": "@jupyter-widgets/controls",
            "_model_module_version": "1.5.0",
            "_model_name": "HTMLModel",
            "_view_count": null,
            "_view_module": "@jupyter-widgets/controls",
            "_view_module_version": "1.5.0",
            "_view_name": "HTMLView",
            "description": "",
            "description_tooltip": null,
            "layout": "IPY_MODEL_ab55b0085e394a8380678c13bfc34d63",
            "placeholder": "​",
            "style": "IPY_MODEL_98a9c8f47e0c49dba53b0acd16e9864d",
            "value": "Map: 100%"
          }
        },
        "882828978bc944aa885e13871185c32d": {
          "model_module": "@jupyter-widgets/controls",
          "model_module_version": "1.5.0",
          "model_name": "DescriptionStyleModel",
          "state": {
            "_model_module": "@jupyter-widgets/controls",
            "_model_module_version": "1.5.0",
            "_model_name": "DescriptionStyleModel",
            "_view_count": null,
            "_view_module": "@jupyter-widgets/base",
            "_view_module_version": "1.2.0",
            "_view_name": "StyleView",
            "description_width": ""
          }
        },
        "89f6599930674808ba1a8122b5414fe7": {
          "model_module": "@jupyter-widgets/controls",
          "model_module_version": "1.5.0",
          "model_name": "PasswordModel",
          "state": {
            "_dom_classes": [],
            "_model_module": "@jupyter-widgets/controls",
            "_model_module_version": "1.5.0",
            "_model_name": "PasswordModel",
            "_view_count": null,
            "_view_module": "@jupyter-widgets/controls",
            "_view_module_version": "1.5.0",
            "_view_name": "PasswordView",
            "continuous_update": true,
            "description": "Token:",
            "description_tooltip": null,
            "disabled": false,
            "layout": "IPY_MODEL_50300eaeb316422894ac9c2ec5300c51",
            "placeholder": "​",
            "style": "IPY_MODEL_55861b0e6b96412faad98c5aa64b67ef",
            "value": ""
          }
        },
        "8d00d38c4bf94d27bb4f7126f4180cff": {
          "model_module": "@jupyter-widgets/controls",
          "model_module_version": "1.5.0",
          "model_name": "DescriptionStyleModel",
          "state": {
            "_model_module": "@jupyter-widgets/controls",
            "_model_module_version": "1.5.0",
            "_model_name": "DescriptionStyleModel",
            "_view_count": null,
            "_view_module": "@jupyter-widgets/base",
            "_view_module_version": "1.2.0",
            "_view_name": "StyleView",
            "description_width": ""
          }
        },
        "8dcbfac0422d4e8492cd94d6693714f4": {
          "model_module": "@jupyter-widgets/controls",
          "model_module_version": "1.5.0",
          "model_name": "DescriptionStyleModel",
          "state": {
            "_model_module": "@jupyter-widgets/controls",
            "_model_module_version": "1.5.0",
            "_model_name": "DescriptionStyleModel",
            "_view_count": null,
            "_view_module": "@jupyter-widgets/base",
            "_view_module_version": "1.2.0",
            "_view_name": "StyleView",
            "description_width": ""
          }
        },
        "8eb71778c21f414e9968469a0cef9dba": {
          "model_module": "@jupyter-widgets/base",
          "model_module_version": "1.2.0",
          "model_name": "LayoutModel",
          "state": {
            "_model_module": "@jupyter-widgets/base",
            "_model_module_version": "1.2.0",
            "_model_name": "LayoutModel",
            "_view_count": null,
            "_view_module": "@jupyter-widgets/base",
            "_view_module_version": "1.2.0",
            "_view_name": "LayoutView",
            "align_content": null,
            "align_items": null,
            "align_self": null,
            "border": null,
            "bottom": null,
            "display": null,
            "flex": null,
            "flex_flow": null,
            "grid_area": null,
            "grid_auto_columns": null,
            "grid_auto_flow": null,
            "grid_auto_rows": null,
            "grid_column": null,
            "grid_gap": null,
            "grid_row": null,
            "grid_template_areas": null,
            "grid_template_columns": null,
            "grid_template_rows": null,
            "height": null,
            "justify_content": null,
            "justify_items": null,
            "left": null,
            "margin": null,
            "max_height": null,
            "max_width": null,
            "min_height": null,
            "min_width": null,
            "object_fit": null,
            "object_position": null,
            "order": null,
            "overflow": null,
            "overflow_x": null,
            "overflow_y": null,
            "padding": null,
            "right": null,
            "top": null,
            "visibility": null,
            "width": null
          }
        },
        "8f24541b08c549da813568295b4d04e9": {
          "model_module": "@jupyter-widgets/controls",
          "model_module_version": "1.5.0",
          "model_name": "PasswordModel",
          "state": {
            "_dom_classes": [],
            "_model_module": "@jupyter-widgets/controls",
            "_model_module_version": "1.5.0",
            "_model_name": "PasswordModel",
            "_view_count": null,
            "_view_module": "@jupyter-widgets/controls",
            "_view_module_version": "1.5.0",
            "_view_name": "PasswordView",
            "continuous_update": true,
            "description": "Token:",
            "description_tooltip": null,
            "disabled": false,
            "layout": "IPY_MODEL_4c5c1a4797f14523952e78ecb8f06e2f",
            "placeholder": "​",
            "style": "IPY_MODEL_2abf66a6f8f24388b4ac277bf5d23cbe",
            "value": ""
          }
        },
        "904f27a6de2c4d0da4b7fb5165dedd8b": {
          "model_module": "@jupyter-widgets/base",
          "model_module_version": "1.2.0",
          "model_name": "LayoutModel",
          "state": {
            "_model_module": "@jupyter-widgets/base",
            "_model_module_version": "1.2.0",
            "_model_name": "LayoutModel",
            "_view_count": null,
            "_view_module": "@jupyter-widgets/base",
            "_view_module_version": "1.2.0",
            "_view_name": "LayoutView",
            "align_content": null,
            "align_items": null,
            "align_self": null,
            "border": null,
            "bottom": null,
            "display": null,
            "flex": null,
            "flex_flow": null,
            "grid_area": null,
            "grid_auto_columns": null,
            "grid_auto_flow": null,
            "grid_auto_rows": null,
            "grid_column": null,
            "grid_gap": null,
            "grid_row": null,
            "grid_template_areas": null,
            "grid_template_columns": null,
            "grid_template_rows": null,
            "height": null,
            "justify_content": null,
            "justify_items": null,
            "left": null,
            "margin": null,
            "max_height": null,
            "max_width": null,
            "min_height": null,
            "min_width": null,
            "object_fit": null,
            "object_position": null,
            "order": null,
            "overflow": null,
            "overflow_x": null,
            "overflow_y": null,
            "padding": null,
            "right": null,
            "top": null,
            "visibility": null,
            "width": null
          }
        },
        "905239e4b8354d7f93f6749074e81af1": {
          "model_module": "@jupyter-widgets/controls",
          "model_module_version": "1.5.0",
          "model_name": "LabelModel",
          "state": {
            "_dom_classes": [],
            "_model_module": "@jupyter-widgets/controls",
            "_model_module_version": "1.5.0",
            "_model_name": "LabelModel",
            "_view_count": null,
            "_view_module": "@jupyter-widgets/controls",
            "_view_module_version": "1.5.0",
            "_view_name": "LabelView",
            "description": "",
            "description_tooltip": null,
            "layout": "IPY_MODEL_5e64dc8b030b424695b24af53a91a7ef",
            "placeholder": "​",
            "style": "IPY_MODEL_a66e994b67844d3da838fa6aa23186d5",
            "value": "Connecting..."
          }
        },
        "912776653b4c43c0be79b6acf38f6c27": {
          "model_module": "@jupyter-widgets/controls",
          "model_module_version": "1.5.0",
          "model_name": "HTMLModel",
          "state": {
            "_dom_classes": [],
            "_model_module": "@jupyter-widgets/controls",
            "_model_module_version": "1.5.0",
            "_model_name": "HTMLModel",
            "_view_count": null,
            "_view_module": "@jupyter-widgets/controls",
            "_view_module_version": "1.5.0",
            "_view_name": "HTMLView",
            "description": "",
            "description_tooltip": null,
            "layout": "IPY_MODEL_c7b0ccc72dc745b3a3ade7ca783ffd8b",
            "placeholder": "​",
            "style": "IPY_MODEL_6959f7fba2464e7687ab251252ef29de",
            "value": " 2946/2946 [01:48&lt;00:00, 10.47 examples/s]"
          }
        },
        "93648628825f449dbe5d3f9747db63a4": {
          "model_module": "@jupyter-widgets/controls",
          "model_module_version": "1.5.0",
          "model_name": "HBoxModel",
          "state": {
            "_dom_classes": [],
            "_model_module": "@jupyter-widgets/controls",
            "_model_module_version": "1.5.0",
            "_model_name": "HBoxModel",
            "_view_count": null,
            "_view_module": "@jupyter-widgets/controls",
            "_view_module_version": "1.5.0",
            "_view_name": "HBoxView",
            "box_style": "",
            "children": [
              "IPY_MODEL_c1956da25c8a4494bbc2bec8ddd75610",
              "IPY_MODEL_0934bce676574a199a564b9f8ded6d1e",
              "IPY_MODEL_bcfb7a7597e3452490b3c6200718d787"
            ],
            "layout": "IPY_MODEL_1f7cad837232406aa7e9804ae3117b5b"
          }
        },
        "985ecb40edfd40af8b72cc9a7fe52eee": {
          "model_module": "@jupyter-widgets/controls",
          "model_module_version": "1.5.0",
          "model_name": "HTMLModel",
          "state": {
            "_dom_classes": [],
            "_model_module": "@jupyter-widgets/controls",
            "_model_module_version": "1.5.0",
            "_model_name": "HTMLModel",
            "_view_count": null,
            "_view_module": "@jupyter-widgets/controls",
            "_view_module_version": "1.5.0",
            "_view_name": "HTMLView",
            "description": "",
            "description_tooltip": null,
            "layout": "IPY_MODEL_72b54f71afc247879962dd0fed69a999",
            "placeholder": "​",
            "style": "IPY_MODEL_a2953141df264e6dafe30e4e7f1ea561",
            "value": " 737/737 [00:00&lt;00:00, 6206.60 examples/s]"
          }
        },
        "98a9c8f47e0c49dba53b0acd16e9864d": {
          "model_module": "@jupyter-widgets/controls",
          "model_module_version": "1.5.0",
          "model_name": "DescriptionStyleModel",
          "state": {
            "_model_module": "@jupyter-widgets/controls",
            "_model_module_version": "1.5.0",
            "_model_name": "DescriptionStyleModel",
            "_view_count": null,
            "_view_module": "@jupyter-widgets/base",
            "_view_module_version": "1.2.0",
            "_view_name": "StyleView",
            "description_width": ""
          }
        },
        "99cd519632d74800b7fe4fcaa6b69879": {
          "model_module": "@jupyter-widgets/controls",
          "model_module_version": "1.5.0",
          "model_name": "FloatProgressModel",
          "state": {
            "_dom_classes": [],
            "_model_module": "@jupyter-widgets/controls",
            "_model_module_version": "1.5.0",
            "_model_name": "FloatProgressModel",
            "_view_count": null,
            "_view_module": "@jupyter-widgets/controls",
            "_view_module_version": "1.5.0",
            "_view_name": "ProgressView",
            "bar_style": "success",
            "description": "",
            "description_tooltip": null,
            "layout": "IPY_MODEL_837fe93445684f19811bda3fd52f9971",
            "max": 1269737156,
            "min": 0,
            "orientation": "horizontal",
            "style": "IPY_MODEL_f2735489677542d7a9c552d4676423b0",
            "value": 1269737156
          }
        },
        "9a3d2c405ace485296df5a069028e0df": {
          "model_module": "@jupyter-widgets/controls",
          "model_module_version": "1.5.0",
          "model_name": "HTMLModel",
          "state": {
            "_dom_classes": [],
            "_model_module": "@jupyter-widgets/controls",
            "_model_module_version": "1.5.0",
            "_model_name": "HTMLModel",
            "_view_count": null,
            "_view_module": "@jupyter-widgets/controls",
            "_view_module_version": "1.5.0",
            "_view_name": "HTMLView",
            "description": "",
            "description_tooltip": null,
            "layout": "IPY_MODEL_7eeb778be4b246baa25a00a1ae16e859",
            "placeholder": "​",
            "style": "IPY_MODEL_c333a63a98f046f8ab172b45babf0c94",
            "value": " 737/737 [00:27&lt;00:00, 32.43 examples/s]"
          }
        },
        "9c5b9c4b976c470f8e3fa4250effb819": {
          "model_module": "@jupyter-widgets/controls",
          "model_module_version": "1.5.0",
          "model_name": "DescriptionStyleModel",
          "state": {
            "_model_module": "@jupyter-widgets/controls",
            "_model_module_version": "1.5.0",
            "_model_name": "DescriptionStyleModel",
            "_view_count": null,
            "_view_module": "@jupyter-widgets/base",
            "_view_module_version": "1.2.0",
            "_view_name": "StyleView",
            "description_width": ""
          }
        },
        "9ea0167433d04e3ab127c1506522a0c4": {
          "model_module": "@jupyter-widgets/controls",
          "model_module_version": "1.5.0",
          "model_name": "HTMLModel",
          "state": {
            "_dom_classes": [],
            "_model_module": "@jupyter-widgets/controls",
            "_model_module_version": "1.5.0",
            "_model_name": "HTMLModel",
            "_view_count": null,
            "_view_module": "@jupyter-widgets/controls",
            "_view_module_version": "1.5.0",
            "_view_name": "HTMLView",
            "description": "",
            "description_tooltip": null,
            "layout": "IPY_MODEL_839aea443cae470c94aff78eb54145ae",
            "placeholder": "​",
            "style": "IPY_MODEL_610748641993409682ed9e91877982ca",
            "value": " 737/737 [00:00&lt;00:00, 24948.36 examples/s]"
          }
        },
        "a26bd9bb24bb441287caa7b62089780f": {
          "model_module": "@jupyter-widgets/controls",
          "model_module_version": "1.5.0",
          "model_name": "HBoxModel",
          "state": {
            "_dom_classes": [],
            "_model_module": "@jupyter-widgets/controls",
            "_model_module_version": "1.5.0",
            "_model_name": "HBoxModel",
            "_view_count": null,
            "_view_module": "@jupyter-widgets/controls",
            "_view_module_version": "1.5.0",
            "_view_name": "HBoxView",
            "box_style": "",
            "children": [
              "IPY_MODEL_ffb79698dedd4a45aa75805ef8e973e7",
              "IPY_MODEL_0f2d26f92c9b4db2b67d48176c982483",
              "IPY_MODEL_8189bed1aafc4944bea3ad0e5a5ee0fb"
            ],
            "layout": "IPY_MODEL_d5e40b24df5d4d909660d1789fbf6f32"
          }
        },
        "a2953141df264e6dafe30e4e7f1ea561": {
          "model_module": "@jupyter-widgets/controls",
          "model_module_version": "1.5.0",
          "model_name": "DescriptionStyleModel",
          "state": {
            "_model_module": "@jupyter-widgets/controls",
            "_model_module_version": "1.5.0",
            "_model_name": "DescriptionStyleModel",
            "_view_count": null,
            "_view_module": "@jupyter-widgets/base",
            "_view_module_version": "1.2.0",
            "_view_name": "StyleView",
            "description_width": ""
          }
        },
        "a36a14c37d2a44e4bac5244621287a23": {
          "model_module": "@jupyter-widgets/controls",
          "model_module_version": "1.5.0",
          "model_name": "LabelModel",
          "state": {
            "_dom_classes": [],
            "_model_module": "@jupyter-widgets/controls",
            "_model_module_version": "1.5.0",
            "_model_name": "LabelModel",
            "_view_count": null,
            "_view_module": "@jupyter-widgets/controls",
            "_view_module_version": "1.5.0",
            "_view_name": "LabelView",
            "description": "",
            "description_tooltip": null,
            "layout": "IPY_MODEL_c7129a5cae674295851885997ff7d967",
            "placeholder": "​",
            "style": "IPY_MODEL_9c5b9c4b976c470f8e3fa4250effb819",
            "value": "Your token has been saved to /root/.cache/huggingface/token"
          }
        },
        "a3a217d301ef4bacb3bca719be5ef734": {
          "model_module": "@jupyter-widgets/base",
          "model_module_version": "1.2.0",
          "model_name": "LayoutModel",
          "state": {
            "_model_module": "@jupyter-widgets/base",
            "_model_module_version": "1.2.0",
            "_model_name": "LayoutModel",
            "_view_count": null,
            "_view_module": "@jupyter-widgets/base",
            "_view_module_version": "1.2.0",
            "_view_name": "LayoutView",
            "align_content": null,
            "align_items": null,
            "align_self": null,
            "border": null,
            "bottom": null,
            "display": null,
            "flex": null,
            "flex_flow": null,
            "grid_area": null,
            "grid_auto_columns": null,
            "grid_auto_flow": null,
            "grid_auto_rows": null,
            "grid_column": null,
            "grid_gap": null,
            "grid_row": null,
            "grid_template_areas": null,
            "grid_template_columns": null,
            "grid_template_rows": null,
            "height": null,
            "justify_content": null,
            "justify_items": null,
            "left": null,
            "margin": null,
            "max_height": null,
            "max_width": null,
            "min_height": null,
            "min_width": null,
            "object_fit": null,
            "object_position": null,
            "order": null,
            "overflow": null,
            "overflow_x": null,
            "overflow_y": null,
            "padding": null,
            "right": null,
            "top": null,
            "visibility": null,
            "width": null
          }
        },
        "a4c00aa8c56d4754922e95513ec77eb5": {
          "model_module": "@jupyter-widgets/base",
          "model_module_version": "1.2.0",
          "model_name": "LayoutModel",
          "state": {
            "_model_module": "@jupyter-widgets/base",
            "_model_module_version": "1.2.0",
            "_model_name": "LayoutModel",
            "_view_count": null,
            "_view_module": "@jupyter-widgets/base",
            "_view_module_version": "1.2.0",
            "_view_name": "LayoutView",
            "align_content": null,
            "align_items": null,
            "align_self": null,
            "border": null,
            "bottom": null,
            "display": null,
            "flex": null,
            "flex_flow": null,
            "grid_area": null,
            "grid_auto_columns": null,
            "grid_auto_flow": null,
            "grid_auto_rows": null,
            "grid_column": null,
            "grid_gap": null,
            "grid_row": null,
            "grid_template_areas": null,
            "grid_template_columns": null,
            "grid_template_rows": null,
            "height": null,
            "justify_content": null,
            "justify_items": null,
            "left": null,
            "margin": null,
            "max_height": null,
            "max_width": null,
            "min_height": null,
            "min_width": null,
            "object_fit": null,
            "object_position": null,
            "order": null,
            "overflow": null,
            "overflow_x": null,
            "overflow_y": null,
            "padding": null,
            "right": null,
            "top": null,
            "visibility": null,
            "width": null
          }
        },
        "a66e994b67844d3da838fa6aa23186d5": {
          "model_module": "@jupyter-widgets/controls",
          "model_module_version": "1.5.0",
          "model_name": "DescriptionStyleModel",
          "state": {
            "_model_module": "@jupyter-widgets/controls",
            "_model_module_version": "1.5.0",
            "_model_name": "DescriptionStyleModel",
            "_view_count": null,
            "_view_module": "@jupyter-widgets/base",
            "_view_module_version": "1.2.0",
            "_view_name": "StyleView",
            "description_width": ""
          }
        },
        "a719f49c00d943028df290cc77d73c28": {
          "model_module": "@jupyter-widgets/base",
          "model_module_version": "1.2.0",
          "model_name": "LayoutModel",
          "state": {
            "_model_module": "@jupyter-widgets/base",
            "_model_module_version": "1.2.0",
            "_model_name": "LayoutModel",
            "_view_count": null,
            "_view_module": "@jupyter-widgets/base",
            "_view_module_version": "1.2.0",
            "_view_name": "LayoutView",
            "align_content": null,
            "align_items": null,
            "align_self": null,
            "border": null,
            "bottom": null,
            "display": null,
            "flex": null,
            "flex_flow": null,
            "grid_area": null,
            "grid_auto_columns": null,
            "grid_auto_flow": null,
            "grid_auto_rows": null,
            "grid_column": null,
            "grid_gap": null,
            "grid_row": null,
            "grid_template_areas": null,
            "grid_template_columns": null,
            "grid_template_rows": null,
            "height": null,
            "justify_content": null,
            "justify_items": null,
            "left": null,
            "margin": null,
            "max_height": null,
            "max_width": null,
            "min_height": null,
            "min_width": null,
            "object_fit": null,
            "object_position": null,
            "order": null,
            "overflow": null,
            "overflow_x": null,
            "overflow_y": null,
            "padding": null,
            "right": null,
            "top": null,
            "visibility": null,
            "width": null
          }
        },
        "a7c9df194e6b40b3a6a4983ad5531193": {
          "model_module": "@jupyter-widgets/controls",
          "model_module_version": "1.5.0",
          "model_name": "DescriptionStyleModel",
          "state": {
            "_model_module": "@jupyter-widgets/controls",
            "_model_module_version": "1.5.0",
            "_model_name": "DescriptionStyleModel",
            "_view_count": null,
            "_view_module": "@jupyter-widgets/base",
            "_view_module_version": "1.2.0",
            "_view_name": "StyleView",
            "description_width": ""
          }
        },
        "a90dacde984e46bfac1d75baed34b604": {
          "model_module": "@jupyter-widgets/base",
          "model_module_version": "1.2.0",
          "model_name": "LayoutModel",
          "state": {
            "_model_module": "@jupyter-widgets/base",
            "_model_module_version": "1.2.0",
            "_model_name": "LayoutModel",
            "_view_count": null,
            "_view_module": "@jupyter-widgets/base",
            "_view_module_version": "1.2.0",
            "_view_name": "LayoutView",
            "align_content": null,
            "align_items": null,
            "align_self": null,
            "border": null,
            "bottom": null,
            "display": null,
            "flex": null,
            "flex_flow": null,
            "grid_area": null,
            "grid_auto_columns": null,
            "grid_auto_flow": null,
            "grid_auto_rows": null,
            "grid_column": null,
            "grid_gap": null,
            "grid_row": null,
            "grid_template_areas": null,
            "grid_template_columns": null,
            "grid_template_rows": null,
            "height": null,
            "justify_content": null,
            "justify_items": null,
            "left": null,
            "margin": null,
            "max_height": null,
            "max_width": null,
            "min_height": null,
            "min_width": null,
            "object_fit": null,
            "object_position": null,
            "order": null,
            "overflow": null,
            "overflow_x": null,
            "overflow_y": null,
            "padding": null,
            "right": null,
            "top": null,
            "visibility": null,
            "width": null
          }
        },
        "ab55b0085e394a8380678c13bfc34d63": {
          "model_module": "@jupyter-widgets/base",
          "model_module_version": "1.2.0",
          "model_name": "LayoutModel",
          "state": {
            "_model_module": "@jupyter-widgets/base",
            "_model_module_version": "1.2.0",
            "_model_name": "LayoutModel",
            "_view_count": null,
            "_view_module": "@jupyter-widgets/base",
            "_view_module_version": "1.2.0",
            "_view_name": "LayoutView",
            "align_content": null,
            "align_items": null,
            "align_self": null,
            "border": null,
            "bottom": null,
            "display": null,
            "flex": null,
            "flex_flow": null,
            "grid_area": null,
            "grid_auto_columns": null,
            "grid_auto_flow": null,
            "grid_auto_rows": null,
            "grid_column": null,
            "grid_gap": null,
            "grid_row": null,
            "grid_template_areas": null,
            "grid_template_columns": null,
            "grid_template_rows": null,
            "height": null,
            "justify_content": null,
            "justify_items": null,
            "left": null,
            "margin": null,
            "max_height": null,
            "max_width": null,
            "min_height": null,
            "min_width": null,
            "object_fit": null,
            "object_position": null,
            "order": null,
            "overflow": null,
            "overflow_x": null,
            "overflow_y": null,
            "padding": null,
            "right": null,
            "top": null,
            "visibility": null,
            "width": null
          }
        },
        "ac73e06b68f4448ab902130d51a227a5": {
          "model_module": "@jupyter-widgets/base",
          "model_module_version": "1.2.0",
          "model_name": "LayoutModel",
          "state": {
            "_model_module": "@jupyter-widgets/base",
            "_model_module_version": "1.2.0",
            "_model_name": "LayoutModel",
            "_view_count": null,
            "_view_module": "@jupyter-widgets/base",
            "_view_module_version": "1.2.0",
            "_view_name": "LayoutView",
            "align_content": null,
            "align_items": null,
            "align_self": null,
            "border": null,
            "bottom": null,
            "display": null,
            "flex": null,
            "flex_flow": null,
            "grid_area": null,
            "grid_auto_columns": null,
            "grid_auto_flow": null,
            "grid_auto_rows": null,
            "grid_column": null,
            "grid_gap": null,
            "grid_row": null,
            "grid_template_areas": null,
            "grid_template_columns": null,
            "grid_template_rows": null,
            "height": null,
            "justify_content": null,
            "justify_items": null,
            "left": null,
            "margin": null,
            "max_height": null,
            "max_width": null,
            "min_height": null,
            "min_width": null,
            "object_fit": null,
            "object_position": null,
            "order": null,
            "overflow": null,
            "overflow_x": null,
            "overflow_y": null,
            "padding": null,
            "right": null,
            "top": null,
            "visibility": null,
            "width": null
          }
        },
        "af94367781c14f33a6499748ecf1fd78": {
          "model_module": "@jupyter-widgets/controls",
          "model_module_version": "1.5.0",
          "model_name": "LabelModel",
          "state": {
            "_dom_classes": [],
            "_model_module": "@jupyter-widgets/controls",
            "_model_module_version": "1.5.0",
            "_model_name": "LabelModel",
            "_view_count": null,
            "_view_module": "@jupyter-widgets/controls",
            "_view_module_version": "1.5.0",
            "_view_name": "LabelView",
            "description": "",
            "description_tooltip": null,
            "layout": "IPY_MODEL_2ba39fb92c87443c86d6b306bec9ccc0",
            "placeholder": "​",
            "style": "IPY_MODEL_c7a64bdf138b4b5abca5d0a4137e3723",
            "value": "Token is valid (permission: write)."
          }
        },
        "b001cb3f06d04526bc8018ad1412ab10": {
          "model_module": "@jupyter-widgets/controls",
          "model_module_version": "1.5.0",
          "model_name": "LabelModel",
          "state": {
            "_dom_classes": [],
            "_model_module": "@jupyter-widgets/controls",
            "_model_module_version": "1.5.0",
            "_model_name": "LabelModel",
            "_view_count": null,
            "_view_module": "@jupyter-widgets/controls",
            "_view_module_version": "1.5.0",
            "_view_name": "LabelView",
            "description": "",
            "description_tooltip": null,
            "layout": "IPY_MODEL_84ee3221090d4b24abf29298fd65f6c7",
            "placeholder": "​",
            "style": "IPY_MODEL_cf9c14b5cc4845d0a9411fd1c3764319",
            "value": "Your token has been saved in your configured git credential helpers (store)."
          }
        },
        "b2ba19ee4dcf4ba6b537e151079789ab": {
          "model_module": "@jupyter-widgets/base",
          "model_module_version": "1.2.0",
          "model_name": "LayoutModel",
          "state": {
            "_model_module": "@jupyter-widgets/base",
            "_model_module_version": "1.2.0",
            "_model_name": "LayoutModel",
            "_view_count": null,
            "_view_module": "@jupyter-widgets/base",
            "_view_module_version": "1.2.0",
            "_view_name": "LayoutView",
            "align_content": null,
            "align_items": null,
            "align_self": null,
            "border": null,
            "bottom": null,
            "display": null,
            "flex": null,
            "flex_flow": null,
            "grid_area": null,
            "grid_auto_columns": null,
            "grid_auto_flow": null,
            "grid_auto_rows": null,
            "grid_column": null,
            "grid_gap": null,
            "grid_row": null,
            "grid_template_areas": null,
            "grid_template_columns": null,
            "grid_template_rows": null,
            "height": null,
            "justify_content": null,
            "justify_items": null,
            "left": null,
            "margin": null,
            "max_height": null,
            "max_width": null,
            "min_height": null,
            "min_width": null,
            "object_fit": null,
            "object_position": null,
            "order": null,
            "overflow": null,
            "overflow_x": null,
            "overflow_y": null,
            "padding": null,
            "right": null,
            "top": null,
            "visibility": null,
            "width": null
          }
        },
        "b3cf4a431aab4a2c8d85a5da78e0b9bc": {
          "model_module": "@jupyter-widgets/controls",
          "model_module_version": "1.5.0",
          "model_name": "HTMLModel",
          "state": {
            "_dom_classes": [],
            "_model_module": "@jupyter-widgets/controls",
            "_model_module_version": "1.5.0",
            "_model_name": "HTMLModel",
            "_view_count": null,
            "_view_module": "@jupyter-widgets/controls",
            "_view_module_version": "1.5.0",
            "_view_name": "HTMLView",
            "description": "",
            "description_tooltip": null,
            "layout": "IPY_MODEL_b2ba19ee4dcf4ba6b537e151079789ab",
            "placeholder": "​",
            "style": "IPY_MODEL_301cc631a3ef487c9f0a379071810da4",
            "value": " 2946/2946 [00:01&lt;00:00, 2183.66 examples/s]"
          }
        },
        "b45daecba2764f5180dc0e52a682a2b2": {
          "model_module": "@jupyter-widgets/base",
          "model_module_version": "1.2.0",
          "model_name": "LayoutModel",
          "state": {
            "_model_module": "@jupyter-widgets/base",
            "_model_module_version": "1.2.0",
            "_model_name": "LayoutModel",
            "_view_count": null,
            "_view_module": "@jupyter-widgets/base",
            "_view_module_version": "1.2.0",
            "_view_name": "LayoutView",
            "align_content": null,
            "align_items": null,
            "align_self": null,
            "border": null,
            "bottom": null,
            "display": null,
            "flex": null,
            "flex_flow": null,
            "grid_area": null,
            "grid_auto_columns": null,
            "grid_auto_flow": null,
            "grid_auto_rows": null,
            "grid_column": null,
            "grid_gap": null,
            "grid_row": null,
            "grid_template_areas": null,
            "grid_template_columns": null,
            "grid_template_rows": null,
            "height": null,
            "justify_content": null,
            "justify_items": null,
            "left": null,
            "margin": null,
            "max_height": null,
            "max_width": null,
            "min_height": null,
            "min_width": null,
            "object_fit": null,
            "object_position": null,
            "order": null,
            "overflow": null,
            "overflow_x": null,
            "overflow_y": null,
            "padding": null,
            "right": null,
            "top": null,
            "visibility": null,
            "width": null
          }
        },
        "b497f1d13e064c1f85689110859dfde7": {
          "model_module": "@jupyter-widgets/controls",
          "model_module_version": "1.5.0",
          "model_name": "FloatProgressModel",
          "state": {
            "_dom_classes": [],
            "_model_module": "@jupyter-widgets/controls",
            "_model_module_version": "1.5.0",
            "_model_name": "FloatProgressModel",
            "_view_count": null,
            "_view_module": "@jupyter-widgets/controls",
            "_view_module_version": "1.5.0",
            "_view_name": "ProgressView",
            "bar_style": "success",
            "description": "",
            "description_tooltip": null,
            "layout": "IPY_MODEL_86e9bf5e58994e22b526ea87231dc5b4",
            "max": 737,
            "min": 0,
            "orientation": "horizontal",
            "style": "IPY_MODEL_104d2af972ee47f1b14ea0faf692035c",
            "value": 737
          }
        },
        "b845af41e4c04add86507a75e169aa41": {
          "model_module": "@jupyter-widgets/controls",
          "model_module_version": "1.5.0",
          "model_name": "HTMLModel",
          "state": {
            "_dom_classes": [],
            "_model_module": "@jupyter-widgets/controls",
            "_model_module_version": "1.5.0",
            "_model_name": "HTMLModel",
            "_view_count": null,
            "_view_module": "@jupyter-widgets/controls",
            "_view_module_version": "1.5.0",
            "_view_name": "HTMLView",
            "description": "",
            "description_tooltip": null,
            "layout": "IPY_MODEL_22f632b6b1114e458739bc54c509c555",
            "placeholder": "​",
            "style": "IPY_MODEL_8d00d38c4bf94d27bb4f7126f4180cff",
            "value": "pytorch_model.bin: 100%"
          }
        },
        "ba2927af84104863a1776675aaad0aa1": {
          "model_module": "@jupyter-widgets/base",
          "model_module_version": "1.2.0",
          "model_name": "LayoutModel",
          "state": {
            "_model_module": "@jupyter-widgets/base",
            "_model_module_version": "1.2.0",
            "_model_name": "LayoutModel",
            "_view_count": null,
            "_view_module": "@jupyter-widgets/base",
            "_view_module_version": "1.2.0",
            "_view_name": "LayoutView",
            "align_content": null,
            "align_items": null,
            "align_self": null,
            "border": null,
            "bottom": null,
            "display": null,
            "flex": null,
            "flex_flow": null,
            "grid_area": null,
            "grid_auto_columns": null,
            "grid_auto_flow": null,
            "grid_auto_rows": null,
            "grid_column": null,
            "grid_gap": null,
            "grid_row": null,
            "grid_template_areas": null,
            "grid_template_columns": null,
            "grid_template_rows": null,
            "height": null,
            "justify_content": null,
            "justify_items": null,
            "left": null,
            "margin": null,
            "max_height": null,
            "max_width": null,
            "min_height": null,
            "min_width": null,
            "object_fit": null,
            "object_position": null,
            "order": null,
            "overflow": null,
            "overflow_x": null,
            "overflow_y": null,
            "padding": null,
            "right": null,
            "top": null,
            "visibility": null,
            "width": null
          }
        },
        "bcfb7a7597e3452490b3c6200718d787": {
          "model_module": "@jupyter-widgets/controls",
          "model_module_version": "1.5.0",
          "model_name": "HTMLModel",
          "state": {
            "_dom_classes": [],
            "_model_module": "@jupyter-widgets/controls",
            "_model_module_version": "1.5.0",
            "_model_name": "HTMLModel",
            "_view_count": null,
            "_view_module": "@jupyter-widgets/controls",
            "_view_module_version": "1.5.0",
            "_view_name": "HTMLView",
            "description": "",
            "description_tooltip": null,
            "layout": "IPY_MODEL_58512511499b41d599f83d8294f7899f",
            "placeholder": "​",
            "style": "IPY_MODEL_d2e9894aa2c441449baedf556157b27c",
            "value": " 3683/3683 [00:06&lt;00:00, 528.76 examples/s]"
          }
        },
        "c1956da25c8a4494bbc2bec8ddd75610": {
          "model_module": "@jupyter-widgets/controls",
          "model_module_version": "1.5.0",
          "model_name": "HTMLModel",
          "state": {
            "_dom_classes": [],
            "_model_module": "@jupyter-widgets/controls",
            "_model_module_version": "1.5.0",
            "_model_name": "HTMLModel",
            "_view_count": null,
            "_view_module": "@jupyter-widgets/controls",
            "_view_module_version": "1.5.0",
            "_view_name": "HTMLView",
            "description": "",
            "description_tooltip": null,
            "layout": "IPY_MODEL_5343b93aceea4c1db51d16447405e7d2",
            "placeholder": "​",
            "style": "IPY_MODEL_4c7829c796684c818a7095c2232ee0a9",
            "value": "Map: 100%"
          }
        },
        "c333a63a98f046f8ab172b45babf0c94": {
          "model_module": "@jupyter-widgets/controls",
          "model_module_version": "1.5.0",
          "model_name": "DescriptionStyleModel",
          "state": {
            "_model_module": "@jupyter-widgets/controls",
            "_model_module_version": "1.5.0",
            "_model_name": "DescriptionStyleModel",
            "_view_count": null,
            "_view_module": "@jupyter-widgets/base",
            "_view_module_version": "1.2.0",
            "_view_name": "StyleView",
            "description_width": ""
          }
        },
        "c3983d35e20a4f4ebaeebfde59324e15": {
          "model_module": "@jupyter-widgets/base",
          "model_module_version": "1.2.0",
          "model_name": "LayoutModel",
          "state": {
            "_model_module": "@jupyter-widgets/base",
            "_model_module_version": "1.2.0",
            "_model_name": "LayoutModel",
            "_view_count": null,
            "_view_module": "@jupyter-widgets/base",
            "_view_module_version": "1.2.0",
            "_view_name": "LayoutView",
            "align_content": null,
            "align_items": null,
            "align_self": null,
            "border": null,
            "bottom": null,
            "display": null,
            "flex": null,
            "flex_flow": null,
            "grid_area": null,
            "grid_auto_columns": null,
            "grid_auto_flow": null,
            "grid_auto_rows": null,
            "grid_column": null,
            "grid_gap": null,
            "grid_row": null,
            "grid_template_areas": null,
            "grid_template_columns": null,
            "grid_template_rows": null,
            "height": null,
            "justify_content": null,
            "justify_items": null,
            "left": null,
            "margin": null,
            "max_height": null,
            "max_width": null,
            "min_height": null,
            "min_width": null,
            "object_fit": null,
            "object_position": null,
            "order": null,
            "overflow": null,
            "overflow_x": null,
            "overflow_y": null,
            "padding": null,
            "right": null,
            "top": null,
            "visibility": null,
            "width": null
          }
        },
        "c468c89b5eb7458387c9e3bec48eafa2": {
          "model_module": "@jupyter-widgets/base",
          "model_module_version": "1.2.0",
          "model_name": "LayoutModel",
          "state": {
            "_model_module": "@jupyter-widgets/base",
            "_model_module_version": "1.2.0",
            "_model_name": "LayoutModel",
            "_view_count": null,
            "_view_module": "@jupyter-widgets/base",
            "_view_module_version": "1.2.0",
            "_view_name": "LayoutView",
            "align_content": null,
            "align_items": null,
            "align_self": null,
            "border": null,
            "bottom": null,
            "display": null,
            "flex": null,
            "flex_flow": null,
            "grid_area": null,
            "grid_auto_columns": null,
            "grid_auto_flow": null,
            "grid_auto_rows": null,
            "grid_column": null,
            "grid_gap": null,
            "grid_row": null,
            "grid_template_areas": null,
            "grid_template_columns": null,
            "grid_template_rows": null,
            "height": null,
            "justify_content": null,
            "justify_items": null,
            "left": null,
            "margin": null,
            "max_height": null,
            "max_width": null,
            "min_height": null,
            "min_width": null,
            "object_fit": null,
            "object_position": null,
            "order": null,
            "overflow": null,
            "overflow_x": null,
            "overflow_y": null,
            "padding": null,
            "right": null,
            "top": null,
            "visibility": null,
            "width": null
          }
        },
        "c51891eb247842878b888a4367b76f09": {
          "model_module": "@jupyter-widgets/controls",
          "model_module_version": "1.5.0",
          "model_name": "HTMLModel",
          "state": {
            "_dom_classes": [],
            "_model_module": "@jupyter-widgets/controls",
            "_model_module_version": "1.5.0",
            "_model_name": "HTMLModel",
            "_view_count": null,
            "_view_module": "@jupyter-widgets/controls",
            "_view_module_version": "1.5.0",
            "_view_name": "HTMLView",
            "description": "",
            "description_tooltip": null,
            "layout": "IPY_MODEL_dec7a66671e34d20a5a0c14283a7eaca",
            "placeholder": "​",
            "style": "IPY_MODEL_cd6858e22042455cbc51d85f5bc025b8",
            "value": " 1.57k/1.57k [00:00&lt;00:00, 64.6kB/s]"
          }
        },
        "c7129a5cae674295851885997ff7d967": {
          "model_module": "@jupyter-widgets/base",
          "model_module_version": "1.2.0",
          "model_name": "LayoutModel",
          "state": {
            "_model_module": "@jupyter-widgets/base",
            "_model_module_version": "1.2.0",
            "_model_name": "LayoutModel",
            "_view_count": null,
            "_view_module": "@jupyter-widgets/base",
            "_view_module_version": "1.2.0",
            "_view_name": "LayoutView",
            "align_content": null,
            "align_items": null,
            "align_self": null,
            "border": null,
            "bottom": null,
            "display": null,
            "flex": null,
            "flex_flow": null,
            "grid_area": null,
            "grid_auto_columns": null,
            "grid_auto_flow": null,
            "grid_auto_rows": null,
            "grid_column": null,
            "grid_gap": null,
            "grid_row": null,
            "grid_template_areas": null,
            "grid_template_columns": null,
            "grid_template_rows": null,
            "height": null,
            "justify_content": null,
            "justify_items": null,
            "left": null,
            "margin": null,
            "max_height": null,
            "max_width": null,
            "min_height": null,
            "min_width": null,
            "object_fit": null,
            "object_position": null,
            "order": null,
            "overflow": null,
            "overflow_x": null,
            "overflow_y": null,
            "padding": null,
            "right": null,
            "top": null,
            "visibility": null,
            "width": null
          }
        },
        "c7a64bdf138b4b5abca5d0a4137e3723": {
          "model_module": "@jupyter-widgets/controls",
          "model_module_version": "1.5.0",
          "model_name": "DescriptionStyleModel",
          "state": {
            "_model_module": "@jupyter-widgets/controls",
            "_model_module_version": "1.5.0",
            "_model_name": "DescriptionStyleModel",
            "_view_count": null,
            "_view_module": "@jupyter-widgets/base",
            "_view_module_version": "1.2.0",
            "_view_name": "StyleView",
            "description_width": ""
          }
        },
        "c7b0ccc72dc745b3a3ade7ca783ffd8b": {
          "model_module": "@jupyter-widgets/base",
          "model_module_version": "1.2.0",
          "model_name": "LayoutModel",
          "state": {
            "_model_module": "@jupyter-widgets/base",
            "_model_module_version": "1.2.0",
            "_model_name": "LayoutModel",
            "_view_count": null,
            "_view_module": "@jupyter-widgets/base",
            "_view_module_version": "1.2.0",
            "_view_name": "LayoutView",
            "align_content": null,
            "align_items": null,
            "align_self": null,
            "border": null,
            "bottom": null,
            "display": null,
            "flex": null,
            "flex_flow": null,
            "grid_area": null,
            "grid_auto_columns": null,
            "grid_auto_flow": null,
            "grid_auto_rows": null,
            "grid_column": null,
            "grid_gap": null,
            "grid_row": null,
            "grid_template_areas": null,
            "grid_template_columns": null,
            "grid_template_rows": null,
            "height": null,
            "justify_content": null,
            "justify_items": null,
            "left": null,
            "margin": null,
            "max_height": null,
            "max_width": null,
            "min_height": null,
            "min_width": null,
            "object_fit": null,
            "object_position": null,
            "order": null,
            "overflow": null,
            "overflow_x": null,
            "overflow_y": null,
            "padding": null,
            "right": null,
            "top": null,
            "visibility": null,
            "width": null
          }
        },
        "c7b8ec474805477ba3f2c91896f8e104": {
          "model_module": "@jupyter-widgets/controls",
          "model_module_version": "1.5.0",
          "model_name": "HTMLModel",
          "state": {
            "_dom_classes": [],
            "_model_module": "@jupyter-widgets/controls",
            "_model_module_version": "1.5.0",
            "_model_name": "HTMLModel",
            "_view_count": null,
            "_view_module": "@jupyter-widgets/controls",
            "_view_module_version": "1.5.0",
            "_view_name": "HTMLView",
            "description": "",
            "description_tooltip": null,
            "layout": "IPY_MODEL_a3a217d301ef4bacb3bca719be5ef734",
            "placeholder": "​",
            "style": "IPY_MODEL_8dcbfac0422d4e8492cd94d6693714f4",
            "value": " 4.48k/? [00:00&lt;00:00, 124kB/s]"
          }
        },
        "cac22a47f92549a8817eb8d7f24dbbab": {
          "model_module": "@jupyter-widgets/controls",
          "model_module_version": "1.5.0",
          "model_name": "DescriptionStyleModel",
          "state": {
            "_model_module": "@jupyter-widgets/controls",
            "_model_module_version": "1.5.0",
            "_model_name": "DescriptionStyleModel",
            "_view_count": null,
            "_view_module": "@jupyter-widgets/base",
            "_view_module_version": "1.2.0",
            "_view_name": "StyleView",
            "description_width": ""
          }
        },
        "cc147b7ce4c944489f91dfeff79609a9": {
          "model_module": "@jupyter-widgets/base",
          "model_module_version": "1.2.0",
          "model_name": "LayoutModel",
          "state": {
            "_model_module": "@jupyter-widgets/base",
            "_model_module_version": "1.2.0",
            "_model_name": "LayoutModel",
            "_view_count": null,
            "_view_module": "@jupyter-widgets/base",
            "_view_module_version": "1.2.0",
            "_view_name": "LayoutView",
            "align_content": null,
            "align_items": null,
            "align_self": null,
            "border": null,
            "bottom": null,
            "display": null,
            "flex": null,
            "flex_flow": null,
            "grid_area": null,
            "grid_auto_columns": null,
            "grid_auto_flow": null,
            "grid_auto_rows": null,
            "grid_column": null,
            "grid_gap": null,
            "grid_row": null,
            "grid_template_areas": null,
            "grid_template_columns": null,
            "grid_template_rows": null,
            "height": null,
            "justify_content": null,
            "justify_items": null,
            "left": null,
            "margin": null,
            "max_height": null,
            "max_width": null,
            "min_height": null,
            "min_width": null,
            "object_fit": null,
            "object_position": null,
            "order": null,
            "overflow": null,
            "overflow_x": null,
            "overflow_y": null,
            "padding": null,
            "right": null,
            "top": null,
            "visibility": null,
            "width": null
          }
        },
        "cd3fa278f52d4e758933cf9338179bb6": {
          "model_module": "@jupyter-widgets/controls",
          "model_module_version": "1.5.0",
          "model_name": "HBoxModel",
          "state": {
            "_dom_classes": [],
            "_model_module": "@jupyter-widgets/controls",
            "_model_module_version": "1.5.0",
            "_model_name": "HBoxModel",
            "_view_count": null,
            "_view_module": "@jupyter-widgets/controls",
            "_view_module_version": "1.5.0",
            "_view_name": "HBoxView",
            "box_style": "",
            "children": [
              "IPY_MODEL_683f9aab199c4d81a02fc43170e9bf92",
              "IPY_MODEL_1de04901846b4eaf922804764db284ea",
              "IPY_MODEL_c51891eb247842878b888a4367b76f09"
            ],
            "layout": "IPY_MODEL_0c1af8de82dd41308b0dd459b2704094"
          }
        },
        "cd6858e22042455cbc51d85f5bc025b8": {
          "model_module": "@jupyter-widgets/controls",
          "model_module_version": "1.5.0",
          "model_name": "DescriptionStyleModel",
          "state": {
            "_model_module": "@jupyter-widgets/controls",
            "_model_module_version": "1.5.0",
            "_model_name": "DescriptionStyleModel",
            "_view_count": null,
            "_view_module": "@jupyter-widgets/base",
            "_view_module_version": "1.2.0",
            "_view_name": "StyleView",
            "description_width": ""
          }
        },
        "cf9c14b5cc4845d0a9411fd1c3764319": {
          "model_module": "@jupyter-widgets/controls",
          "model_module_version": "1.5.0",
          "model_name": "DescriptionStyleModel",
          "state": {
            "_model_module": "@jupyter-widgets/controls",
            "_model_module_version": "1.5.0",
            "_model_name": "DescriptionStyleModel",
            "_view_count": null,
            "_view_module": "@jupyter-widgets/base",
            "_view_module_version": "1.2.0",
            "_view_name": "StyleView",
            "description_width": ""
          }
        },
        "d004186078644da7ae1a96bd7665da01": {
          "model_module": "@jupyter-widgets/controls",
          "model_module_version": "1.5.0",
          "model_name": "DescriptionStyleModel",
          "state": {
            "_model_module": "@jupyter-widgets/controls",
            "_model_module_version": "1.5.0",
            "_model_name": "DescriptionStyleModel",
            "_view_count": null,
            "_view_module": "@jupyter-widgets/base",
            "_view_module_version": "1.2.0",
            "_view_name": "StyleView",
            "description_width": ""
          }
        },
        "d19a7827720b43a0a79de528f08b7571": {
          "model_module": "@jupyter-widgets/controls",
          "model_module_version": "1.5.0",
          "model_name": "LabelModel",
          "state": {
            "_dom_classes": [],
            "_model_module": "@jupyter-widgets/controls",
            "_model_module_version": "1.5.0",
            "_model_name": "LabelModel",
            "_view_count": null,
            "_view_module": "@jupyter-widgets/controls",
            "_view_module_version": "1.5.0",
            "_view_name": "LabelView",
            "description": "",
            "description_tooltip": null,
            "layout": "IPY_MODEL_20d35c77705248dfbaae76055cc77c94",
            "placeholder": "​",
            "style": "IPY_MODEL_cac22a47f92549a8817eb8d7f24dbbab",
            "value": "Your token has been saved to /root/.cache/huggingface/token"
          }
        },
        "d2e9894aa2c441449baedf556157b27c": {
          "model_module": "@jupyter-widgets/controls",
          "model_module_version": "1.5.0",
          "model_name": "DescriptionStyleModel",
          "state": {
            "_model_module": "@jupyter-widgets/controls",
            "_model_module_version": "1.5.0",
            "_model_name": "DescriptionStyleModel",
            "_view_count": null,
            "_view_module": "@jupyter-widgets/base",
            "_view_module_version": "1.2.0",
            "_view_name": "StyleView",
            "description_width": ""
          }
        },
        "d5e40b24df5d4d909660d1789fbf6f32": {
          "model_module": "@jupyter-widgets/base",
          "model_module_version": "1.2.0",
          "model_name": "LayoutModel",
          "state": {
            "_model_module": "@jupyter-widgets/base",
            "_model_module_version": "1.2.0",
            "_model_name": "LayoutModel",
            "_view_count": null,
            "_view_module": "@jupyter-widgets/base",
            "_view_module_version": "1.2.0",
            "_view_name": "LayoutView",
            "align_content": null,
            "align_items": null,
            "align_self": null,
            "border": null,
            "bottom": null,
            "display": null,
            "flex": null,
            "flex_flow": null,
            "grid_area": null,
            "grid_auto_columns": null,
            "grid_auto_flow": null,
            "grid_auto_rows": null,
            "grid_column": null,
            "grid_gap": null,
            "grid_row": null,
            "grid_template_areas": null,
            "grid_template_columns": null,
            "grid_template_rows": null,
            "height": null,
            "justify_content": null,
            "justify_items": null,
            "left": null,
            "margin": null,
            "max_height": null,
            "max_width": null,
            "min_height": null,
            "min_width": null,
            "object_fit": null,
            "object_position": null,
            "order": null,
            "overflow": null,
            "overflow_x": null,
            "overflow_y": null,
            "padding": null,
            "right": null,
            "top": null,
            "visibility": null,
            "width": null
          }
        },
        "d6d0facf1fe14ad8a644135ffa3282b8": {
          "model_module": "@jupyter-widgets/controls",
          "model_module_version": "1.5.0",
          "model_name": "HTMLModel",
          "state": {
            "_dom_classes": [],
            "_model_module": "@jupyter-widgets/controls",
            "_model_module_version": "1.5.0",
            "_model_name": "HTMLModel",
            "_view_count": null,
            "_view_module": "@jupyter-widgets/controls",
            "_view_module_version": "1.5.0",
            "_view_name": "HTMLView",
            "description": "",
            "description_tooltip": null,
            "layout": "IPY_MODEL_cc147b7ce4c944489f91dfeff79609a9",
            "placeholder": "​",
            "style": "IPY_MODEL_4a666ab8126348ada5f1fe3f9f6c46d7",
            "value": " 1.27G/1.27G [00:14&lt;00:00, 156MB/s]"
          }
        },
        "d854c6e9ed044ec8a8f4c1ff5e658232": {
          "model_module": "@jupyter-widgets/controls",
          "model_module_version": "1.5.0",
          "model_name": "DescriptionStyleModel",
          "state": {
            "_model_module": "@jupyter-widgets/controls",
            "_model_module_version": "1.5.0",
            "_model_name": "DescriptionStyleModel",
            "_view_count": null,
            "_view_module": "@jupyter-widgets/base",
            "_view_module_version": "1.2.0",
            "_view_name": "StyleView",
            "description_width": ""
          }
        },
        "da9301d22cdf4886a62cbbd6057837c2": {
          "model_module": "@jupyter-widgets/base",
          "model_module_version": "1.2.0",
          "model_name": "LayoutModel",
          "state": {
            "_model_module": "@jupyter-widgets/base",
            "_model_module_version": "1.2.0",
            "_model_name": "LayoutModel",
            "_view_count": null,
            "_view_module": "@jupyter-widgets/base",
            "_view_module_version": "1.2.0",
            "_view_name": "LayoutView",
            "align_content": null,
            "align_items": "center",
            "align_self": null,
            "border": null,
            "bottom": null,
            "display": "flex",
            "flex": null,
            "flex_flow": "column",
            "grid_area": null,
            "grid_auto_columns": null,
            "grid_auto_flow": null,
            "grid_auto_rows": null,
            "grid_column": null,
            "grid_gap": null,
            "grid_row": null,
            "grid_template_areas": null,
            "grid_template_columns": null,
            "grid_template_rows": null,
            "height": null,
            "justify_content": null,
            "justify_items": null,
            "left": null,
            "margin": null,
            "max_height": null,
            "max_width": null,
            "min_height": null,
            "min_width": null,
            "object_fit": null,
            "object_position": null,
            "order": null,
            "overflow": null,
            "overflow_x": null,
            "overflow_y": null,
            "padding": null,
            "right": null,
            "top": null,
            "visibility": null,
            "width": "50%"
          }
        },
        "dec7a66671e34d20a5a0c14283a7eaca": {
          "model_module": "@jupyter-widgets/base",
          "model_module_version": "1.2.0",
          "model_name": "LayoutModel",
          "state": {
            "_model_module": "@jupyter-widgets/base",
            "_model_module_version": "1.2.0",
            "_model_name": "LayoutModel",
            "_view_count": null,
            "_view_module": "@jupyter-widgets/base",
            "_view_module_version": "1.2.0",
            "_view_name": "LayoutView",
            "align_content": null,
            "align_items": null,
            "align_self": null,
            "border": null,
            "bottom": null,
            "display": null,
            "flex": null,
            "flex_flow": null,
            "grid_area": null,
            "grid_auto_columns": null,
            "grid_auto_flow": null,
            "grid_auto_rows": null,
            "grid_column": null,
            "grid_gap": null,
            "grid_row": null,
            "grid_template_areas": null,
            "grid_template_columns": null,
            "grid_template_rows": null,
            "height": null,
            "justify_content": null,
            "justify_items": null,
            "left": null,
            "margin": null,
            "max_height": null,
            "max_width": null,
            "min_height": null,
            "min_width": null,
            "object_fit": null,
            "object_position": null,
            "order": null,
            "overflow": null,
            "overflow_x": null,
            "overflow_y": null,
            "padding": null,
            "right": null,
            "top": null,
            "visibility": null,
            "width": null
          }
        },
        "e4150d45c7b94126a62548c1aa11ea57": {
          "model_module": "@jupyter-widgets/controls",
          "model_module_version": "1.5.0",
          "model_name": "ProgressStyleModel",
          "state": {
            "_model_module": "@jupyter-widgets/controls",
            "_model_module_version": "1.5.0",
            "_model_name": "ProgressStyleModel",
            "_view_count": null,
            "_view_module": "@jupyter-widgets/base",
            "_view_module_version": "1.2.0",
            "_view_name": "StyleView",
            "bar_color": null,
            "description_width": ""
          }
        },
        "e76b0f11e396424dac7818b3b52f67fb": {
          "model_module": "@jupyter-widgets/controls",
          "model_module_version": "1.5.0",
          "model_name": "ProgressStyleModel",
          "state": {
            "_model_module": "@jupyter-widgets/controls",
            "_model_module_version": "1.5.0",
            "_model_name": "ProgressStyleModel",
            "_view_count": null,
            "_view_module": "@jupyter-widgets/base",
            "_view_module_version": "1.2.0",
            "_view_name": "StyleView",
            "bar_color": null,
            "description_width": ""
          }
        },
        "e78aa460bfcf488b85ac63be29cae346": {
          "model_module": "@jupyter-widgets/base",
          "model_module_version": "1.2.0",
          "model_name": "LayoutModel",
          "state": {
            "_model_module": "@jupyter-widgets/base",
            "_model_module_version": "1.2.0",
            "_model_name": "LayoutModel",
            "_view_count": null,
            "_view_module": "@jupyter-widgets/base",
            "_view_module_version": "1.2.0",
            "_view_name": "LayoutView",
            "align_content": null,
            "align_items": null,
            "align_self": null,
            "border": null,
            "bottom": null,
            "display": null,
            "flex": null,
            "flex_flow": null,
            "grid_area": null,
            "grid_auto_columns": null,
            "grid_auto_flow": null,
            "grid_auto_rows": null,
            "grid_column": null,
            "grid_gap": null,
            "grid_row": null,
            "grid_template_areas": null,
            "grid_template_columns": null,
            "grid_template_rows": null,
            "height": null,
            "justify_content": null,
            "justify_items": null,
            "left": null,
            "margin": null,
            "max_height": null,
            "max_width": null,
            "min_height": null,
            "min_width": null,
            "object_fit": null,
            "object_position": null,
            "order": null,
            "overflow": null,
            "overflow_x": null,
            "overflow_y": null,
            "padding": null,
            "right": null,
            "top": null,
            "visibility": null,
            "width": null
          }
        },
        "e84db8073fb7467a9cb209667ad72148": {
          "model_module": "@jupyter-widgets/controls",
          "model_module_version": "1.5.0",
          "model_name": "HTMLModel",
          "state": {
            "_dom_classes": [],
            "_model_module": "@jupyter-widgets/controls",
            "_model_module_version": "1.5.0",
            "_model_name": "HTMLModel",
            "_view_count": null,
            "_view_module": "@jupyter-widgets/controls",
            "_view_module_version": "1.5.0",
            "_view_name": "HTMLView",
            "description": "",
            "description_tooltip": null,
            "layout": "IPY_MODEL_689487d77913425490936175daaec991",
            "placeholder": "​",
            "style": "IPY_MODEL_10bd0f8ccbb348148ce1f496a610f4a7",
            "value": "Map: 100%"
          }
        },
        "e8e0f18cd26c4adf89402935a620e65f": {
          "model_module": "@jupyter-widgets/controls",
          "model_module_version": "1.5.0",
          "model_name": "DescriptionStyleModel",
          "state": {
            "_model_module": "@jupyter-widgets/controls",
            "_model_module_version": "1.5.0",
            "_model_name": "DescriptionStyleModel",
            "_view_count": null,
            "_view_module": "@jupyter-widgets/base",
            "_view_module_version": "1.2.0",
            "_view_name": "StyleView",
            "description_width": ""
          }
        },
        "ea637042deb34051b73a5ae1cb13d1c5": {
          "model_module": "@jupyter-widgets/base",
          "model_module_version": "1.2.0",
          "model_name": "LayoutModel",
          "state": {
            "_model_module": "@jupyter-widgets/base",
            "_model_module_version": "1.2.0",
            "_model_name": "LayoutModel",
            "_view_count": null,
            "_view_module": "@jupyter-widgets/base",
            "_view_module_version": "1.2.0",
            "_view_name": "LayoutView",
            "align_content": null,
            "align_items": null,
            "align_self": null,
            "border": null,
            "bottom": null,
            "display": null,
            "flex": null,
            "flex_flow": null,
            "grid_area": null,
            "grid_auto_columns": null,
            "grid_auto_flow": null,
            "grid_auto_rows": null,
            "grid_column": null,
            "grid_gap": null,
            "grid_row": null,
            "grid_template_areas": null,
            "grid_template_columns": null,
            "grid_template_rows": null,
            "height": null,
            "justify_content": null,
            "justify_items": null,
            "left": null,
            "margin": null,
            "max_height": null,
            "max_width": null,
            "min_height": null,
            "min_width": null,
            "object_fit": null,
            "object_position": null,
            "order": null,
            "overflow": null,
            "overflow_x": null,
            "overflow_y": null,
            "padding": null,
            "right": null,
            "top": null,
            "visibility": null,
            "width": null
          }
        },
        "ed207b4a9c9942cfb94e042264a00c59": {
          "model_module": "@jupyter-widgets/controls",
          "model_module_version": "1.5.0",
          "model_name": "HBoxModel",
          "state": {
            "_dom_classes": [],
            "_model_module": "@jupyter-widgets/controls",
            "_model_module_version": "1.5.0",
            "_model_name": "HBoxModel",
            "_view_count": null,
            "_view_module": "@jupyter-widgets/controls",
            "_view_module_version": "1.5.0",
            "_view_name": "HBoxView",
            "box_style": "",
            "children": [
              "IPY_MODEL_7e6c2b5f288f4891b3f8c9afb5a17916",
              "IPY_MODEL_8244da5987494c3abfbabdf43c5de63e",
              "IPY_MODEL_9a3d2c405ace485296df5a069028e0df"
            ],
            "layout": "IPY_MODEL_c3983d35e20a4f4ebaeebfde59324e15"
          }
        },
        "efcc0cb02fb24f7da9f6bca8d283c77b": {
          "model_module": "@jupyter-widgets/controls",
          "model_module_version": "1.5.0",
          "model_name": "HBoxModel",
          "state": {
            "_dom_classes": [],
            "_model_module": "@jupyter-widgets/controls",
            "_model_module_version": "1.5.0",
            "_model_name": "HBoxModel",
            "_view_count": null,
            "_view_module": "@jupyter-widgets/controls",
            "_view_module_version": "1.5.0",
            "_view_name": "HBoxView",
            "box_style": "",
            "children": [
              "IPY_MODEL_e84db8073fb7467a9cb209667ad72148",
              "IPY_MODEL_037cdadf41414d0fb92b4c4474857e26",
              "IPY_MODEL_9ea0167433d04e3ab127c1506522a0c4"
            ],
            "layout": "IPY_MODEL_a90dacde984e46bfac1d75baed34b604"
          }
        },
        "f22a53316c1945a59e54ed8d2dc582ea": {
          "model_module": "@jupyter-widgets/controls",
          "model_module_version": "1.5.0",
          "model_name": "ButtonModel",
          "state": {
            "_dom_classes": [],
            "_model_module": "@jupyter-widgets/controls",
            "_model_module_version": "1.5.0",
            "_model_name": "ButtonModel",
            "_view_count": null,
            "_view_module": "@jupyter-widgets/controls",
            "_view_module_version": "1.5.0",
            "_view_name": "ButtonView",
            "button_style": "",
            "description": "Login",
            "disabled": false,
            "icon": "",
            "layout": "IPY_MODEL_1f928af3956843cb8461ffbc815201a4",
            "style": "IPY_MODEL_73efe8f9c458454eb8c8879ffe88e93d",
            "tooltip": ""
          }
        },
        "f2735489677542d7a9c552d4676423b0": {
          "model_module": "@jupyter-widgets/controls",
          "model_module_version": "1.5.0",
          "model_name": "ProgressStyleModel",
          "state": {
            "_model_module": "@jupyter-widgets/controls",
            "_model_module_version": "1.5.0",
            "_model_name": "ProgressStyleModel",
            "_view_count": null,
            "_view_module": "@jupyter-widgets/base",
            "_view_module_version": "1.2.0",
            "_view_name": "StyleView",
            "bar_color": null,
            "description_width": ""
          }
        },
        "f2abcc26955445f7834d3869298c93a4": {
          "model_module": "@jupyter-widgets/base",
          "model_module_version": "1.2.0",
          "model_name": "LayoutModel",
          "state": {
            "_model_module": "@jupyter-widgets/base",
            "_model_module_version": "1.2.0",
            "_model_name": "LayoutModel",
            "_view_count": null,
            "_view_module": "@jupyter-widgets/base",
            "_view_module_version": "1.2.0",
            "_view_name": "LayoutView",
            "align_content": null,
            "align_items": null,
            "align_self": null,
            "border": null,
            "bottom": null,
            "display": null,
            "flex": null,
            "flex_flow": null,
            "grid_area": null,
            "grid_auto_columns": null,
            "grid_auto_flow": null,
            "grid_auto_rows": null,
            "grid_column": null,
            "grid_gap": null,
            "grid_row": null,
            "grid_template_areas": null,
            "grid_template_columns": null,
            "grid_template_rows": null,
            "height": null,
            "justify_content": null,
            "justify_items": null,
            "left": null,
            "margin": null,
            "max_height": null,
            "max_width": null,
            "min_height": null,
            "min_width": null,
            "object_fit": null,
            "object_position": null,
            "order": null,
            "overflow": null,
            "overflow_x": null,
            "overflow_y": null,
            "padding": null,
            "right": null,
            "top": null,
            "visibility": null,
            "width": null
          }
        },
        "f315a1a56b124e8ba9eb4d26123cf8a6": {
          "model_module": "@jupyter-widgets/controls",
          "model_module_version": "1.5.0",
          "model_name": "HTMLModel",
          "state": {
            "_dom_classes": [],
            "_model_module": "@jupyter-widgets/controls",
            "_model_module_version": "1.5.0",
            "_model_name": "HTMLModel",
            "_view_count": null,
            "_view_module": "@jupyter-widgets/controls",
            "_view_module_version": "1.5.0",
            "_view_name": "HTMLView",
            "description": "",
            "description_tooltip": null,
            "layout": "IPY_MODEL_1be4a822c86443b2b1cae26b218bcfe6",
            "placeholder": "​",
            "style": "IPY_MODEL_2c79fc49efd9409a9c23b1ec7401f028",
            "value": "<center> <img\nsrc=https://huggingface.co/front/assets/huggingface_logo-noborder.svg\nalt='Hugging Face'> <br> Copy a token from <a\nhref=\"https://huggingface.co/settings/tokens\" target=\"_blank\">your Hugging Face\ntokens page</a> and paste it below. <br> Immediately click login after copying\nyour token or it might be stored in plain text in this notebook file. </center>"
          }
        },
        "f4d4c6e875954c36aa3e10f0e97ee2c1": {
          "model_module": "@jupyter-widgets/base",
          "model_module_version": "1.2.0",
          "model_name": "LayoutModel",
          "state": {
            "_model_module": "@jupyter-widgets/base",
            "_model_module_version": "1.2.0",
            "_model_name": "LayoutModel",
            "_view_count": null,
            "_view_module": "@jupyter-widgets/base",
            "_view_module_version": "1.2.0",
            "_view_name": "LayoutView",
            "align_content": null,
            "align_items": null,
            "align_self": null,
            "border": null,
            "bottom": null,
            "display": null,
            "flex": null,
            "flex_flow": null,
            "grid_area": null,
            "grid_auto_columns": null,
            "grid_auto_flow": null,
            "grid_auto_rows": null,
            "grid_column": null,
            "grid_gap": null,
            "grid_row": null,
            "grid_template_areas": null,
            "grid_template_columns": null,
            "grid_template_rows": null,
            "height": null,
            "justify_content": null,
            "justify_items": null,
            "left": null,
            "margin": null,
            "max_height": null,
            "max_width": null,
            "min_height": null,
            "min_width": null,
            "object_fit": null,
            "object_position": null,
            "order": null,
            "overflow": null,
            "overflow_x": null,
            "overflow_y": null,
            "padding": null,
            "right": null,
            "top": null,
            "visibility": null,
            "width": null
          }
        },
        "f506104beb254ce5b922a226d88e75fc": {
          "model_module": "@jupyter-widgets/controls",
          "model_module_version": "1.5.0",
          "model_name": "HTMLModel",
          "state": {
            "_dom_classes": [],
            "_model_module": "@jupyter-widgets/controls",
            "_model_module_version": "1.5.0",
            "_model_name": "HTMLModel",
            "_view_count": null,
            "_view_module": "@jupyter-widgets/controls",
            "_view_module_version": "1.5.0",
            "_view_name": "HTMLView",
            "description": "",
            "description_tooltip": null,
            "layout": "IPY_MODEL_34405f3568314dcb9285b6c32d22f5f6",
            "placeholder": "​",
            "style": "IPY_MODEL_a7c9df194e6b40b3a6a4983ad5531193",
            "value": "\n<b>Pro Tip:</b> If you don't already have one, you can create a dedicated\n'notebooks' token with 'write' access, that you can then easily reuse for all\nnotebooks. </center>"
          }
        },
        "f66dabec6f5c4661a5e83a5196dffc9a": {
          "model_module": "@jupyter-widgets/base",
          "model_module_version": "1.2.0",
          "model_name": "LayoutModel",
          "state": {
            "_model_module": "@jupyter-widgets/base",
            "_model_module_version": "1.2.0",
            "_model_name": "LayoutModel",
            "_view_count": null,
            "_view_module": "@jupyter-widgets/base",
            "_view_module_version": "1.2.0",
            "_view_name": "LayoutView",
            "align_content": null,
            "align_items": null,
            "align_self": null,
            "border": null,
            "bottom": null,
            "display": null,
            "flex": null,
            "flex_flow": null,
            "grid_area": null,
            "grid_auto_columns": null,
            "grid_auto_flow": null,
            "grid_auto_rows": null,
            "grid_column": null,
            "grid_gap": null,
            "grid_row": null,
            "grid_template_areas": null,
            "grid_template_columns": null,
            "grid_template_rows": null,
            "height": null,
            "justify_content": null,
            "justify_items": null,
            "left": null,
            "margin": null,
            "max_height": null,
            "max_width": null,
            "min_height": null,
            "min_width": null,
            "object_fit": null,
            "object_position": null,
            "order": null,
            "overflow": null,
            "overflow_x": null,
            "overflow_y": null,
            "padding": null,
            "right": null,
            "top": null,
            "visibility": null,
            "width": null
          }
        },
        "f6bc7614de9d4eefb6cbf813c6082330": {
          "model_module": "@jupyter-widgets/base",
          "model_module_version": "1.2.0",
          "model_name": "LayoutModel",
          "state": {
            "_model_module": "@jupyter-widgets/base",
            "_model_module_version": "1.2.0",
            "_model_name": "LayoutModel",
            "_view_count": null,
            "_view_module": "@jupyter-widgets/base",
            "_view_module_version": "1.2.0",
            "_view_name": "LayoutView",
            "align_content": null,
            "align_items": null,
            "align_self": null,
            "border": null,
            "bottom": null,
            "display": null,
            "flex": null,
            "flex_flow": null,
            "grid_area": null,
            "grid_auto_columns": null,
            "grid_auto_flow": null,
            "grid_auto_rows": null,
            "grid_column": null,
            "grid_gap": null,
            "grid_row": null,
            "grid_template_areas": null,
            "grid_template_columns": null,
            "grid_template_rows": null,
            "height": null,
            "justify_content": null,
            "justify_items": null,
            "left": null,
            "margin": null,
            "max_height": null,
            "max_width": null,
            "min_height": null,
            "min_width": null,
            "object_fit": null,
            "object_position": null,
            "order": null,
            "overflow": null,
            "overflow_x": null,
            "overflow_y": null,
            "padding": null,
            "right": null,
            "top": null,
            "visibility": null,
            "width": null
          }
        },
        "f7b89b9d407b4bd8b975d63903775728": {
          "model_module": "@jupyter-widgets/controls",
          "model_module_version": "1.5.0",
          "model_name": "ProgressStyleModel",
          "state": {
            "_model_module": "@jupyter-widgets/controls",
            "_model_module_version": "1.5.0",
            "_model_name": "ProgressStyleModel",
            "_view_count": null,
            "_view_module": "@jupyter-widgets/base",
            "_view_module_version": "1.2.0",
            "_view_name": "StyleView",
            "bar_color": null,
            "description_width": ""
          }
        },
        "f84b01a119354da5a387f570e2bb20f6": {
          "model_module": "@jupyter-widgets/controls",
          "model_module_version": "1.5.0",
          "model_name": "HTMLModel",
          "state": {
            "_dom_classes": [],
            "_model_module": "@jupyter-widgets/controls",
            "_model_module_version": "1.5.0",
            "_model_name": "HTMLModel",
            "_view_count": null,
            "_view_module": "@jupyter-widgets/controls",
            "_view_module_version": "1.5.0",
            "_view_name": "HTMLView",
            "description": "",
            "description_tooltip": null,
            "layout": "IPY_MODEL_672e96d17e4c402490588d04f28d67ab",
            "placeholder": "​",
            "style": "IPY_MODEL_2187411cd2bc4c4cb9b1edc43fe0458d",
            "value": "Map: 100%"
          }
        },
        "f922d1087f8840349e7d8f8b0a3c2024": {
          "model_module": "@jupyter-widgets/base",
          "model_module_version": "1.2.0",
          "model_name": "LayoutModel",
          "state": {
            "_model_module": "@jupyter-widgets/base",
            "_model_module_version": "1.2.0",
            "_model_name": "LayoutModel",
            "_view_count": null,
            "_view_module": "@jupyter-widgets/base",
            "_view_module_version": "1.2.0",
            "_view_name": "LayoutView",
            "align_content": null,
            "align_items": "center",
            "align_self": null,
            "border": null,
            "bottom": null,
            "display": "flex",
            "flex": null,
            "flex_flow": "column",
            "grid_area": null,
            "grid_auto_columns": null,
            "grid_auto_flow": null,
            "grid_auto_rows": null,
            "grid_column": null,
            "grid_gap": null,
            "grid_row": null,
            "grid_template_areas": null,
            "grid_template_columns": null,
            "grid_template_rows": null,
            "height": null,
            "justify_content": null,
            "justify_items": null,
            "left": null,
            "margin": null,
            "max_height": null,
            "max_width": null,
            "min_height": null,
            "min_width": null,
            "object_fit": null,
            "object_position": null,
            "order": null,
            "overflow": null,
            "overflow_x": null,
            "overflow_y": null,
            "padding": null,
            "right": null,
            "top": null,
            "visibility": null,
            "width": "50%"
          }
        },
        "fb6991d1728747a3a8af407be3baa771": {
          "model_module": "@jupyter-widgets/controls",
          "model_module_version": "1.5.0",
          "model_name": "FloatProgressModel",
          "state": {
            "_dom_classes": [],
            "_model_module": "@jupyter-widgets/controls",
            "_model_module_version": "1.5.0",
            "_model_name": "FloatProgressModel",
            "_view_count": null,
            "_view_module": "@jupyter-widgets/controls",
            "_view_module_version": "1.5.0",
            "_view_name": "ProgressView",
            "bar_style": "success",
            "description": "",
            "description_tooltip": null,
            "layout": "IPY_MODEL_b45daecba2764f5180dc0e52a682a2b2",
            "max": 1901,
            "min": 0,
            "orientation": "horizontal",
            "style": "IPY_MODEL_11ca84f8e50143d4b25cb2e686fafe73",
            "value": 1901
          }
        },
        "fcc035da73b54b808ad83ff7cf572aed": {
          "model_module": "@jupyter-widgets/base",
          "model_module_version": "1.2.0",
          "model_name": "LayoutModel",
          "state": {
            "_model_module": "@jupyter-widgets/base",
            "_model_module_version": "1.2.0",
            "_model_name": "LayoutModel",
            "_view_count": null,
            "_view_module": "@jupyter-widgets/base",
            "_view_module_version": "1.2.0",
            "_view_name": "LayoutView",
            "align_content": null,
            "align_items": null,
            "align_self": null,
            "border": null,
            "bottom": null,
            "display": null,
            "flex": null,
            "flex_flow": null,
            "grid_area": null,
            "grid_auto_columns": null,
            "grid_auto_flow": null,
            "grid_auto_rows": null,
            "grid_column": null,
            "grid_gap": null,
            "grid_row": null,
            "grid_template_areas": null,
            "grid_template_columns": null,
            "grid_template_rows": null,
            "height": null,
            "justify_content": null,
            "justify_items": null,
            "left": null,
            "margin": null,
            "max_height": null,
            "max_width": null,
            "min_height": null,
            "min_width": null,
            "object_fit": null,
            "object_position": null,
            "order": null,
            "overflow": null,
            "overflow_x": null,
            "overflow_y": null,
            "padding": null,
            "right": null,
            "top": null,
            "visibility": null,
            "width": null
          }
        },
        "fd80bda4b7b546d991764f39507240dc": {
          "model_module": "@jupyter-widgets/base",
          "model_module_version": "1.2.0",
          "model_name": "LayoutModel",
          "state": {
            "_model_module": "@jupyter-widgets/base",
            "_model_module_version": "1.2.0",
            "_model_name": "LayoutModel",
            "_view_count": null,
            "_view_module": "@jupyter-widgets/base",
            "_view_module_version": "1.2.0",
            "_view_name": "LayoutView",
            "align_content": null,
            "align_items": null,
            "align_self": null,
            "border": null,
            "bottom": null,
            "display": null,
            "flex": null,
            "flex_flow": null,
            "grid_area": null,
            "grid_auto_columns": null,
            "grid_auto_flow": null,
            "grid_auto_rows": null,
            "grid_column": null,
            "grid_gap": null,
            "grid_row": null,
            "grid_template_areas": null,
            "grid_template_columns": null,
            "grid_template_rows": null,
            "height": null,
            "justify_content": null,
            "justify_items": null,
            "left": null,
            "margin": null,
            "max_height": null,
            "max_width": null,
            "min_height": null,
            "min_width": null,
            "object_fit": null,
            "object_position": null,
            "order": null,
            "overflow": null,
            "overflow_x": null,
            "overflow_y": null,
            "padding": null,
            "right": null,
            "top": null,
            "visibility": null,
            "width": null
          }
        },
        "feaebee202a24d4c93811950d93b8659": {
          "model_module": "@jupyter-widgets/controls",
          "model_module_version": "1.5.0",
          "model_name": "HBoxModel",
          "state": {
            "_dom_classes": [],
            "_model_module": "@jupyter-widgets/controls",
            "_model_module_version": "1.5.0",
            "_model_name": "HBoxModel",
            "_view_count": null,
            "_view_module": "@jupyter-widgets/controls",
            "_view_module_version": "1.5.0",
            "_view_name": "HBoxView",
            "box_style": "",
            "children": [
              "IPY_MODEL_b845af41e4c04add86507a75e169aa41",
              "IPY_MODEL_99cd519632d74800b7fe4fcaa6b69879",
              "IPY_MODEL_d6d0facf1fe14ad8a644135ffa3282b8"
            ],
            "layout": "IPY_MODEL_5a6c5ee62a83478d88be604ec2d31ceb"
          }
        },
        "ff328afaf575441c9786596a6e5c1d3e": {
          "model_module": "@jupyter-widgets/controls",
          "model_module_version": "1.5.0",
          "model_name": "DescriptionStyleModel",
          "state": {
            "_model_module": "@jupyter-widgets/controls",
            "_model_module_version": "1.5.0",
            "_model_name": "DescriptionStyleModel",
            "_view_count": null,
            "_view_module": "@jupyter-widgets/base",
            "_view_module_version": "1.2.0",
            "_view_name": "StyleView",
            "description_width": ""
          }
        },
        "ffb79698dedd4a45aa75805ef8e973e7": {
          "model_module": "@jupyter-widgets/controls",
          "model_module_version": "1.5.0",
          "model_name": "HTMLModel",
          "state": {
            "_dom_classes": [],
            "_model_module": "@jupyter-widgets/controls",
            "_model_module_version": "1.5.0",
            "_model_name": "HTMLModel",
            "_view_count": null,
            "_view_module": "@jupyter-widgets/controls",
            "_view_module_version": "1.5.0",
            "_view_name": "HTMLView",
            "description": "",
            "description_tooltip": null,
            "layout": "IPY_MODEL_8eb71778c21f414e9968469a0cef9dba",
            "placeholder": "​",
            "style": "IPY_MODEL_358ed0628e68425a9463818762764d74",
            "value": "Map: 100%"
          }
        }
      }
    }
  },
  "nbformat": 4,
  "nbformat_minor": 0
}
